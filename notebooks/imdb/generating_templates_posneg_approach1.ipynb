{
 "cells": [
  {
   "cell_type": "markdown",
   "id": "d0e2c728",
   "metadata": {},
   "source": [
    "# Abordagem 1\n",
    "\n",
    "Usando a abordagem 1 para gerar templates com foco em templates positivos e negativos. Uma possível aplicação seria testar a capacidade linguística \"Vocabulary\" com o teste MFT.\n",
    "\n",
    "As etapas desta abordagem são:\n",
    "\n",
    "1. Rankear as palavras das instâncias completas\n",
    "2. Quebrar as instâncias em sentenças\n",
    "3. Filtrar as sentenças que contêm ao menos uma das palavras mais bem rankeadas na etapa anterior\n",
    "4. Filtrar as sentenças com palavras relevantes (substantivos, adjetivos e verbos)\n",
    "5. Substituir as palavras relevantes por máscaras"
   ]
  },
  {
   "cell_type": "code",
   "execution_count": 1,
   "id": "897c3a05",
   "metadata": {},
   "outputs": [],
   "source": [
    "%config Completer.use_jedi = False\n",
    "import sys\n",
    "sys.path.append('..\\..')"
   ]
  },
  {
   "cell_type": "markdown",
   "id": "6da847fc",
   "metadata": {},
   "source": [
    "## Carregando o dataset, o modelo alvo e os modelos auxiliares"
   ]
  },
  {
   "cell_type": "code",
   "execution_count": 2,
   "id": "f6e018fa",
   "metadata": {},
   "outputs": [
    {
     "data": {
      "text/html": [
       "<div>\n",
       "<style scoped>\n",
       "    .dataframe tbody tr th:only-of-type {\n",
       "        vertical-align: middle;\n",
       "    }\n",
       "\n",
       "    .dataframe tbody tr th {\n",
       "        vertical-align: top;\n",
       "    }\n",
       "\n",
       "    .dataframe thead th {\n",
       "        text-align: right;\n",
       "    }\n",
       "</style>\n",
       "<table border=\"1\" class=\"dataframe\">\n",
       "  <thead>\n",
       "    <tr style=\"text-align: right;\">\n",
       "      <th></th>\n",
       "      <th>label</th>\n",
       "      <th>text</th>\n",
       "      <th>words</th>\n",
       "    </tr>\n",
       "  </thead>\n",
       "  <tbody>\n",
       "    <tr>\n",
       "      <th>0</th>\n",
       "      <td>1</td>\n",
       "      <td>Christian Duguay directed this tidy little espionage thriller early in his career. It plays on TV pretty regularly, albeit with some terrific scenes of violence and sex unfortunately trimmed. I finally got around to seeing the theatrical version on a $3 tape from the local video store. Naval officer Aidan Quinn is recruited to impersonate the notorious Carlos the Jackal, and gets a little too caught up in the role. Donald Sutherland Ben Kingsley play Quinn's superiors, with Sutherland a true zealot and Kingsley as the more level-headed one. The first half of this fun flick shows Quinn being trained and indoctrinated. The second half has him out in the field, making love to the Jackal's woman and shooting it out with sundry enemies. The idea is to make the Jackal look like a turncoat to the Russians, and let them take care of the world's most notorious assassin. Things don't exactly play out as planned. At times, I almost expected the cast to break out laughing at some of the corny dialogue, but they all play it very straight. In the end, this is one terrific little thriller that deserves your attention. The Jackal's former mistress teaching the highly proper and very married Quinn to rough her up, lick blood from her face, and then go down on her, alone is worth the price of admission.</td>\n",
       "      <td>227</td>\n",
       "    </tr>\n",
       "    <tr>\n",
       "      <th>1</th>\n",
       "      <td>1</td>\n",
       "      <td>New Yorkers contemporaneous with this film will recall how reflective of its time it is and how well cast and crew captured America, New York City of that era.&lt;br /&gt;&lt;br /&gt;Norman Wexler's script delineates the different worlds the various sub groupings live in and Avildsen's direction brings out phenomenal performances all around. Peter Boyle's prodigious talent is on display as never before nor since. Clearly it is the best character portrayal the always likable Dennis Patrick ever accomplished.&lt;br /&gt;&lt;br /&gt;What I will always remember about JOE is the feeling of having been in a virtual state of shock coming out of the theater. Knowing that what the screen portrayed was seething under the surface in neighborhoods throughout the five boroughs of the City of New York.&lt;br /&gt;&lt;br /&gt;This film needs to be remembered.</td>\n",
       "      <td>133</td>\n",
       "    </tr>\n",
       "    <tr>\n",
       "      <th>2</th>\n",
       "      <td>0</td>\n",
       "      <td>I love oddball animation, I love a lot of Asian films, but I didn't love this particular product of Japan. The Fuccons are supposedly an American family (they're all mannequins) who have moved to Japan, and they're somewhat a 50's sitcom type family, with slightly more modern sensibilities at times. The DVD features several very short episodes (like less than 5 minutes each?) and I did not find it to be either funny or entertaining, not even in a weird way. I'm not sure what the appeal is of this. I did pick up on some satire here and there, gosh, who wouldn't, but satire is usually somewhat humorous, isn't it? And nothing I saw or heard rated even a little smirk. I picked this up used and it certainly SOUNDED appealing, but I guess either I'm missing the point or it's just plain LAME. The box even says it's Fuccon hilarious, right there on the front, but I beg to differ. 2 out of 10.</td>\n",
       "      <td>166</td>\n",
       "    </tr>\n",
       "    <tr>\n",
       "      <th>3</th>\n",
       "      <td>1</td>\n",
       "      <td>I have seen this film probably a dozen times since it was originally released theatrically. Anyone who calls this movie trash or horrible just doesn't understand action films or recognize a good one. Perhaps to some the incidents and outcomes may seem far fetched, but in my opinion screenwriter Shane Black ( Lethal Weapon/ Kiss Kiss Bang Bang) crafted one of the most well thought out action adventures you will ever come across. Over the top or not this film flows like clockwork and the action just keeps coming. The final action sequence is one of the best I have ever seen in any film. The cast in this film crackles. Genna Davis gave a tremendous performance and its a damn shame there was never a \"LKG\" sequel. Samuel L. Jackson is hilarious as her sidekick Mitch a down on his luck private eye trying to help her discover her lost past and make a few bucks. If Baffles me how anyone could not like this film. It packs so many thrills and its so funny. The wisecracks in this film still make me laugh just as hard 10 years later. In my mind the first Matrix film and the Long Kiss Goodnight were easily 2 of the best and most original action flicks of the 90's. Incidentally Shane Black made a fortune when he sold this script. At the time it was the highest selling screenplay and its worth every penny. It's so sad that audiences never gave this movie a chance, cause they would have witnessed Renny Harlins best film and Genna Davis like you have never seen her before. Long live \"The Long Kiss Goodnight\"!!</td>\n",
       "      <td>278</td>\n",
       "    </tr>\n",
       "    <tr>\n",
       "      <th>4</th>\n",
       "      <td>1</td>\n",
       "      <td>Don't mind what this socially retarded person above says, this show is hilarious. It shows how a lot of single men are in a bar atmosphere, and also shows that women are not as gullible as men think they are. &lt;br /&gt;&lt;br /&gt;The contest aspect of the how is really cool and original. Its not the standard reality show that we are all used to now a days.&lt;br /&gt;&lt;br /&gt;Give it a chance everyone, we are only one episode in, we finally have some Canadian programming that isn't absolute crap. As Canadians what do we normally get, Bon Cop, Bad Cop, or Corner Gas. Come on people show that we are all not as prudish as the previous reviewer.&lt;br /&gt;&lt;br /&gt;Way to go Comedy Network, giving a new show a chance. The panel is funny and the contestants so far are pretty good.</td>\n",
       "      <td>143</td>\n",
       "    </tr>\n",
       "  </tbody>\n",
       "</table>\n",
       "</div>"
      ],
      "text/plain": [
       "   label  \\\n",
       "0      1   \n",
       "1      1   \n",
       "2      0   \n",
       "3      1   \n",
       "4      1   \n",
       "\n",
       "                                                                                                                                                                                                                                                                                                                                                                                                                                                                                                                                                                                                                                                                                                                                                                                                                                                                                                                                                                                                                                                                                                                                                                                                                                                                                                                                                                                                                                                                                                                                                                             text  \\\n",
       "0                                                                                                                                                                                                                      Christian Duguay directed this tidy little espionage thriller early in his career. It plays on TV pretty regularly, albeit with some terrific scenes of violence and sex unfortunately trimmed. I finally got around to seeing the theatrical version on a $3 tape from the local video store. Naval officer Aidan Quinn is recruited to impersonate the notorious Carlos the Jackal, and gets a little too caught up in the role. Donald Sutherland Ben Kingsley play Quinn's superiors, with Sutherland a true zealot and Kingsley as the more level-headed one. The first half of this fun flick shows Quinn being trained and indoctrinated. The second half has him out in the field, making love to the Jackal's woman and shooting it out with sundry enemies. The idea is to make the Jackal look like a turncoat to the Russians, and let them take care of the world's most notorious assassin. Things don't exactly play out as planned. At times, I almost expected the cast to break out laughing at some of the corny dialogue, but they all play it very straight. In the end, this is one terrific little thriller that deserves your attention. The Jackal's former mistress teaching the highly proper and very married Quinn to rough her up, lick blood from her face, and then go down on her, alone is worth the price of admission.   \n",
       "1                                                                                                                                                                                                                                                                                                                                                                                                                                                                                                                                                                                                                                                                                                                            New Yorkers contemporaneous with this film will recall how reflective of its time it is and how well cast and crew captured America, New York City of that era.<br /><br />Norman Wexler's script delineates the different worlds the various sub groupings live in and Avildsen's direction brings out phenomenal performances all around. Peter Boyle's prodigious talent is on display as never before nor since. Clearly it is the best character portrayal the always likable Dennis Patrick ever accomplished.<br /><br />What I will always remember about JOE is the feeling of having been in a virtual state of shock coming out of the theater. Knowing that what the screen portrayed was seething under the surface in neighborhoods throughout the five boroughs of the City of New York.<br /><br />This film needs to be remembered.   \n",
       "2                                                                                                                                                                                                                                                                                                                                                                                                                                                                                                                                                                                                                                               I love oddball animation, I love a lot of Asian films, but I didn't love this particular product of Japan. The Fuccons are supposedly an American family (they're all mannequins) who have moved to Japan, and they're somewhat a 50's sitcom type family, with slightly more modern sensibilities at times. The DVD features several very short episodes (like less than 5 minutes each?) and I did not find it to be either funny or entertaining, not even in a weird way. I'm not sure what the appeal is of this. I did pick up on some satire here and there, gosh, who wouldn't, but satire is usually somewhat humorous, isn't it? And nothing I saw or heard rated even a little smirk. I picked this up used and it certainly SOUNDED appealing, but I guess either I'm missing the point or it's just plain LAME. The box even says it's Fuccon hilarious, right there on the front, but I beg to differ. 2 out of 10.   \n",
       "3  I have seen this film probably a dozen times since it was originally released theatrically. Anyone who calls this movie trash or horrible just doesn't understand action films or recognize a good one. Perhaps to some the incidents and outcomes may seem far fetched, but in my opinion screenwriter Shane Black ( Lethal Weapon/ Kiss Kiss Bang Bang) crafted one of the most well thought out action adventures you will ever come across. Over the top or not this film flows like clockwork and the action just keeps coming. The final action sequence is one of the best I have ever seen in any film. The cast in this film crackles. Genna Davis gave a tremendous performance and its a damn shame there was never a \"LKG\" sequel. Samuel L. Jackson is hilarious as her sidekick Mitch a down on his luck private eye trying to help her discover her lost past and make a few bucks. If Baffles me how anyone could not like this film. It packs so many thrills and its so funny. The wisecracks in this film still make me laugh just as hard 10 years later. In my mind the first Matrix film and the Long Kiss Goodnight were easily 2 of the best and most original action flicks of the 90's. Incidentally Shane Black made a fortune when he sold this script. At the time it was the highest selling screenplay and its worth every penny. It's so sad that audiences never gave this movie a chance, cause they would have witnessed Renny Harlins best film and Genna Davis like you have never seen her before. Long live \"The Long Kiss Goodnight\"!!   \n",
       "4                                                                                                                                                                                                                                                                                                                                                                                                                                                                                                                                                                                                                                                                                                                                                                                         Don't mind what this socially retarded person above says, this show is hilarious. It shows how a lot of single men are in a bar atmosphere, and also shows that women are not as gullible as men think they are. <br /><br />The contest aspect of the how is really cool and original. Its not the standard reality show that we are all used to now a days.<br /><br />Give it a chance everyone, we are only one episode in, we finally have some Canadian programming that isn't absolute crap. As Canadians what do we normally get, Bon Cop, Bad Cop, or Corner Gas. Come on people show that we are all not as prudish as the previous reviewer.<br /><br />Way to go Comedy Network, giving a new show a chance. The panel is funny and the contestants so far are pretty good.   \n",
       "\n",
       "   words  \n",
       "0    227  \n",
       "1    133  \n",
       "2    166  \n",
       "3    278  \n",
       "4    143  "
      ]
     },
     "execution_count": 2,
     "metadata": {},
     "output_type": "execute_result"
    }
   ],
   "source": [
    "import pandas as pd\n",
    "pd.set_option('display.max_colwidth', None)\n",
    "\n",
    "imdb_df = pd.read_csv('./data/imdb_sampled/data-100samples.csv')\n",
    "imdb_df.head(5)"
   ]
  },
  {
   "cell_type": "code",
   "execution_count": 3,
   "id": "264d0dcd",
   "metadata": {},
   "outputs": [],
   "source": [
    "import re\n",
    "import numpy as np\n",
    "from torch.nn.functional import softmax\n",
    "from transformers import AutoTokenizer, AutoModelForSequenceClassification\n",
    "\n",
    "def pre_proccess(text):\n",
    "    text = text.lower()\n",
    "    text = re.sub('[\"\\',!-.:-@0-9/]()', ' ', text)\n",
    "    return text\n",
    "\n",
    "# Wrapper to adapt output format\n",
    "class SentimentAnalisysModelWrapper:\n",
    "    def __init__(self, model, tokenizer):\n",
    "        self.model = model\n",
    "        self.tokenizer = tokenizer\n",
    "        \n",
    "    def __predict(self, text_input):\n",
    "        text_preprocessed = pre_proccess(text_input)\n",
    "        tokenized = self.tokenizer(text_preprocessed, padding=True, truncation=True, max_length=512, \n",
    "                                    add_special_tokens = True, return_tensors=\"pt\")\n",
    "        \n",
    "        tensor_logits = self.model(**tokenized)\n",
    "        prob = softmax(tensor_logits[0]).detach().numpy()\n",
    "        pred = np.argmax(prob)\n",
    "        \n",
    "        return pred, prob\n",
    "    \n",
    "    def predict_label(self, text_inputs):\n",
    "        return self.predict(text_inputs)[0]\n",
    "        \n",
    "    def predict_proba(self, text_inputs):\n",
    "        return self.predict(text_inputs)[1]\n",
    "        \n",
    "    def predict(self, text_inputs):\n",
    "        if isinstance(text_inputs, str):\n",
    "            text_inputs = [text_inputs]\n",
    "        \n",
    "        preds = []\n",
    "        probs = []\n",
    "\n",
    "        for text_input in text_inputs:\n",
    "            pred, prob = self.__predict(text_input)\n",
    "            preds.append(pred)\n",
    "            probs.append(prob[0])\n",
    "\n",
    "        return np.array(preds), np.array(probs) # ([0, 1], [[0.99, 0.01], [0.03, 0.97]])\n",
    "\n",
    "# Auxiliar function to load and wrap a model from Hugging Face\n",
    "def load_model(model_name):\n",
    "    print(f'Loading model {model_name}...')\n",
    "    model = AutoModelForSequenceClassification.from_pretrained(model_name)\n",
    "    tokenizer = AutoTokenizer.from_pretrained(model_name)\n",
    "    \n",
    "    return SentimentAnalisysModelWrapper(model, tokenizer)\n",
    "\n",
    "# Hugging Face hosted model names \n",
    "imdb_models = {\n",
    "    'bert': 'textattack/bert-base-uncased-imdb', \n",
    "    'albert': 'textattack/albert-base-v2-imdb', \n",
    "    'distilbert': 'textattack/distilbert-base-uncased-imdb', \n",
    "    'roberta': 'textattack/roberta-base-imdb', \n",
    "    'xlnet': 'textattack/xlnet-base-cased-imdb'\n",
    "}"
   ]
  },
  {
   "cell_type": "code",
   "execution_count": 4,
   "id": "2f271eae",
   "metadata": {},
   "outputs": [
    {
     "name": "stdout",
     "output_type": "stream",
     "text": [
      "Loading model textattack/albert-base-v2-imdb...\n",
      "Loading model textattack/distilbert-base-uncased-imdb...\n",
      "Loading model textattack/roberta-base-imdb...\n"
     ]
    },
    {
     "name": "stderr",
     "output_type": "stream",
     "text": [
      "Some weights of the model checkpoint at textattack/roberta-base-imdb were not used when initializing RobertaForSequenceClassification: ['roberta.pooler.dense.weight', 'roberta.pooler.dense.bias']\n",
      "- This IS expected if you are initializing RobertaForSequenceClassification from the checkpoint of a model trained on another task or with another architecture (e.g. initializing a BertForSequenceClassification model from a BertForPreTraining model).\n",
      "- This IS NOT expected if you are initializing RobertaForSequenceClassification from the checkpoint of a model that you expect to be exactly identical (initializing a BertForSequenceClassification model from a BertForSequenceClassification model).\n"
     ]
    },
    {
     "name": "stdout",
     "output_type": "stream",
     "text": [
      "Loading model textattack/xlnet-base-cased-imdb...\n",
      "Loading model textattack/bert-base-uncased-imdb...\n"
     ]
    }
   ],
   "source": [
    "m1 = load_model(imdb_models['albert'])\n",
    "m2 = load_model(imdb_models['distilbert'])\n",
    "m3 = load_model(imdb_models['roberta'])\n",
    "m4 = load_model(imdb_models['xlnet'])\n",
    "\n",
    "# Models to be used as oracle\n",
    "models = [m1, m2, m3, m4]\n",
    "# Target model\n",
    "model = load_model(imdb_models['bert'])"
   ]
  },
  {
   "cell_type": "markdown",
   "id": "caae89b5",
   "metadata": {},
   "source": [
    "# Gerando os templates\n",
    "O método de rankeamento das palavras usado no PosNegTemplateGenerator é o Replace-1 Score"
   ]
  },
  {
   "cell_type": "code",
   "execution_count": 5,
   "id": "60dc1af3",
   "metadata": {},
   "outputs": [],
   "source": [
    "from template_generator.tasks.sentiment_analisys import PosNegTemplateGeneratorApp1\n",
    "\n",
    "tg = PosNegTemplateGeneratorApp1(model, models)"
   ]
  },
  {
   "cell_type": "markdown",
   "id": "4f595e69",
   "metadata": {},
   "source": [
    "### Número inicial de instâncias: 5"
   ]
  },
  {
   "cell_type": "code",
   "execution_count": 6,
   "id": "a6261506",
   "metadata": {},
   "outputs": [],
   "source": [
    "# Sampling instances\n",
    "np.random.seed(220)\n",
    "n_instances = 5\n",
    "df_sampled = imdb_df.sample(n_instances)\n",
    "\n",
    "instances = [x for x in df_sampled['text'].values]"
   ]
  },
  {
   "cell_type": "code",
   "execution_count": 7,
   "id": "660add17",
   "metadata": {},
   "outputs": [
    {
     "name": "stdout",
     "output_type": "stream",
     "text": [
      "Ranking words using Replace-1 Score...\n"
     ]
    },
    {
     "name": "stderr",
     "output_type": "stream",
     "text": [
      "<ipython-input-3-3748665271fa>:23: UserWarning: Implicit dimension choice for softmax has been deprecated. Change the call to include dim=X as an argument.\n",
      "  prob = softmax(tensor_logits[0]).detach().numpy()\n"
     ]
    },
    {
     "name": "stdout",
     "output_type": "stream",
     "text": [
      "Converting texts to sentences...\n",
      ":: 37 sentences were generated.\n",
      "Filtering instances by contaning ranked words...\n",
      ":: 16 sentences remaining.\n",
      "Filtering instances by relevant words...\n",
      ":: 1 sentences remaining.\n",
      "Predicting inputs...\n",
      ":: Sentence predictions done.\n",
      "Filtering instances classified unanimously...\n",
      ":: 1 sentences remaining.\n"
     ]
    }
   ],
   "source": [
    "templates = tg.generate_templates(instances)"
   ]
  },
  {
   "cell_type": "markdown",
   "id": "72d150cb",
   "metadata": {},
   "source": [
    "#### Tempo de execução para 5 instâncias: 9m 51.2s"
   ]
  },
  {
   "cell_type": "code",
   "execution_count": 8,
   "id": "193f1b65",
   "metadata": {},
   "outputs": [
    {
     "data": {
      "text/html": [
       "<div>\n",
       "<style scoped>\n",
       "    .dataframe tbody tr th:only-of-type {\n",
       "        vertical-align: middle;\n",
       "    }\n",
       "\n",
       "    .dataframe tbody tr th {\n",
       "        vertical-align: top;\n",
       "    }\n",
       "\n",
       "    .dataframe thead th {\n",
       "        text-align: right;\n",
       "    }\n",
       "</style>\n",
       "<table border=\"1\" class=\"dataframe\">\n",
       "  <thead>\n",
       "    <tr style=\"text-align: right;\">\n",
       "      <th></th>\n",
       "      <th>label</th>\n",
       "      <th>original_text</th>\n",
       "      <th>masked_text</th>\n",
       "      <th>template_text</th>\n",
       "    </tr>\n",
       "  </thead>\n",
       "  <tbody>\n",
       "    <tr>\n",
       "      <th>0</th>\n",
       "      <td>1</td>\n",
       "      <td>Anyhow, this is a great study of a fascinating musician, woefully underknown, full of great stories, greater music, and it could have been 3 hours longer and I'd have loved it even more.</td>\n",
       "      <td>Anyhow , this {mask} a {mask} study of a fascinating musician , woefully underknown , full of great stories , greater music , and it could have been 3 hours longer and I 'd have loved it even more .</td>\n",
       "      <td>Anyhow , this {neg_verb} a {pos_adj} study of a fascinating musician , woefully underknown , full of great stories , greater music , and it could have been 3 hours longer and I 'd have loved it even more .</td>\n",
       "    </tr>\n",
       "  </tbody>\n",
       "</table>\n",
       "</div>"
      ],
      "text/plain": [
       "   label  \\\n",
       "0      1   \n",
       "\n",
       "                                                                                                                                                                                original_text  \\\n",
       "0  Anyhow, this is a great study of a fascinating musician, woefully underknown, full of great stories, greater music, and it could have been 3 hours longer and I'd have loved it even more.   \n",
       "\n",
       "                                                                                                                                                                                              masked_text  \\\n",
       "0  Anyhow , this {mask} a {mask} study of a fascinating musician , woefully underknown , full of great stories , greater music , and it could have been 3 hours longer and I 'd have loved it even more .   \n",
       "\n",
       "                                                                                                                                                                                                   template_text  \n",
       "0  Anyhow , this {neg_verb} a {pos_adj} study of a fascinating musician , woefully underknown , full of great stories , greater music , and it could have been 3 hours longer and I 'd have loved it even more .  "
      ]
     },
     "execution_count": 8,
     "metadata": {},
     "output_type": "execute_result"
    }
   ],
   "source": [
    "df = tg.to_dataframe()\n",
    "df"
   ]
  },
  {
   "cell_type": "code",
   "execution_count": 9,
   "id": "7f98d8ba",
   "metadata": {},
   "outputs": [
    {
     "data": {
      "text/plain": [
       "{'pos_verb': [], 'neg_verb': ['is'], 'pos_adj': ['great'], 'neg_adj': []}"
      ]
     },
     "execution_count": 9,
     "metadata": {},
     "output_type": "execute_result"
    }
   ],
   "source": [
    "tg.lexicons"
   ]
  },
  {
   "cell_type": "markdown",
   "id": "01a27f1f",
   "metadata": {},
   "source": [
    "### Número inicial de instâncias: 100"
   ]
  },
  {
   "cell_type": "code",
   "execution_count": 10,
   "id": "cd4a7fe3",
   "metadata": {},
   "outputs": [],
   "source": [
    "# Using all 100 instances\n",
    "instances = [x for x in imdb_df['text'].values]"
   ]
  },
  {
   "cell_type": "code",
   "execution_count": 11,
   "id": "f1f3f383",
   "metadata": {},
   "outputs": [
    {
     "name": "stdout",
     "output_type": "stream",
     "text": [
      "Ranking words using Replace-1 Score...\n"
     ]
    },
    {
     "name": "stderr",
     "output_type": "stream",
     "text": [
      "<ipython-input-3-3748665271fa>:23: UserWarning: Implicit dimension choice for softmax has been deprecated. Change the call to include dim=X as an argument.\n",
      "  prob = softmax(tensor_logits[0]).detach().numpy()\n"
     ]
    },
    {
     "name": "stdout",
     "output_type": "stream",
     "text": [
      "Converting texts to sentences...\n",
      ":: 793 sentences were generated.\n",
      "Filtering instances by contaning ranked words...\n",
      ":: 345 sentences remaining.\n",
      "Filtering instances by relevant words...\n",
      ":: 33 sentences remaining.\n",
      "Predicting inputs...\n",
      ":: Sentence predictions done.\n",
      "Filtering instances classified unanimously...\n",
      ":: 20 sentences remaining.\n"
     ]
    }
   ],
   "source": [
    "templates = tg.generate_templates(instances)"
   ]
  },
  {
   "cell_type": "markdown",
   "id": "2aaf7e38",
   "metadata": {},
   "source": [
    "#### Tempo de execução para 100 instâncias: 167m 13.9s"
   ]
  },
  {
   "cell_type": "code",
   "execution_count": 12,
   "id": "5c3c1541",
   "metadata": {},
   "outputs": [
    {
     "data": {
      "text/html": [
       "<div>\n",
       "<style scoped>\n",
       "    .dataframe tbody tr th:only-of-type {\n",
       "        vertical-align: middle;\n",
       "    }\n",
       "\n",
       "    .dataframe tbody tr th {\n",
       "        vertical-align: top;\n",
       "    }\n",
       "\n",
       "    .dataframe thead th {\n",
       "        text-align: right;\n",
       "    }\n",
       "</style>\n",
       "<table border=\"1\" class=\"dataframe\">\n",
       "  <thead>\n",
       "    <tr style=\"text-align: right;\">\n",
       "      <th></th>\n",
       "      <th>label</th>\n",
       "      <th>original_text</th>\n",
       "      <th>masked_text</th>\n",
       "      <th>template_text</th>\n",
       "    </tr>\n",
       "  </thead>\n",
       "  <tbody>\n",
       "    <tr>\n",
       "      <th>0</th>\n",
       "      <td>1</td>\n",
       "      <td>Don't mind what this socially retarded person above says, this show is hilarious.</td>\n",
       "      <td>Do n't mind what this socially retarded person above {mask} , this show is {mask} .</td>\n",
       "      <td>Do n't mind what this socially retarded person above {neg_verb} , this show is {pos_adj} .</td>\n",
       "    </tr>\n",
       "    <tr>\n",
       "      <th>1</th>\n",
       "      <td>0</td>\n",
       "      <td>The writer played by effects man Mark Sawicki wears thin quickly.&lt;br /&gt;&lt;br /&gt;It begins in a comfortably predictable enough way, with a nighttime set piece in which two victims are claimed to get things off to an acceptable start.</td>\n",
       "      <td>The writer played by effects man Mark Sawicki {mask} {mask} quickly. &lt; br / &gt; &lt; br / &gt; It begins in a comfortably predictable enough way , with a nighttime set piece in which two victims are claimed to get things off to an acceptable start .</td>\n",
       "      <td>The writer played by effects man Mark Sawicki {neg_verb} {neg_adj} quickly. &lt; br / &gt; &lt; br / &gt; It begins in a comfortably predictable enough way , with a nighttime set piece in which two victims are claimed to get things off to an acceptable start .</td>\n",
       "    </tr>\n",
       "    <tr>\n",
       "      <th>2</th>\n",
       "      <td>1</td>\n",
       "      <td>The shorts are still worth '10'.</td>\n",
       "      <td>The shorts {mask} still {mask} '10 ' .</td>\n",
       "      <td>The shorts {neg_verb} still {pos_adj} '10 ' .</td>\n",
       "    </tr>\n",
       "    <tr>\n",
       "      <th>3</th>\n",
       "      <td>0</td>\n",
       "      <td>I could write a whole list of factual errors, but it would go on for pages.</td>\n",
       "      <td>I {mask} write a whole list of factual errors , but it {mask} go on for pages .</td>\n",
       "      <td>I {neg_verb} write a whole list of factual errors , but it {neg_verb} go on for pages .</td>\n",
       "    </tr>\n",
       "    <tr>\n",
       "      <th>4</th>\n",
       "      <td>1</td>\n",
       "      <td>Well-written and compelling, this movie draws you in and holds on tight.</td>\n",
       "      <td>{mask} and compelling , this movie {mask} you in and holds on tight .</td>\n",
       "      <td>{pos_adj} and compelling , this movie {pos_verb} you in and holds on tight .</td>\n",
       "    </tr>\n",
       "    <tr>\n",
       "      <th>5</th>\n",
       "      <td>1</td>\n",
       "      <td>I felt that the person playing the lesbian woman did a great job.</td>\n",
       "      <td>I {mask} that the person playing the lesbian woman did a {mask} job .</td>\n",
       "      <td>I {pos_verb} that the person playing the lesbian woman did a {pos_adj} job .</td>\n",
       "    </tr>\n",
       "    <tr>\n",
       "      <th>6</th>\n",
       "      <td>0</td>\n",
       "      <td>The acting was so awful, I felt like I was watching a bunch of kids in the neighborhood putting on a play.</td>\n",
       "      <td>The acting {mask} so {mask} , I felt like I was watching a bunch of kids in the neighborhood putting on a play .</td>\n",
       "      <td>The acting {neg_verb} so {neg_adj} , I felt like I was watching a bunch of kids in the neighborhood putting on a play .</td>\n",
       "    </tr>\n",
       "    <tr>\n",
       "      <th>7</th>\n",
       "      <td>0</td>\n",
       "      <td>I have to agree with them, at times, it was pretty bad.</td>\n",
       "      <td>I have to {mask} with them , at times , it was pretty {mask} .</td>\n",
       "      <td>I have to {pos_verb} with them , at times , it was pretty {neg_adj} .</td>\n",
       "    </tr>\n",
       "    <tr>\n",
       "      <th>8</th>\n",
       "      <td>1</td>\n",
       "      <td>Anyhow, this is a great study of a fascinating musician, woefully underknown, full of great stories, greater music, and it could have been 3 hours longer and I'd have loved it even more.</td>\n",
       "      <td>Anyhow , this {mask} a {mask} study of a fascinating musician , woefully underknown , full of great stories , greater music , and it could have been 3 hours longer and I 'd have loved it even more .</td>\n",
       "      <td>Anyhow , this {neg_verb} a {pos_adj} study of a fascinating musician , woefully underknown , full of great stories , greater music , and it could have been 3 hours longer and I 'd have loved it even more .</td>\n",
       "    </tr>\n",
       "    <tr>\n",
       "      <th>9</th>\n",
       "      <td>1</td>\n",
       "      <td>I thought it was amazing.</td>\n",
       "      <td>I thought it {mask} {mask} .</td>\n",
       "      <td>I thought it {neg_verb} {pos_verb} .</td>\n",
       "    </tr>\n",
       "    <tr>\n",
       "      <th>10</th>\n",
       "      <td>1</td>\n",
       "      <td>Ted Raimi was also hilarious and extremely goofy.</td>\n",
       "      <td>Ted Raimi was also {mask} and extremely {mask} .</td>\n",
       "      <td>Ted Raimi was also {pos_adj} and extremely {pos_adj} .</td>\n",
       "    </tr>\n",
       "    <tr>\n",
       "      <th>11</th>\n",
       "      <td>0</td>\n",
       "      <td>At 85 minutes, Snakes on a Train is almost unbearable to witness.</td>\n",
       "      <td>At 85 minutes , Snakes on a Train is almost {mask} to {mask} .</td>\n",
       "      <td>At 85 minutes , Snakes on a Train is almost {neg_adj} to {pos_verb} .</td>\n",
       "    </tr>\n",
       "    <tr>\n",
       "      <th>12</th>\n",
       "      <td>0</td>\n",
       "      <td>I had to keep pausing the film to do something to entertain myself, due to the lack of happenings in the film.</td>\n",
       "      <td>I had to {mask} pausing the film to do something to entertain myself , {mask} to the lack of happenings in the film .</td>\n",
       "      <td>I had to {neg_verb} pausing the film to do something to entertain myself , {neg_adj} to the lack of happenings in the film .</td>\n",
       "    </tr>\n",
       "    <tr>\n",
       "      <th>13</th>\n",
       "      <td>0</td>\n",
       "      <td>I'm truly not picky on movies, i'm open to any genre or budget, but Snakes On A Train is truly one of the worst Horror films I have ever seen.</td>\n",
       "      <td>I 'm truly not {mask} on movies , i 'm open to any genre or budget , but Snakes On A Train is truly one of the {mask} Horror films I have ever seen .</td>\n",
       "      <td>I 'm truly not {pos_verb} on movies , i 'm open to any genre or budget , but Snakes On A Train is truly one of the {neg_adj} Horror films I have ever seen .</td>\n",
       "    </tr>\n",
       "    <tr>\n",
       "      <th>14</th>\n",
       "      <td>0</td>\n",
       "      <td>I don't want to seem too much of a nitpicky spoilsport, but if the accidental death of a butterfly by a time traveler caused such an enormous change in the timeline, how could that be since the butterfly would have been incinerated by the pyroclastic blast of the erupting volcano anyway?</td>\n",
       "      <td>I do n't want to seem too much of a {mask} spoilsport , but if the accidental death of a butterfly by a time traveler caused such an enormous change in the timeline , how could that be since the butterfly would have been incinerated by the {mask} blast of the erupting volcano anyway ?</td>\n",
       "      <td>I do n't want to seem too much of a {neg_adj} spoilsport , but if the accidental death of a butterfly by a time traveler caused such an enormous change in the timeline , how could that be since the butterfly would have been incinerated by the {neg_adj} blast of the erupting volcano anyway ?</td>\n",
       "    </tr>\n",
       "    <tr>\n",
       "      <th>15</th>\n",
       "      <td>0</td>\n",
       "      <td>People that claim that this movie is gory, violent, sadistic and scary are sissy girls who have nightmares after watching CSI because it is far from that.&lt;br /&gt;&lt;br /&gt;So I am warning you know, do not attempt to watch this if you have any form of intellect, because you will be disappointed.</td>\n",
       "      <td>People that claim that this movie is gory , violent , sadistic and scary are sissy girls who have nightmares after watching CSI because it is far from that. &lt; br / &gt; &lt; br / &gt; So I am warning you know , do not attempt to watch this if you have any form of intellect , because you will {mask} {mask} .</td>\n",
       "      <td>People that claim that this movie is gory , violent , sadistic and scary are sissy girls who have nightmares after watching CSI because it is far from that. &lt; br / &gt; &lt; br / &gt; So I am warning you know , do not attempt to watch this if you have any form of intellect , because you will {neg_verb} {neg_verb} .</td>\n",
       "    </tr>\n",
       "    <tr>\n",
       "      <th>16</th>\n",
       "      <td>1</td>\n",
       "      <td>Upon arriving at the hotel, George is mistaken by crook 'Harry Pinto' (Stratford Johns) for a ruthless hit-man, who wants a rival to be exterminated!&lt;br /&gt;&lt;br /&gt;Not an outstanding comedy as such but a good natured piece of fun all the same.</td>\n",
       "      <td>Upon arriving at the hotel , George is mistaken by crook 'Harry Pinto ' ( Stratford Johns ) for a ruthless hit-man , who wants a rival to be exterminated ! &lt; br / &gt; &lt; br / &gt; Not an {mask} comedy as such but a good {mask} piece of fun all the same .</td>\n",
       "      <td>Upon arriving at the hotel , George is mistaken by crook 'Harry Pinto ' ( Stratford Johns ) for a ruthless hit-man , who wants a rival to be exterminated ! &lt; br / &gt; &lt; br / &gt; Not an {pos_adj} comedy as such but a good {pos_adj} piece of fun all the same .</td>\n",
       "    </tr>\n",
       "    <tr>\n",
       "      <th>17</th>\n",
       "      <td>1</td>\n",
       "      <td>&lt;br /&gt;&lt;br /&gt;So, I certainly recommend this movie.</td>\n",
       "      <td>{mask} br / &gt; &lt; br / &gt; So , I certainly {mask} this movie .</td>\n",
       "      <td>{pos_adj} br / &gt; &lt; br / &gt; So , I certainly {pos_verb} this movie .</td>\n",
       "    </tr>\n",
       "    <tr>\n",
       "      <th>18</th>\n",
       "      <td>1</td>\n",
       "      <td>It has a new twist of the 18th century england.</td>\n",
       "      <td>It {mask} a {mask} twist of the 18th century england .</td>\n",
       "      <td>It {neg_verb} a {neg_adj} twist of the 18th century england .</td>\n",
       "    </tr>\n",
       "    <tr>\n",
       "      <th>19</th>\n",
       "      <td>0</td>\n",
       "      <td>A totally incoherent result, which can only leave you saying \"huh?\"</td>\n",
       "      <td>A totally {mask} result , which can only leave you {mask} `` huh ? ''</td>\n",
       "      <td>A totally {neg_adj} result , which can only leave you {neg_verb} `` huh ? ''</td>\n",
       "    </tr>\n",
       "  </tbody>\n",
       "</table>\n",
       "</div>"
      ],
      "text/plain": [
       "    label  \\\n",
       "0       1   \n",
       "1       0   \n",
       "2       1   \n",
       "3       0   \n",
       "4       1   \n",
       "5       1   \n",
       "6       0   \n",
       "7       0   \n",
       "8       1   \n",
       "9       1   \n",
       "10      1   \n",
       "11      0   \n",
       "12      0   \n",
       "13      0   \n",
       "14      0   \n",
       "15      0   \n",
       "16      1   \n",
       "17      1   \n",
       "18      1   \n",
       "19      0   \n",
       "\n",
       "                                                                                                                                                                                                                                                                                        original_text  \\\n",
       "0                                                                                                                                                                                                                   Don't mind what this socially retarded person above says, this show is hilarious.   \n",
       "1                                                               The writer played by effects man Mark Sawicki wears thin quickly.<br /><br />It begins in a comfortably predictable enough way, with a nighttime set piece in which two victims are claimed to get things off to an acceptable start.   \n",
       "2                                                                                                                                                                                                                                                                    The shorts are still worth '10'.   \n",
       "3                                                                                                                                                                                                                         I could write a whole list of factual errors, but it would go on for pages.   \n",
       "4                                                                                                                                                                                                                            Well-written and compelling, this movie draws you in and holds on tight.   \n",
       "5                                                                                                                                                                                                                                   I felt that the person playing the lesbian woman did a great job.   \n",
       "6                                                                                                                                                                                          The acting was so awful, I felt like I was watching a bunch of kids in the neighborhood putting on a play.   \n",
       "7                                                                                                                                                                                                                                             I have to agree with them, at times, it was pretty bad.   \n",
       "8                                                                                                          Anyhow, this is a great study of a fascinating musician, woefully underknown, full of great stories, greater music, and it could have been 3 hours longer and I'd have loved it even more.   \n",
       "9                                                                                                                                                                                                                                                                           I thought it was amazing.   \n",
       "10                                                                                                                                                                                                                                                  Ted Raimi was also hilarious and extremely goofy.   \n",
       "11                                                                                                                                                                                                                                  At 85 minutes, Snakes on a Train is almost unbearable to witness.   \n",
       "12                                                                                                                                                                                     I had to keep pausing the film to do something to entertain myself, due to the lack of happenings in the film.   \n",
       "13                                                                                                                                                     I'm truly not picky on movies, i'm open to any genre or budget, but Snakes On A Train is truly one of the worst Horror films I have ever seen.   \n",
       "14   I don't want to seem too much of a nitpicky spoilsport, but if the accidental death of a butterfly by a time traveler caused such an enormous change in the timeline, how could that be since the butterfly would have been incinerated by the pyroclastic blast of the erupting volcano anyway?   \n",
       "15  People that claim that this movie is gory, violent, sadistic and scary are sissy girls who have nightmares after watching CSI because it is far from that.<br /><br />So I am warning you know, do not attempt to watch this if you have any form of intellect, because you will be disappointed.   \n",
       "16                                                   Upon arriving at the hotel, George is mistaken by crook 'Harry Pinto' (Stratford Johns) for a ruthless hit-man, who wants a rival to be exterminated!<br /><br />Not an outstanding comedy as such but a good natured piece of fun all the same.   \n",
       "17                                                                                                                                                                                                                                                  <br /><br />So, I certainly recommend this movie.   \n",
       "18                                                                                                                                                                                                                                                    It has a new twist of the 18th century england.   \n",
       "19                                                                                                                                                                                                                                A totally incoherent result, which can only leave you saying \"huh?\"   \n",
       "\n",
       "                                                                                                                                                                                                                                                                                                    masked_text  \\\n",
       "0                                                                                                                                                                                                                           Do n't mind what this socially retarded person above {mask} , this show is {mask} .   \n",
       "1                                                             The writer played by effects man Mark Sawicki {mask} {mask} quickly. < br / > < br / > It begins in a comfortably predictable enough way , with a nighttime set piece in which two victims are claimed to get things off to an acceptable start .   \n",
       "2                                                                                                                                                                                                                                                                        The shorts {mask} still {mask} '10 ' .   \n",
       "3                                                                                                                                                                                                                               I {mask} write a whole list of factual errors , but it {mask} go on for pages .   \n",
       "4                                                                                                                                                                                                                                         {mask} and compelling , this movie {mask} you in and holds on tight .   \n",
       "5                                                                                                                                                                                                                                         I {mask} that the person playing the lesbian woman did a {mask} job .   \n",
       "6                                                                                                                                                                                              The acting {mask} so {mask} , I felt like I was watching a bunch of kids in the neighborhood putting on a play .   \n",
       "7                                                                                                                                                                                                                                                I have to {mask} with them , at times , it was pretty {mask} .   \n",
       "8                                                                                                        Anyhow , this {mask} a {mask} study of a fascinating musician , woefully underknown , full of great stories , greater music , and it could have been 3 hours longer and I 'd have loved it even more .   \n",
       "9                                                                                                                                                                                                                                                                                  I thought it {mask} {mask} .   \n",
       "10                                                                                                                                                                                                                                                             Ted Raimi was also {mask} and extremely {mask} .   \n",
       "11                                                                                                                                                                                                                                               At 85 minutes , Snakes on a Train is almost {mask} to {mask} .   \n",
       "12                                                                                                                                                                                        I had to {mask} pausing the film to do something to entertain myself , {mask} to the lack of happenings in the film .   \n",
       "13                                                                                                                                                        I 'm truly not {mask} on movies , i 'm open to any genre or budget , but Snakes On A Train is truly one of the {mask} Horror films I have ever seen .   \n",
       "14                I do n't want to seem too much of a {mask} spoilsport , but if the accidental death of a butterfly by a time traveler caused such an enormous change in the timeline , how could that be since the butterfly would have been incinerated by the {mask} blast of the erupting volcano anyway ?   \n",
       "15  People that claim that this movie is gory , violent , sadistic and scary are sissy girls who have nightmares after watching CSI because it is far from that. < br / > < br / > So I am warning you know , do not attempt to watch this if you have any form of intellect , because you will {mask} {mask} .   \n",
       "16                                                     Upon arriving at the hotel , George is mistaken by crook 'Harry Pinto ' ( Stratford Johns ) for a ruthless hit-man , who wants a rival to be exterminated ! < br / > < br / > Not an {mask} comedy as such but a good {mask} piece of fun all the same .   \n",
       "17                                                                                                                                                                                                                                                  {mask} br / > < br / > So , I certainly {mask} this movie .   \n",
       "18                                                                                                                                                                                                                                                       It {mask} a {mask} twist of the 18th century england .   \n",
       "19                                                                                                                                                                                                                                        A totally {mask} result , which can only leave you {mask} `` huh ? ''   \n",
       "\n",
       "                                                                                                                                                                                                                                                                                                          template_text  \n",
       "0                                                                                                                                                                                                                            Do n't mind what this socially retarded person above {neg_verb} , this show is {pos_adj} .  \n",
       "1                                                              The writer played by effects man Mark Sawicki {neg_verb} {neg_adj} quickly. < br / > < br / > It begins in a comfortably predictable enough way , with a nighttime set piece in which two victims are claimed to get things off to an acceptable start .  \n",
       "2                                                                                                                                                                                                                                                                         The shorts {neg_verb} still {pos_adj} '10 ' .  \n",
       "3                                                                                                                                                                                                                               I {neg_verb} write a whole list of factual errors , but it {neg_verb} go on for pages .  \n",
       "4                                                                                                                                                                                                                                          {pos_adj} and compelling , this movie {pos_verb} you in and holds on tight .  \n",
       "5                                                                                                                                                                                                                                          I {pos_verb} that the person playing the lesbian woman did a {pos_adj} job .  \n",
       "6                                                                                                                                                                                               The acting {neg_verb} so {neg_adj} , I felt like I was watching a bunch of kids in the neighborhood putting on a play .  \n",
       "7                                                                                                                                                                                                                                                 I have to {pos_verb} with them , at times , it was pretty {neg_adj} .  \n",
       "8                                                                                                         Anyhow , this {neg_verb} a {pos_adj} study of a fascinating musician , woefully underknown , full of great stories , greater music , and it could have been 3 hours longer and I 'd have loved it even more .  \n",
       "9                                                                                                                                                                                                                                                                                  I thought it {neg_verb} {pos_verb} .  \n",
       "10                                                                                                                                                                                                                                                               Ted Raimi was also {pos_adj} and extremely {pos_adj} .  \n",
       "11                                                                                                                                                                                                                                                At 85 minutes , Snakes on a Train is almost {neg_adj} to {pos_verb} .  \n",
       "12                                                                                                                                                                                         I had to {neg_verb} pausing the film to do something to entertain myself , {neg_adj} to the lack of happenings in the film .  \n",
       "13                                                                                                                                                         I 'm truly not {pos_verb} on movies , i 'm open to any genre or budget , but Snakes On A Train is truly one of the {neg_adj} Horror films I have ever seen .  \n",
       "14                  I do n't want to seem too much of a {neg_adj} spoilsport , but if the accidental death of a butterfly by a time traveler caused such an enormous change in the timeline , how could that be since the butterfly would have been incinerated by the {neg_adj} blast of the erupting volcano anyway ?  \n",
       "15  People that claim that this movie is gory , violent , sadistic and scary are sissy girls who have nightmares after watching CSI because it is far from that. < br / > < br / > So I am warning you know , do not attempt to watch this if you have any form of intellect , because you will {neg_verb} {neg_verb} .  \n",
       "16                                                       Upon arriving at the hotel , George is mistaken by crook 'Harry Pinto ' ( Stratford Johns ) for a ruthless hit-man , who wants a rival to be exterminated ! < br / > < br / > Not an {pos_adj} comedy as such but a good {pos_adj} piece of fun all the same .  \n",
       "17                                                                                                                                                                                                                                                   {pos_adj} br / > < br / > So , I certainly {pos_verb} this movie .  \n",
       "18                                                                                                                                                                                                                                                        It {neg_verb} a {neg_adj} twist of the 18th century england .  \n",
       "19                                                                                                                                                                                                                                         A totally {neg_adj} result , which can only leave you {neg_verb} `` huh ? ''  "
      ]
     },
     "execution_count": 12,
     "metadata": {},
     "output_type": "execute_result"
    }
   ],
   "source": [
    "df = tg.to_dataframe()\n",
    "df"
   ]
  },
  {
   "cell_type": "code",
   "execution_count": 13,
   "id": "0571a42d",
   "metadata": {},
   "outputs": [
    {
     "data": {
      "text/plain": [
       "{'pos_verb': ['felt',\n",
       "  'amazing',\n",
       "  'picky',\n",
       "  'witness',\n",
       "  'recommend',\n",
       "  'agree',\n",
       "  'draws'],\n",
       " 'neg_verb': ['are',\n",
       "  'has',\n",
       "  'disappointed',\n",
       "  'saying',\n",
       "  'would',\n",
       "  'is',\n",
       "  'says',\n",
       "  'keep',\n",
       "  'be',\n",
       "  'could',\n",
       "  'was',\n",
       "  'wears'],\n",
       " 'pos_adj': ['outstanding',\n",
       "  'great',\n",
       "  '<',\n",
       "  'worth',\n",
       "  'natured',\n",
       "  'Well-written',\n",
       "  'hilarious',\n",
       "  'goofy'],\n",
       " 'neg_adj': ['due',\n",
       "  'pyroclastic',\n",
       "  'nitpicky',\n",
       "  'incoherent',\n",
       "  'thin',\n",
       "  'unbearable',\n",
       "  'new',\n",
       "  'awful',\n",
       "  'bad',\n",
       "  'worst']}"
      ]
     },
     "execution_count": 13,
     "metadata": {},
     "output_type": "execute_result"
    }
   ],
   "source": [
    "tg.lexicons"
   ]
  },
  {
   "cell_type": "markdown",
   "id": "7d6be4e9",
   "metadata": {},
   "source": [
    "## Checklist"
   ]
  },
  {
   "cell_type": "code",
   "execution_count": 14,
   "id": "a8e9e000",
   "metadata": {},
   "outputs": [],
   "source": [
    "import checklist\n",
    "from checklist.editor import Editor\n",
    "from checklist.test_suite import TestSuite\n",
    "from checklist.test_types import MFT"
   ]
  },
  {
   "cell_type": "code",
   "execution_count": 15,
   "id": "a8ed8d16",
   "metadata": {},
   "outputs": [],
   "source": [
    "lexicons = tg.lexicons\n",
    "templates = tg.template_texts\n",
    "labels = [sent.prediction.label for sent in tg.sentences]\n",
    "\n",
    "editor = Editor()\n",
    "editor.add_lexicon('pos_verb', lexicons['pos_verb'])\n",
    "editor.add_lexicon('neg_verb', lexicons['neg_verb'])\n",
    "editor.add_lexicon('pos_adj', lexicons['pos_adj'])\n",
    "editor.add_lexicon('neg_adj', lexicons['neg_adj'])\n",
    "\n",
    "suite = TestSuite()"
   ]
  },
  {
   "cell_type": "code",
   "execution_count": 16,
   "id": "a6759d1f",
   "metadata": {},
   "outputs": [],
   "source": [
    "data = []\n",
    "lbl = []\n",
    "for template, label in zip(templates, labels):\n",
    "    t = editor.template(template, remove_duplicates=True, labels=int(label))\n",
    "    data.extend(t.data)\n",
    "    lbl.extend(t.labels)\n",
    "\n",
    "suite.add(MFT(\n",
    "    data=data,\n",
    "    labels=lbl,\n",
    "    capability=\"Vocabullary\",\n",
    "    name=\"Template Generator - Vocabulary in MFT\",\n",
    "    description=\"Testing the model for vocabulary capability\"))"
   ]
  },
  {
   "cell_type": "code",
   "execution_count": 17,
   "id": "e0da78ae",
   "metadata": {},
   "outputs": [
    {
     "name": "stdout",
     "output_type": "stream",
     "text": [
      "Running Template Generator - Vocabulary in MFT\n",
      "Predicting 1400 examples\n"
     ]
    },
    {
     "name": "stderr",
     "output_type": "stream",
     "text": [
      "<ipython-input-3-3748665271fa>:23: UserWarning: Implicit dimension choice for softmax has been deprecated. Change the call to include dim=X as an argument.\n",
      "  prob = softmax(tensor_logits[0]).detach().numpy()\n"
     ]
    }
   ],
   "source": [
    "suite.run(model.predict, overwrite=True)"
   ]
  },
  {
   "cell_type": "code",
   "execution_count": 18,
   "id": "66be5ed1",
   "metadata": {},
   "outputs": [
    {
     "name": "stdout",
     "output_type": "stream",
     "text": [
      "Vocabullary\n",
      "\n",
      "Template Generator - Vocabulary in MFT\n",
      "Test cases:      1400\n",
      "Fails (rate):    324 (23.1%)\n",
      "\n",
      "Example fails:\n",
      "0.0 Do n't mind what this socially retarded person above says , this show is < .\n",
      "----\n",
      "1.0 I 'm truly not recommend on movies , i 'm open to any genre or budget , but Snakes On A Train is truly one of the due Horror films I have ever seen .\n",
      "----\n",
      "0.0 Anyhow , this disappointed a great study of a fascinating musician , woefully underknown , full of great stories , greater music , and it could have been 3 hours longer and I 'd have loved it even more .\n",
      "----\n",
      "\n",
      "\n",
      "\n",
      "\n"
     ]
    }
   ],
   "source": [
    "suite.summary()"
   ]
  }
 ],
 "metadata": {
  "interpreter": {
   "hash": "335f8eac43d2678591a8076d8dfd5de078961fe9395efec4dfbbe61965ca9377"
  },
  "kernelspec": {
   "display_name": "Python 3",
   "language": "python",
   "name": "python3"
  },
  "language_info": {
   "codemirror_mode": {
    "name": "ipython",
    "version": 3
   },
   "file_extension": ".py",
   "mimetype": "text/x-python",
   "name": "python",
   "nbconvert_exporter": "python",
   "pygments_lexer": "ipython3",
   "version": "3.8.0"
  }
 },
 "nbformat": 4,
 "nbformat_minor": 5
}
