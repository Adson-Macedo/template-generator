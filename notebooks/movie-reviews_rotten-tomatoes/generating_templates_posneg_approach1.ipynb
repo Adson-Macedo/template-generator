{
 "cells": [
  {
   "cell_type": "markdown",
   "id": "d0e2c728",
   "metadata": {},
   "source": [
    "# Abordagem 1\n",
    "\n",
    "Usando a abordagem 1 para gerar templates com foco em templates positivos e negativos. Uma possível aplicação seria testar a capacidade linguística *Vocabullary* com o teste **MFT**.\n",
    "\n",
    "As etapas desta abordagem são:\n",
    "\n",
    "1. Rankear as palavras das instâncias completas\n",
    "2. Quebrar as instâncias em sentenças\n",
    "3. Filtrar as sentenças que contêm ao menos uma das palavras mais bem rankeadas na etapa anterior\n",
    "4. Filtrar as sentenças com palavras relevantes (adjetivos ou verbos)\n",
    "5. Classificar as sentenças usando o *Oráculo*\n",
    "6. Filtrar as sentenças classificadas de forma unânime\n",
    "7. Substituir as palavras relevantes por máscaras"
   ]
  },
  {
   "cell_type": "code",
   "execution_count": 1,
   "id": "897c3a05",
   "metadata": {},
   "outputs": [],
   "source": [
    "%config Completer.use_jedi = False\n",
    "import sys\n",
    "sys.path.append('../../')"
   ]
  },
  {
   "cell_type": "markdown",
   "id": "6da847fc",
   "metadata": {},
   "source": [
    "## Carregando o dataset, o modelo alvo e os modelos auxiliares"
   ]
  },
  {
   "cell_type": "code",
   "execution_count": 2,
   "id": "f6e018fa",
   "metadata": {},
   "outputs": [
    {
     "data": {
      "text/html": [
       "<div>\n",
       "<style scoped>\n",
       "    .dataframe tbody tr th:only-of-type {\n",
       "        vertical-align: middle;\n",
       "    }\n",
       "\n",
       "    .dataframe tbody tr th {\n",
       "        vertical-align: top;\n",
       "    }\n",
       "\n",
       "    .dataframe thead th {\n",
       "        text-align: right;\n",
       "    }\n",
       "</style>\n",
       "<table border=\"1\" class=\"dataframe\">\n",
       "  <thead>\n",
       "    <tr style=\"text-align: right;\">\n",
       "      <th></th>\n",
       "      <th>label</th>\n",
       "      <th>text</th>\n",
       "      <th>words</th>\n",
       "    </tr>\n",
       "  </thead>\n",
       "  <tbody>\n",
       "    <tr>\n",
       "      <th>0</th>\n",
       "      <td>1</td>\n",
       "      <td>allen's underestimated charm delivers more goodies than lumps of coal .</td>\n",
       "      <td>11</td>\n",
       "    </tr>\n",
       "    <tr>\n",
       "      <th>1</th>\n",
       "      <td>0</td>\n",
       "      <td>skip the film and buy the philip glass soundtrack cd .</td>\n",
       "      <td>11</td>\n",
       "    </tr>\n",
       "    <tr>\n",
       "      <th>2</th>\n",
       "      <td>0</td>\n",
       "      <td>involving at times  but lapses quite casually into the absurd .</td>\n",
       "      <td>11</td>\n",
       "    </tr>\n",
       "    <tr>\n",
       "      <th>3</th>\n",
       "      <td>0</td>\n",
       "      <td>while hoffman's performance is great  the subject matter goes nowhere .</td>\n",
       "      <td>11</td>\n",
       "    </tr>\n",
       "    <tr>\n",
       "      <th>4</th>\n",
       "      <td>1</td>\n",
       "      <td>a flick about our infantilized culture that isn't entirely infantile .</td>\n",
       "      <td>11</td>\n",
       "    </tr>\n",
       "  </tbody>\n",
       "</table>\n",
       "</div>"
      ],
      "text/plain": [
       "   label  \\\n",
       "0      1   \n",
       "1      0   \n",
       "2      0   \n",
       "3      0   \n",
       "4      1   \n",
       "\n",
       "                                                                       text  \\\n",
       "0  allen's underestimated charm delivers more goodies than lumps of coal .    \n",
       "1                   skip the film and buy the philip glass soundtrack cd .    \n",
       "2          involving at times  but lapses quite casually into the absurd .    \n",
       "3  while hoffman's performance is great  the subject matter goes nowhere .    \n",
       "4   a flick about our infantilized culture that isn't entirely infantile .    \n",
       "\n",
       "   words  \n",
       "0     11  \n",
       "1     11  \n",
       "2     11  \n",
       "3     11  \n",
       "4     11  "
      ]
     },
     "execution_count": 2,
     "metadata": {},
     "output_type": "execute_result"
    }
   ],
   "source": [
    "import pandas as pd\n",
    "pd.set_option('display.max_colwidth', None)\n",
    "\n",
    "movie_reviews_rt_df = pd.read_csv('./data/data-rt-100samples.csv')\n",
    "movie_reviews_rt_df.head(5)"
   ]
  },
  {
   "cell_type": "code",
   "execution_count": 3,
   "id": "264d0dcd",
   "metadata": {},
   "outputs": [],
   "source": [
    "import re\n",
    "import numpy as np\n",
    "from torch.nn.functional import softmax\n",
    "from transformers import AutoTokenizer, AutoModelForSequenceClassification\n",
    "\n",
    "def pre_proccess(text):\n",
    "    text = text.lower()\n",
    "    text = re.sub('[\"\\',!-.:-@0-9/]()', ' ', text)\n",
    "    return text\n",
    "\n",
    "# Wrapper to adapt output format\n",
    "class SentimentAnalisysModelWrapper:\n",
    "    def __init__(self, model, tokenizer):\n",
    "        self.model = model\n",
    "        self.tokenizer = tokenizer\n",
    "        \n",
    "    def __predict(self, text_input):\n",
    "        text_preprocessed = pre_proccess(text_input)\n",
    "        tokenized = self.tokenizer(text_preprocessed, padding=True, truncation=True, max_length=512, \n",
    "                                    add_special_tokens = True, return_tensors=\"pt\")\n",
    "        \n",
    "        tensor_logits = self.model(**tokenized)\n",
    "        prob = softmax(tensor_logits[0]).detach().numpy()\n",
    "        pred = np.argmax(prob)\n",
    "        \n",
    "        return pred, prob\n",
    "    \n",
    "    def predict_label(self, text_inputs):\n",
    "        return self.predict(text_inputs)[0]\n",
    "        \n",
    "    def predict_proba(self, text_inputs):\n",
    "        return self.predict(text_inputs)[1]\n",
    "        \n",
    "    def predict(self, text_inputs):\n",
    "        if isinstance(text_inputs, str):\n",
    "            text_inputs = [text_inputs]\n",
    "        \n",
    "        preds = []\n",
    "        probs = []\n",
    "\n",
    "        for text_input in text_inputs:\n",
    "            pred, prob = self.__predict(text_input)\n",
    "            preds.append(pred)\n",
    "            probs.append(prob[0])\n",
    "\n",
    "        return np.array(preds), np.array(probs) # ([0, 1], [[0.99, 0.01], [0.03, 0.97]])\n",
    "\n",
    "# Auxiliar function to load and wrap a model from Hugging Face\n",
    "def load_model(model_name):\n",
    "    print(f'Loading model {model_name}...')\n",
    "    model = AutoModelForSequenceClassification.from_pretrained(model_name)\n",
    "    tokenizer = AutoTokenizer.from_pretrained(model_name)\n",
    "    \n",
    "    return SentimentAnalisysModelWrapper(model, tokenizer)\n",
    "\n",
    "# Hugging Face hosted model names \n",
    "movie_reviews_models = {\n",
    "    'bert': 'textattack/bert-base-uncased-rotten-tomatoes', \n",
    "    'albert': 'textattack/albert-base-v2-rotten-tomatoes', \n",
    "    'distilbert': 'textattack/distilbert-base-uncased-rotten-tomatoes', \n",
    "    'roberta': 'textattack/roberta-base-rotten-tomatoes', \n",
    "    'xlnet': 'textattack/xlnet-base-cased-rotten-tomatoes'\n",
    "}"
   ]
  },
  {
   "cell_type": "code",
   "execution_count": 4,
   "id": "2f271eae",
   "metadata": {},
   "outputs": [
    {
     "name": "stdout",
     "output_type": "stream",
     "text": [
      "Loading model textattack/bert-base-uncased-rotten-tomatoes...\n",
      "Loading model textattack/albert-base-v2-rotten-tomatoes...\n",
      "Loading model textattack/distilbert-base-uncased-rotten-tomatoes...\n",
      "Loading model textattack/roberta-base-rotten-tomatoes...\n"
     ]
    },
    {
     "name": "stderr",
     "output_type": "stream",
     "text": [
      "Some weights of the model checkpoint at textattack/roberta-base-rotten-tomatoes were not used when initializing RobertaForSequenceClassification: ['roberta.pooler.dense.weight', 'roberta.pooler.dense.bias']\n",
      "- This IS expected if you are initializing RobertaForSequenceClassification from the checkpoint of a model trained on another task or with another architecture (e.g. initializing a BertForSequenceClassification model from a BertForPreTraining model).\n",
      "- This IS NOT expected if you are initializing RobertaForSequenceClassification from the checkpoint of a model that you expect to be exactly identical (initializing a BertForSequenceClassification model from a BertForSequenceClassification model).\n"
     ]
    },
    {
     "name": "stdout",
     "output_type": "stream",
     "text": [
      "Loading model textattack/xlnet-base-cased-rotten-tomatoes...\n"
     ]
    }
   ],
   "source": [
    "m0 = load_model(movie_reviews_models['bert'])\n",
    "m1 = load_model(movie_reviews_models['albert'])\n",
    "m2 = load_model(movie_reviews_models['distilbert'])\n",
    "m3 = load_model(movie_reviews_models['roberta'])\n",
    "m4 = load_model(movie_reviews_models['xlnet'])\n",
    "\n",
    "# Models to be used as oracle\n",
    "models_1 = [m1, m2, m3, m4]\n",
    "models_2 = [m0, m2, m3, m4]\n",
    "models_3 = [m0, m1, m3, m4]\n",
    "models_4 = [m0, m1, m2, m4]\n",
    "models_5 = [m0, m1, m2, m3]\n",
    "# Target model\n",
    "model_bert = m0\n",
    "model_albert = m1\n",
    "model_distilbert = m2\n",
    "model_roberta = m3\n",
    "model_xlnet = m4"
   ]
  },
  {
   "cell_type": "markdown",
   "id": "caae89b5",
   "metadata": {},
   "source": [
    "# Gerando os templates\n",
    "O método de rankeamento das palavras usado no PosNegTemplateGenerator é o Replace-1 Score"
   ]
  },
  {
   "cell_type": "code",
   "execution_count": 5,
   "id": "60dc1af3",
   "metadata": {},
   "outputs": [],
   "source": [
    "from template_generator.tasks.sentiment_analisys import PosNegTemplateGeneratorApp1\n",
    "\n",
    "tg0 = PosNegTemplateGeneratorApp1(model_bert, models_1)\n",
    "tg1 = PosNegTemplateGeneratorApp1(model_albert, models_2)\n",
    "tg2 = PosNegTemplateGeneratorApp1(model_distilbert, models_3)\n",
    "tg3 = PosNegTemplateGeneratorApp1(model_roberta, models_4)\n",
    "tg4 = PosNegTemplateGeneratorApp1(model_xlnet, models_5)"
   ]
  },
  {
   "cell_type": "markdown",
   "id": "4f595e69",
   "metadata": {},
   "source": [
    "### Número inicial de instâncias: 5"
   ]
  },
  {
   "cell_type": "code",
   "execution_count": 6,
   "id": "a6261506",
   "metadata": {},
   "outputs": [],
   "source": [
    "# Sampling instances\n",
    "np.random.seed(220)\n",
    "n_instances = 5\n",
    "df_sampled = movie_reviews_rt_df.sample(n_instances)\n",
    "\n",
    "instances = [x for x in df_sampled['text'].values]"
   ]
  },
  {
   "cell_type": "code",
   "execution_count": 7,
   "id": "660add17",
   "metadata": {},
   "outputs": [
    {
     "name": "stdout",
     "output_type": "stream",
     "text": [
      "Ranking words using Replace-1 Score...\n"
     ]
    },
    {
     "name": "stderr",
     "output_type": "stream",
     "text": [
      "<ipython-input-3-263ca9d23a33>:23: UserWarning: Implicit dimension choice for softmax has been deprecated. Change the call to include dim=X as an argument.\n",
      "  prob = softmax(tensor_logits[0]).detach().numpy()\n"
     ]
    },
    {
     "name": "stdout",
     "output_type": "stream",
     "text": [
      "Converting texts to sentences...\n",
      ":: 6 sentences were generated.\n",
      "Filtering instances by contaning ranked words...\n",
      ":: 1 sentences remaining.\n",
      "4\n",
      "Filtering instances by relevant words...\n",
      "['ADJ']\n",
      "{word: future, index: 2, tag: NOUN, rank_score: -0.001435995101928711}\n",
      "{word: for, index: 0, tag: ADP, rank_score: -0.0009976029396057129}\n",
      "{word: hopes, index: 4, tag: VERB, rank_score: -0.00036329030990600586}\n",
      "{word: one, index: 3, tag: NUM, rank_score: -0.0001398324966430664}\n",
      " \n",
      ":: 0 sentences remaining.\n",
      "Predicting inputs...\n",
      ":: Sentence predictions done.\n",
      "Ranking words using Replace-1 Score...\n",
      "Converting texts to sentences...\n",
      ":: 6 sentences were generated.\n",
      "Filtering instances by contaning ranked words...\n",
      ":: 1 sentences remaining.\n",
      "4\n",
      "Filtering instances by relevant words...\n",
      "['ADJ']\n",
      "{word: the, index: 1, tag: DET, rank_score: -0.23128339648246765}\n",
      "{word: for, index: 0, tag: ADP, rank_score: -0.22551000118255615}\n",
      "{word: hopes, index: 4, tag: VERB, rank_score: 0.1844933032989502}\n",
      "{word: future, index: 2, tag: NOUN, rank_score: -0.14136865735054016}\n",
      " \n",
      ":: 0 sentences remaining.\n",
      "Predicting inputs...\n",
      ":: Sentence predictions done.\n",
      "Ranking words using Replace-1 Score...\n",
      "Converting texts to sentences...\n",
      ":: 6 sentences were generated.\n",
      "Filtering instances by contaning ranked words...\n",
      ":: 1 sentences remaining.\n",
      "4\n",
      "Filtering instances by relevant words...\n",
      "['ADJ']\n",
      "{word: room, index: 10, tag: NOUN, rank_score: 0.10690289735794067}\n",
      "{word: professional, index: 20, tag: ADJ, rank_score: -0.0883035659790039}\n",
      "{word: his, index: 16, tag: PRON, rank_score: -0.06256848573684692}\n",
      "{word: screenwriter, index: 21, tag: NOUN, rank_score: 0.06132298707962036}\n",
      " \n",
      ":: 0 sentences remaining.\n",
      "Predicting inputs...\n",
      ":: Sentence predictions done.\n",
      "Ranking words using Replace-1 Score...\n",
      "Converting texts to sentences...\n",
      ":: 6 sentences were generated.\n",
      "Filtering instances by contaning ranked words...\n",
      ":: 1 sentences remaining.\n",
      "4\n",
      "Filtering instances by relevant words...\n",
      "['ADJ']\n",
      "{word: one, index: 3, tag: NUM, rank_score: -0.023299098014831543}\n",
      "{word: future, index: 2, tag: NOUN, rank_score: -0.012972474098205566}\n",
      "{word: hopes, index: 4, tag: VERB, rank_score: -0.009810864925384521}\n",
      "{word: for, index: 0, tag: ADP, rank_score: -0.0068305134773254395}\n",
      " \n",
      ":: 0 sentences remaining.\n",
      "Predicting inputs...\n",
      ":: Sentence predictions done.\n",
      "Ranking words using Replace-1 Score...\n",
      "Converting texts to sentences...\n",
      ":: 6 sentences were generated.\n",
      "Filtering instances by contaning ranked words...\n",
      ":: 1 sentences remaining.\n",
      "4\n",
      "Filtering instances by relevant words...\n",
      "['ADJ']\n",
      "{word: future, index: 2, tag: NOUN, rank_score: -0.3318226933479309}\n",
      "{word: one, index: 3, tag: NUM, rank_score: -0.051098525524139404}\n",
      "{word: mr, index: 5, tag: NOUN, rank_score: -0.037918925285339355}\n",
      "{word: the, index: 1, tag: DET, rank_score: 0.012994766235351562}\n",
      " \n",
      ":: 0 sentences remaining.\n",
      "Predicting inputs...\n",
      ":: Sentence predictions done.\n"
     ]
    }
   ],
   "source": [
    "templates0 = tg0.generate_templates(instances, n_masks=2, ranked_words_count=4)\n",
    "templates1 = tg1.generate_templates(instances, n_masks=2, ranked_words_count=4)\n",
    "templates2 = tg2.generate_templates(instances, n_masks=2, ranked_words_count=4)\n",
    "templates3 = tg3.generate_templates(instances, n_masks=2, ranked_words_count=4)\n",
    "templates4 = tg4.generate_templates(instances, n_masks=2, ranked_words_count=4)"
   ]
  },
  {
   "cell_type": "markdown",
   "id": "72d150cb",
   "metadata": {},
   "source": [
    "#### Tempo de execução para 5 instâncias: 9.7s"
   ]
  },
  {
   "cell_type": "code",
   "execution_count": 8,
   "id": "193f1b65",
   "metadata": {},
   "outputs": [
    {
     "data": {
      "text/html": [
       "<div>\n",
       "<style scoped>\n",
       "    .dataframe tbody tr th:only-of-type {\n",
       "        vertical-align: middle;\n",
       "    }\n",
       "\n",
       "    .dataframe tbody tr th {\n",
       "        vertical-align: top;\n",
       "    }\n",
       "\n",
       "    .dataframe thead th {\n",
       "        text-align: right;\n",
       "    }\n",
       "</style>\n",
       "<table border=\"1\" class=\"dataframe\">\n",
       "  <thead>\n",
       "    <tr style=\"text-align: right;\">\n",
       "      <th></th>\n",
       "      <th>label</th>\n",
       "      <th>original_text</th>\n",
       "      <th>masked_text</th>\n",
       "      <th>template_text</th>\n",
       "    </tr>\n",
       "  </thead>\n",
       "  <tbody>\n",
       "  </tbody>\n",
       "</table>\n",
       "</div>"
      ],
      "text/plain": [
       "Empty DataFrame\n",
       "Columns: [label, original_text, masked_text, template_text]\n",
       "Index: []"
      ]
     },
     "execution_count": 8,
     "metadata": {},
     "output_type": "execute_result"
    }
   ],
   "source": [
    "df0 = tg0.to_dataframe()\n",
    "df0"
   ]
  },
  {
   "cell_type": "code",
   "execution_count": 9,
   "id": "017b4c99",
   "metadata": {},
   "outputs": [
    {
     "data": {
      "text/html": [
       "<div>\n",
       "<style scoped>\n",
       "    .dataframe tbody tr th:only-of-type {\n",
       "        vertical-align: middle;\n",
       "    }\n",
       "\n",
       "    .dataframe tbody tr th {\n",
       "        vertical-align: top;\n",
       "    }\n",
       "\n",
       "    .dataframe thead th {\n",
       "        text-align: right;\n",
       "    }\n",
       "</style>\n",
       "<table border=\"1\" class=\"dataframe\">\n",
       "  <thead>\n",
       "    <tr style=\"text-align: right;\">\n",
       "      <th></th>\n",
       "      <th>label</th>\n",
       "      <th>original_text</th>\n",
       "      <th>masked_text</th>\n",
       "      <th>template_text</th>\n",
       "    </tr>\n",
       "  </thead>\n",
       "  <tbody>\n",
       "  </tbody>\n",
       "</table>\n",
       "</div>"
      ],
      "text/plain": [
       "Empty DataFrame\n",
       "Columns: [label, original_text, masked_text, template_text]\n",
       "Index: []"
      ]
     },
     "execution_count": 9,
     "metadata": {},
     "output_type": "execute_result"
    }
   ],
   "source": [
    "df1 = tg1.to_dataframe()\n",
    "df1"
   ]
  },
  {
   "cell_type": "code",
   "execution_count": 10,
   "id": "1b38f51f",
   "metadata": {},
   "outputs": [
    {
     "data": {
      "text/html": [
       "<div>\n",
       "<style scoped>\n",
       "    .dataframe tbody tr th:only-of-type {\n",
       "        vertical-align: middle;\n",
       "    }\n",
       "\n",
       "    .dataframe tbody tr th {\n",
       "        vertical-align: top;\n",
       "    }\n",
       "\n",
       "    .dataframe thead th {\n",
       "        text-align: right;\n",
       "    }\n",
       "</style>\n",
       "<table border=\"1\" class=\"dataframe\">\n",
       "  <thead>\n",
       "    <tr style=\"text-align: right;\">\n",
       "      <th></th>\n",
       "      <th>label</th>\n",
       "      <th>original_text</th>\n",
       "      <th>masked_text</th>\n",
       "      <th>template_text</th>\n",
       "    </tr>\n",
       "  </thead>\n",
       "  <tbody>\n",
       "  </tbody>\n",
       "</table>\n",
       "</div>"
      ],
      "text/plain": [
       "Empty DataFrame\n",
       "Columns: [label, original_text, masked_text, template_text]\n",
       "Index: []"
      ]
     },
     "execution_count": 10,
     "metadata": {},
     "output_type": "execute_result"
    }
   ],
   "source": [
    "df2 = tg2.to_dataframe()\n",
    "df2"
   ]
  },
  {
   "cell_type": "code",
   "execution_count": 11,
   "id": "c5d2a120",
   "metadata": {},
   "outputs": [
    {
     "data": {
      "text/html": [
       "<div>\n",
       "<style scoped>\n",
       "    .dataframe tbody tr th:only-of-type {\n",
       "        vertical-align: middle;\n",
       "    }\n",
       "\n",
       "    .dataframe tbody tr th {\n",
       "        vertical-align: top;\n",
       "    }\n",
       "\n",
       "    .dataframe thead th {\n",
       "        text-align: right;\n",
       "    }\n",
       "</style>\n",
       "<table border=\"1\" class=\"dataframe\">\n",
       "  <thead>\n",
       "    <tr style=\"text-align: right;\">\n",
       "      <th></th>\n",
       "      <th>label</th>\n",
       "      <th>original_text</th>\n",
       "      <th>masked_text</th>\n",
       "      <th>template_text</th>\n",
       "    </tr>\n",
       "  </thead>\n",
       "  <tbody>\n",
       "  </tbody>\n",
       "</table>\n",
       "</div>"
      ],
      "text/plain": [
       "Empty DataFrame\n",
       "Columns: [label, original_text, masked_text, template_text]\n",
       "Index: []"
      ]
     },
     "execution_count": 11,
     "metadata": {},
     "output_type": "execute_result"
    }
   ],
   "source": [
    "df3 = tg3.to_dataframe()\n",
    "df3"
   ]
  },
  {
   "cell_type": "code",
   "execution_count": 12,
   "metadata": {},
   "outputs": [
    {
     "data": {
      "text/html": [
       "<div>\n",
       "<style scoped>\n",
       "    .dataframe tbody tr th:only-of-type {\n",
       "        vertical-align: middle;\n",
       "    }\n",
       "\n",
       "    .dataframe tbody tr th {\n",
       "        vertical-align: top;\n",
       "    }\n",
       "\n",
       "    .dataframe thead th {\n",
       "        text-align: right;\n",
       "    }\n",
       "</style>\n",
       "<table border=\"1\" class=\"dataframe\">\n",
       "  <thead>\n",
       "    <tr style=\"text-align: right;\">\n",
       "      <th></th>\n",
       "      <th>label</th>\n",
       "      <th>original_text</th>\n",
       "      <th>masked_text</th>\n",
       "      <th>template_text</th>\n",
       "    </tr>\n",
       "  </thead>\n",
       "  <tbody>\n",
       "  </tbody>\n",
       "</table>\n",
       "</div>"
      ],
      "text/plain": [
       "Empty DataFrame\n",
       "Columns: [label, original_text, masked_text, template_text]\n",
       "Index: []"
      ]
     },
     "execution_count": 12,
     "metadata": {},
     "output_type": "execute_result"
    }
   ],
   "source": [
    "df4 = tg4.to_dataframe()\n",
    "df4"
   ]
  },
  {
   "cell_type": "code",
   "execution_count": 13,
   "id": "7f98d8ba",
   "metadata": {},
   "outputs": [
    {
     "data": {
      "text/plain": [
       "{'pos_adj': [], 'neg_adj': []}"
      ]
     },
     "execution_count": 13,
     "metadata": {},
     "output_type": "execute_result"
    }
   ],
   "source": [
    "tg0.lexicons"
   ]
  },
  {
   "cell_type": "code",
   "execution_count": 14,
   "id": "0c2d142a",
   "metadata": {},
   "outputs": [
    {
     "data": {
      "text/plain": [
       "{'pos_adj': [], 'neg_adj': []}"
      ]
     },
     "execution_count": 14,
     "metadata": {},
     "output_type": "execute_result"
    }
   ],
   "source": [
    "tg1.lexicons"
   ]
  },
  {
   "cell_type": "code",
   "execution_count": 15,
   "id": "4826e528",
   "metadata": {},
   "outputs": [
    {
     "data": {
      "text/plain": [
       "{'pos_adj': [], 'neg_adj': []}"
      ]
     },
     "execution_count": 15,
     "metadata": {},
     "output_type": "execute_result"
    }
   ],
   "source": [
    "tg2.lexicons"
   ]
  },
  {
   "cell_type": "code",
   "execution_count": 16,
   "metadata": {},
   "outputs": [
    {
     "data": {
      "text/plain": [
       "{'pos_adj': [], 'neg_adj': []}"
      ]
     },
     "execution_count": 16,
     "metadata": {},
     "output_type": "execute_result"
    }
   ],
   "source": [
    "tg3.lexicons"
   ]
  },
  {
   "cell_type": "code",
   "execution_count": 17,
   "metadata": {},
   "outputs": [
    {
     "data": {
      "text/plain": [
       "{'pos_adj': [], 'neg_adj': []}"
      ]
     },
     "execution_count": 17,
     "metadata": {},
     "output_type": "execute_result"
    }
   ],
   "source": [
    "tg4.lexicons"
   ]
  },
  {
   "cell_type": "markdown",
   "id": "01a27f1f",
   "metadata": {},
   "source": [
    "### Número inicial de instâncias: 100"
   ]
  },
  {
   "cell_type": "code",
   "execution_count": 18,
   "id": "cd4a7fe3",
   "metadata": {},
   "outputs": [],
   "source": [
    "# Using all 100 instances\n",
    "instances = [x for x in movie_reviews_rt_df['text'].values]"
   ]
  },
  {
   "cell_type": "code",
   "execution_count": 19,
   "id": "f1f3f383",
   "metadata": {},
   "outputs": [
    {
     "name": "stdout",
     "output_type": "stream",
     "text": [
      "Ranking words using Replace-1 Score...\n"
     ]
    },
    {
     "name": "stderr",
     "output_type": "stream",
     "text": [
      "<ipython-input-3-263ca9d23a33>:23: UserWarning: Implicit dimension choice for softmax has been deprecated. Change the call to include dim=X as an argument.\n",
      "  prob = softmax(tensor_logits[0]).detach().numpy()\n"
     ]
    },
    {
     "name": "stdout",
     "output_type": "stream",
     "text": [
      "Converting texts to sentences...\n",
      ":: 134 sentences were generated.\n",
      "Filtering instances by contaning ranked words...\n",
      ":: 23 sentences remaining.\n",
      "4\n",
      "Filtering instances by relevant words...\n",
      "['ADJ']\n",
      "{word: well-made, index: 5, tag: ADJ, rank_score: -0.0003566145896911621}\n",
      "{word: clunker, index: 11, tag: NOUN, rank_score: -0.00032889842987060547}\n",
      "{word: clunker, index: 8, tag: NOUN, rank_score: 0.00023746490478515625}\n",
      "{word: thoughtful, index: 6, tag: ADJ, rank_score: -0.00020372867584228516}\n",
      " \n",
      "['ADJ']\n",
      "{word: and, index: 7, tag: CONJ, rank_score: -0.40014511346817017}\n",
      "{word: this, index: 9, tag: DET, rank_score: -0.3538123369216919}\n",
      "{word: regard, index: 10, tag: NOUN, rank_score: -0.012109756469726562}\n",
      "{word: guard, index: 12, tag: NOUN, rank_score: 0.0036880970001220703}\n",
      " \n",
      "['ADJ']\n",
      "{word: bad, index: 7, tag: ADJ, rank_score: -0.014482975006103516}\n",
      "{word: trailers, index: 10, tag: NOUN, rank_score: -0.007329761981964111}\n",
      "{word: as, index: 6, tag: ADV, rank_score: -0.0021179914474487305}\n",
      "{word: could, index: 0, tag: VERB, rank_score: 0.0005402565002441406}\n",
      " \n",
      "['ADJ']\n",
      "{word: pauly, index: 9, tag: ADV, rank_score: 0.0012099742889404297}\n",
      "{word: ., index: 12, tag: ., rank_score: 0.0011734366416931152}\n",
      "{word: shore, index: 10, tag: ADJ, rank_score: 0.0011513233184814453}\n",
      "{word: 's, index: 8, tag: VERB, rank_score: 0.0010903477668762207}\n",
      " \n",
      "['ADJ']\n",
      "{word: do, index: 13, tag: VERB, rank_score: 0.0012073516845703125}\n",
      "{word: you, index: 16, tag: PRON, rank_score: 0.0011971592903137207}\n",
      "{word: ., index: 20, tag: ., rank_score: 0.0011734366416931152}\n",
      "{word: were, index: 17, tag: VERB, rank_score: 0.001150369644165039}\n",
      " \n",
      "['ADJ']\n",
      "{word: love, index: 17, tag: VERB, rank_score: -0.01655733585357666}\n",
      "{word: you, index: 14, tag: PRON, rank_score: -0.0027562379837036133}\n",
      "{word: 'll, index: 15, tag: VERB, rank_score: -0.002101004123687744}\n",
      "{word: probably, index: 16, tag: ADV, rank_score: 0.0013809800148010254}\n",
      " \n",
      "['ADJ']\n",
      "{word: marks, index: 15, tag: NOUN, rank_score: -0.8471351265907288}\n",
      "{word: hits, index: 11, tag: VERB, rank_score: -0.3974180221557617}\n",
      "{word: it, index: 16, tag: PRON, rank_score: -0.0462687611579895}\n",
      "{word: should, index: 17, tag: VERB, rank_score: -0.028089284896850586}\n",
      " \n",
      "['ADJ']\n",
      "{word: and, index: 7, tag: CONJ, rank_score: -0.0007128715515136719}\n",
      "{word: vengeance, index: 17, tag: NOUN, rank_score: -0.00013494491577148438}\n",
      "{word: monsters, index: 12, tag: NOUN, rank_score: -0.00012129545211791992}\n",
      "{word: scary, index: 8, tag: ADJ, rank_score: -6.514787673950195e-05}\n",
      " \n",
      "['ADJ']\n",
      "{word: future, index: 2, tag: NOUN, rank_score: -0.001435995101928711}\n",
      "{word: for, index: 0, tag: ADP, rank_score: -0.0009976029396057129}\n",
      "{word: hopes, index: 4, tag: VERB, rank_score: -0.00036329030990600586}\n",
      "{word: one, index: 3, tag: NUM, rank_score: -0.0001398324966430664}\n",
      " \n",
      "['ADJ']\n",
      "{word: nothing, index: 20, tag: NOUN, rank_score: -0.9948995113372803}\n",
      "{word: in, index: 16, tag: ADP, rank_score: -0.0006541013717651367}\n",
      "{word: and, index: 13, tag: CONJ, rank_score: -0.0005652904510498047}\n",
      "{word: end, index: 18, tag: NOUN, rank_score: -0.0003898739814758301}\n",
      " \n",
      "['ADJ']\n",
      "{word: peek, index: 10, tag: NOUN, rank_score: -0.0011954307556152344}\n",
      "{word: portrait, index: 4, tag: NOUN, rank_score: -0.0005932450294494629}\n",
      "{word: than, index: 1, tag: ADP, rank_score: -0.0005562305450439453}\n",
      "{word: revolution, index: 15, tag: NOUN, rank_score: -0.00048214197158813477}\n",
      " \n",
      "['ADJ']\n",
      "{word: charming, index: 21, tag: ADJ, rank_score: -0.002509474754333496}\n",
      "{word: result, index: 22, tag: NOUN, rank_score: -0.0006540417671203613}\n",
      "{word: festival, index: 24, tag: ADJ, rank_score: -0.0005971789360046387}\n",
      "{word: the, index: 20, tag: DET, rank_score: -0.0004910826683044434}\n",
      " \n",
      "['ADJ']\n",
      "{word: pseudo-sophisticated, index: 9, tag: ADJ, rank_score: -0.006529808044433594}\n",
      "{word: patter, index: 7, tag: NOUN, rank_score: -0.001844167709350586}\n",
      "{word: and, index: 8, tag: CONJ, rank_score: -0.0005475878715515137}\n",
      "{word: remainder, index: 14, tag: NOUN, rank_score: -0.0005347728729248047}\n",
      " \n",
      "['ADJ']\n",
      "{word: as, index: 5, tag: ADP, rank_score: 0.015544414520263672}\n",
      "{word: not, index: 0, tag: ADV, rank_score: 0.015025615692138672}\n",
      "{word: much, index: 2, tag: ADV, rank_score: 0.014945447444915771}\n",
      "{word: picture, index: 7, tag: NOUN, rank_score: 0.01477062702178955}\n",
      " \n",
      "['ADJ']\n",
      "{word: which, index: 9, tag: DET, rank_score: -6.35981559753418e-05}\n",
      "{word: incoherent, index: 2, tag: NOUN, rank_score: 2.3484230041503906e-05}\n",
      "{word: self-indulgent, index: 3, tag: ADJ, rank_score: -1.4901161193847656e-05}\n",
      "{word: two, index: 19, tag: NUM, rank_score: -1.1682510375976562e-05}\n",
      " \n",
      "['ADJ']\n",
      "{word: pretentious, index: 27, tag: ADJ, rank_score: -2.777576446533203e-05}\n",
      "{word: of, index: 26, tag: ADP, rank_score: 1.8477439880371094e-05}\n",
      "{word: meaningless, index: 28, tag: NOUN, rank_score: -1.4901161193847656e-05}\n",
      "{word: a, index: 24, tag: DET, rank_score: -1.3470649719238281e-05}\n",
      " \n",
      "['ADJ']\n",
      "{word: love, index: 20, tag: NOUN, rank_score: -0.5950095653533936}\n",
      "{word: with, index: 16, tag: ADP, rank_score: -0.5302603244781494}\n",
      "{word: his, index: 24, tag: PRON, rank_score: -0.23003166913986206}\n",
      "{word: deal, index: 15, tag: NOUN, rank_score: -0.11308050155639648}\n",
      " \n",
      "['ADJ']\n",
      "{word: lost, index: 35, tag: VERB, rank_score: -0.9756104946136475}\n",
      "{word: but, index: 16, tag: CONJ, rank_score: -0.008833527565002441}\n",
      "{word: velma, index: 30, tag: NOUN, rank_score: -0.0020632147789001465}\n",
      "{word: 're, index: 19, tag: VERB, rank_score: -0.0013200640678405762}\n",
      " \n",
      "['ADJ']\n",
      "{word: industry, index: 18, tag: NOUN, rank_score: -0.002203822135925293}\n",
      "{word: inspiring, index: 6, tag: VERB, rank_score: -0.0015737414360046387}\n",
      "{word: ridiculous, index: 13, tag: ADJ, rank_score: 0.001466214656829834}\n",
      "{word: how, index: 12, tag: ADV, rank_score: -0.001256704330444336}\n",
      " \n",
      "['ADJ']\n",
      "{word: testament, index: 26, tag: NOUN, rank_score: 0.0012981891632080078}\n",
      "{word: band, index: 34, tag: NOUN, rank_score: -0.00041866302490234375}\n",
      "{word: it, index: 22, tag: PRON, rank_score: -0.0004023909568786621}\n",
      "{word: is, index: 23, tag: VERB, rank_score: 0.00026917457580566406}\n",
      " \n",
      "['ADJ']\n",
      "{word: reveals, index: 0, tag: NOUN, rank_score: -0.0003070831298828125}\n",
      "{word: others, index: 14, tag: NOUN, rank_score: 5.882978439331055e-05}\n",
      "{word: important, index: 2, tag: ADJ, rank_score: 5.5730342864990234e-05}\n",
      "{word: how, index: 1, tag: ADV, rank_score: -5.40614128112793e-05}\n",
      " \n",
      "['ADJ']\n",
      "{word: whereas, index: 0, tag: ADP, rank_score: -0.005041718482971191}\n",
      "{word: cletis, index: 25, tag: NOUN, rank_score: -0.0001786351203918457}\n",
      "{word: such, index: 6, tag: ADJ, rank_score: -0.00015491247177124023}\n",
      "{word: tout, index: 26, tag: NOUN, rank_score: -0.00014847517013549805}\n",
      " \n",
      "['ADJ']\n",
      "{word: movie, index: 31, tag: NOUN, rank_score: -0.002926051616668701}\n",
      "{word: an, index: 45, tag: DET, rank_score: -0.0015833377838134766}\n",
      "{word: eat, index: 48, tag: VERB, rank_score: -0.0011666417121887207}\n",
      "{word: to, index: 47, tag: PRT, rank_score: -0.001161038875579834}\n",
      " \n",
      ":: 2 sentences remaining.\n",
      "Predicting inputs...\n",
      ":: Sentence predictions done.\n"
     ]
    }
   ],
   "source": [
    "tg0 = PosNegTemplateGeneratorApp1(model_bert, models_1)\n",
    "tg1 = PosNegTemplateGeneratorApp1(model_albert, models_2)\n",
    "tg2 = PosNegTemplateGeneratorApp1(model_distilbert, models_3)\n",
    "tg3 = PosNegTemplateGeneratorApp1(model_roberta, models_4)\n",
    "tg4 = PosNegTemplateGeneratorApp1(model_xlnet, models_5)\n",
    "\n",
    "templates0 = tg0.generate_templates(instances, n_masks=2, ranked_words_count=4)"
   ]
  },
  {
   "cell_type": "code",
   "execution_count": 20,
   "id": "8a0409fc",
   "metadata": {},
   "outputs": [
    {
     "name": "stdout",
     "output_type": "stream",
     "text": [
      "Ranking words using Replace-1 Score...\n"
     ]
    },
    {
     "name": "stderr",
     "output_type": "stream",
     "text": [
      "<ipython-input-3-263ca9d23a33>:23: UserWarning: Implicit dimension choice for softmax has been deprecated. Change the call to include dim=X as an argument.\n",
      "  prob = softmax(tensor_logits[0]).detach().numpy()\n"
     ]
    },
    {
     "name": "stdout",
     "output_type": "stream",
     "text": [
      "Converting texts to sentences...\n",
      ":: 134 sentences were generated.\n",
      "Filtering instances by contaning ranked words...\n",
      ":: 24 sentences remaining.\n",
      "4\n",
      "Filtering instances by relevant words...\n",
      "['ADJ']\n",
      "{word: clunker, index: 11, tag: NOUN, rank_score: -0.06854057312011719}\n",
      "{word: nonetheless, index: 12, tag: ADV, rank_score: -0.012639641761779785}\n",
      "{word: clunker, index: 8, tag: NOUN, rank_score: 0.007877051830291748}\n",
      "{word: but, index: 9, tag: CONJ, rank_score: -0.006553947925567627}\n",
      " \n",
      "['ADJ']\n",
      "{word: delivers, index: 13, tag: NOUN, rank_score: -0.4280174970626831}\n",
      "{word: and, index: 7, tag: CONJ, rank_score: -0.17287731170654297}\n",
      "{word: this, index: 9, tag: DET, rank_score: -0.16363215446472168}\n",
      "{word: regard, index: 10, tag: NOUN, rank_score: -0.071982741355896}\n",
      " \n",
      "['ADJ']\n",
      "{word: as, index: 6, tag: ADV, rank_score: -0.05069446563720703}\n",
      "{word: trailers, index: 10, tag: NOUN, rank_score: -0.036840617656707764}\n",
      "{word: bad, index: 7, tag: ADJ, rank_score: -0.030507028102874756}\n",
      "{word: could, index: 0, tag: VERB, rank_score: -0.01922231912612915}\n",
      " \n",
      "['ADJ']\n",
      "{word: master, index: 1, tag: NOUN, rank_score: 0.043497562408447266}\n",
      "{word: of, index: 2, tag: ADP, rank_score: 0.03964740037918091}\n",
      "{word: disguise, index: 3, tag: NOUN, rank_score: -0.02884882688522339}\n",
      "{word: ., index: 6, tag: ., rank_score: 0.02717602252960205}\n",
      " \n",
      "['ADJ']\n",
      "{word: awful, index: 11, tag: NOUN, rank_score: 0.05872005224227905}\n",
      "{word: shore, index: 10, tag: ADJ, rank_score: 0.031729280948638916}\n",
      "{word: ., index: 12, tag: ., rank_score: 0.02717602252960205}\n",
      "{word: it, index: 7, tag: PRON, rank_score: 0.02508711814880371}\n",
      " \n",
      "['ADJ']\n",
      "{word: if, index: 0, tag: ADP, rank_score: -0.09837967157363892}\n",
      "{word: you, index: 1, tag: PRON, rank_score: -0.02752310037612915}\n",
      "{word: check, index: 10, tag: VERB, rank_score: -0.023233354091644287}\n",
      "{word: love, index: 2, tag: VERB, rank_score: -0.022351622581481934}\n",
      " \n",
      "['ADJ']\n",
      "{word: all, index: 12, tag: DET, rank_score: -0.20041364431381226}\n",
      "{word: marks, index: 15, tag: NOUN, rank_score: -0.14996850490570068}\n",
      "{word: verbal, index: 14, tag: ADJ, rank_score: -0.13530594110488892}\n",
      "{word: it, index: 16, tag: PRON, rank_score: 0.07679587602615356}\n",
      " \n",
      "['ADJ']\n",
      "{word: and, index: 15, tag: CONJ, rank_score: -0.09073513746261597}\n",
      "{word: and, index: 7, tag: CONJ, rank_score: -0.07736146450042725}\n",
      "{word: scary, index: 8, tag: ADJ, rank_score: -0.04838532209396362}\n",
      "{word: old, index: 6, tag: ADJ, rank_score: 0.03897958993911743}\n",
      " \n",
      "['ADJ']\n",
      "{word: the, index: 1, tag: DET, rank_score: -0.23128339648246765}\n",
      "{word: for, index: 0, tag: ADP, rank_score: -0.22551000118255615}\n",
      "{word: hopes, index: 4, tag: VERB, rank_score: 0.1844933032989502}\n",
      "{word: future, index: 2, tag: NOUN, rank_score: -0.14136865735054016}\n",
      " \n",
      "['ADJ']\n",
      "{word: nothing, index: 20, tag: NOUN, rank_score: -0.5501159429550171}\n",
      "{word: new, index: 21, tag: ADJ, rank_score: -0.5049421787261963}\n",
      "{word: and, index: 13, tag: CONJ, rank_score: -0.07273578643798828}\n",
      "{word: end, index: 18, tag: NOUN, rank_score: -0.05675584077835083}\n",
      " \n",
      "['ADJ']\n",
      "{word: portrait, index: 4, tag: NOUN, rank_score: -0.11143207550048828}\n",
      "{word: into, index: 11, tag: ADP, rank_score: -0.10766881704330444}\n",
      "{word: this, index: 9, tag: DET, rank_score: -0.10725092887878418}\n",
      "{word: as, index: 20, tag: ADP, rank_score: 0.07453125715255737}\n",
      " \n",
      "['ADJ']\n",
      "{word: charming, index: 21, tag: ADJ, rank_score: -0.15930259227752686}\n",
      "{word: result, index: 22, tag: NOUN, rank_score: -0.10169225931167603}\n",
      "{word: the, index: 20, tag: DET, rank_score: -0.03614383935928345}\n",
      "{word: cannes, index: 26, tag: NOUN, rank_score: -0.019165217876434326}\n",
      " \n",
      "['ADJ']\n",
      "{word: half, index: 0, tag: NOUN, rank_score: -0.01363670825958252}\n",
      "{word: while, index: 12, tag: ADP, rank_score: -0.00851207971572876}\n",
      "{word: of, index: 5, tag: ADP, rank_score: -0.0050697922706604}\n",
      "{word: and, index: 8, tag: CONJ, rank_score: -0.004726886749267578}\n",
      " \n",
      "['ADJ']\n",
      "{word: would, index: 18, tag: VERB, rank_score: -0.021538138389587402}\n",
      "{word: more, index: 20, tag: ADJ, rank_score: -0.00831913948059082}\n",
      "{word: serial, index: 27, tag: NOUN, rank_score: -0.005995571613311768}\n",
      "{word: television, index: 26, tag: NOUN, rank_score: -0.0040659308433532715}\n",
      " \n",
      "['ADJ']\n",
      "{word: enjoyed, index: 24, tag: VERB, rank_score: -0.18862104415893555}\n",
      "{word: still, index: 22, tag: ADV, rank_score: -0.15797263383865356}\n",
      "{word: enough, index: 26, tag: ADJ, rank_score: 0.15040987730026245}\n",
      "{word: i, index: 23, tag: VERB, rank_score: -0.10728144645690918}\n",
      " \n",
      "['ADJ']\n",
      "{word: of, index: 5, tag: ADP, rank_score: -0.018392086029052734}\n",
      "{word: drone, index: 15, tag: NOUN, rank_score: -0.011256277561187744}\n",
      "{word: movie, index: 7, tag: NOUN, rank_score: -0.007247865200042725}\n",
      "{word: which, index: 9, tag: DET, rank_score: -0.005647420883178711}\n",
      " \n",
      "['ADJ']\n",
      "{word: prattle, index: 29, tag: NOUN, rank_score: 0.007314324378967285}\n",
      "{word: cacophony, index: 25, tag: NOUN, rank_score: 0.004386007785797119}\n",
      "{word: of, index: 26, tag: ADP, rank_score: -0.00312042236328125}\n",
      "{word: pretentious, index: 27, tag: ADJ, rank_score: 0.002852201461791992}\n",
      " \n",
      "['ADJ']\n",
      "{word: a, index: 29, tag: DET, rank_score: 0.24940109252929688}\n",
      "{word: his, index: 24, tag: PRON, rank_score: 0.1916680932044983}\n",
      "{word: and, index: 28, tag: CONJ, rank_score: 0.1686421036720276}\n",
      "{word: trading, index: 22, tag: NOUN, rank_score: -0.1633177101612091}\n",
      " \n",
      "['ADJ']\n",
      "{word: and, index: 4, tag: CONJ, rank_score: -0.19249659776687622}\n",
      "{word: great, index: 13, tag: ADJ, rank_score: -0.0846564769744873}\n",
      "{word: look, index: 10, tag: VERB, rank_score: -0.06841307878494263}\n",
      "{word: you, index: 8, tag: PRON, rank_score: 0.04697597026824951}\n",
      " \n",
      "['ADJ']\n",
      "{word: inspiring, index: 6, tag: VERB, rank_score: -0.010636508464813232}\n",
      "{word: ridiculous, index: 13, tag: ADJ, rank_score: 0.008065521717071533}\n",
      "{word: is, index: 5, tag: VERB, rank_score: -0.007634401321411133}\n",
      "{word: and, index: 8, tag: CONJ, rank_score: -0.006757020950317383}\n",
      " \n",
      "['ADJ']\n",
      "{word: the, index: 33, tag: DET, rank_score: 0.02568221092224121}\n",
      "{word: to, index: 27, tag: PRT, rank_score: -0.011805713176727295}\n",
      "{word: integrity, index: 29, tag: NOUN, rank_score: -0.00884699821472168}\n",
      "{word: is, index: 23, tag: VERB, rank_score: -0.007871270179748535}\n",
      " \n",
      "['ADJ']\n",
      "{word: how, index: 1, tag: ADV, rank_score: -0.005712330341339111}\n",
      "{word: reveals, index: 0, tag: NOUN, rank_score: -0.0038573741912841797}\n",
      "{word: can, index: 6, tag: VERB, rank_score: -0.0009548664093017578}\n",
      "{word: when, index: 8, tag: ADV, rank_score: -0.0008420348167419434}\n",
      " \n",
      "['ADJ']\n",
      "{word: whereas, index: 0, tag: ADP, rank_score: -0.2829574942588806}\n",
      "{word: sardonic, index: 15, tag: ADJ, rank_score: -0.04412567615509033}\n",
      "{word: the, index: 1, tag: DET, rank_score: 0.021833419799804688}\n",
      "{word: films, index: 5, tag: NOUN, rank_score: 0.020810961723327637}\n",
      " \n",
      "['ADJ']\n",
      "{word: pleasant, index: 39, tag: ADJ, rank_score: -0.5369194746017456}\n",
      "{word: is, index: 33, tag: VERB, rank_score: -0.2009892463684082}\n",
      "{word: a, index: 38, tag: DET, rank_score: -0.17146462202072144}\n",
      "{word: is, index: 29, tag: VERB, rank_score: -0.05788135528564453}\n",
      " \n",
      ":: 1 sentences remaining.\n",
      "Predicting inputs...\n",
      ":: Sentence predictions done.\n"
     ]
    }
   ],
   "source": [
    "templates1 = tg1.generate_templates(instances, n_masks=2, ranked_words_count=4)"
   ]
  },
  {
   "cell_type": "code",
   "execution_count": 21,
   "id": "1c3f5410",
   "metadata": {},
   "outputs": [
    {
     "name": "stdout",
     "output_type": "stream",
     "text": [
      "Ranking words using Replace-1 Score...\n"
     ]
    },
    {
     "name": "stderr",
     "output_type": "stream",
     "text": [
      "<ipython-input-3-263ca9d23a33>:23: UserWarning: Implicit dimension choice for softmax has been deprecated. Change the call to include dim=X as an argument.\n",
      "  prob = softmax(tensor_logits[0]).detach().numpy()\n"
     ]
    },
    {
     "name": "stdout",
     "output_type": "stream",
     "text": [
      "Converting texts to sentences...\n",
      ":: 134 sentences were generated.\n",
      "Filtering instances by contaning ranked words...\n",
      ":: 24 sentences remaining.\n",
      "4\n",
      "Filtering instances by relevant words...\n",
      "['ADJ']\n",
      "{word: thoughtful, index: 6, tag: ADJ, rank_score: -0.183561772108078}\n",
      "{word: nonetheless, index: 12, tag: ADV, rank_score: -0.18268129229545593}\n",
      "{word: clunker, index: 11, tag: NOUN, rank_score: 0.17087829113006592}\n",
      "{word: but, index: 9, tag: CONJ, rank_score: 0.17018675804138184}\n",
      " \n",
      "['ADJ']\n",
      "{word: and, index: 7, tag: CONJ, rank_score: -0.4269503653049469}\n",
      "{word: this, index: 9, tag: DET, rank_score: -0.35293877124786377}\n",
      "{word: delivers, index: 13, tag: NOUN, rank_score: -0.16643232107162476}\n",
      "{word: regard, index: 10, tag: NOUN, rank_score: -0.10821014642715454}\n",
      " \n",
      "['ADJ']\n",
      "{word: bad, index: 7, tag: ADJ, rank_score: -0.13954830169677734}\n",
      "{word: could, index: 0, tag: VERB, rank_score: 0.051245808601379395}\n",
      "{word: trailers, index: 10, tag: NOUN, rank_score: -0.026774048805236816}\n",
      "{word: be, index: 5, tag: VERB, rank_score: 0.012921333312988281}\n",
      " \n",
      "['ADJ']\n",
      "{word: shore, index: 10, tag: ADJ, rank_score: 0.1320367455482483}\n",
      "{word: pauly, index: 9, tag: ADV, rank_score: 0.13108187913894653}\n",
      "{word: 's, index: 8, tag: VERB, rank_score: 0.1302337646484375}\n",
      "{word: it, index: 7, tag: PRON, rank_score: 0.12717372179031372}\n",
      " \n",
      "['ADJ']\n",
      "{word: you, index: 16, tag: PRON, rank_score: 0.14226675033569336}\n",
      "{word: were, index: 17, tag: VERB, rank_score: 0.13062351942062378}\n",
      "{word: say, index: 15, tag: VERB, rank_score: 0.12990254163742065}\n",
      "{word: ., index: 20, tag: ., rank_score: 0.12687700986862183}\n",
      " \n",
      "['ADJ']\n",
      "{word: love, index: 17, tag: VERB, rank_score: -0.22571063041687012}\n",
      "{word: probably, index: 16, tag: ADV, rank_score: 0.161776602268219}\n",
      "{word: you, index: 14, tag: PRON, rank_score: -0.04465121030807495}\n",
      "{word: it, index: 18, tag: PRON, rank_score: -0.04218953847885132}\n",
      " \n",
      "['ADJ']\n",
      "{word: notorious, index: 4, tag: ADJ, rank_score: -0.24871712923049927}\n",
      "{word: go, index: 3, tag: VERB, rank_score: -0.10812985897064209}\n",
      "{word: as, index: 0, tag: ADP, rank_score: -0.09325402975082397}\n",
      "{word: spotlights, index: 2, tag: NOUN, rank_score: 0.029530346393585205}\n",
      " \n",
      "['ADJ']\n",
      "{word: and, index: 7, tag: CONJ, rank_score: -0.23825639486312866}\n",
      "{word: story, index: 4, tag: NOUN, rank_score: -0.2354474663734436}\n",
      "{word: and, index: 15, tag: CONJ, rank_score: -0.11025494337081909}\n",
      "{word: a, index: 3, tag: DET, rank_score: -0.09879940748214722}\n",
      " \n",
      "['ADJ']\n",
      "{word: room, index: 10, tag: NOUN, rank_score: 0.10690289735794067}\n",
      "{word: professional, index: 20, tag: ADJ, rank_score: -0.0883035659790039}\n",
      "{word: his, index: 16, tag: PRON, rank_score: -0.06256848573684692}\n",
      "{word: screenwriter, index: 21, tag: NOUN, rank_score: 0.06132298707962036}\n",
      " \n",
      "['ADJ']\n",
      "{word: nothing, index: 20, tag: NOUN, rank_score: -0.7999445199966431}\n",
      "{word: end, index: 18, tag: NOUN, rank_score: -0.13702887296676636}\n",
      "{word: is, index: 19, tag: VERB, rank_score: -0.11979168653488159}\n",
      "{word: the, index: 14, tag: DET, rank_score: -0.08838313817977905}\n",
      " \n",
      "['ADJ']\n",
      "{word: a, index: 17, tag: DET, rank_score: -0.10407805442810059}\n",
      "{word: revolution, index: 15, tag: NOUN, rank_score: -0.095955491065979}\n",
      "{word: film, index: 19, tag: NOUN, rank_score: -0.08741599321365356}\n",
      "{word: into, index: 11, tag: ADP, rank_score: -0.05965059995651245}\n",
      " \n",
      "['ADJ']\n",
      "{word: charming, index: 21, tag: ADJ, rank_score: -0.4421319365501404}\n",
      "{word: result, index: 22, tag: NOUN, rank_score: -0.3704795837402344}\n",
      "{word: is, index: 23, tag: VERB, rank_score: -0.2516317069530487}\n",
      "{word: the, index: 20, tag: DET, rank_score: -0.12166184186935425}\n",
      " \n",
      "['ADJ']\n",
      "{word: pseudo-sophisticated, index: 9, tag: ADJ, rank_score: -0.05153858661651611}\n",
      "{word: and, index: 8, tag: CONJ, rank_score: -0.022903263568878174}\n",
      "{word: patter, index: 7, tag: NOUN, rank_score: -0.011668026447296143}\n",
      "{word: while, index: 12, tag: ADP, rank_score: 0.008310973644256592}\n",
      " \n",
      "['ADJ']\n",
      "{word: enjoyed, index: 24, tag: VERB, rank_score: -0.3527321219444275}\n",
      "{word: recommend, index: 28, tag: VERB, rank_score: 0.09156876802444458}\n",
      "{word: n't, index: 16, tag: ADV, rank_score: 0.08786606788635254}\n",
      "{word: to, index: 27, tag: PRT, rank_score: 0.07761150598526001}\n",
      " \n",
      "['ADJ']\n",
      "{word: movie, index: 7, tag: NOUN, rank_score: -0.004883766174316406}\n",
      "{word: self-indulgent, index: 3, tag: ADJ, rank_score: 0.004872262477874756}\n",
      "{word: incoherent, index: 2, tag: NOUN, rank_score: 0.002915680408477783}\n",
      "{word: mess, index: 4, tag: NOUN, rank_score: -0.0028604865074157715}\n",
      " \n",
      "['ADJ']\n",
      "{word: meaningless, index: 28, tag: NOUN, rank_score: -0.004186451435089111}\n",
      "{word: pretentious, index: 27, tag: ADJ, rank_score: 0.0034404993057250977}\n",
      "{word: prattle, index: 29, tag: NOUN, rank_score: -0.002940058708190918}\n",
      "{word: cacophony, index: 25, tag: NOUN, rank_score: 0.002409696578979492}\n",
      " \n",
      "['ADJ']\n",
      "{word: 'possession, index: 0, tag: NOUN, rank_score: -0.20909342169761658}\n",
      "{word: on, index: 3, tag: ADP, rank_score: -0.16015195846557617}\n",
      "{word: a, index: 7, tag: DET, rank_score: -0.05435621738433838}\n",
      "{word: based, index: 2, tag: VERB, rank_score: 0.0444830060005188}\n",
      " \n",
      "['ADJ']\n",
      "{word: a, index: 29, tag: DET, rank_score: 0.21828705072402954}\n",
      "{word: trading, index: 22, tag: NOUN, rank_score: -0.18863695859909058}\n",
      "{word: little, index: 30, tag: ADJ, rank_score: -0.13765692710876465}\n",
      "{word: reverence, index: 27, tag: NOUN, rank_score: 0.11640733480453491}\n",
      " \n",
      "['ADJ']\n",
      "{word: velma, index: 30, tag: NOUN, rank_score: -0.20523762702941895}\n",
      "{word: too, index: 20, tag: ADV, rank_score: -0.17515206336975098}\n",
      "{word: 're, index: 19, tag: VERB, rank_score: -0.13228023052215576}\n",
      "{word: lost, index: 35, tag: VERB, rank_score: -0.1160394549369812}\n",
      " \n",
      "['ADJ']\n",
      "{word: inspiring, index: 6, tag: VERB, rank_score: -0.006398975849151611}\n",
      "{word: revelatory, index: 9, tag: NOUN, rank_score: -0.00543743371963501}\n",
      "{word: of, index: 10, tag: ADP, rank_score: -0.004202604293823242}\n",
      "{word: ridiculous, index: 13, tag: ADJ, rank_score: 0.002860546112060547}\n",
      " \n",
      "['ADJ']\n",
      "{word: testament, index: 26, tag: NOUN, rank_score: -0.003820955753326416}\n",
      "{word: integrity, index: 29, tag: NOUN, rank_score: -0.003395378589630127}\n",
      "{word: also, index: 24, tag: ADV, rank_score: -0.002070128917694092}\n",
      "{word: and, index: 30, tag: CONJ, rank_score: -0.001963376998901367}\n",
      " \n",
      "['ADJ']\n",
      "{word: shows, index: 18, tag: VERB, rank_score: -0.009451568126678467}\n",
      "{word: that, index: 30, tag: DET, rank_score: -0.005392253398895264}\n",
      "{word: deeply, index: 20, tag: ADV, rank_score: -0.003643035888671875}\n",
      "{word: it, index: 16, tag: PRON, rank_score: -0.0028190016746520996}\n",
      " \n",
      "['ADJ']\n",
      "{word: is, index: 28, tag: VERB, rank_score: -0.45687419176101685}\n",
      "{word: inexpressible, index: 30, tag: ADJ, rank_score: -0.29030516743659973}\n",
      "{word: drab, index: 32, tag: ADJ, rank_score: -0.23583263158798218}\n",
      "{word: wannabe, index: 33, tag: NOUN, rank_score: 0.12009018659591675}\n",
      " \n",
      "['ADJ']\n",
      "{word: pleasant, index: 39, tag: ADJ, rank_score: -0.4857502281665802}\n",
      "{word: is, index: 33, tag: VERB, rank_score: -0.3110418915748596}\n",
      "{word: movie, index: 31, tag: NOUN, rank_score: -0.17655432224273682}\n",
      "{word: this, index: 28, tag: DET, rank_score: -0.15700477361679077}\n",
      " \n",
      ":: 1 sentences remaining.\n",
      "Predicting inputs...\n",
      ":: Sentence predictions done.\n"
     ]
    }
   ],
   "source": [
    "templates2 = tg2.generate_templates(instances, n_masks=2, ranked_words_count=4)"
   ]
  },
  {
   "cell_type": "code",
   "execution_count": 22,
   "id": "ac09ea27",
   "metadata": {},
   "outputs": [
    {
     "name": "stdout",
     "output_type": "stream",
     "text": [
      "Ranking words using Replace-1 Score...\n"
     ]
    },
    {
     "name": "stderr",
     "output_type": "stream",
     "text": [
      "<ipython-input-3-263ca9d23a33>:23: UserWarning: Implicit dimension choice for softmax has been deprecated. Change the call to include dim=X as an argument.\n",
      "  prob = softmax(tensor_logits[0]).detach().numpy()\n"
     ]
    },
    {
     "name": "stdout",
     "output_type": "stream",
     "text": [
      "Converting texts to sentences...\n",
      ":: 134 sentences were generated.\n",
      "Filtering instances by contaning ranked words...\n",
      ":: 22 sentences remaining.\n",
      "4\n",
      "Filtering instances by relevant words...\n",
      "['ADJ']\n",
      "{word: clunker, index: 2, tag: NOUN, rank_score: -0.030784964561462402}\n",
      "{word: real, index: 1, tag: ADJ, rank_score: 0.01168733835220337}\n",
      "{word: ., index: 3, tag: ., rank_score: 0.0061383843421936035}\n",
      "{word: a, index: 0, tag: DET, rank_score: -0.0011336803436279297}\n",
      " \n",
      "['ADJ']\n",
      "{word: delivers, index: 13, tag: NOUN, rank_score: -0.11574995517730713}\n",
      "{word: and, index: 7, tag: CONJ, rank_score: -0.01716536283493042}\n",
      "{word: this, index: 9, tag: DET, rank_score: -0.013212978839874268}\n",
      "{word: in, index: 8, tag: ADP, rank_score: -0.002525031566619873}\n",
      " \n",
      "['ADJ']\n",
      "{word: bad, index: 7, tag: ADJ, rank_score: -0.636002779006958}\n",
      "{word: ?, index: 11, tag: ., rank_score: 0.05245649814605713}\n",
      "{word: be, index: 5, tag: VERB, rank_score: -0.04218447208404541}\n",
      "{word: could, index: 0, tag: VERB, rank_score: 0.03616297245025635}\n",
      " \n",
      "['ADJ']\n",
      "{word: disguise, index: 3, tag: NOUN, rank_score: -0.02678781747817993}\n",
      "{word: awful, index: 5, tag: ADJ, rank_score: -0.01675546169281006}\n",
      "{word: master, index: 1, tag: NOUN, rank_score: 0.00979304313659668}\n",
      "{word: is, index: 4, tag: VERB, rank_score: -0.009138405323028564}\n",
      " \n",
      "['ADJ']\n",
      "{word: check, index: 10, tag: VERB, rank_score: -0.13590741157531738}\n",
      "{word: poetry, index: 5, tag: NOUN, rank_score: -0.1233072280883789}\n",
      "{word: it, index: 11, tag: PRON, rank_score: -0.08063191175460815}\n",
      "{word: out, index: 12, tag: PRT, rank_score: -0.058893561363220215}\n",
      " \n",
      "['ADJ']\n",
      "{word: hits, index: 11, tag: VERB, rank_score: -0.810643196105957}\n",
      "{word: it, index: 16, tag: PRON, rank_score: -0.7242758274078369}\n",
      "{word: should, index: 17, tag: VERB, rank_score: -0.7118855714797974}\n",
      "{word: all, index: 12, tag: DET, rank_score: -0.2591261863708496}\n",
      " \n",
      "['ADJ']\n",
      "{word: scary, index: 8, tag: ADJ, rank_score: -0.06813782453536987}\n",
      "{word: and, index: 7, tag: CONJ, rank_score: -0.06738054752349854}\n",
      "{word: story, index: 4, tag: NOUN, rank_score: -0.03200298547744751}\n",
      "{word: and, index: 15, tag: CONJ, rank_score: -0.02846163511276245}\n",
      " \n",
      "['ADJ']\n",
      "{word: one, index: 3, tag: NUM, rank_score: -0.023299098014831543}\n",
      "{word: future, index: 2, tag: NOUN, rank_score: -0.012972474098205566}\n",
      "{word: hopes, index: 4, tag: VERB, rank_score: -0.009810864925384521}\n",
      "{word: for, index: 0, tag: ADP, rank_score: -0.0068305134773254395}\n",
      " \n",
      "['ADJ']\n",
      "{word: nothing, index: 20, tag: NOUN, rank_score: -0.6039682626724243}\n",
      "{word: in, index: 16, tag: ADP, rank_score: -0.5111721158027649}\n",
      "{word: new, index: 21, tag: ADJ, rank_score: 0.225455641746521}\n",
      "{word: and, index: 13, tag: CONJ, rank_score: -0.21683365106582642}\n",
      " \n",
      "['ADJ']\n",
      "{word: than, index: 1, tag: ADP, rank_score: -0.02467399835586548}\n",
      "{word: simply, index: 2, tag: ADV, rank_score: -0.012674391269683838}\n",
      "{word: this, index: 9, tag: DET, rank_score: -0.006426095962524414}\n",
      "{word: into, index: 11, tag: ADP, rank_score: -0.005406022071838379}\n",
      " \n",
      "['ADJ']\n",
      "{word: charming, index: 21, tag: ADJ, rank_score: -0.8244627118110657}\n",
      "{word: the, index: 20, tag: DET, rank_score: -0.7453621625900269}\n",
      "{word: result, index: 22, tag: NOUN, rank_score: -0.6171988248825073}\n",
      "{word: is, index: 23, tag: VERB, rank_score: -0.10685455799102783}\n",
      " \n",
      "['ADJ']\n",
      "{word: patter, index: 7, tag: NOUN, rank_score: -0.059690892696380615}\n",
      "{word: and, index: 8, tag: CONJ, rank_score: -0.007409036159515381}\n",
      "{word: observations, index: 11, tag: NOUN, rank_score: 0.00445634126663208}\n",
      "{word: of, index: 5, tag: ADP, rank_score: -0.00398176908493042}\n",
      " \n",
      "['ADJ']\n",
      "{word: would, index: 18, tag: VERB, rank_score: 0.004875242710113525}\n",
      "{word: on, index: 23, tag: ADP, rank_score: 0.002574622631072998}\n",
      "{word: serial, index: 27, tag: NOUN, rank_score: -0.0015258193016052246}\n",
      "{word: a, index: 24, tag: DET, rank_score: 0.0012134313583374023}\n",
      " \n",
      "['ADJ']\n",
      "{word: still, index: 22, tag: ADV, rank_score: -0.42316773533821106}\n",
      "{word: series, index: 21, tag: NOUN, rank_score: -0.2876073122024536}\n",
      "{word: enough, index: 26, tag: ADJ, rank_score: 0.07659405469894409}\n",
      "{word: n't, index: 16, tag: ADV, rank_score: -0.0754503607749939}\n",
      " \n",
      "['ADJ']\n",
      "{word: movie, index: 7, tag: NOUN, rank_score: -0.0004724264144897461}\n",
      "{word: a, index: 0, tag: DET, rank_score: -0.00040096044540405273}\n",
      "{word: for, index: 18, tag: ADP, rank_score: -0.0003998875617980957}\n",
      "{word: mess, index: 4, tag: NOUN, rank_score: -0.00034755468368530273}\n",
      " \n",
      "['ADJ']\n",
      "{word: a, index: 29, tag: DET, rank_score: -0.7201021313667297}\n",
      "{word: reverence, index: 27, tag: NOUN, rank_score: -0.3018236756324768}\n",
      "{word: deal, index: 15, tag: NOUN, rank_score: -0.2313319444656372}\n",
      "{word: head-on, index: 21, tag: ADJ, rank_score: -0.20653581619262695}\n",
      " \n",
      "['ADJ']\n",
      "{word: but, index: 16, tag: CONJ, rank_score: -0.09010881185531616}\n",
      "{word: too, index: 20, tag: ADV, rank_score: -0.024676978588104248}\n",
      "{word: thinks, index: 24, tag: VERB, rank_score: -0.017850160598754883}\n",
      "{word: lost, index: 35, tag: VERB, rank_score: -0.01718360185623169}\n",
      " \n",
      "['ADJ']\n",
      "{word: industry, index: 18, tag: NOUN, rank_score: -0.008736252784729004}\n",
      "{word: inspiring, index: 6, tag: VERB, rank_score: -0.004948735237121582}\n",
      "{word: ridiculous, index: 13, tag: ADJ, rank_score: 0.003300905227661133}\n",
      "{word: revelatory, index: 9, tag: NOUN, rank_score: -0.0030635595321655273}\n",
      " \n",
      "['ADJ']\n",
      "{word: testament, index: 26, tag: NOUN, rank_score: -0.007818937301635742}\n",
      "{word: band, index: 34, tag: NOUN, rank_score: 0.00581127405166626}\n",
      "{word: the, index: 33, tag: DET, rank_score: 0.002114593982696533}\n",
      "{word: a, index: 25, tag: DET, rank_score: -0.0013507604598999023}\n",
      " \n",
      "['ADJ']\n",
      "{word: ., index: 35, tag: ., rank_score: 0.0008887648582458496}\n",
      "{word: also, index: 17, tag: ADV, rank_score: 0.0005144476890563965}\n",
      "{word: felt, index: 21, tag: VERB, rank_score: 0.00039762258529663086}\n",
      "{word: shows, index: 18, tag: VERB, rank_score: 0.00035190582275390625}\n",
      " \n",
      "['ADJ']\n",
      "{word: whereas, index: 0, tag: ADP, rank_score: -0.08896660804748535}\n",
      "{word: hitman, index: 4, tag: NOUN, rank_score: -0.037110209465026855}\n",
      "{word: films, index: 5, tag: NOUN, rank_score: 0.030722737312316895}\n",
      "{word: get, index: 11, tag: VERB, rank_score: -0.028757810592651367}\n",
      " \n",
      "['ADJ']\n",
      "{word: pleasant, index: 39, tag: ADJ, rank_score: -0.37086212635040283}\n",
      "{word: is, index: 33, tag: VERB, rank_score: -0.15573960542678833}\n",
      "{word: movie, index: 31, tag: NOUN, rank_score: -0.1375502347946167}\n",
      "{word: that, index: 32, tag: DET, rank_score: -0.11440765857696533}\n",
      " \n",
      ":: 0 sentences remaining.\n",
      "Predicting inputs...\n",
      ":: Sentence predictions done.\n"
     ]
    }
   ],
   "source": [
    "templates3 = tg3.generate_templates(instances, n_masks=2, ranked_words_count=4)"
   ]
  },
  {
   "cell_type": "code",
   "execution_count": 23,
   "metadata": {},
   "outputs": [
    {
     "name": "stdout",
     "output_type": "stream",
     "text": [
      "Ranking words using Replace-1 Score...\n"
     ]
    },
    {
     "name": "stderr",
     "output_type": "stream",
     "text": [
      "<ipython-input-3-263ca9d23a33>:23: UserWarning: Implicit dimension choice for softmax has been deprecated. Change the call to include dim=X as an argument.\n",
      "  prob = softmax(tensor_logits[0]).detach().numpy()\n"
     ]
    },
    {
     "name": "stdout",
     "output_type": "stream",
     "text": [
      "Converting texts to sentences...\n",
      ":: 134 sentences were generated.\n",
      "Filtering instances by contaning ranked words...\n",
      ":: 21 sentences remaining.\n",
      "4\n",
      "Filtering instances by relevant words...\n",
      "['ADJ']\n",
      "{word: clunker, index: 2, tag: NOUN, rank_score: -0.16852736473083496}\n",
      "{word: real, index: 1, tag: ADJ, rank_score: -0.10247564315795898}\n",
      "{word: a, index: 0, tag: DET, rank_score: -0.06957018375396729}\n",
      "{word: ., index: 3, tag: ., rank_score: 0.0}\n",
      " \n",
      "['ADJ']\n",
      "{word: nothing, index: 1, tag: NOUN, rank_score: -0.0354992151260376}\n",
      "{word: swashbuckling, index: 5, tag: NOUN, rank_score: -0.014843106269836426}\n",
      "{word: sometimes, index: 0, tag: ADV, rank_score: -0.009717583656311035}\n",
      "{word: like, index: 3, tag: ADP, rank_score: -0.00559389591217041}\n",
      " \n",
      "['ADJ']\n",
      "{word: country, index: 2, tag: NOUN, rank_score: -0.015492022037506104}\n",
      "{word: as, index: 6, tag: ADV, rank_score: -0.010726392269134521}\n",
      "{word: be, index: 5, tag: VERB, rank_score: -0.010459423065185547}\n",
      "{word: as, index: 8, tag: ADP, rank_score: -0.00889521837234497}\n",
      " \n",
      "['ADJ']\n",
      "{word: is, index: 4, tag: VERB, rank_score: -0.0365903377532959}\n",
      "{word: awful, index: 5, tag: ADJ, rank_score: -0.02031320333480835}\n",
      "{word: master, index: 1, tag: NOUN, rank_score: 0.010816693305969238}\n",
      "{word: ., index: 6, tag: ., rank_score: 0.004820406436920166}\n",
      " \n",
      "['ADJ']\n",
      "{word: poetry, index: 5, tag: NOUN, rank_score: -0.012607932090759277}\n",
      "{word: love, index: 2, tag: VERB, rank_score: -0.012125551700592041}\n",
      "{word: out, index: 12, tag: PRT, rank_score: -0.003979623317718506}\n",
      "{word: and/or, index: 4, tag: NOUN, rank_score: -0.003766477108001709}\n",
      " \n",
      "['ADJ']\n",
      "{word: hits, index: 11, tag: VERB, rank_score: -0.9548888206481934}\n",
      "{word: marks, index: 15, tag: NOUN, rank_score: -0.018013596534729004}\n",
      "{word: it, index: 16, tag: PRON, rank_score: -0.01434624195098877}\n",
      "{word: all, index: 12, tag: DET, rank_score: -0.003711223602294922}\n",
      " \n",
      "['ADJ']\n",
      "{word: scary, index: 8, tag: ADJ, rank_score: -0.0027724504470825195}\n",
      "{word: and, index: 7, tag: CONJ, rank_score: -0.0009627938270568848}\n",
      "{word: an, index: 5, tag: DET, rank_score: -0.0009119510650634766}\n",
      "{word: and, index: 15, tag: CONJ, rank_score: -0.0006804466247558594}\n",
      " \n",
      "['ADJ']\n",
      "{word: future, index: 2, tag: NOUN, rank_score: -0.3318226933479309}\n",
      "{word: one, index: 3, tag: NUM, rank_score: -0.051098525524139404}\n",
      "{word: mr, index: 5, tag: NOUN, rank_score: -0.037918925285339355}\n",
      "{word: the, index: 1, tag: DET, rank_score: 0.012994766235351562}\n",
      " \n",
      "['ADJ']\n",
      "{word: nothing, index: 20, tag: NOUN, rank_score: -0.8299219608306885}\n",
      "{word: in, index: 16, tag: ADP, rank_score: -0.003530144691467285}\n",
      "{word: lesson, index: 15, tag: NOUN, rank_score: 0.003017425537109375}\n",
      "{word: and, index: 13, tag: CONJ, rank_score: -0.0023122429847717285}\n",
      " \n",
      "['ADJ']\n",
      "{word: simply, index: 2, tag: ADV, rank_score: -0.0018047094345092773}\n",
      "{word: than, index: 1, tag: ADP, rank_score: -0.0013707280158996582}\n",
      "{word: into, index: 11, tag: ADP, rank_score: -0.0009169578552246094}\n",
      "{word: peek, index: 10, tag: NOUN, rank_score: -0.0006952881813049316}\n",
      " \n",
      "['ADJ']\n",
      "{word: jaglomized, index: 3, tag: VERB, rank_score: -0.19691532850265503}\n",
      "{word: made, index: 0, tag: VERB, rank_score: -0.16050153970718384}\n",
      "{word: money, index: 18, tag: NOUN, rank_score: -0.12536346912384033}\n",
      "{word: blab, index: 16, tag: NOUN, rank_score: -0.11001163721084595}\n",
      " \n",
      "['ADJ']\n",
      "{word: patter, index: 7, tag: NOUN, rank_score: -0.504906177520752}\n",
      "{word: pseudo-sophisticated, index: 9, tag: ADJ, rank_score: -0.25308191776275635}\n",
      "{word: it, index: 2, tag: PRON, rank_score: -0.2526170313358307}\n",
      "{word: of, index: 5, tag: ADP, rank_score: 0.20607388019561768}\n",
      " \n",
      "['ADJ']\n",
      "{word: n't, index: 16, tag: ADV, rank_score: -0.3876127004623413}\n",
      "{word: it, index: 25, tag: PRON, rank_score: -0.21708250045776367}\n",
      "{word: still, index: 22, tag: ADV, rank_score: 0.2168828248977661}\n",
      "{word: in, index: 19, tag: ADP, rank_score: -0.19579023122787476}\n",
      " \n",
      "['ADJ']\n",
      "{word: hours, index: 20, tag: NOUN, rank_score: -5.9664249420166016e-05}\n",
      "{word: drone, index: 15, tag: NOUN, rank_score: -4.1425228118896484e-05}\n",
      "{word: a, index: 6, tag: DET, rank_score: 2.944469451904297e-05}\n",
      "{word: for, index: 18, tag: ADP, rank_score: -2.5033950805664062e-05}\n",
      " \n",
      "['ADJ']\n",
      "{word: prattle, index: 29, tag: NOUN, rank_score: -4.929304122924805e-05}\n",
      "{word: meaningless, index: 28, tag: NOUN, rank_score: -4.0471553802490234e-05}\n",
      "{word: a, index: 24, tag: DET, rank_score: -2.181529998779297e-05}\n",
      "{word: of, index: 26, tag: ADP, rank_score: -2.002716064453125e-05}\n",
      " \n",
      "['ADJ']\n",
      "{word: a, index: 29, tag: DET, rank_score: -0.7809600830078125}\n",
      "{word: cynicism, index: 25, tag: NOUN, rank_score: -0.5993329882621765}\n",
      "{word: wit, index: 31, tag: NOUN, rank_score: -0.5652203559875488}\n",
      "{word: reverence, index: 27, tag: NOUN, rank_score: -0.4271308481693268}\n",
      " \n",
      "['ADJ']\n",
      "{word: too, index: 20, tag: ADV, rank_score: -0.0035325288772583008}\n",
      "{word: lost, index: 35, tag: VERB, rank_score: -0.0016137361526489258}\n",
      "{word: thinks, index: 24, tag: VERB, rank_score: -0.0011393427848815918}\n",
      "{word: but, index: 16, tag: CONJ, rank_score: -0.001104116439819336}\n",
      " \n",
      "['ADJ']\n",
      "{word: industry, index: 18, tag: NOUN, rank_score: -0.002932906150817871}\n",
      "{word: ridiculous, index: 13, tag: ADJ, rank_score: 0.0017917156219482422}\n",
      "{word: revelatory, index: 9, tag: NOUN, rank_score: -0.0012015104293823242}\n",
      "{word: and, index: 8, tag: CONJ, rank_score: -0.0009837150573730469}\n",
      " \n",
      "['ADJ']\n",
      "{word: that, index: 30, tag: DET, rank_score: -0.00026220083236694336}\n",
      "{word: separate, index: 33, tag: ADJ, rank_score: -0.0001245737075805664}\n",
      "{word: it, index: 16, tag: PRON, rank_score: -6.979703903198242e-05}\n",
      "{word: people, index: 25, tag: NOUN, rank_score: -6.908178329467773e-05}\n",
      " \n",
      "['ADJ']\n",
      "{word: drab, index: 32, tag: ADJ, rank_score: -0.9500439167022705}\n",
      "{word: is, index: 28, tag: VERB, rank_score: -0.49603164196014404}\n",
      "{word: an, index: 29, tag: DET, rank_score: -0.0627288818359375}\n",
      "{word: wannabe, index: 33, tag: NOUN, rank_score: -0.05996882915496826}\n",
      " \n",
      "['ADJ']\n",
      "{word: pleasant, index: 39, tag: ADJ, rank_score: -0.40012961626052856}\n",
      "{word: is, index: 33, tag: VERB, rank_score: -0.13089799880981445}\n",
      "{word: a, index: 38, tag: DET, rank_score: -0.05837351083755493}\n",
      "{word: this, index: 28, tag: DET, rank_score: -0.039327144622802734}\n",
      " \n",
      ":: 0 sentences remaining.\n",
      "Predicting inputs...\n",
      ":: Sentence predictions done.\n"
     ]
    }
   ],
   "source": [
    "templates4 = tg4.generate_templates(instances, n_masks=2, ranked_words_count=4)"
   ]
  },
  {
   "cell_type": "code",
   "execution_count": 24,
   "id": "193f1b65",
   "metadata": {},
   "outputs": [
    {
     "data": {
      "text/html": [
       "<div>\n",
       "<style scoped>\n",
       "    .dataframe tbody tr th:only-of-type {\n",
       "        vertical-align: middle;\n",
       "    }\n",
       "\n",
       "    .dataframe tbody tr th {\n",
       "        vertical-align: top;\n",
       "    }\n",
       "\n",
       "    .dataframe thead th {\n",
       "        text-align: right;\n",
       "    }\n",
       "</style>\n",
       "<table border=\"1\" class=\"dataframe\">\n",
       "  <thead>\n",
       "    <tr style=\"text-align: right;\">\n",
       "      <th></th>\n",
       "      <th>label</th>\n",
       "      <th>original_text</th>\n",
       "      <th>masked_text</th>\n",
       "      <th>template_text</th>\n",
       "    </tr>\n",
       "  </thead>\n",
       "  <tbody>\n",
       "    <tr>\n",
       "      <th>0</th>\n",
       "      <td>0</td>\n",
       "      <td>a well-made  thoughtful  well-acted clunker  but a clunker nonetheless .</td>\n",
       "      <td>a {mask} {mask} well-acted clunker but a clunker nonetheless .</td>\n",
       "      <td>a {pos_adj} {neg_adj} well-acted clunker but a clunker nonetheless .</td>\n",
       "    </tr>\n",
       "    <tr>\n",
       "      <th>1</th>\n",
       "      <td>1</td>\n",
       "      <td>the charming result is festival in cannes .</td>\n",
       "      <td>the {mask} result is {mask} in cannes .</td>\n",
       "      <td>the {pos_adj} result is {pos_adj} in cannes .</td>\n",
       "    </tr>\n",
       "  </tbody>\n",
       "</table>\n",
       "</div>"
      ],
      "text/plain": [
       "   label  \\\n",
       "0      0   \n",
       "1      1   \n",
       "\n",
       "                                                              original_text  \\\n",
       "0  a well-made  thoughtful  well-acted clunker  but a clunker nonetheless .   \n",
       "1                               the charming result is festival in cannes .   \n",
       "\n",
       "                                                      masked_text  \\\n",
       "0  a {mask} {mask} well-acted clunker but a clunker nonetheless .   \n",
       "1                         the {mask} result is {mask} in cannes .   \n",
       "\n",
       "                                                          template_text  \n",
       "0  a {pos_adj} {neg_adj} well-acted clunker but a clunker nonetheless .  \n",
       "1                         the {pos_adj} result is {pos_adj} in cannes .  "
      ]
     },
     "execution_count": 24,
     "metadata": {},
     "output_type": "execute_result"
    }
   ],
   "source": [
    "df0 = tg0.to_dataframe()\n",
    "df0"
   ]
  },
  {
   "cell_type": "code",
   "execution_count": 25,
   "id": "017b4c99",
   "metadata": {},
   "outputs": [
    {
     "data": {
      "text/html": [
       "<div>\n",
       "<style scoped>\n",
       "    .dataframe tbody tr th:only-of-type {\n",
       "        vertical-align: middle;\n",
       "    }\n",
       "\n",
       "    .dataframe tbody tr th {\n",
       "        vertical-align: top;\n",
       "    }\n",
       "\n",
       "    .dataframe thead th {\n",
       "        text-align: right;\n",
       "    }\n",
       "</style>\n",
       "<table border=\"1\" class=\"dataframe\">\n",
       "  <thead>\n",
       "    <tr style=\"text-align: right;\">\n",
       "      <th></th>\n",
       "      <th>label</th>\n",
       "      <th>original_text</th>\n",
       "      <th>masked_text</th>\n",
       "      <th>template_text</th>\n",
       "    </tr>\n",
       "  </thead>\n",
       "  <tbody>\n",
       "    <tr>\n",
       "      <th>0</th>\n",
       "      <td>1</td>\n",
       "      <td>a story  an old and scary one  about the monsters we make  and the vengeance they take .</td>\n",
       "      <td>a story an {mask} and {mask} one about the monsters we make and the vengeance they take .</td>\n",
       "      <td>a story an {neg_adj} and {neg_adj} one about the monsters we make and the vengeance they take .</td>\n",
       "    </tr>\n",
       "  </tbody>\n",
       "</table>\n",
       "</div>"
      ],
      "text/plain": [
       "   label  \\\n",
       "0      1   \n",
       "\n",
       "                                                                              original_text  \\\n",
       "0  a story  an old and scary one  about the monsters we make  and the vengeance they take .   \n",
       "\n",
       "                                                                                 masked_text  \\\n",
       "0  a story an {mask} and {mask} one about the monsters we make and the vengeance they take .   \n",
       "\n",
       "                                                                                     template_text  \n",
       "0  a story an {neg_adj} and {neg_adj} one about the monsters we make and the vengeance they take .  "
      ]
     },
     "execution_count": 25,
     "metadata": {},
     "output_type": "execute_result"
    }
   ],
   "source": [
    "df1 = tg1.to_dataframe()\n",
    "df1"
   ]
  },
  {
   "cell_type": "code",
   "execution_count": 26,
   "id": "1b38f51f",
   "metadata": {},
   "outputs": [
    {
     "data": {
      "text/html": [
       "<div>\n",
       "<style scoped>\n",
       "    .dataframe tbody tr th:only-of-type {\n",
       "        vertical-align: middle;\n",
       "    }\n",
       "\n",
       "    .dataframe tbody tr th {\n",
       "        vertical-align: top;\n",
       "    }\n",
       "\n",
       "    .dataframe thead th {\n",
       "        text-align: right;\n",
       "    }\n",
       "</style>\n",
       "<table border=\"1\" class=\"dataframe\">\n",
       "  <thead>\n",
       "    <tr style=\"text-align: right;\">\n",
       "      <th></th>\n",
       "      <th>label</th>\n",
       "      <th>original_text</th>\n",
       "      <th>masked_text</th>\n",
       "      <th>template_text</th>\n",
       "    </tr>\n",
       "  </thead>\n",
       "  <tbody>\n",
       "    <tr>\n",
       "      <th>0</th>\n",
       "      <td>0</td>\n",
       "      <td>is an inexpressible and drab wannabe looking for that exact niche .</td>\n",
       "      <td>is an {mask} and {mask} wannabe looking for that exact niche .</td>\n",
       "      <td>is an {neg_adj} and {neg_adj} wannabe looking for that exact niche .</td>\n",
       "    </tr>\n",
       "  </tbody>\n",
       "</table>\n",
       "</div>"
      ],
      "text/plain": [
       "   label                                                        original_text  \\\n",
       "0      0  is an inexpressible and drab wannabe looking for that exact niche .   \n",
       "\n",
       "                                                      masked_text  \\\n",
       "0  is an {mask} and {mask} wannabe looking for that exact niche .   \n",
       "\n",
       "                                                          template_text  \n",
       "0  is an {neg_adj} and {neg_adj} wannabe looking for that exact niche .  "
      ]
     },
     "execution_count": 26,
     "metadata": {},
     "output_type": "execute_result"
    }
   ],
   "source": [
    "df2 = tg2.to_dataframe()\n",
    "df2"
   ]
  },
  {
   "cell_type": "code",
   "execution_count": 27,
   "id": "c5d2a120",
   "metadata": {},
   "outputs": [
    {
     "data": {
      "text/html": [
       "<div>\n",
       "<style scoped>\n",
       "    .dataframe tbody tr th:only-of-type {\n",
       "        vertical-align: middle;\n",
       "    }\n",
       "\n",
       "    .dataframe tbody tr th {\n",
       "        vertical-align: top;\n",
       "    }\n",
       "\n",
       "    .dataframe thead th {\n",
       "        text-align: right;\n",
       "    }\n",
       "</style>\n",
       "<table border=\"1\" class=\"dataframe\">\n",
       "  <thead>\n",
       "    <tr style=\"text-align: right;\">\n",
       "      <th></th>\n",
       "      <th>label</th>\n",
       "      <th>original_text</th>\n",
       "      <th>masked_text</th>\n",
       "      <th>template_text</th>\n",
       "    </tr>\n",
       "  </thead>\n",
       "  <tbody>\n",
       "  </tbody>\n",
       "</table>\n",
       "</div>"
      ],
      "text/plain": [
       "Empty DataFrame\n",
       "Columns: [label, original_text, masked_text, template_text]\n",
       "Index: []"
      ]
     },
     "execution_count": 27,
     "metadata": {},
     "output_type": "execute_result"
    }
   ],
   "source": [
    "df3 = tg3.to_dataframe()\n",
    "df3"
   ]
  },
  {
   "cell_type": "code",
   "execution_count": 28,
   "id": "8cdae922",
   "metadata": {},
   "outputs": [
    {
     "data": {
      "text/html": [
       "<div>\n",
       "<style scoped>\n",
       "    .dataframe tbody tr th:only-of-type {\n",
       "        vertical-align: middle;\n",
       "    }\n",
       "\n",
       "    .dataframe tbody tr th {\n",
       "        vertical-align: top;\n",
       "    }\n",
       "\n",
       "    .dataframe thead th {\n",
       "        text-align: right;\n",
       "    }\n",
       "</style>\n",
       "<table border=\"1\" class=\"dataframe\">\n",
       "  <thead>\n",
       "    <tr style=\"text-align: right;\">\n",
       "      <th></th>\n",
       "      <th>label</th>\n",
       "      <th>original_text</th>\n",
       "      <th>masked_text</th>\n",
       "      <th>template_text</th>\n",
       "    </tr>\n",
       "  </thead>\n",
       "  <tbody>\n",
       "  </tbody>\n",
       "</table>\n",
       "</div>"
      ],
      "text/plain": [
       "Empty DataFrame\n",
       "Columns: [label, original_text, masked_text, template_text]\n",
       "Index: []"
      ]
     },
     "execution_count": 28,
     "metadata": {},
     "output_type": "execute_result"
    }
   ],
   "source": [
    "df4 = tg4.to_dataframe()\n",
    "df4"
   ]
  },
  {
   "cell_type": "code",
   "execution_count": 29,
   "id": "7f98d8ba",
   "metadata": {},
   "outputs": [
    {
     "data": {
      "text/plain": [
       "{'pos_adj': ['well-made', 'festival', 'charming'], 'neg_adj': ['thoughtful']}"
      ]
     },
     "execution_count": 29,
     "metadata": {},
     "output_type": "execute_result"
    }
   ],
   "source": [
    "tg0.lexicons"
   ]
  },
  {
   "cell_type": "code",
   "execution_count": 30,
   "id": "0c2d142a",
   "metadata": {},
   "outputs": [
    {
     "data": {
      "text/plain": [
       "{'pos_adj': [], 'neg_adj': ['scary', 'old']}"
      ]
     },
     "execution_count": 30,
     "metadata": {},
     "output_type": "execute_result"
    }
   ],
   "source": [
    "tg1.lexicons"
   ]
  },
  {
   "cell_type": "code",
   "execution_count": 31,
   "id": "4826e528",
   "metadata": {},
   "outputs": [
    {
     "data": {
      "text/plain": [
       "{'pos_adj': [], 'neg_adj': ['drab', 'inexpressible']}"
      ]
     },
     "execution_count": 31,
     "metadata": {},
     "output_type": "execute_result"
    }
   ],
   "source": [
    "tg2.lexicons"
   ]
  },
  {
   "cell_type": "code",
   "execution_count": 32,
   "id": "65b3163d",
   "metadata": {},
   "outputs": [
    {
     "data": {
      "text/plain": [
       "{'pos_adj': [], 'neg_adj': []}"
      ]
     },
     "execution_count": 32,
     "metadata": {},
     "output_type": "execute_result"
    }
   ],
   "source": [
    "tg3.lexicons"
   ]
  },
  {
   "cell_type": "code",
   "execution_count": 33,
   "id": "e6714fcd",
   "metadata": {},
   "outputs": [
    {
     "data": {
      "text/plain": [
       "{'pos_adj': [], 'neg_adj': []}"
      ]
     },
     "execution_count": 33,
     "metadata": {},
     "output_type": "execute_result"
    }
   ],
   "source": [
    "tg4.lexicons"
   ]
  },
  {
   "cell_type": "markdown",
   "id": "2aaf7e38",
   "metadata": {},
   "source": [
    "#### Tempo de execução para 100 instâncias: 4m 17.8s"
   ]
  },
  {
   "cell_type": "markdown",
   "id": "0b128e49",
   "metadata": {},
   "source": [
    "## Checklist"
   ]
  },
  {
   "cell_type": "markdown",
   "id": "7d6ad6cc",
   "metadata": {},
   "source": [
    "#### Model BERT"
   ]
  },
  {
   "cell_type": "code",
   "execution_count": 34,
   "id": "ad2b0738",
   "metadata": {},
   "outputs": [],
   "source": [
    "import checklist\n",
    "from checklist.editor import Editor\n",
    "from checklist.test_suite import TestSuite\n",
    "from checklist.test_types import MFT"
   ]
  },
  {
   "cell_type": "code",
   "execution_count": 35,
   "id": "8d3415da",
   "metadata": {},
   "outputs": [],
   "source": [
    "lexicons = tg0.lexicons\n",
    "templates0 = tg0.template_texts\n",
    "masked = tg0.masked_texts\n",
    "labels = [sent.prediction.label for sent in tg0.sentences]\n",
    "\n",
    "editor = Editor()\n",
    "editor.add_lexicon('pos_adj', lexicons['pos_adj'])\n",
    "editor.add_lexicon('neg_adj', lexicons['neg_adj'])\n",
    "\n",
    "suite = TestSuite()"
   ]
  },
  {
   "cell_type": "code",
   "execution_count": 36,
   "id": "c134553b",
   "metadata": {},
   "outputs": [],
   "source": [
    "for template, label, i in zip(templates0, labels, range(len(templates0))):\n",
    "    t = editor.template(template, remove_duplicates=True, labels=int(label))\n",
    "\n",
    "    suite.add(MFT(\n",
    "        data=t.data,\n",
    "        labels=label,\n",
    "        capability=\"Vocabullary\", \n",
    "        name=f\"Test: MFT with vocabullary - template{i+1}\",\n",
    "        description=\"Checking if the model can handle vocabullary\")) "
   ]
  },
  {
   "cell_type": "code",
   "execution_count": 37,
   "id": "f2a19cf9",
   "metadata": {},
   "outputs": [
    {
     "name": "stdout",
     "output_type": "stream",
     "text": [
      "Running Test: MFT with vocabullary - template1\n",
      "Predicting 3 examples\n"
     ]
    },
    {
     "name": "stderr",
     "output_type": "stream",
     "text": [
      "<ipython-input-3-263ca9d23a33>:23: UserWarning: Implicit dimension choice for softmax has been deprecated. Change the call to include dim=X as an argument.\n",
      "  prob = softmax(tensor_logits[0]).detach().numpy()\n"
     ]
    },
    {
     "name": "stdout",
     "output_type": "stream",
     "text": [
      "Running Test: MFT with vocabullary - template2\n",
      "Predicting 3 examples\n"
     ]
    }
   ],
   "source": [
    "suite.run(model_bert.predict, overwrite=True)"
   ]
  },
  {
   "cell_type": "code",
   "execution_count": 38,
   "id": "5a27af66",
   "metadata": {},
   "outputs": [
    {
     "name": "stdout",
     "output_type": "stream",
     "text": [
      "Vocabullary\n",
      "\n",
      "Test: MFT with vocabullary - template1\n",
      "Test cases:      3\n",
      "Fails (rate):    0 (0.0%)\n",
      "\n",
      "\n",
      "Test: MFT with vocabullary - template2\n",
      "Test cases:      3\n",
      "Fails (rate):    0 (0.0%)\n",
      "\n",
      "\n",
      "\n",
      "\n"
     ]
    }
   ],
   "source": [
    "suite.summary()"
   ]
  },
  {
   "cell_type": "code",
   "execution_count": 39,
   "id": "167fde22",
   "metadata": {},
   "outputs": [],
   "source": [
    "suite.save('./suites/posneg-approach1-bert.suite')"
   ]
  },
  {
   "cell_type": "markdown",
   "id": "9b948d3f",
   "metadata": {},
   "source": [
    "#### Model Albert"
   ]
  },
  {
   "cell_type": "code",
   "execution_count": 40,
   "id": "8d3415da",
   "metadata": {},
   "outputs": [],
   "source": [
    "lexicons = tg1.lexicons\n",
    "templates1 = tg1.template_texts\n",
    "masked = tg1.masked_texts\n",
    "labels = [sent.prediction.label for sent in tg1.sentences]\n",
    "\n",
    "editor = Editor()\n",
    "editor.add_lexicon('pos_adj', lexicons['pos_adj'])\n",
    "editor.add_lexicon('neg_adj', lexicons['neg_adj'])\n",
    "\n",
    "suite = TestSuite()"
   ]
  },
  {
   "cell_type": "code",
   "execution_count": 41,
   "id": "c134553b",
   "metadata": {},
   "outputs": [],
   "source": [
    "for template, label, i in zip(templates1, labels, range(len(templates1))):\n",
    "    t = editor.template(template, remove_duplicates=True, labels=int(label))\n",
    "\n",
    "    suite.add(MFT(\n",
    "        data=t.data,\n",
    "        labels=label,\n",
    "        capability=\"Vocabullary\", \n",
    "        name=f\"Test: MFT with vocabullary - template{i+1}\",\n",
    "        description=\"Checking if the model can handle vocabullary\")) "
   ]
  },
  {
   "cell_type": "code",
   "execution_count": 42,
   "id": "f2a19cf9",
   "metadata": {},
   "outputs": [
    {
     "name": "stdout",
     "output_type": "stream",
     "text": [
      "Running Test: MFT with vocabullary - template1\n",
      "Predicting 2 examples\n"
     ]
    },
    {
     "name": "stderr",
     "output_type": "stream",
     "text": [
      "<ipython-input-3-263ca9d23a33>:23: UserWarning: Implicit dimension choice for softmax has been deprecated. Change the call to include dim=X as an argument.\n",
      "  prob = softmax(tensor_logits[0]).detach().numpy()\n"
     ]
    }
   ],
   "source": [
    "suite.run(model_albert.predict, overwrite=True)"
   ]
  },
  {
   "cell_type": "code",
   "execution_count": 43,
   "id": "5a27af66",
   "metadata": {},
   "outputs": [
    {
     "name": "stdout",
     "output_type": "stream",
     "text": [
      "Vocabullary\n",
      "\n",
      "Test: MFT with vocabullary - template1\n",
      "Test cases:      2\n",
      "Fails (rate):    0 (0.0%)\n",
      "\n",
      "\n",
      "\n",
      "\n"
     ]
    }
   ],
   "source": [
    "suite.summary()"
   ]
  },
  {
   "cell_type": "code",
   "execution_count": 44,
   "id": "167fde22",
   "metadata": {},
   "outputs": [],
   "source": [
    "suite.save('./suites/posneg-approach1-albert.suite')"
   ]
  },
  {
   "cell_type": "markdown",
   "id": "6c41e0de",
   "metadata": {},
   "source": [
    "#### Model Distilbert"
   ]
  },
  {
   "cell_type": "code",
   "execution_count": 45,
   "id": "8d3415da",
   "metadata": {},
   "outputs": [],
   "source": [
    "lexicons = tg2.lexicons\n",
    "templates2 = tg2.template_texts\n",
    "masked = tg2.masked_texts\n",
    "labels = [sent.prediction.label for sent in tg2.sentences]\n",
    "\n",
    "editor = Editor()\n",
    "editor.add_lexicon('pos_adj', lexicons['pos_adj'])\n",
    "editor.add_lexicon('neg_adj', lexicons['neg_adj'])\n",
    "\n",
    "suite = TestSuite()"
   ]
  },
  {
   "cell_type": "code",
   "execution_count": 46,
   "id": "c134553b",
   "metadata": {},
   "outputs": [],
   "source": [
    "for template, label, i in zip(templates2, labels, range(len(templates2))):\n",
    "    t = editor.template(template, remove_duplicates=True, labels=int(label))\n",
    "\n",
    "    suite.add(MFT(\n",
    "        data=t.data,\n",
    "        labels=label,\n",
    "        capability=\"Vocabullary\", \n",
    "        name=f\"Test: MFT with vocabullary - template{i+1}\",\n",
    "        description=\"Checking if the model can handle vocabullary\")) "
   ]
  },
  {
   "cell_type": "code",
   "execution_count": 47,
   "id": "f2a19cf9",
   "metadata": {},
   "outputs": [
    {
     "name": "stdout",
     "output_type": "stream",
     "text": [
      "Running Test: MFT with vocabullary - template1\n",
      "Predicting 2 examples\n"
     ]
    },
    {
     "name": "stderr",
     "output_type": "stream",
     "text": [
      "<ipython-input-3-263ca9d23a33>:23: UserWarning: Implicit dimension choice for softmax has been deprecated. Change the call to include dim=X as an argument.\n",
      "  prob = softmax(tensor_logits[0]).detach().numpy()\n"
     ]
    }
   ],
   "source": [
    "suite.run(model_distilbert.predict, overwrite=True)"
   ]
  },
  {
   "cell_type": "code",
   "execution_count": 48,
   "id": "5a27af66",
   "metadata": {},
   "outputs": [
    {
     "name": "stdout",
     "output_type": "stream",
     "text": [
      "Vocabullary\n",
      "\n",
      "Test: MFT with vocabullary - template1\n",
      "Test cases:      2\n",
      "Fails (rate):    0 (0.0%)\n",
      "\n",
      "\n",
      "\n",
      "\n"
     ]
    }
   ],
   "source": [
    "suite.summary()"
   ]
  },
  {
   "cell_type": "code",
   "execution_count": 49,
   "id": "167fde22",
   "metadata": {},
   "outputs": [],
   "source": [
    "suite.save('./suites/posneg-approach1-distilbert.suite')"
   ]
  },
  {
   "cell_type": "markdown",
   "id": "3b00a03d",
   "metadata": {},
   "source": [
    "#### Model Roberta"
   ]
  },
  {
   "cell_type": "code",
   "execution_count": 50,
   "id": "8d3415da",
   "metadata": {},
   "outputs": [],
   "source": [
    "lexicons = tg3.lexicons\n",
    "templates3 = tg3.template_texts\n",
    "masked = tg3.masked_texts\n",
    "labels = [sent.prediction.label for sent in tg3.sentences]\n",
    "\n",
    "editor = Editor()\n",
    "editor.add_lexicon('pos_adj', lexicons['pos_adj'])\n",
    "editor.add_lexicon('neg_adj', lexicons['neg_adj'])\n",
    "\n",
    "suite = TestSuite()"
   ]
  },
  {
   "cell_type": "code",
   "execution_count": 51,
   "id": "c134553b",
   "metadata": {},
   "outputs": [],
   "source": [
    "for template, label, i in zip(templates3, labels, range(len(templates3))):\n",
    "    t = editor.template(template, remove_duplicates=True, labels=int(label))\n",
    "\n",
    "    suite.add(MFT(\n",
    "        data=t.data,\n",
    "        labels=label,\n",
    "        capability=\"Vocabullary\", \n",
    "        name=f\"Test: MFT with vocabullary - template{i+1}\",\n",
    "        description=\"Checking if the model can handle vocabullary\")) "
   ]
  },
  {
   "cell_type": "code",
   "execution_count": 52,
   "id": "f2a19cf9",
   "metadata": {},
   "outputs": [],
   "source": [
    "suite.run(model_roberta.predict, overwrite=True)"
   ]
  },
  {
   "cell_type": "code",
   "execution_count": 53,
   "id": "5a27af66",
   "metadata": {},
   "outputs": [],
   "source": [
    "suite.summary()"
   ]
  },
  {
   "cell_type": "code",
   "execution_count": 54,
   "id": "167fde22",
   "metadata": {},
   "outputs": [],
   "source": [
    "suite.save('./suites/posneg-approach1-roberta.suite')"
   ]
  },
  {
   "cell_type": "markdown",
   "id": "39b0de6d",
   "metadata": {},
   "source": [
    "#### Model Xlnet"
   ]
  },
  {
   "cell_type": "code",
   "execution_count": 55,
   "id": "8d3415da",
   "metadata": {},
   "outputs": [],
   "source": [
    "lexicons = tg4.lexicons\n",
    "templates4 = tg4.template_texts\n",
    "masked = tg4.masked_texts\n",
    "labels = [sent.prediction.label for sent in tg4.sentences]\n",
    "\n",
    "editor = Editor()\n",
    "editor.add_lexicon('pos_adj', lexicons['pos_adj'])\n",
    "editor.add_lexicon('neg_adj', lexicons['neg_adj'])\n",
    "\n",
    "suite = TestSuite()"
   ]
  },
  {
   "cell_type": "code",
   "execution_count": 56,
   "id": "c134553b",
   "metadata": {},
   "outputs": [],
   "source": [
    "for template, label, i in zip(templates4, labels, range(len(templates4))):\n",
    "    t = editor.template(template, remove_duplicates=True, labels=int(label))\n",
    "\n",
    "    suite.add(MFT(\n",
    "        data=t.data,\n",
    "        labels=label,\n",
    "        capability=\"Vocabullary\", \n",
    "        name=f\"Test: MFT with vocabullary - template{i+1}\",\n",
    "        description=\"Checking if the model can handle vocabullary\")) "
   ]
  },
  {
   "cell_type": "code",
   "execution_count": 57,
   "id": "f2a19cf9",
   "metadata": {},
   "outputs": [],
   "source": [
    "suite.run(model_xlnet.predict, overwrite=True)"
   ]
  },
  {
   "cell_type": "code",
   "execution_count": 58,
   "id": "5a27af66",
   "metadata": {},
   "outputs": [],
   "source": [
    "suite.summary()"
   ]
  },
  {
   "cell_type": "code",
   "execution_count": 59,
   "id": "167fde22",
   "metadata": {},
   "outputs": [],
   "source": [
    "suite.save('./suites/posneg-approach1-xlnet.suite')"
   ]
  },
  {
   "cell_type": "markdown",
   "id": "33065add",
   "metadata": {},
   "source": [
    "# Carregando suite de teste"
   ]
  },
  {
   "cell_type": "code",
   "execution_count": 60,
   "id": "563d7be6",
   "metadata": {},
   "outputs": [
    {
     "name": "stdout",
     "output_type": "stream",
     "text": [
      "Please wait as we prepare the table data...\n"
     ]
    },
    {
     "data": {
      "application/vnd.jupyter.widget-view+json": {
       "model_id": "ad8c14adfde34d78b338414efc9cb61d",
       "version_major": 2,
       "version_minor": 0
      },
      "text/plain": [
       "SuiteSummarizer(stats={'npassed': 0, 'nfailed': 0, 'nfiltered': 0}, test_infos=[{'name': 'Test: MFT with vocab…"
      ]
     },
     "metadata": {},
     "output_type": "display_data"
    }
   ],
   "source": [
    "from checklist.test_suite import TestSuite\n",
    "suite = TestSuite.from_file('./suites/posneg-approach1-bert.suite')\n",
    "\n",
    "suite.visual_summary_table()"
   ]
  }
 ],
 "metadata": {
  "interpreter": {
   "hash": "d158b0884c902cbe5122803144f593e89d3599d27de4904257d93ccf35897e83"
  },
  "kernelspec": {
   "display_name": "Python 3",
   "language": "python",
   "name": "python3"
  },
  "language_info": {
   "codemirror_mode": {
    "name": "ipython",
    "version": 3
   },
   "file_extension": ".py",
   "mimetype": "text/x-python",
   "name": "python",
   "nbconvert_exporter": "python",
   "pygments_lexer": "ipython3",
   "version": "3.8.0"
  }
 },
 "nbformat": 4,
 "nbformat_minor": 5
}
