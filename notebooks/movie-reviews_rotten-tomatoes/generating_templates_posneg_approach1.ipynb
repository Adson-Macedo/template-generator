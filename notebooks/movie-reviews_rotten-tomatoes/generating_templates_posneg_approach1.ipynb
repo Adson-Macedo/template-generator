{
 "cells": [
  {
   "cell_type": "markdown",
   "id": "d0e2c728",
   "metadata": {},
   "source": [
    "# Abordagem 1\n",
    "\n",
    "Usando a abordagem 1 para gerar templates com foco em templates positivos e negativos. Uma possível aplicação seria testar a capacidade linguística *Vocabullary* com o teste **MFT**.\n",
    "\n",
    "As etapas desta abordagem são:\n",
    "\n",
    "1. Rankear as palavras das instâncias completas\n",
    "2. Quebrar as instâncias em sentenças\n",
    "3. Filtrar as sentenças que contêm ao menos uma das palavras mais bem rankeadas na etapa anterior\n",
    "4. Filtrar as sentenças com palavras relevantes (adjetivos ou verbos)\n",
    "5. Classificar as sentenças usando o *Oráculo*\n",
    "6. Filtrar as sentenças classificadas de forma unânime\n",
    "7. Substituir as palavras relevantes por máscaras"
   ]
  },
  {
   "cell_type": "code",
   "execution_count": 1,
   "id": "897c3a05",
   "metadata": {},
   "outputs": [],
   "source": [
    "%config Completer.use_jedi = False\n",
    "import sys\n",
    "sys.path.append('../../')"
   ]
  },
  {
   "cell_type": "markdown",
   "id": "6da847fc",
   "metadata": {},
   "source": [
    "## Carregando o dataset, o modelo alvo e os modelos auxiliares"
   ]
  },
  {
   "cell_type": "code",
   "execution_count": 2,
   "id": "f6e018fa",
   "metadata": {},
   "outputs": [
    {
     "data": {
      "text/html": [
       "<div>\n",
       "<style scoped>\n",
       "    .dataframe tbody tr th:only-of-type {\n",
       "        vertical-align: middle;\n",
       "    }\n",
       "\n",
       "    .dataframe tbody tr th {\n",
       "        vertical-align: top;\n",
       "    }\n",
       "\n",
       "    .dataframe thead th {\n",
       "        text-align: right;\n",
       "    }\n",
       "</style>\n",
       "<table border=\"1\" class=\"dataframe\">\n",
       "  <thead>\n",
       "    <tr style=\"text-align: right;\">\n",
       "      <th></th>\n",
       "      <th>label</th>\n",
       "      <th>text</th>\n",
       "      <th>words</th>\n",
       "    </tr>\n",
       "  </thead>\n",
       "  <tbody>\n",
       "    <tr>\n",
       "      <th>0</th>\n",
       "      <td>1</td>\n",
       "      <td>allen's underestimated charm delivers more goodies than lumps of coal .</td>\n",
       "      <td>11</td>\n",
       "    </tr>\n",
       "    <tr>\n",
       "      <th>1</th>\n",
       "      <td>0</td>\n",
       "      <td>skip the film and buy the philip glass soundtrack cd .</td>\n",
       "      <td>11</td>\n",
       "    </tr>\n",
       "    <tr>\n",
       "      <th>2</th>\n",
       "      <td>0</td>\n",
       "      <td>involving at times  but lapses quite casually into the absurd .</td>\n",
       "      <td>11</td>\n",
       "    </tr>\n",
       "    <tr>\n",
       "      <th>3</th>\n",
       "      <td>0</td>\n",
       "      <td>while hoffman's performance is great  the subject matter goes nowhere .</td>\n",
       "      <td>11</td>\n",
       "    </tr>\n",
       "    <tr>\n",
       "      <th>4</th>\n",
       "      <td>1</td>\n",
       "      <td>a flick about our infantilized culture that isn't entirely infantile .</td>\n",
       "      <td>11</td>\n",
       "    </tr>\n",
       "  </tbody>\n",
       "</table>\n",
       "</div>"
      ],
      "text/plain": [
       "   label  \\\n",
       "0      1   \n",
       "1      0   \n",
       "2      0   \n",
       "3      0   \n",
       "4      1   \n",
       "\n",
       "                                                                       text  \\\n",
       "0  allen's underestimated charm delivers more goodies than lumps of coal .    \n",
       "1                   skip the film and buy the philip glass soundtrack cd .    \n",
       "2          involving at times  but lapses quite casually into the absurd .    \n",
       "3  while hoffman's performance is great  the subject matter goes nowhere .    \n",
       "4   a flick about our infantilized culture that isn't entirely infantile .    \n",
       "\n",
       "   words  \n",
       "0     11  \n",
       "1     11  \n",
       "2     11  \n",
       "3     11  \n",
       "4     11  "
      ]
     },
     "execution_count": 2,
     "metadata": {},
     "output_type": "execute_result"
    }
   ],
   "source": [
    "import pandas as pd\n",
    "pd.set_option('display.max_colwidth', None)\n",
    "\n",
    "movie_reviews_rt_df = pd.read_csv('./data/data-rt-100samples.csv')\n",
    "movie_reviews_rt_df.head(5)"
   ]
  },
  {
   "cell_type": "code",
   "execution_count": 3,
   "id": "264d0dcd",
   "metadata": {},
   "outputs": [],
   "source": [
    "import re\n",
    "import numpy as np\n",
    "from torch.nn.functional import softmax\n",
    "from transformers import AutoTokenizer, AutoModelForSequenceClassification\n",
    "\n",
    "def pre_proccess(text):\n",
    "    text = text.lower()\n",
    "    text = re.sub('[\"\\',!-.:-@0-9/]()', ' ', text)\n",
    "    return text\n",
    "\n",
    "# Wrapper to adapt output format\n",
    "class SentimentAnalisysModelWrapper:\n",
    "    def __init__(self, model, tokenizer):\n",
    "        self.model = model\n",
    "        self.tokenizer = tokenizer\n",
    "        \n",
    "    def __predict(self, text_input):\n",
    "        text_preprocessed = pre_proccess(text_input)\n",
    "        tokenized = self.tokenizer(text_preprocessed, padding=True, truncation=True, max_length=512, \n",
    "                                    add_special_tokens = True, return_tensors=\"pt\")\n",
    "        \n",
    "        tensor_logits = self.model(**tokenized)\n",
    "        prob = softmax(tensor_logits[0]).detach().numpy()\n",
    "        pred = np.argmax(prob)\n",
    "        \n",
    "        return pred, prob\n",
    "    \n",
    "    def predict_label(self, text_inputs):\n",
    "        return self.predict(text_inputs)[0]\n",
    "        \n",
    "    def predict_proba(self, text_inputs):\n",
    "        return self.predict(text_inputs)[1]\n",
    "        \n",
    "    def predict(self, text_inputs):\n",
    "        if isinstance(text_inputs, str):\n",
    "            text_inputs = [text_inputs]\n",
    "        \n",
    "        preds = []\n",
    "        probs = []\n",
    "\n",
    "        for text_input in text_inputs:\n",
    "            pred, prob = self.__predict(text_input)\n",
    "            preds.append(pred)\n",
    "            probs.append(prob[0])\n",
    "\n",
    "        return np.array(preds), np.array(probs) # ([0, 1], [[0.99, 0.01], [0.03, 0.97]])\n",
    "\n",
    "# Auxiliar function to load and wrap a model from Hugging Face\n",
    "def load_model(model_name):\n",
    "    print(f'Loading model {model_name}...')\n",
    "    model = AutoModelForSequenceClassification.from_pretrained(model_name)\n",
    "    tokenizer = AutoTokenizer.from_pretrained(model_name)\n",
    "    \n",
    "    return SentimentAnalisysModelWrapper(model, tokenizer)\n",
    "\n",
    "# Hugging Face hosted model names \n",
    "movie_reviews_models = {\n",
    "    'bert': 'textattack/bert-base-uncased-rotten-tomatoes', \n",
    "    'albert': 'textattack/albert-base-v2-rotten-tomatoes', \n",
    "    'distilbert': 'textattack/distilbert-base-uncased-rotten-tomatoes', \n",
    "    'roberta': 'textattack/roberta-base-rotten-tomatoes', \n",
    "    'xlnet': 'textattack/xlnet-base-cased-rotten-tomatoes'\n",
    "}"
   ]
  },
  {
   "cell_type": "code",
   "execution_count": 4,
   "id": "2f271eae",
   "metadata": {},
   "outputs": [
    {
     "name": "stdout",
     "output_type": "stream",
     "text": [
      "Loading model textattack/albert-base-v2-rotten-tomatoes...\n",
      "Loading model textattack/distilbert-base-uncased-rotten-tomatoes...\n",
      "Loading model textattack/roberta-base-rotten-tomatoes...\n"
     ]
    },
    {
     "name": "stderr",
     "output_type": "stream",
     "text": [
      "Some weights of the model checkpoint at textattack/roberta-base-rotten-tomatoes were not used when initializing RobertaForSequenceClassification: ['roberta.pooler.dense.weight', 'roberta.pooler.dense.bias']\n",
      "- This IS expected if you are initializing RobertaForSequenceClassification from the checkpoint of a model trained on another task or with another architecture (e.g. initializing a BertForSequenceClassification model from a BertForPreTraining model).\n",
      "- This IS NOT expected if you are initializing RobertaForSequenceClassification from the checkpoint of a model that you expect to be exactly identical (initializing a BertForSequenceClassification model from a BertForSequenceClassification model).\n"
     ]
    },
    {
     "name": "stdout",
     "output_type": "stream",
     "text": [
      "Loading model textattack/xlnet-base-cased-rotten-tomatoes...\n",
      "Loading model textattack/bert-base-uncased-rotten-tomatoes...\n"
     ]
    }
   ],
   "source": [
    "m1 = load_model(movie_reviews_models['albert'])\n",
    "m2 = load_model(movie_reviews_models['distilbert'])\n",
    "m3 = load_model(movie_reviews_models['roberta'])\n",
    "m4 = load_model(movie_reviews_models['xlnet'])\n",
    "\n",
    "# Models to be used as oracle\n",
    "models = [m1, m2, m3, m4]\n",
    "# Target model\n",
    "model = load_model(movie_reviews_models['bert'])"
   ]
  },
  {
   "cell_type": "markdown",
   "id": "caae89b5",
   "metadata": {},
   "source": [
    "# Gerando os templates\n",
    "O método de rankeamento das palavras usado no PosNegTemplateGenerator é o Replace-1 Score"
   ]
  },
  {
   "cell_type": "code",
   "execution_count": 5,
   "id": "60dc1af3",
   "metadata": {},
   "outputs": [],
   "source": [
    "from template_generator.tasks.sentiment_analisys import PosNegTemplateGeneratorApp1\n",
    "\n",
    "tg = PosNegTemplateGeneratorApp1(model, models)"
   ]
  },
  {
   "cell_type": "markdown",
   "id": "4f595e69",
   "metadata": {},
   "source": [
    "### Número inicial de instâncias: 5"
   ]
  },
  {
   "cell_type": "code",
   "execution_count": 6,
   "id": "a6261506",
   "metadata": {},
   "outputs": [],
   "source": [
    "# Sampling instances\n",
    "np.random.seed(220)\n",
    "n_instances = 5\n",
    "df_sampled = movie_reviews_rt_df.sample(n_instances)\n",
    "\n",
    "instances = [x for x in df_sampled['text'].values]"
   ]
  },
  {
   "cell_type": "code",
   "execution_count": 8,
   "id": "660add17",
   "metadata": {},
   "outputs": [
    {
     "name": "stdout",
     "output_type": "stream",
     "text": [
      "Ranking words using Replace-1 Score...\n"
     ]
    },
    {
     "name": "stderr",
     "output_type": "stream",
     "text": [
      "<ipython-input-3-263ca9d23a33>:23: UserWarning: Implicit dimension choice for softmax has been deprecated. Change the call to include dim=X as an argument.\n",
      "  prob = softmax(tensor_logits[0]).detach().numpy()\n"
     ]
    },
    {
     "name": "stdout",
     "output_type": "stream",
     "text": [
      "Converting texts to sentences...\n",
      ":: 6 sentences were generated.\n",
      "Filtering instances by contaning ranked words...\n",
      ":: 1 sentences remaining.\n",
      "4\n",
      "Filtering instances by relevant words...\n",
      "['VERB', 'ADJ']\n",
      "{word: future, index: 2, tag: NOUN, rank_score: -0.001435995101928711}\n",
      "{word: for, index: 0, tag: ADP, rank_score: -0.0009976029396057129}\n",
      "{word: hopes, index: 4, tag: VERB, rank_score: -0.00036329030990600586}\n",
      "{word: one, index: 3, tag: NUM, rank_score: -0.0001398324966430664}\n",
      " \n",
      ":: 0 sentences remaining.\n",
      "Predicting inputs...\n",
      ":: Sentence predictions done.\n"
     ]
    }
   ],
   "source": [
    "templates = tg.generate_templates(instances, n_masks=2, ranked_words_count=4)"
   ]
  },
  {
   "cell_type": "markdown",
   "id": "72d150cb",
   "metadata": {},
   "source": [
    "#### Tempo de execução para 5 instâncias: 9.7s"
   ]
  },
  {
   "cell_type": "code",
   "execution_count": 9,
   "id": "193f1b65",
   "metadata": {},
   "outputs": [
    {
     "data": {
      "text/html": [
       "<div>\n",
       "<style scoped>\n",
       "    .dataframe tbody tr th:only-of-type {\n",
       "        vertical-align: middle;\n",
       "    }\n",
       "\n",
       "    .dataframe tbody tr th {\n",
       "        vertical-align: top;\n",
       "    }\n",
       "\n",
       "    .dataframe thead th {\n",
       "        text-align: right;\n",
       "    }\n",
       "</style>\n",
       "<table border=\"1\" class=\"dataframe\">\n",
       "  <thead>\n",
       "    <tr style=\"text-align: right;\">\n",
       "      <th></th>\n",
       "      <th>label</th>\n",
       "      <th>original_text</th>\n",
       "      <th>masked_text</th>\n",
       "      <th>template_text</th>\n",
       "    </tr>\n",
       "  </thead>\n",
       "  <tbody>\n",
       "  </tbody>\n",
       "</table>\n",
       "</div>"
      ],
      "text/plain": [
       "Empty DataFrame\n",
       "Columns: [label, original_text, masked_text, template_text]\n",
       "Index: []"
      ]
     },
     "execution_count": 9,
     "metadata": {},
     "output_type": "execute_result"
    }
   ],
   "source": [
    "df = tg.to_dataframe()\n",
    "df"
   ]
  },
  {
   "cell_type": "code",
   "execution_count": 10,
   "id": "7f98d8ba",
   "metadata": {},
   "outputs": [
    {
     "data": {
      "text/plain": [
       "{'pos_verb': [], 'neg_verb': [], 'pos_adj': [], 'neg_adj': []}"
      ]
     },
     "execution_count": 10,
     "metadata": {},
     "output_type": "execute_result"
    }
   ],
   "source": [
    "tg.lexicons"
   ]
  },
  {
   "cell_type": "markdown",
   "id": "01a27f1f",
   "metadata": {},
   "source": [
    "### Número inicial de instâncias: 100"
   ]
  },
  {
   "cell_type": "code",
   "execution_count": 11,
   "id": "cd4a7fe3",
   "metadata": {},
   "outputs": [],
   "source": [
    "# Using all 100 instances\n",
    "instances = [x for x in movie_reviews_rt_df['text'].values]"
   ]
  },
  {
   "cell_type": "code",
   "execution_count": 12,
   "id": "f1f3f383",
   "metadata": {},
   "outputs": [
    {
     "name": "stdout",
     "output_type": "stream",
     "text": [
      "Ranking words using Replace-1 Score...\n"
     ]
    },
    {
     "name": "stderr",
     "output_type": "stream",
     "text": [
      "<ipython-input-3-263ca9d23a33>:23: UserWarning: Implicit dimension choice for softmax has been deprecated. Change the call to include dim=X as an argument.\n",
      "  prob = softmax(tensor_logits[0]).detach().numpy()\n"
     ]
    },
    {
     "name": "stdout",
     "output_type": "stream",
     "text": [
      "Converting texts to sentences...\n",
      ":: 134 sentences were generated.\n",
      "Filtering instances by contaning ranked words...\n",
      ":: 23 sentences remaining.\n",
      "4\n",
      "Filtering instances by relevant words...\n",
      "['VERB', 'ADJ']\n",
      "{word: well-made, index: 5, tag: ADJ, rank_score: -0.0003566145896911621}\n",
      "{word: clunker, index: 11, tag: NOUN, rank_score: -0.00032889842987060547}\n",
      "{word: clunker, index: 8, tag: NOUN, rank_score: 0.00023746490478515625}\n",
      "{word: thoughtful, index: 6, tag: ADJ, rank_score: -0.00020372867584228516}\n",
      " \n",
      "['VERB', 'ADJ']\n",
      "{word: and, index: 7, tag: CONJ, rank_score: -0.40014511346817017}\n",
      "{word: this, index: 9, tag: DET, rank_score: -0.3538123369216919}\n",
      "{word: regard, index: 10, tag: NOUN, rank_score: -0.012109756469726562}\n",
      "{word: guard, index: 12, tag: NOUN, rank_score: 0.0036880970001220703}\n",
      " \n",
      "['VERB', 'ADJ']\n",
      "{word: bad, index: 7, tag: ADJ, rank_score: -0.014482975006103516}\n",
      "{word: trailers, index: 10, tag: NOUN, rank_score: -0.007329761981964111}\n",
      "{word: as, index: 6, tag: ADV, rank_score: -0.0021179914474487305}\n",
      "{word: could, index: 0, tag: VERB, rank_score: 0.0005402565002441406}\n",
      " \n",
      "['VERB', 'ADJ']\n",
      "{word: pauly, index: 9, tag: ADV, rank_score: 0.0012099742889404297}\n",
      "{word: ., index: 12, tag: ., rank_score: 0.0011734366416931152}\n",
      "{word: shore, index: 10, tag: ADJ, rank_score: 0.0011513233184814453}\n",
      "{word: 's, index: 8, tag: VERB, rank_score: 0.0010903477668762207}\n",
      " \n",
      "['VERB', 'ADJ']\n",
      "{word: do, index: 13, tag: VERB, rank_score: 0.0012073516845703125}\n",
      "{word: you, index: 16, tag: PRON, rank_score: 0.0011971592903137207}\n",
      "{word: ., index: 20, tag: ., rank_score: 0.0011734366416931152}\n",
      "{word: were, index: 17, tag: VERB, rank_score: 0.001150369644165039}\n",
      " \n",
      "['VERB', 'ADJ']\n",
      "{word: love, index: 17, tag: VERB, rank_score: -0.01655733585357666}\n",
      "{word: you, index: 14, tag: PRON, rank_score: -0.0027562379837036133}\n",
      "{word: 'll, index: 15, tag: VERB, rank_score: -0.002101004123687744}\n",
      "{word: probably, index: 16, tag: ADV, rank_score: 0.0013809800148010254}\n",
      " \n",
      "['VERB', 'ADJ']\n",
      "{word: marks, index: 15, tag: NOUN, rank_score: -0.8471351265907288}\n",
      "{word: hits, index: 11, tag: VERB, rank_score: -0.3974180221557617}\n",
      "{word: it, index: 16, tag: PRON, rank_score: -0.0462687611579895}\n",
      "{word: should, index: 17, tag: VERB, rank_score: -0.028089284896850586}\n",
      " \n",
      "['VERB', 'ADJ']\n",
      "{word: and, index: 7, tag: CONJ, rank_score: -0.0007128715515136719}\n",
      "{word: vengeance, index: 17, tag: NOUN, rank_score: -0.00013494491577148438}\n",
      "{word: monsters, index: 12, tag: NOUN, rank_score: -0.00012129545211791992}\n",
      "{word: scary, index: 8, tag: ADJ, rank_score: -6.514787673950195e-05}\n",
      " \n",
      "['VERB', 'ADJ']\n",
      "{word: future, index: 2, tag: NOUN, rank_score: -0.001435995101928711}\n",
      "{word: for, index: 0, tag: ADP, rank_score: -0.0009976029396057129}\n",
      "{word: hopes, index: 4, tag: VERB, rank_score: -0.00036329030990600586}\n",
      "{word: one, index: 3, tag: NUM, rank_score: -0.0001398324966430664}\n",
      " \n",
      "['VERB', 'ADJ']\n",
      "{word: nothing, index: 20, tag: NOUN, rank_score: -0.9948995113372803}\n",
      "{word: in, index: 16, tag: ADP, rank_score: -0.0006541013717651367}\n",
      "{word: and, index: 13, tag: CONJ, rank_score: -0.0005652904510498047}\n",
      "{word: end, index: 18, tag: NOUN, rank_score: -0.0003898739814758301}\n",
      " \n",
      "['VERB', 'ADJ']\n",
      "{word: peek, index: 10, tag: NOUN, rank_score: -0.0011954307556152344}\n",
      "{word: portrait, index: 4, tag: NOUN, rank_score: -0.0005932450294494629}\n",
      "{word: than, index: 1, tag: ADP, rank_score: -0.0005562305450439453}\n",
      "{word: revolution, index: 15, tag: NOUN, rank_score: -0.00048214197158813477}\n",
      " \n",
      "['VERB', 'ADJ']\n",
      "{word: charming, index: 21, tag: ADJ, rank_score: -0.002509474754333496}\n",
      "{word: result, index: 22, tag: NOUN, rank_score: -0.0006540417671203613}\n",
      "{word: festival, index: 24, tag: ADJ, rank_score: -0.0005971789360046387}\n",
      "{word: the, index: 20, tag: DET, rank_score: -0.0004910826683044434}\n",
      " \n",
      "['VERB', 'ADJ']\n",
      "{word: pseudo-sophisticated, index: 9, tag: ADJ, rank_score: -0.006529808044433594}\n",
      "{word: patter, index: 7, tag: NOUN, rank_score: -0.001844167709350586}\n",
      "{word: and, index: 8, tag: CONJ, rank_score: -0.0005475878715515137}\n",
      "{word: remainder, index: 14, tag: NOUN, rank_score: -0.0005347728729248047}\n",
      " \n",
      "['VERB', 'ADJ']\n",
      "{word: as, index: 5, tag: ADP, rank_score: 0.015544414520263672}\n",
      "{word: not, index: 0, tag: ADV, rank_score: 0.015025615692138672}\n",
      "{word: much, index: 2, tag: ADV, rank_score: 0.014945447444915771}\n",
      "{word: picture, index: 7, tag: NOUN, rank_score: 0.01477062702178955}\n",
      " \n",
      "['VERB', 'ADJ']\n",
      "{word: which, index: 9, tag: DET, rank_score: -6.35981559753418e-05}\n",
      "{word: incoherent, index: 2, tag: NOUN, rank_score: 2.3484230041503906e-05}\n",
      "{word: self-indulgent, index: 3, tag: ADJ, rank_score: -1.4901161193847656e-05}\n",
      "{word: two, index: 19, tag: NUM, rank_score: -1.1682510375976562e-05}\n",
      " \n",
      "['VERB', 'ADJ']\n",
      "{word: pretentious, index: 27, tag: ADJ, rank_score: -2.777576446533203e-05}\n",
      "{word: of, index: 26, tag: ADP, rank_score: 1.8477439880371094e-05}\n",
      "{word: meaningless, index: 28, tag: NOUN, rank_score: -1.4901161193847656e-05}\n",
      "{word: a, index: 24, tag: DET, rank_score: -1.3470649719238281e-05}\n",
      " \n",
      "['VERB', 'ADJ']\n",
      "{word: love, index: 20, tag: NOUN, rank_score: -0.5950095653533936}\n",
      "{word: with, index: 16, tag: ADP, rank_score: -0.5302603244781494}\n",
      "{word: his, index: 24, tag: PRON, rank_score: -0.23003166913986206}\n",
      "{word: deal, index: 15, tag: NOUN, rank_score: -0.11308050155639648}\n",
      " \n",
      "['VERB', 'ADJ']\n",
      "{word: lost, index: 35, tag: VERB, rank_score: -0.9756104946136475}\n",
      "{word: but, index: 16, tag: CONJ, rank_score: -0.008833527565002441}\n",
      "{word: velma, index: 30, tag: NOUN, rank_score: -0.0020632147789001465}\n",
      "{word: 're, index: 19, tag: VERB, rank_score: -0.0013200640678405762}\n",
      " \n",
      "['VERB', 'ADJ']\n",
      "{word: industry, index: 18, tag: NOUN, rank_score: -0.002203822135925293}\n",
      "{word: inspiring, index: 6, tag: VERB, rank_score: -0.0015737414360046387}\n",
      "{word: ridiculous, index: 13, tag: ADJ, rank_score: 0.001466214656829834}\n",
      "{word: how, index: 12, tag: ADV, rank_score: -0.001256704330444336}\n",
      " \n",
      "['VERB', 'ADJ']\n",
      "{word: testament, index: 26, tag: NOUN, rank_score: 0.0012981891632080078}\n",
      "{word: band, index: 34, tag: NOUN, rank_score: -0.00041866302490234375}\n",
      "{word: it, index: 22, tag: PRON, rank_score: -0.0004023909568786621}\n",
      "{word: is, index: 23, tag: VERB, rank_score: 0.00026917457580566406}\n",
      " \n",
      "['VERB', 'ADJ']\n",
      "{word: reveals, index: 0, tag: NOUN, rank_score: -0.0003070831298828125}\n",
      "{word: others, index: 14, tag: NOUN, rank_score: 5.882978439331055e-05}\n",
      "{word: important, index: 2, tag: ADJ, rank_score: 5.5730342864990234e-05}\n",
      "{word: how, index: 1, tag: ADV, rank_score: -5.40614128112793e-05}\n",
      " \n",
      "['VERB', 'ADJ']\n",
      "{word: whereas, index: 0, tag: ADP, rank_score: -0.005041718482971191}\n",
      "{word: cletis, index: 25, tag: NOUN, rank_score: -0.0001786351203918457}\n",
      "{word: such, index: 6, tag: ADJ, rank_score: -0.00015491247177124023}\n",
      "{word: tout, index: 26, tag: NOUN, rank_score: -0.00014847517013549805}\n",
      " \n",
      "['VERB', 'ADJ']\n",
      "{word: movie, index: 31, tag: NOUN, rank_score: -0.002926051616668701}\n",
      "{word: an, index: 45, tag: DET, rank_score: -0.0015833377838134766}\n",
      "{word: eat, index: 48, tag: VERB, rank_score: -0.0011666417121887207}\n",
      "{word: to, index: 47, tag: PRT, rank_score: -0.001161038875579834}\n",
      " \n",
      ":: 9 sentences remaining.\n",
      "Predicting inputs...\n",
      ":: Sentence predictions done.\n"
     ]
    }
   ],
   "source": [
    "tg = PosNegTemplateGeneratorApp1(model, models)\n",
    "templates = tg.generate_templates(instances, n_masks=2, ranked_words_count=4)"
   ]
  },
  {
   "cell_type": "markdown",
   "id": "2aaf7e38",
   "metadata": {},
   "source": [
    "#### Tempo de execução para 100 instâncias: 4m 17.8s"
   ]
  },
  {
   "cell_type": "code",
   "execution_count": 13,
   "id": "5c3c1541",
   "metadata": {},
   "outputs": [
    {
     "data": {
      "text/html": [
       "<div>\n",
       "<style scoped>\n",
       "    .dataframe tbody tr th:only-of-type {\n",
       "        vertical-align: middle;\n",
       "    }\n",
       "\n",
       "    .dataframe tbody tr th {\n",
       "        vertical-align: top;\n",
       "    }\n",
       "\n",
       "    .dataframe thead th {\n",
       "        text-align: right;\n",
       "    }\n",
       "</style>\n",
       "<table border=\"1\" class=\"dataframe\">\n",
       "  <thead>\n",
       "    <tr style=\"text-align: right;\">\n",
       "      <th></th>\n",
       "      <th>label</th>\n",
       "      <th>original_text</th>\n",
       "      <th>masked_text</th>\n",
       "      <th>template_text</th>\n",
       "    </tr>\n",
       "  </thead>\n",
       "  <tbody>\n",
       "    <tr>\n",
       "      <th>0</th>\n",
       "      <td>0</td>\n",
       "      <td>a well-made  thoughtful  well-acted clunker  but a clunker nonetheless .</td>\n",
       "      <td>a {mask} {mask} well-acted clunker but a clunker nonetheless .</td>\n",
       "      <td>a {pos_adj} {neg_adj} well-acted clunker but a clunker nonetheless .</td>\n",
       "    </tr>\n",
       "    <tr>\n",
       "      <th>1</th>\n",
       "      <td>0</td>\n",
       "      <td>could the country bears really be as bad as its trailers ?</td>\n",
       "      <td>{mask} the country bears really be as {mask} as its trailers ?</td>\n",
       "      <td>{neg_verb} the country bears really be as {neg_adj} as its trailers ?</td>\n",
       "    </tr>\n",
       "    <tr>\n",
       "      <th>2</th>\n",
       "      <td>0</td>\n",
       "      <td>it's pauly shore awful .</td>\n",
       "      <td>it {mask} pauly {mask} awful .</td>\n",
       "      <td>it {neg_verb} pauly {neg_adj} awful .</td>\n",
       "    </tr>\n",
       "    <tr>\n",
       "      <th>3</th>\n",
       "      <td>0</td>\n",
       "      <td>don't say you weren't warned .</td>\n",
       "      <td>{mask} n't say you {mask} n't warned .</td>\n",
       "      <td>{neg_verb} n't say you {neg_verb} n't warned .</td>\n",
       "    </tr>\n",
       "    <tr>\n",
       "      <th>4</th>\n",
       "      <td>1</td>\n",
       "      <td>you'll probably love it .</td>\n",
       "      <td>you {mask} probably {mask} it .</td>\n",
       "      <td>you {pos_verb} probably {pos_verb} it .</td>\n",
       "    </tr>\n",
       "    <tr>\n",
       "      <th>5</th>\n",
       "      <td>0</td>\n",
       "      <td>hits all the verbal marks it should .</td>\n",
       "      <td>{mask} all the verbal marks it {mask} .</td>\n",
       "      <td>{pos_verb} all the verbal marks it {neg_verb} .</td>\n",
       "    </tr>\n",
       "    <tr>\n",
       "      <th>6</th>\n",
       "      <td>1</td>\n",
       "      <td>the charming result is festival in cannes .</td>\n",
       "      <td>the {mask} result is {mask} in cannes .</td>\n",
       "      <td>the {pos_adj} result is {pos_adj} in cannes .</td>\n",
       "    </tr>\n",
       "    <tr>\n",
       "      <th>7</th>\n",
       "      <td>0</td>\n",
       "      <td>/ but daphne  you're too buff / fred thinks he's tough / and velma - wow  you've lost weight !</td>\n",
       "      <td>/ but daphne you {mask} too buff / fred thinks he 's tough / and velma - wow you 've {mask} weight !</td>\n",
       "      <td>/ but daphne you {neg_verb} too buff / fred thinks he 's tough / and velma - wow you 've {neg_verb} weight !</td>\n",
       "    </tr>\n",
       "    <tr>\n",
       "      <th>8</th>\n",
       "      <td>1</td>\n",
       "      <td>is inspiring ironic and revelatory of just how ridiculous and money-oriented the record industry really is .</td>\n",
       "      <td>is {mask} ironic and revelatory of just how {mask} and money-oriented the record industry really is .</td>\n",
       "      <td>is {pos_verb} ironic and revelatory of just how {neg_adj} and money-oriented the record industry really is .</td>\n",
       "    </tr>\n",
       "  </tbody>\n",
       "</table>\n",
       "</div>"
      ],
      "text/plain": [
       "   label  \\\n",
       "0      0   \n",
       "1      0   \n",
       "2      0   \n",
       "3      0   \n",
       "4      1   \n",
       "5      0   \n",
       "6      1   \n",
       "7      0   \n",
       "8      1   \n",
       "\n",
       "                                                                                                  original_text  \\\n",
       "0                                      a well-made  thoughtful  well-acted clunker  but a clunker nonetheless .   \n",
       "1                                                    could the country bears really be as bad as its trailers ?   \n",
       "2                                                                                      it's pauly shore awful .   \n",
       "3                                                                                don't say you weren't warned .   \n",
       "4                                                                                     you'll probably love it .   \n",
       "5                                                                         hits all the verbal marks it should .   \n",
       "6                                                                   the charming result is festival in cannes .   \n",
       "7                / but daphne  you're too buff / fred thinks he's tough / and velma - wow  you've lost weight !   \n",
       "8  is inspiring ironic and revelatory of just how ridiculous and money-oriented the record industry really is .   \n",
       "\n",
       "                                                                                             masked_text  \\\n",
       "0                                         a {mask} {mask} well-acted clunker but a clunker nonetheless .   \n",
       "1                                         {mask} the country bears really be as {mask} as its trailers ?   \n",
       "2                                                                         it {mask} pauly {mask} awful .   \n",
       "3                                                                 {mask} n't say you {mask} n't warned .   \n",
       "4                                                                        you {mask} probably {mask} it .   \n",
       "5                                                                {mask} all the verbal marks it {mask} .   \n",
       "6                                                                the {mask} result is {mask} in cannes .   \n",
       "7   / but daphne you {mask} too buff / fred thinks he 's tough / and velma - wow you 've {mask} weight !   \n",
       "8  is {mask} ironic and revelatory of just how {mask} and money-oriented the record industry really is .   \n",
       "\n",
       "                                                                                                  template_text  \n",
       "0                                          a {pos_adj} {neg_adj} well-acted clunker but a clunker nonetheless .  \n",
       "1                                         {neg_verb} the country bears really be as {neg_adj} as its trailers ?  \n",
       "2                                                                         it {neg_verb} pauly {neg_adj} awful .  \n",
       "3                                                                {neg_verb} n't say you {neg_verb} n't warned .  \n",
       "4                                                                       you {pos_verb} probably {pos_verb} it .  \n",
       "5                                                               {pos_verb} all the verbal marks it {neg_verb} .  \n",
       "6                                                                 the {pos_adj} result is {pos_adj} in cannes .  \n",
       "7  / but daphne you {neg_verb} too buff / fred thinks he 's tough / and velma - wow you 've {neg_verb} weight !  \n",
       "8  is {pos_verb} ironic and revelatory of just how {neg_adj} and money-oriented the record industry really is .  "
      ]
     },
     "execution_count": 13,
     "metadata": {},
     "output_type": "execute_result"
    }
   ],
   "source": [
    "df = tg.to_dataframe()\n",
    "df"
   ]
  },
  {
   "cell_type": "code",
   "execution_count": 14,
   "id": "0571a42d",
   "metadata": {},
   "outputs": [
    {
     "data": {
      "text/plain": [
       "{'pos_verb': [\"'ll\", 'hits', 'love', 'inspiring'],\n",
       " 'neg_verb': ['lost', \"'s\", 'do', 'could', 'should', 'were', \"'re\"],\n",
       " 'pos_adj': ['well-made', 'charming', 'festival'],\n",
       " 'neg_adj': ['bad', 'shore', 'thoughtful', 'ridiculous']}"
      ]
     },
     "execution_count": 14,
     "metadata": {},
     "output_type": "execute_result"
    }
   ],
   "source": [
    "tg.lexicons"
   ]
  },
  {
   "cell_type": "markdown",
   "id": "0b128e49",
   "metadata": {},
   "source": [
    "## Checklist"
   ]
  },
  {
   "cell_type": "code",
   "execution_count": 15,
   "id": "ad2b0738",
   "metadata": {},
   "outputs": [],
   "source": [
    "import checklist\n",
    "from checklist.editor import Editor\n",
    "from checklist.test_suite import TestSuite\n",
    "from checklist.test_types import MFT"
   ]
  },
  {
   "cell_type": "code",
   "execution_count": 16,
   "id": "8d3415da",
   "metadata": {},
   "outputs": [],
   "source": [
    "lexicons = tg.lexicons\n",
    "templates = tg.template_texts\n",
    "masked = tg.masked_texts\n",
    "labels = [sent.prediction.label for sent in tg.sentences]\n",
    "\n",
    "editor = Editor()\n",
    "editor.add_lexicon('pos_verb', lexicons['pos_verb'])\n",
    "editor.add_lexicon('neg_verb', lexicons['neg_verb'])\n",
    "editor.add_lexicon('pos_adj', lexicons['pos_adj'])\n",
    "editor.add_lexicon('neg_adj', lexicons['neg_adj'])\n",
    "\n",
    "suite = TestSuite()"
   ]
  },
  {
   "cell_type": "code",
   "execution_count": 17,
   "id": "c134553b",
   "metadata": {},
   "outputs": [],
   "source": [
    "for template, label, i in zip(templates, labels, range(len(templates))):\n",
    "    t = editor.template(template, remove_duplicates=True, labels=int(label))\n",
    "\n",
    "    suite.add(MFT(\n",
    "        data=t.data,\n",
    "        labels=label,\n",
    "        capability=\"Vocabullary\", \n",
    "        name=f\"Test: MFT with vocabullary - template{i+1}\",\n",
    "        description=\"Checking if the model can handle vocabullary\")) "
   ]
  },
  {
   "cell_type": "code",
   "execution_count": 18,
   "id": "f2a19cf9",
   "metadata": {},
   "outputs": [
    {
     "name": "stdout",
     "output_type": "stream",
     "text": [
      "Running Test: MFT with vocabullary - template1\n",
      "Predicting 12 examples\n"
     ]
    },
    {
     "name": "stderr",
     "output_type": "stream",
     "text": [
      "<ipython-input-3-263ca9d23a33>:23: UserWarning: Implicit dimension choice for softmax has been deprecated. Change the call to include dim=X as an argument.\n",
      "  prob = softmax(tensor_logits[0]).detach().numpy()\n"
     ]
    },
    {
     "name": "stdout",
     "output_type": "stream",
     "text": [
      "Running Test: MFT with vocabullary - template2\n",
      "Predicting 28 examples\n",
      "Running Test: MFT with vocabullary - template3\n",
      "Predicting 28 examples\n",
      "Running Test: MFT with vocabullary - template4\n",
      "Predicting 7 examples\n",
      "Running Test: MFT with vocabullary - template5\n",
      "Predicting 4 examples\n",
      "Running Test: MFT with vocabullary - template6\n",
      "Predicting 28 examples\n",
      "Running Test: MFT with vocabullary - template7\n",
      "Predicting 3 examples\n",
      "Running Test: MFT with vocabullary - template8\n",
      "Predicting 7 examples\n",
      "Running Test: MFT with vocabullary - template9\n",
      "Predicting 16 examples\n"
     ]
    }
   ],
   "source": [
    "suite.run(model.predict, overwrite=True)"
   ]
  },
  {
   "cell_type": "code",
   "execution_count": 19,
   "id": "5a27af66",
   "metadata": {},
   "outputs": [
    {
     "name": "stdout",
     "output_type": "stream",
     "text": [
      "Vocabullary\n",
      "\n",
      "Test: MFT with vocabullary - template1\n",
      "Test cases:      12\n",
      "Fails (rate):    0 (0.0%)\n",
      "\n",
      "\n",
      "Test: MFT with vocabullary - template2\n",
      "Test cases:      28\n",
      "Fails (rate):    0 (0.0%)\n",
      "\n",
      "\n",
      "Test: MFT with vocabullary - template3\n",
      "Test cases:      28\n",
      "Fails (rate):    0 (0.0%)\n",
      "\n",
      "\n",
      "Test: MFT with vocabullary - template4\n",
      "Test cases:      7\n",
      "Fails (rate):    0 (0.0%)\n",
      "\n",
      "\n",
      "Test: MFT with vocabullary - template5\n",
      "Test cases:      4\n",
      "Fails (rate):    2 (50.0%)\n",
      "\n",
      "Example fails:\n",
      "0.2 you hits probably hits it .\n",
      "----\n",
      "0.0 you 'll probably 'll it .\n",
      "----\n",
      "\n",
      "\n",
      "Test: MFT with vocabullary - template6\n",
      "Test cases:      28\n",
      "Fails (rate):    14 (50.0%)\n",
      "\n",
      "Example fails:\n",
      "0.9 love all the verbal marks it should .\n",
      "----\n",
      "1.0 inspiring all the verbal marks it 're .\n",
      "----\n",
      "1.0 inspiring all the verbal marks it were .\n",
      "----\n",
      "\n",
      "\n",
      "Test: MFT with vocabullary - template7\n",
      "Test cases:      3\n",
      "Fails (rate):    0 (0.0%)\n",
      "\n",
      "\n",
      "Test: MFT with vocabullary - template8\n",
      "Test cases:      7\n",
      "Fails (rate):    6 (85.7%)\n",
      "\n",
      "Example fails:\n",
      "1.0 / but daphne you 's too buff / fred thinks he 's tough / and velma - wow you 've 's weight !\n",
      "----\n",
      "0.9 / but daphne you should too buff / fred thinks he 's tough / and velma - wow you 've should weight !\n",
      "----\n",
      "1.0 / but daphne you do too buff / fred thinks he 's tough / and velma - wow you 've do weight !\n",
      "----\n",
      "\n",
      "\n",
      "Test: MFT with vocabullary - template9\n",
      "Test cases:      16\n",
      "Fails (rate):    0 (0.0%)\n",
      "\n",
      "\n",
      "\n",
      "\n"
     ]
    }
   ],
   "source": [
    "suite.summary()"
   ]
  },
  {
   "cell_type": "code",
   "execution_count": 20,
   "id": "167fde22",
   "metadata": {},
   "outputs": [],
   "source": [
    "suite.save('./suites/posneg-approach1.suite')"
   ]
  },
  {
   "cell_type": "markdown",
   "id": "33065add",
   "metadata": {},
   "source": [
    "# Carregando suite de teste"
   ]
  },
  {
   "cell_type": "code",
   "execution_count": 21,
   "id": "563d7be6",
   "metadata": {},
   "outputs": [
    {
     "name": "stdout",
     "output_type": "stream",
     "text": [
      "Please wait as we prepare the table data...\n"
     ]
    },
    {
     "data": {
      "application/vnd.jupyter.widget-view+json": {
       "model_id": "f1712f6e11f1451ab65ab9316c463d37",
       "version_major": 2,
       "version_minor": 0
      },
      "text/plain": [
       "SuiteSummarizer(stats={'npassed': 0, 'nfailed': 0, 'nfiltered': 0}, test_infos=[{'name': 'Test: MFT with vocab…"
      ]
     },
     "metadata": {},
     "output_type": "display_data"
    }
   ],
   "source": [
    "from checklist.test_suite import TestSuite\n",
    "suite = TestSuite.from_file('./suites/posneg-approach1.suite')\n",
    "\n",
    "suite.visual_summary_table()"
   ]
  },
  {
   "cell_type": "markdown",
   "id": "891d7d53",
   "metadata": {},
   "source": [
    "# teste"
   ]
  },
  {
   "cell_type": "code",
   "execution_count": 22,
   "id": "8c8c3aab",
   "metadata": {},
   "outputs": [],
   "source": [
    "lexicons = tg.lexicons\n",
    "templates = tg.template_texts\n",
    "labels = [sent.prediction.label for sent in tg.sentences]\n",
    "\n",
    "editor = Editor()\n",
    "editor.add_lexicon('pos_verb', lexicons['pos_verb'])\n",
    "editor.add_lexicon('neg_verb', lexicons['neg_verb'])\n",
    "editor.add_lexicon('pos_adj', lexicons['pos_adj'])\n",
    "editor.add_lexicon('neg_adj', lexicons['neg_adj'])\n",
    "\n",
    "suite = TestSuite()"
   ]
  },
  {
   "cell_type": "code",
   "execution_count": 23,
   "id": "0b5ca8f4",
   "metadata": {},
   "outputs": [],
   "source": [
    "data = []\n",
    "lbl = []\n",
    "for template, label in zip(templates, labels):\n",
    "    t = editor.template(template, remove_duplicates=True, labels=int(label))\n",
    "    data.extend(t.data)\n",
    "    lbl.extend(t.labels)\n",
    "\n",
    "suite.add(MFT(\n",
    "    data=data,\n",
    "    labels=lbl,\n",
    "    capability=\"Vocabullary\",\n",
    "    name=\"Template Generator - Vocabulary in MFT\",\n",
    "    description=\"Testing the model for vocabulary capability\"))"
   ]
  },
  {
   "cell_type": "code",
   "execution_count": 24,
   "id": "e985f471",
   "metadata": {},
   "outputs": [
    {
     "name": "stdout",
     "output_type": "stream",
     "text": [
      "Running Template Generator - Vocabulary in MFT\n",
      "Predicting 133 examples\n"
     ]
    },
    {
     "name": "stderr",
     "output_type": "stream",
     "text": [
      "<ipython-input-3-263ca9d23a33>:23: UserWarning: Implicit dimension choice for softmax has been deprecated. Change the call to include dim=X as an argument.\n",
      "  prob = softmax(tensor_logits[0]).detach().numpy()\n"
     ]
    }
   ],
   "source": [
    "suite.run(model.predict, overwrite=True)"
   ]
  },
  {
   "cell_type": "code",
   "execution_count": 25,
   "id": "66be5ed1",
   "metadata": {},
   "outputs": [
    {
     "name": "stdout",
     "output_type": "stream",
     "text": [
      "Vocabullary\n",
      "\n",
      "Template Generator - Vocabulary in MFT\n",
      "Test cases:      133\n",
      "Fails (rate):    22 (16.5%)\n",
      "\n",
      "Example fails:\n",
      "1.0 love all the verbal marks it do .\n",
      "----\n",
      "1.0 love all the verbal marks it were .\n",
      "----\n",
      "0.9 / but daphne you 're too buff / fred thinks he 's tough / and velma - wow you 've 're weight !\n",
      "----\n",
      "\n",
      "\n",
      "\n",
      "\n"
     ]
    }
   ],
   "source": [
    "suite.summary()"
   ]
  }
 ],
 "metadata": {
  "interpreter": {
   "hash": "d158b0884c902cbe5122803144f593e89d3599d27de4904257d93ccf35897e83"
  },
  "kernelspec": {
   "display_name": "Python 3",
   "language": "python",
   "name": "python3"
  },
  "language_info": {
   "codemirror_mode": {
    "name": "ipython",
    "version": 3
   },
   "file_extension": ".py",
   "mimetype": "text/x-python",
   "name": "python",
   "nbconvert_exporter": "python",
   "pygments_lexer": "ipython3",
   "version": "3.8.0"
  }
 },
 "nbformat": 4,
 "nbformat_minor": 5
}
