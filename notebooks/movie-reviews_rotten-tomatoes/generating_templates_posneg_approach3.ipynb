{
 "cells": [
  {
   "cell_type": "markdown",
   "id": "d0e2c728",
   "metadata": {},
   "source": [
    "# Abordagem 3\n",
    "\n",
    "Usando a abordagem 3 para gerar templates com foco em templates positivos e negativos. Uma possível aplicação seria testar a capacidade linguística \"Vocabulary\" com o teste MFT.\n",
    "\n",
    "As etapas desta abordagem são:\n",
    "\n",
    "1. Quebrar a instância em sentenças\n",
    "2. Classificar as sentenças usando um ou mais modelos para ajudar a rotular as sentenças\n",
    "3. Filtrar as sentenças classificadas de forma unânime\n",
    "4. Filtrar as sentenças com alta confiança nas predições\n",
    "5. Rankear as palavras de cada sentença\n",
    "6. Filtrar sentenças com palavras relevantes (verbos e adjetivos)\n",
    "7. Substituir as palavras relevantes por máscaras"
   ]
  },
  {
   "cell_type": "code",
   "execution_count": 1,
   "id": "897c3a05",
   "metadata": {},
   "outputs": [],
   "source": [
    "%config Completer.use_jedi = False\n",
    "import sys\n",
    "sys.path.append('../')"
   ]
  },
  {
   "cell_type": "markdown",
   "id": "6da847fc",
   "metadata": {},
   "source": [
    "## Carregando o dataset, o modelo alvo e os modelos auxiliares"
   ]
  },
  {
   "cell_type": "code",
   "execution_count": 2,
   "id": "f6e018fa",
   "metadata": {},
   "outputs": [
    {
     "data": {
      "text/html": [
       "<div>\n",
       "<style scoped>\n",
       "    .dataframe tbody tr th:only-of-type {\n",
       "        vertical-align: middle;\n",
       "    }\n",
       "\n",
       "    .dataframe tbody tr th {\n",
       "        vertical-align: top;\n",
       "    }\n",
       "\n",
       "    .dataframe thead th {\n",
       "        text-align: right;\n",
       "    }\n",
       "</style>\n",
       "<table border=\"1\" class=\"dataframe\">\n",
       "  <thead>\n",
       "    <tr style=\"text-align: right;\">\n",
       "      <th></th>\n",
       "      <th>label</th>\n",
       "      <th>text</th>\n",
       "      <th>words</th>\n",
       "    </tr>\n",
       "  </thead>\n",
       "  <tbody>\n",
       "    <tr>\n",
       "      <th>0</th>\n",
       "      <td>1</td>\n",
       "      <td>allen's underestimated charm delivers more goodies than lumps of coal .</td>\n",
       "      <td>11</td>\n",
       "    </tr>\n",
       "    <tr>\n",
       "      <th>1</th>\n",
       "      <td>0</td>\n",
       "      <td>skip the film and buy the philip glass soundtrack cd .</td>\n",
       "      <td>11</td>\n",
       "    </tr>\n",
       "    <tr>\n",
       "      <th>2</th>\n",
       "      <td>0</td>\n",
       "      <td>involving at times  but lapses quite casually into the absurd .</td>\n",
       "      <td>11</td>\n",
       "    </tr>\n",
       "    <tr>\n",
       "      <th>3</th>\n",
       "      <td>0</td>\n",
       "      <td>while hoffman's performance is great  the subject matter goes nowhere .</td>\n",
       "      <td>11</td>\n",
       "    </tr>\n",
       "    <tr>\n",
       "      <th>4</th>\n",
       "      <td>1</td>\n",
       "      <td>a flick about our infantilized culture that isn't entirely infantile .</td>\n",
       "      <td>11</td>\n",
       "    </tr>\n",
       "  </tbody>\n",
       "</table>\n",
       "</div>"
      ],
      "text/plain": [
       "   label  \\\n",
       "0      1   \n",
       "1      0   \n",
       "2      0   \n",
       "3      0   \n",
       "4      1   \n",
       "\n",
       "                                                                       text  \\\n",
       "0  allen's underestimated charm delivers more goodies than lumps of coal .    \n",
       "1                   skip the film and buy the philip glass soundtrack cd .    \n",
       "2          involving at times  but lapses quite casually into the absurd .    \n",
       "3  while hoffman's performance is great  the subject matter goes nowhere .    \n",
       "4   a flick about our infantilized culture that isn't entirely infantile .    \n",
       "\n",
       "   words  \n",
       "0     11  \n",
       "1     11  \n",
       "2     11  \n",
       "3     11  \n",
       "4     11  "
      ]
     },
     "execution_count": 2,
     "metadata": {},
     "output_type": "execute_result"
    }
   ],
   "source": [
    "import pandas as pd\n",
    "pd.set_option('display.max_colwidth', None)\n",
    "\n",
    "movie_reviews_rt_df = pd.read_csv('./data/data-rt-100samples.csv')\n",
    "movie_reviews_rt_df.head(5)"
   ]
  },
  {
   "cell_type": "code",
   "execution_count": 3,
   "id": "264d0dcd",
   "metadata": {},
   "outputs": [],
   "source": [
    "import re\n",
    "import numpy as np\n",
    "from torch.nn.functional import softmax\n",
    "from transformers import AutoTokenizer, AutoModelForSequenceClassification\n",
    "\n",
    "def pre_proccess(text):\n",
    "    text = text.lower()\n",
    "    text = re.sub('[\"\\',!-.:-@0-9/]()', ' ', text)\n",
    "    return text\n",
    "\n",
    "# Wrapper to adapt output format\n",
    "class SentimentAnalisysModelWrapper:\n",
    "    def __init__(self, model, tokenizer):\n",
    "        self.model = model\n",
    "        self.tokenizer = tokenizer\n",
    "        \n",
    "    def __predict(self, text_input):\n",
    "        text_preprocessed = pre_proccess(text_input)\n",
    "        tokenized = self.tokenizer(text_preprocessed, padding=True, truncation=True, max_length=512, \n",
    "                                    add_special_tokens = True, return_tensors=\"pt\")\n",
    "        \n",
    "        tensor_logits = self.model(**tokenized)\n",
    "        prob = softmax(tensor_logits[0]).detach().numpy()\n",
    "        pred = np.argmax(prob)\n",
    "        \n",
    "        return pred, prob\n",
    "    \n",
    "    def predict_label(self, text_inputs):\n",
    "        return self.predict(text_inputs)[0]\n",
    "        \n",
    "    def predict_proba(self, text_inputs):\n",
    "        return self.predict(text_inputs)[1]\n",
    "        \n",
    "    def predict(self, text_inputs):\n",
    "        if isinstance(text_inputs, str):\n",
    "            text_inputs = [text_inputs]\n",
    "        \n",
    "        preds = []\n",
    "        probs = []\n",
    "\n",
    "        for text_input in text_inputs:\n",
    "            pred, prob = self.__predict(text_input)\n",
    "            preds.append(pred)\n",
    "            probs.append(prob[0])\n",
    "\n",
    "        return np.array(preds), np.array(probs) # ([0, 1], [[0.99, 0.01], [0.03, 0.97]])\n",
    "\n",
    "# Auxiliar function to load and wrap a model from Hugging Face\n",
    "def load_model(model_name):\n",
    "    print(f'Loading model {model_name}...')\n",
    "    model = AutoModelForSequenceClassification.from_pretrained(model_name)\n",
    "    tokenizer = AutoTokenizer.from_pretrained(model_name)\n",
    "    \n",
    "    return SentimentAnalisysModelWrapper(model, tokenizer)\n",
    "\n",
    "# Hugging Face hosted model names \n",
    "movie_reviews_models = {\n",
    "    'bert': 'textattack/bert-base-uncased-rotten-tomatoes', \n",
    "    'albert': 'textattack/albert-base-v2-rotten-tomatoes', \n",
    "    'distilbert': 'textattack/distilbert-base-uncased-rotten-tomatoes', \n",
    "    'roberta': 'textattack/roberta-base-rotten-tomatoes', \n",
    "    'xlnet': 'textattack/xlnet-base-cased-rotten-tomatoes'\n",
    "}"
   ]
  },
  {
   "cell_type": "code",
   "execution_count": 4,
   "id": "2f271eae",
   "metadata": {},
   "outputs": [
    {
     "name": "stdout",
     "output_type": "stream",
     "text": [
      "Loading model textattack/albert-base-v2-rotten-tomatoes...\n",
      "Loading model textattack/distilbert-base-uncased-rotten-tomatoes...\n",
      "Loading model textattack/roberta-base-rotten-tomatoes...\n"
     ]
    },
    {
     "name": "stderr",
     "output_type": "stream",
     "text": [
      "Some weights of the model checkpoint at textattack/roberta-base-rotten-tomatoes were not used when initializing RobertaForSequenceClassification: ['roberta.pooler.dense.weight', 'roberta.pooler.dense.bias']\n",
      "- This IS expected if you are initializing RobertaForSequenceClassification from the checkpoint of a model trained on another task or with another architecture (e.g. initializing a BertForSequenceClassification model from a BertForPreTraining model).\n",
      "- This IS NOT expected if you are initializing RobertaForSequenceClassification from the checkpoint of a model that you expect to be exactly identical (initializing a BertForSequenceClassification model from a BertForSequenceClassification model).\n"
     ]
    },
    {
     "name": "stdout",
     "output_type": "stream",
     "text": [
      "Loading model textattack/xlnet-base-cased-rotten-tomatoes...\n",
      "Loading model textattack/bert-base-uncased-rotten-tomatoes...\n"
     ]
    }
   ],
   "source": [
    "m1 = load_model(movie_reviews_models['albert'])\n",
    "m2 = load_model(movie_reviews_models['distilbert'])\n",
    "m3 = load_model(movie_reviews_models['roberta'])\n",
    "m4 = load_model(movie_reviews_models['xlnet'])\n",
    "\n",
    "# Models to be used as oracle\n",
    "models = [m1, m2, m3, m4]\n",
    "# Target model\n",
    "model = load_model(movie_reviews_models['bert'])"
   ]
  },
  {
   "cell_type": "markdown",
   "id": "caae89b5",
   "metadata": {},
   "source": [
    "# Gerando os templates\n",
    "O método de rankeamento das palavras usado no PosNegTemplateGenerator é o Replace-1 Score"
   ]
  },
  {
   "cell_type": "code",
   "execution_count": 5,
   "id": "60dc1af3",
   "metadata": {},
   "outputs": [],
   "source": [
    "from template_generator.tasks.sentiment_analisys import PosNegTemplateGeneratorApp3\n",
    "\n",
    "tg = PosNegTemplateGeneratorApp3(model, models)"
   ]
  },
  {
   "cell_type": "markdown",
   "id": "4f595e69",
   "metadata": {},
   "source": [
    "### Número inicial de instâncias: 5"
   ]
  },
  {
   "cell_type": "code",
   "execution_count": 6,
   "id": "a6261506",
   "metadata": {},
   "outputs": [],
   "source": [
    "# Sampling instances\n",
    "np.random.seed(220)\n",
    "n_instances = 5\n",
    "df_sampled = movie_reviews_rt_df.sample(n_instances)\n",
    "\n",
    "instances = [x for x in df_sampled['text'].values]"
   ]
  },
  {
   "cell_type": "code",
   "execution_count": 7,
   "id": "660add17",
   "metadata": {},
   "outputs": [
    {
     "name": "stdout",
     "output_type": "stream",
     "text": [
      "Converting texts to sentences...\n",
      ":: 6 sentences were generated.\n",
      "Predicting inputs...\n"
     ]
    },
    {
     "name": "stderr",
     "output_type": "stream",
     "text": [
      "<ipython-input-3-263ca9d23a33>:23: UserWarning: Implicit dimension choice for softmax has been deprecated. Change the call to include dim=X as an argument.\n",
      "  prob = softmax(tensor_logits[0]).detach().numpy()\n"
     ]
    },
    {
     "name": "stdout",
     "output_type": "stream",
     "text": [
      ":: Sentence predictions done.\n",
      "Filtering instances classified unanimously...\n",
      ":: 3 sentences remaining.\n",
      "Filtering instances by classification score greater than 0.9\n",
      ":: 2 sentences remaining.\n",
      "Ranking words using Replace-1 Score...\n",
      ":: Word ranking done.\n",
      "Filtering instances by relevant words...\n",
      ":: 2 sentences remaining.\n",
      "Filtering instances by relevant words classification score greater than 0.9\n",
      ":: 2 sentences remaining.\n"
     ]
    }
   ],
   "source": [
    "templates = tg.generate_templates(instances, n_masks=1, range_words=100)"
   ]
  },
  {
   "cell_type": "markdown",
   "id": "72d150cb",
   "metadata": {},
   "source": [
    "#### Tempo de execução para 5 instâncias: 16.8s"
   ]
  },
  {
   "cell_type": "code",
   "execution_count": 8,
   "id": "193f1b65",
   "metadata": {},
   "outputs": [
    {
     "data": {
      "text/html": [
       "<div>\n",
       "<style scoped>\n",
       "    .dataframe tbody tr th:only-of-type {\n",
       "        vertical-align: middle;\n",
       "    }\n",
       "\n",
       "    .dataframe tbody tr th {\n",
       "        vertical-align: top;\n",
       "    }\n",
       "\n",
       "    .dataframe thead th {\n",
       "        text-align: right;\n",
       "    }\n",
       "</style>\n",
       "<table border=\"1\" class=\"dataframe\">\n",
       "  <thead>\n",
       "    <tr style=\"text-align: right;\">\n",
       "      <th></th>\n",
       "      <th>label</th>\n",
       "      <th>original_text</th>\n",
       "      <th>masked_text</th>\n",
       "      <th>template_text</th>\n",
       "    </tr>\n",
       "  </thead>\n",
       "  <tbody>\n",
       "    <tr>\n",
       "      <th>0</th>\n",
       "      <td>1</td>\n",
       "      <td>elegantly produced and expressively performed  the six musical numbers crystallize key plot moments into minutely detailed wonders of dreamlike ecstasy .</td>\n",
       "      <td>elegantly produced and expressively performed the six musical numbers crystallize key plot moments into minutely {mask} wonders of dreamlike ecstasy .</td>\n",
       "      <td>elegantly produced and expressively performed the six musical numbers crystallize key plot moments into minutely {pos_adj} wonders of dreamlike ecstasy .</td>\n",
       "    </tr>\n",
       "    <tr>\n",
       "      <th>1</th>\n",
       "      <td>1</td>\n",
       "      <td>by no means a great movie but it is a refreshingly forthright one .</td>\n",
       "      <td>by no means a great movie but it is a refreshingly {mask} one .</td>\n",
       "      <td>by no means a great movie but it is a refreshingly {pos_adj} one .</td>\n",
       "    </tr>\n",
       "  </tbody>\n",
       "</table>\n",
       "</div>"
      ],
      "text/plain": [
       "   label  \\\n",
       "0      1   \n",
       "1      1   \n",
       "\n",
       "                                                                                                                                               original_text  \\\n",
       "0  elegantly produced and expressively performed  the six musical numbers crystallize key plot moments into minutely detailed wonders of dreamlike ecstasy .   \n",
       "1                                                                                        by no means a great movie but it is a refreshingly forthright one .   \n",
       "\n",
       "                                                                                                                                              masked_text  \\\n",
       "0  elegantly produced and expressively performed the six musical numbers crystallize key plot moments into minutely {mask} wonders of dreamlike ecstasy .   \n",
       "1                                                                                         by no means a great movie but it is a refreshingly {mask} one .   \n",
       "\n",
       "                                                                                                                                               template_text  \n",
       "0  elegantly produced and expressively performed the six musical numbers crystallize key plot moments into minutely {pos_adj} wonders of dreamlike ecstasy .  \n",
       "1                                                                                         by no means a great movie but it is a refreshingly {pos_adj} one .  "
      ]
     },
     "execution_count": 8,
     "metadata": {},
     "output_type": "execute_result"
    }
   ],
   "source": [
    "df = tg.to_dataframe()\n",
    "df"
   ]
  },
  {
   "cell_type": "code",
   "execution_count": 9,
   "id": "7f98d8ba",
   "metadata": {},
   "outputs": [
    {
     "data": {
      "text/plain": [
       "{'pos_verb': [],\n",
       " 'neg_verb': [],\n",
       " 'pos_adj': ['detailed', 'forthright'],\n",
       " 'neg_adj': []}"
      ]
     },
     "execution_count": 9,
     "metadata": {},
     "output_type": "execute_result"
    }
   ],
   "source": [
    "tg.lexicons"
   ]
  },
  {
   "cell_type": "markdown",
   "id": "01a27f1f",
   "metadata": {},
   "source": [
    "### Número inicial de instâncias: 100"
   ]
  },
  {
   "cell_type": "code",
   "execution_count": 10,
   "id": "cd4a7fe3",
   "metadata": {},
   "outputs": [],
   "source": [
    "# Using all 100 instances\n",
    "instances = [x for x in movie_reviews_rt_df['text'].values]"
   ]
  },
  {
   "cell_type": "code",
   "execution_count": 11,
   "metadata": {},
   "outputs": [
    {
     "name": "stdout",
     "output_type": "stream",
     "text": [
      "Converting texts to sentences...\n",
      ":: 134 sentences were generated.\n",
      "Predicting inputs...\n"
     ]
    },
    {
     "name": "stderr",
     "output_type": "stream",
     "text": [
      "<ipython-input-3-263ca9d23a33>:23: UserWarning: Implicit dimension choice for softmax has been deprecated. Change the call to include dim=X as an argument.\n",
      "  prob = softmax(tensor_logits[0]).detach().numpy()\n"
     ]
    },
    {
     "name": "stdout",
     "output_type": "stream",
     "text": [
      ":: Sentence predictions done.\n",
      "Filtering instances classified unanimously...\n",
      ":: 96 sentences remaining.\n",
      "Filtering instances by classification score greater than 0.8\n",
      ":: 87 sentences remaining.\n",
      "Ranking words using Replace-1 Score...\n",
      ":: Word ranking done.\n",
      "Filtering instances by relevant words...\n",
      ":: 36 sentences remaining.\n",
      "Filtering instances by relevant words classification score greater than 0.8\n",
      ":: 25 sentences remaining.\n"
     ]
    }
   ],
   "source": [
    "templates = tg.generate_templates(instances, n_masks=2, range_words=4, min_classification_score=0.8)"
   ]
  },
  {
   "cell_type": "markdown",
   "id": "2aaf7e38",
   "metadata": {},
   "source": [
    "#### Tempo de execução para 100 instâncias: 08m 19.7s"
   ]
  },
  {
   "cell_type": "code",
   "execution_count": 12,
   "id": "5c3c1541",
   "metadata": {},
   "outputs": [
    {
     "data": {
      "text/html": [
       "<div>\n",
       "<style scoped>\n",
       "    .dataframe tbody tr th:only-of-type {\n",
       "        vertical-align: middle;\n",
       "    }\n",
       "\n",
       "    .dataframe tbody tr th {\n",
       "        vertical-align: top;\n",
       "    }\n",
       "\n",
       "    .dataframe thead th {\n",
       "        text-align: right;\n",
       "    }\n",
       "</style>\n",
       "<table border=\"1\" class=\"dataframe\">\n",
       "  <thead>\n",
       "    <tr style=\"text-align: right;\">\n",
       "      <th></th>\n",
       "      <th>label</th>\n",
       "      <th>original_text</th>\n",
       "      <th>masked_text</th>\n",
       "      <th>template_text</th>\n",
       "    </tr>\n",
       "  </thead>\n",
       "  <tbody>\n",
       "    <tr>\n",
       "      <th>0</th>\n",
       "      <td>1</td>\n",
       "      <td>intelligent  caustic take on a great writer and dubious human being .</td>\n",
       "      <td>{mask} caustic take on a great writer and dubious {mask} being .</td>\n",
       "      <td>{pos_adj} caustic take on a great writer and dubious {neg_adj} being .</td>\n",
       "    </tr>\n",
       "    <tr>\n",
       "      <th>1</th>\n",
       "      <td>0</td>\n",
       "      <td>it's a bad sign in a thriller when you instantly know whodunit .</td>\n",
       "      <td>it 's a {mask} sign in a thriller when you instantly {mask} whodunit .</td>\n",
       "      <td>it 's a {neg_adj} sign in a thriller when you instantly {pos_verb} whodunit .</td>\n",
       "    </tr>\n",
       "    <tr>\n",
       "      <th>2</th>\n",
       "      <td>0</td>\n",
       "      <td>falsehoods pile up  undermining the movie's reality and stifling its creator's comic voice .</td>\n",
       "      <td>falsehoods {mask} up undermining the movie 's reality and stifling its creator 's {mask} voice .</td>\n",
       "      <td>falsehoods {neg_verb} up undermining the movie 's reality and stifling its creator 's {neg_adj} voice .</td>\n",
       "    </tr>\n",
       "    <tr>\n",
       "      <th>3</th>\n",
       "      <td>0</td>\n",
       "      <td>a long  dull procession of despair  set to cello music culled from a minimalist funeral .</td>\n",
       "      <td>a long {mask} procession of despair set to cello music culled from a {mask} funeral .</td>\n",
       "      <td>a long {neg_adj} procession of despair set to cello music culled from a {neg_adj} funeral .</td>\n",
       "    </tr>\n",
       "    <tr>\n",
       "      <th>4</th>\n",
       "      <td>0</td>\n",
       "      <td>could the country bears really be as bad as its trailers ?</td>\n",
       "      <td>{mask} the country bears really be as {mask} as its trailers ?</td>\n",
       "      <td>{neg_verb} the country bears really be as {neg_adj} as its trailers ?</td>\n",
       "    </tr>\n",
       "    <tr>\n",
       "      <th>5</th>\n",
       "      <td>1</td>\n",
       "      <td>the movie is saved from unbearable lightness by the simplicity of the storytelling and the authenticity of the performances .</td>\n",
       "      <td>the movie is {mask} from {mask} lightness by the simplicity of the storytelling and the authenticity of the performances .</td>\n",
       "      <td>the movie is {pos_verb} from {neg_adj} lightness by the simplicity of the storytelling and the authenticity of the performances .</td>\n",
       "    </tr>\n",
       "    <tr>\n",
       "      <th>6</th>\n",
       "      <td>0</td>\n",
       "      <td>an empty exercise  a florid but ultimately vapid crime melodrama with lots of surface flash but little emotional resonance .</td>\n",
       "      <td>an empty exercise a florid but ultimately {mask} crime melodrama with lots of surface flash but {mask} emotional resonance .</td>\n",
       "      <td>an empty exercise a florid but ultimately {neg_adj} crime melodrama with lots of surface flash but {neg_adj} emotional resonance .</td>\n",
       "    </tr>\n",
       "    <tr>\n",
       "      <th>7</th>\n",
       "      <td>0</td>\n",
       "      <td>hugh grant's act is so consuming that sometimes it's difficult to tell who the other actors in the movie are .</td>\n",
       "      <td>hugh grant 's act is so {mask} that sometimes it 's {mask} to tell who the other actors in the movie are .</td>\n",
       "      <td>hugh grant 's act is so {neg_adj} that sometimes it 's {neg_adj} to tell who the other actors in the movie are .</td>\n",
       "    </tr>\n",
       "    <tr>\n",
       "      <th>8</th>\n",
       "      <td>0</td>\n",
       "      <td>opens at a funeral  ends on the protagonist's death bed and doesn't get much livelier in the three hours in between .</td>\n",
       "      <td>opens at a funeral ends on the protagonist 's death bed and {mask} n't get {mask} livelier in the three hours in between .</td>\n",
       "      <td>opens at a funeral ends on the protagonist 's death bed and {neg_verb} n't get {pos_adj} livelier in the three hours in between .</td>\n",
       "    </tr>\n",
       "    <tr>\n",
       "      <th>9</th>\n",
       "      <td>1</td>\n",
       "      <td>at its best  this is grand-scale moviemaking for a larger-than-life figure  an artist who has been awarded mythic status in contemporary culture .</td>\n",
       "      <td>at its best this is {mask} {mask} for a larger-than-life figure an artist who has been awarded mythic status in contemporary culture .</td>\n",
       "      <td>at its best this is {pos_adj} {pos_verb} for a larger-than-life figure an artist who has been awarded mythic status in contemporary culture .</td>\n",
       "    </tr>\n",
       "    <tr>\n",
       "      <th>10</th>\n",
       "      <td>1</td>\n",
       "      <td>the dramatic crisis doesn't always succeed in its quest to be taken seriously  but huppert's volatile performance makes for a riveting movie experience .</td>\n",
       "      <td>the dramatic crisis {mask} n't always succeed in its quest to be taken seriously but huppert 's volatile performance makes for a {mask} movie experience .</td>\n",
       "      <td>the dramatic crisis {neg_verb} n't always succeed in its quest to be taken seriously but huppert 's volatile performance makes for a {pos_adj} movie experience .</td>\n",
       "    </tr>\n",
       "    <tr>\n",
       "      <th>11</th>\n",
       "      <td>0</td>\n",
       "      <td>the movie is undone by a filmmaking methodology that's just experimental enough to alienate the mainstream audience while ringing cliched to hardened indie-heads .</td>\n",
       "      <td>the movie is {mask} by a filmmaking methodology that 's just experimental enough to alienate the mainstream audience while ringing {mask} to hardened indie-heads .</td>\n",
       "      <td>the movie is {neg_adj} by a filmmaking methodology that 's just experimental enough to alienate the mainstream audience while ringing {neg_verb} to hardened indie-heads .</td>\n",
       "    </tr>\n",
       "    <tr>\n",
       "      <th>12</th>\n",
       "      <td>1</td>\n",
       "      <td>this in-depth study of important developments of the computer industry should make it required viewing in university computer science departments for years to come .</td>\n",
       "      <td>this {mask} study of important developments of the computer industry {mask} make it required viewing in university computer science departments for years to come .</td>\n",
       "      <td>this {pos_adj} study of important developments of the computer industry {neg_verb} make it required viewing in university computer science departments for years to come .</td>\n",
       "    </tr>\n",
       "    <tr>\n",
       "      <th>13</th>\n",
       "      <td>1</td>\n",
       "      <td>how much you are moved by the emotional tumult of [fran?ois and mich?le's] relationship depends a lot on how interesting and likable you find them .</td>\n",
       "      <td>how {mask} you are moved by the emotional tumult of [ fran ? ois and mich ? le 's ] relationship {mask} a lot on how interesting and likable you find them .</td>\n",
       "      <td>how {pos_adj} you are moved by the emotional tumult of [ fran ? ois and mich ? le 's ] relationship {neg_verb} a lot on how interesting and likable you find them .</td>\n",
       "    </tr>\n",
       "    <tr>\n",
       "      <th>14</th>\n",
       "      <td>1</td>\n",
       "      <td>the determination of pinochet's victims to seek justice  and their often heartbreaking testimony  spoken directly into director patricio guzman's camera  pack a powerful emotional wallop .</td>\n",
       "      <td>the determination of pinochet 's victims to seek justice and their often {mask} testimony spoken directly into director patricio guzman 's camera pack a {mask} emotional wallop .</td>\n",
       "      <td>the determination of pinochet 's victims to seek justice and their often {pos_verb} testimony spoken directly into director patricio guzman 's camera pack a {pos_adj} emotional wallop .</td>\n",
       "    </tr>\n",
       "    <tr>\n",
       "      <th>15</th>\n",
       "      <td>1</td>\n",
       "      <td>more concerned with overall feelings  broader ideas  and open-ended questions than concrete story and definitive answers  soderbergh's solaris is a gorgeous and deceptively minimalist cinematic tone poem .</td>\n",
       "      <td>more concerned with overall feelings broader ideas and open-ended questions than concrete story and definitive answers soderbergh 's solaris is a {mask} and {mask} minimalist cinematic tone poem .</td>\n",
       "      <td>more concerned with overall feelings broader ideas and open-ended questions than concrete story and definitive answers soderbergh 's solaris is a {pos_adj} and {pos_adj} minimalist cinematic tone poem .</td>\n",
       "    </tr>\n",
       "    <tr>\n",
       "      <th>16</th>\n",
       "      <td>0</td>\n",
       "      <td>as well-acted and well-intentioned as all or nothing is  however  the film comes perilously close to being too bleak  too pessimistic and too unflinching for its own good .</td>\n",
       "      <td>as well-acted and well-intentioned as all or nothing is however the film comes perilously close to being too bleak too {mask} and too {mask} for its own good .</td>\n",
       "      <td>as well-acted and well-intentioned as all or nothing is however the film comes perilously close to being too bleak too {neg_adj} and too {pos_adj} for its own good .</td>\n",
       "    </tr>\n",
       "    <tr>\n",
       "      <th>17</th>\n",
       "      <td>0</td>\n",
       "      <td>a dreary  incoherent  self-indulgent mess of a movie in which a bunch of pompous windbags drone on inanely for two hours .</td>\n",
       "      <td>a dreary incoherent {mask} mess of a movie in which a bunch of {mask} windbags drone on inanely for two hours .</td>\n",
       "      <td>a dreary incoherent {neg_adj} mess of a movie in which a bunch of {neg_adj} windbags drone on inanely for two hours .</td>\n",
       "    </tr>\n",
       "    <tr>\n",
       "      <th>18</th>\n",
       "      <td>0</td>\n",
       "      <td>like so many other allegedly scary movies  it gets so tangled up in the twist that it chokes the energy right out of the very audience it seeks to frighten .</td>\n",
       "      <td>like so many other allegedly scary movies it gets so tangled up in the twist that it {mask} the energy right out of the very audience it {mask} to frighten .</td>\n",
       "      <td>like so many other allegedly scary movies it gets so tangled up in the twist that it {neg_verb} the energy right out of the very audience it {neg_verb} to frighten .</td>\n",
       "    </tr>\n",
       "    <tr>\n",
       "      <th>19</th>\n",
       "      <td>0</td>\n",
       "      <td>what remains is a variant of the nincompoop benigni persona  here a more annoying  though less angry version of the irresponsible sandlerian manchild  undercut by the voice of the star of road trip .</td>\n",
       "      <td>what remains {mask} a variant of the {mask} benigni persona here a more annoying though less angry version of the irresponsible sandlerian manchild undercut by the voice of the star of road trip .</td>\n",
       "      <td>what remains {pos_verb} a variant of the {pos_adj} benigni persona here a more annoying though less angry version of the irresponsible sandlerian manchild undercut by the voice of the star of road trip .</td>\n",
       "    </tr>\n",
       "    <tr>\n",
       "      <th>20</th>\n",
       "      <td>0</td>\n",
       "      <td>/ but daphne  you're too buff / fred thinks he's tough / and velma - wow  you've lost weight !</td>\n",
       "      <td>/ but daphne you 're too buff / fred {mask} he 's tough / and velma - wow you 've {mask} weight !</td>\n",
       "      <td>/ but daphne you 're too buff / fred {neg_verb} he 's tough / and velma - wow you 've {neg_verb} weight !</td>\n",
       "    </tr>\n",
       "    <tr>\n",
       "      <th>21</th>\n",
       "      <td>1</td>\n",
       "      <td>is inspiring ironic and revelatory of just how ridiculous and money-oriented the record industry really is .</td>\n",
       "      <td>is {mask} ironic and revelatory of just how {mask} and money-oriented the record industry really is .</td>\n",
       "      <td>is {pos_verb} ironic and revelatory of just how {neg_adj} and money-oriented the record industry really is .</td>\n",
       "    </tr>\n",
       "    <tr>\n",
       "      <th>22</th>\n",
       "      <td>1</td>\n",
       "      <td>it also shows how deeply felt emotions can draw people together across the walls that might otherwise separate them .</td>\n",
       "      <td>it also {mask} how deeply felt emotions can draw people together across the walls that might {mask} separate them .</td>\n",
       "      <td>it also {neg_verb} how deeply felt emotions can draw people together across the walls that might {neg_verb} separate them .</td>\n",
       "    </tr>\n",
       "    <tr>\n",
       "      <th>23</th>\n",
       "      <td>0</td>\n",
       "      <td>is an inexpressible and drab wannabe looking for that exact niche .</td>\n",
       "      <td>is an inexpressible and {mask} wannabe {mask} for that exact niche .</td>\n",
       "      <td>is an inexpressible and {neg_adj} wannabe {pos_verb} for that exact niche .</td>\n",
       "    </tr>\n",
       "    <tr>\n",
       "      <th>24</th>\n",
       "      <td>1</td>\n",
       "      <td>this is a movie that is what it is : a pleasant distraction a friday night diversion an excuse to eat popcorn .</td>\n",
       "      <td>this is a movie that is what it is : a {mask} distraction a friday night diversion an excuse to {mask} popcorn .</td>\n",
       "      <td>this is a movie that is what it is : a {pos_adj} distraction a friday night diversion an excuse to {pos_verb} popcorn .</td>\n",
       "    </tr>\n",
       "  </tbody>\n",
       "</table>\n",
       "</div>"
      ],
      "text/plain": [
       "    label  \\\n",
       "0       1   \n",
       "1       0   \n",
       "2       0   \n",
       "3       0   \n",
       "4       0   \n",
       "5       1   \n",
       "6       0   \n",
       "7       0   \n",
       "8       0   \n",
       "9       1   \n",
       "10      1   \n",
       "11      0   \n",
       "12      1   \n",
       "13      1   \n",
       "14      1   \n",
       "15      1   \n",
       "16      0   \n",
       "17      0   \n",
       "18      0   \n",
       "19      0   \n",
       "20      0   \n",
       "21      1   \n",
       "22      1   \n",
       "23      0   \n",
       "24      1   \n",
       "\n",
       "                                                                                                                                                                                                    original_text  \\\n",
       "0                                                                                                                                           intelligent  caustic take on a great writer and dubious human being .   \n",
       "1                                                                                                                                                it's a bad sign in a thriller when you instantly know whodunit .   \n",
       "2                                                                                                                    falsehoods pile up  undermining the movie's reality and stifling its creator's comic voice .   \n",
       "3                                                                                                                       a long  dull procession of despair  set to cello music culled from a minimalist funeral .   \n",
       "4                                                                                                                                                      could the country bears really be as bad as its trailers ?   \n",
       "5                                                                                   the movie is saved from unbearable lightness by the simplicity of the storytelling and the authenticity of the performances .   \n",
       "6                                                                                    an empty exercise  a florid but ultimately vapid crime melodrama with lots of surface flash but little emotional resonance .   \n",
       "7                                                                                                  hugh grant's act is so consuming that sometimes it's difficult to tell who the other actors in the movie are .   \n",
       "8                                                                                           opens at a funeral  ends on the protagonist's death bed and doesn't get much livelier in the three hours in between .   \n",
       "9                                                              at its best  this is grand-scale moviemaking for a larger-than-life figure  an artist who has been awarded mythic status in contemporary culture .   \n",
       "10                                                      the dramatic crisis doesn't always succeed in its quest to be taken seriously  but huppert's volatile performance makes for a riveting movie experience .   \n",
       "11                                            the movie is undone by a filmmaking methodology that's just experimental enough to alienate the mainstream audience while ringing cliched to hardened indie-heads .   \n",
       "12                                          this in-depth study of important developments of the computer industry should make it required viewing in university computer science departments for years to come .   \n",
       "13                                                           how much you are moved by the emotional tumult of [fran?ois and mich?le's] relationship depends a lot on how interesting and likable you find them .   \n",
       "14                   the determination of pinochet's victims to seek justice  and their often heartbreaking testimony  spoken directly into director patricio guzman's camera  pack a powerful emotional wallop .   \n",
       "15  more concerned with overall feelings  broader ideas  and open-ended questions than concrete story and definitive answers  soderbergh's solaris is a gorgeous and deceptively minimalist cinematic tone poem .   \n",
       "16                                   as well-acted and well-intentioned as all or nothing is  however  the film comes perilously close to being too bleak  too pessimistic and too unflinching for its own good .   \n",
       "17                                                                                     a dreary  incoherent  self-indulgent mess of a movie in which a bunch of pompous windbags drone on inanely for two hours .   \n",
       "18                                                  like so many other allegedly scary movies  it gets so tangled up in the twist that it chokes the energy right out of the very audience it seeks to frighten .   \n",
       "19        what remains is a variant of the nincompoop benigni persona  here a more annoying  though less angry version of the irresponsible sandlerian manchild  undercut by the voice of the star of road trip .   \n",
       "20                                                                                                                 / but daphne  you're too buff / fred thinks he's tough / and velma - wow  you've lost weight !   \n",
       "21                                                                                                   is inspiring ironic and revelatory of just how ridiculous and money-oriented the record industry really is .   \n",
       "22                                                                                          it also shows how deeply felt emotions can draw people together across the walls that might otherwise separate them .   \n",
       "23                                                                                                                                            is an inexpressible and drab wannabe looking for that exact niche .   \n",
       "24                                                                                                this is a movie that is what it is : a pleasant distraction a friday night diversion an excuse to eat popcorn .   \n",
       "\n",
       "                                                                                                                                                                                             masked_text  \\\n",
       "0                                                                                                                                       {mask} caustic take on a great writer and dubious {mask} being .   \n",
       "1                                                                                                                                 it 's a {mask} sign in a thriller when you instantly {mask} whodunit .   \n",
       "2                                                                                                       falsehoods {mask} up undermining the movie 's reality and stifling its creator 's {mask} voice .   \n",
       "3                                                                                                                  a long {mask} procession of despair set to cello music culled from a {mask} funeral .   \n",
       "4                                                                                                                                         {mask} the country bears really be as {mask} as its trailers ?   \n",
       "5                                                                             the movie is {mask} from {mask} lightness by the simplicity of the storytelling and the authenticity of the performances .   \n",
       "6                                                                           an empty exercise a florid but ultimately {mask} crime melodrama with lots of surface flash but {mask} emotional resonance .   \n",
       "7                                                                                             hugh grant 's act is so {mask} that sometimes it 's {mask} to tell who the other actors in the movie are .   \n",
       "8                                                                             opens at a funeral ends on the protagonist 's death bed and {mask} n't get {mask} livelier in the three hours in between .   \n",
       "9                                                                 at its best this is {mask} {mask} for a larger-than-life figure an artist who has been awarded mythic status in contemporary culture .   \n",
       "10                                            the dramatic crisis {mask} n't always succeed in its quest to be taken seriously but huppert 's volatile performance makes for a {mask} movie experience .   \n",
       "11                                   the movie is {mask} by a filmmaking methodology that 's just experimental enough to alienate the mainstream audience while ringing {mask} to hardened indie-heads .   \n",
       "12                                   this {mask} study of important developments of the computer industry {mask} make it required viewing in university computer science departments for years to come .   \n",
       "13                                          how {mask} you are moved by the emotional tumult of [ fran ? ois and mich ? le 's ] relationship {mask} a lot on how interesting and likable you find them .   \n",
       "14                    the determination of pinochet 's victims to seek justice and their often {mask} testimony spoken directly into director patricio guzman 's camera pack a {mask} emotional wallop .   \n",
       "15  more concerned with overall feelings broader ideas and open-ended questions than concrete story and definitive answers soderbergh 's solaris is a {mask} and {mask} minimalist cinematic tone poem .   \n",
       "16                                       as well-acted and well-intentioned as all or nothing is however the film comes perilously close to being too bleak too {mask} and too {mask} for its own good .   \n",
       "17                                                                                       a dreary incoherent {mask} mess of a movie in which a bunch of {mask} windbags drone on inanely for two hours .   \n",
       "18                                         like so many other allegedly scary movies it gets so tangled up in the twist that it {mask} the energy right out of the very audience it {mask} to frighten .   \n",
       "19  what remains {mask} a variant of the {mask} benigni persona here a more annoying though less angry version of the irresponsible sandlerian manchild undercut by the voice of the star of road trip .   \n",
       "20                                                                                                     / but daphne you 're too buff / fred {mask} he 's tough / and velma - wow you 've {mask} weight !   \n",
       "21                                                                                                 is {mask} ironic and revelatory of just how {mask} and money-oriented the record industry really is .   \n",
       "22                                                                                   it also {mask} how deeply felt emotions can draw people together across the walls that might {mask} separate them .   \n",
       "23                                                                                                                                  is an inexpressible and {mask} wannabe {mask} for that exact niche .   \n",
       "24                                                                                      this is a movie that is what it is : a {mask} distraction a friday night diversion an excuse to {mask} popcorn .   \n",
       "\n",
       "                                                                                                                                                                                                  template_text  \n",
       "0                                                                                                                                        {pos_adj} caustic take on a great writer and dubious {neg_adj} being .  \n",
       "1                                                                                                                                 it 's a {neg_adj} sign in a thriller when you instantly {pos_verb} whodunit .  \n",
       "2                                                                                                       falsehoods {neg_verb} up undermining the movie 's reality and stifling its creator 's {neg_adj} voice .  \n",
       "3                                                                                                                   a long {neg_adj} procession of despair set to cello music culled from a {neg_adj} funeral .  \n",
       "4                                                                                                                                         {neg_verb} the country bears really be as {neg_adj} as its trailers ?  \n",
       "5                                                                             the movie is {pos_verb} from {neg_adj} lightness by the simplicity of the storytelling and the authenticity of the performances .  \n",
       "6                                                                            an empty exercise a florid but ultimately {neg_adj} crime melodrama with lots of surface flash but {neg_adj} emotional resonance .  \n",
       "7                                                                                              hugh grant 's act is so {neg_adj} that sometimes it 's {neg_adj} to tell who the other actors in the movie are .  \n",
       "8                                                                             opens at a funeral ends on the protagonist 's death bed and {neg_verb} n't get {pos_adj} livelier in the three hours in between .  \n",
       "9                                                                 at its best this is {pos_adj} {pos_verb} for a larger-than-life figure an artist who has been awarded mythic status in contemporary culture .  \n",
       "10                                            the dramatic crisis {neg_verb} n't always succeed in its quest to be taken seriously but huppert 's volatile performance makes for a {pos_adj} movie experience .  \n",
       "11                                   the movie is {neg_adj} by a filmmaking methodology that 's just experimental enough to alienate the mainstream audience while ringing {neg_verb} to hardened indie-heads .  \n",
       "12                                   this {pos_adj} study of important developments of the computer industry {neg_verb} make it required viewing in university computer science departments for years to come .  \n",
       "13                                          how {pos_adj} you are moved by the emotional tumult of [ fran ? ois and mich ? le 's ] relationship {neg_verb} a lot on how interesting and likable you find them .  \n",
       "14                    the determination of pinochet 's victims to seek justice and their often {pos_verb} testimony spoken directly into director patricio guzman 's camera pack a {pos_adj} emotional wallop .  \n",
       "15   more concerned with overall feelings broader ideas and open-ended questions than concrete story and definitive answers soderbergh 's solaris is a {pos_adj} and {pos_adj} minimalist cinematic tone poem .  \n",
       "16                                        as well-acted and well-intentioned as all or nothing is however the film comes perilously close to being too bleak too {neg_adj} and too {pos_adj} for its own good .  \n",
       "17                                                                                        a dreary incoherent {neg_adj} mess of a movie in which a bunch of {neg_adj} windbags drone on inanely for two hours .  \n",
       "18                                        like so many other allegedly scary movies it gets so tangled up in the twist that it {neg_verb} the energy right out of the very audience it {neg_verb} to frighten .  \n",
       "19  what remains {pos_verb} a variant of the {pos_adj} benigni persona here a more annoying though less angry version of the irresponsible sandlerian manchild undercut by the voice of the star of road trip .  \n",
       "20                                                                                                    / but daphne you 're too buff / fred {neg_verb} he 's tough / and velma - wow you 've {neg_verb} weight !  \n",
       "21                                                                                                 is {pos_verb} ironic and revelatory of just how {neg_adj} and money-oriented the record industry really is .  \n",
       "22                                                                                  it also {neg_verb} how deeply felt emotions can draw people together across the walls that might {neg_verb} separate them .  \n",
       "23                                                                                                                                  is an inexpressible and {neg_adj} wannabe {pos_verb} for that exact niche .  \n",
       "24                                                                                      this is a movie that is what it is : a {pos_adj} distraction a friday night diversion an excuse to {pos_verb} popcorn .  "
      ]
     },
     "execution_count": 12,
     "metadata": {},
     "output_type": "execute_result"
    }
   ],
   "source": [
    "df = tg.to_dataframe()\n",
    "df"
   ]
  },
  {
   "cell_type": "code",
   "execution_count": 13,
   "metadata": {},
   "outputs": [
    {
     "data": {
      "text/plain": [
       "{'pos_verb': ['looking',\n",
       "  'saved',\n",
       "  'moviemaking',\n",
       "  'eat',\n",
       "  'heartbreaking',\n",
       "  'inspiring',\n",
       "  'is',\n",
       "  'know'],\n",
       " 'neg_verb': ['shows',\n",
       "  'depends',\n",
       "  'does',\n",
       "  'should',\n",
       "  'lost',\n",
       "  'otherwise',\n",
       "  'thinks',\n",
       "  'cliched',\n",
       "  'could',\n",
       "  'pile',\n",
       "  'chokes',\n",
       "  'seeks'],\n",
       " 'pos_adj': ['gorgeous',\n",
       "  'pleasant',\n",
       "  'deceptively',\n",
       "  'forthright',\n",
       "  'unflinching',\n",
       "  'in-depth',\n",
       "  'riveting',\n",
       "  'powerful',\n",
       "  'grand-scale',\n",
       "  'much',\n",
       "  'detailed',\n",
       "  'intelligent',\n",
       "  'nincompoop'],\n",
       " 'neg_adj': ['dull',\n",
       "  'unbearable',\n",
       "  'vapid',\n",
       "  'pessimistic',\n",
       "  'difficult',\n",
       "  'self-indulgent',\n",
       "  'drab',\n",
       "  'consuming',\n",
       "  'human',\n",
       "  'ridiculous',\n",
       "  'bad',\n",
       "  'minimalist',\n",
       "  'undone',\n",
       "  'comic',\n",
       "  'little',\n",
       "  'pompous']}"
      ]
     },
     "execution_count": 13,
     "metadata": {},
     "output_type": "execute_result"
    }
   ],
   "source": [
    "tg.lexicons"
   ]
  },
  {
   "cell_type": "markdown",
   "id": "53f29183",
   "metadata": {},
   "source": [
    "## Checklist"
   ]
  },
  {
   "cell_type": "code",
   "execution_count": 14,
   "id": "4ec682f4",
   "metadata": {},
   "outputs": [],
   "source": [
    "import checklist\n",
    "from checklist.editor import Editor\n",
    "from checklist.test_suite import TestSuite\n",
    "from checklist.test_types import MFT"
   ]
  },
  {
   "cell_type": "code",
   "execution_count": 15,
   "id": "99c53aaf",
   "metadata": {},
   "outputs": [],
   "source": [
    "lexicons = tg.lexicons\n",
    "templates = tg.template_texts\n",
    "labels = [sent.prediction.label for sent in tg.sentences]\n",
    "\n",
    "editor = Editor()\n",
    "editor.add_lexicon('pos_verb', lexicons['pos_verb'])\n",
    "editor.add_lexicon('neg_verb', lexicons['neg_verb'])\n",
    "editor.add_lexicon('pos_adj', lexicons['pos_adj'])\n",
    "editor.add_lexicon('neg_adj', lexicons['neg_adj'])\n",
    "\n",
    "suite = TestSuite()"
   ]
  },
  {
   "cell_type": "code",
   "execution_count": 16,
   "id": "8c848a0f",
   "metadata": {},
   "outputs": [],
   "source": [
    "data = []\n",
    "lbl = []\n",
    "for template, label in zip(templates, labels):\n",
    "    t = editor.template(template, remove_duplicates=True, labels=int(label))\n",
    "    data.extend(t.data)\n",
    "    lbl.extend(t.labels)\n",
    "\n",
    "suite.add(MFT(\n",
    "    data=data,\n",
    "    labels=lbl,\n",
    "    capability=\"Vocabullary\",\n",
    "    name=\"Template Generator - Vocabulary in MFT\",\n",
    "    description=\"Testing the model for vocabulary capability\"\n",
    "))"
   ]
  },
  {
   "cell_type": "code",
   "execution_count": 17,
   "id": "eded8c1d",
   "metadata": {},
   "outputs": [
    {
     "name": "stdout",
     "output_type": "stream",
     "text": [
      "Running Template Generator - Vocabulary in MFT\n",
      "Predicting 2657 examples\n"
     ]
    },
    {
     "name": "stderr",
     "output_type": "stream",
     "text": [
      "<ipython-input-3-263ca9d23a33>:23: UserWarning: Implicit dimension choice for softmax has been deprecated. Change the call to include dim=X as an argument.\n",
      "  prob = softmax(tensor_logits[0]).detach().numpy()\n"
     ]
    }
   ],
   "source": [
    "suite.run(model.predict, overwrite=True)"
   ]
  },
  {
   "cell_type": "code",
   "execution_count": 18,
   "id": "66be5ed1",
   "metadata": {},
   "outputs": [
    {
     "name": "stdout",
     "output_type": "stream",
     "text": [
      "Vocabullary\n",
      "\n",
      "Template Generator - Vocabulary in MFT\n",
      "Test cases:      2657\n",
      "Fails (rate):    233 (8.8%)\n",
      "\n",
      "Example fails:\n",
      "0.8 is an inexpressible and human wannabe heartbreaking for that exact niche .\n",
      "----\n",
      "0.2 is looking ironic and revelatory of just how drab and money-oriented the record industry really is .\n",
      "----\n",
      "0.5 is an inexpressible and consuming wannabe heartbreaking for that exact niche .\n",
      "----\n",
      "\n",
      "\n",
      "\n",
      "\n"
     ]
    }
   ],
   "source": [
    "suite.summary()"
   ]
  }
 ],
 "metadata": {
  "interpreter": {
   "hash": "d158b0884c902cbe5122803144f593e89d3599d27de4904257d93ccf35897e83"
  },
  "kernelspec": {
   "display_name": "Python 3.8.0 64-bit ('TCC-Adson': conda)",
   "name": "python3"
  },
  "language_info": {
   "codemirror_mode": {
    "name": "ipython",
    "version": 3
   },
   "file_extension": ".py",
   "mimetype": "text/x-python",
   "name": "python",
   "nbconvert_exporter": "python",
   "pygments_lexer": "ipython3",
   "version": "3.8.0"
  }
 },
 "nbformat": 4,
 "nbformat_minor": 5
}
