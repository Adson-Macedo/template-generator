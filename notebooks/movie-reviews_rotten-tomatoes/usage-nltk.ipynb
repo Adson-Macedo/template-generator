{
 "cells": [
  {
   "cell_type": "markdown",
   "id": "d0e2c728",
   "metadata": {},
   "source": [
    "# Usage NLTK"
   ]
  },
  {
   "cell_type": "code",
   "execution_count": 1,
   "id": "897c3a05",
   "metadata": {},
   "outputs": [],
   "source": [
    "%config Completer.use_jedi = False\n",
    "import sys\n",
    "sys.path.append('../../')"
   ]
  },
  {
   "cell_type": "code",
   "execution_count": 2,
   "metadata": {},
   "outputs": [],
   "source": [
    "templates = [\n",
    "    \"windtalkers celebrates the human spirit and packs an emotional wallop\",\n",
    "    \"human nature is a goofball movie  in the way that malkovich was  but it tries too hard .\",\n",
    "    \"depicts the sorriest and most sordid of human behavior on the screen  then laughs at how clever it's being .\",\n",
    "    \"human nature  in short  isn't nearly as funny as it thinks it is neither is it as smart .\",\n",
    "    \"once again director jackson strikes a rewarding balance between emotion on the human scale and action/effects on the spectacular scale .\",\n",
    "    \"uses sharp humor and insight into human nature to examine class conflict adolescent yearning the roots of friendship and sexual identity .\",\n",
    "    \" . . . breathes surprising new life into the familiar by amalgamating genres and adding true human complexity to its not-so-stock characters .\",\n",
    "    \"reinforces the often forgotten fact of the world's remarkably varying human population and mindset and its capacity to heal using creative natural and ancient antidotes .\",\n",
    "    \"it takes this never-ending confusion and hatred puts a human face on it evokes shame among all who are party to it and even promotes understanding .\",\n",
    "    \"while tattoo borrows heavily from both seven and the silence of the lambs  it manages to maintain both a level of sophisticated intrigue and human-scale characters that suck the audience in .\",\n",
    "    \"writer-director david jacobson and his star  jeremy renner  have made a remarkable film that explores the monster's psychology not in order to excuse him but rather to demonstrate that his pathology evolved from human impulses that grew hideously twisted .\",\n",
    "    \"this is a film brimming with detail and nuance and one that speaks volumes about the ability of the human spirit to find solace in events that could easily crush it forever .\",\n",
    "    \"kaufman and jonze take huge risks to ponder the whole notion of passion -- our desire as human beings for passion in our lives and the emptiness one feels when it is missing .\",\n",
    "    \"parker should be commended for taking a fresh approach to familiar material  but his determination to remain true to the original text leads him to adopt a somewhat mannered tone . . . that ultimately dulls the human tragedy at the story's core .\"\n",
    "]"
   ]
  },
  {
   "cell_type": "code",
   "execution_count": 3,
   "metadata": {},
   "outputs": [
    {
     "name": "stdout",
     "output_type": "stream",
     "text": [
      "[('human', 'ADJ')]\n",
      "[('human', 'ADJ')]\n",
      "[('human', 'ADJ')]\n",
      "[('human', 'ADJ')]\n",
      "[('human', 'ADJ')]\n",
      "[('human', 'ADJ')]\n",
      "[('human', 'ADJ')]\n",
      "[('human', 'ADJ')]\n",
      "[('human', 'ADJ')]\n",
      "[]\n",
      "[('human', 'ADJ')]\n",
      "[('human', 'ADJ')]\n",
      "[('human', 'ADJ')]\n",
      "[('human', 'ADJ')]\n"
     ]
    }
   ],
   "source": [
    "import nltk\n",
    "\n",
    "for template in templates:\n",
    "    tokens = nltk.word_tokenize(template) \n",
    "    \n",
    "    tags = nltk.pos_tag(tokens, tagset='universal')\n",
    "    \n",
    "    filter_tags = [t for t in tags if t[0] == \"human\"]\n",
    "    print(filter_tags) "
   ]
  }
 ],
 "metadata": {
  "interpreter": {
   "hash": "d158b0884c902cbe5122803144f593e89d3599d27de4904257d93ccf35897e83"
  },
  "kernelspec": {
   "display_name": "Python 3.8.0 64-bit ('TCC-Adson': conda)",
   "language": "python",
   "name": "python3"
  },
  "language_info": {
   "codemirror_mode": {
    "name": "ipython",
    "version": 3
   },
   "file_extension": ".py",
   "mimetype": "text/x-python",
   "name": "python",
   "nbconvert_exporter": "python",
   "pygments_lexer": "ipython3",
   "version": "3.8.0"
  },
  "orig_nbformat": 4
 },
 "nbformat": 4,
 "nbformat_minor": 2
}
