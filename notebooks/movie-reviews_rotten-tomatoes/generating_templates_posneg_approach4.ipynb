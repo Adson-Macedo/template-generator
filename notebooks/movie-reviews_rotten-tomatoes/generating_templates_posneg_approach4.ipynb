{
 "cells": [
  {
   "cell_type": "markdown",
   "id": "d0e2c728",
   "metadata": {},
   "source": [
    "# Abordagem 4\n",
    "\n",
    "Usando a abordagem 4 para gerar templates com foco em templates positivos e negativos. Uma possível aplicação seria testar a capacidade linguística *Vocabullary* com o teste **MFT**.\n",
    "\n",
    "As etapas desta abordagem são:\n",
    "\n",
    "1. Classificar as instancias usando o *Oráculo*\n",
    "2. Filtrar instâncias classificadas de forma unânime\n",
    "3. Quebrar a instância em sentenças\n",
    "4. Classificar as sentenças usando o *Oráculo*\n",
    "5. Filtrar as sentenças classificadas de forma unânime\n",
    "6. Filtrar as sentenças com alta confiança nas predições\n",
    "7. Rankear as palavras de cada sentença\n",
    "8. Filtrar sentenças com palavras relevantes (verbos ou adjetivos) bem rankeadas\n",
    "9. Filtrar sentenças com alta confiança na predição das palavras relevantes \n",
    "10. Substituir as palavras relevantes por máscaras"
   ]
  },
  {
   "cell_type": "code",
   "execution_count": 1,
   "id": "897c3a05",
   "metadata": {},
   "outputs": [],
   "source": [
    "%config Completer.use_jedi = False\n",
    "import sys\n",
    "sys.path.append('../../')"
   ]
  },
  {
   "cell_type": "markdown",
   "id": "6da847fc",
   "metadata": {},
   "source": [
    "## Carregando o dataset, o modelo alvo e os modelos auxiliares"
   ]
  },
  {
   "cell_type": "code",
   "execution_count": 2,
   "id": "f6e018fa",
   "metadata": {},
   "outputs": [
    {
     "data": {
      "text/html": [
       "<div>\n",
       "<style scoped>\n",
       "    .dataframe tbody tr th:only-of-type {\n",
       "        vertical-align: middle;\n",
       "    }\n",
       "\n",
       "    .dataframe tbody tr th {\n",
       "        vertical-align: top;\n",
       "    }\n",
       "\n",
       "    .dataframe thead th {\n",
       "        text-align: right;\n",
       "    }\n",
       "</style>\n",
       "<table border=\"1\" class=\"dataframe\">\n",
       "  <thead>\n",
       "    <tr style=\"text-align: right;\">\n",
       "      <th></th>\n",
       "      <th>label</th>\n",
       "      <th>text</th>\n",
       "      <th>words</th>\n",
       "    </tr>\n",
       "  </thead>\n",
       "  <tbody>\n",
       "    <tr>\n",
       "      <th>0</th>\n",
       "      <td>1</td>\n",
       "      <td>windtalkers celebrates the human spirit and packs an emotional wallop .</td>\n",
       "      <td>11</td>\n",
       "    </tr>\n",
       "    <tr>\n",
       "      <th>1</th>\n",
       "      <td>0</td>\n",
       "      <td>human nature is a goofball movie  in the way that malkovich was  but it tries too hard .</td>\n",
       "      <td>18</td>\n",
       "    </tr>\n",
       "    <tr>\n",
       "      <th>2</th>\n",
       "      <td>0</td>\n",
       "      <td>depicts the sorriest and most sordid of human behavior on the screen  then laughs at how clever it's being .</td>\n",
       "      <td>20</td>\n",
       "    </tr>\n",
       "    <tr>\n",
       "      <th>3</th>\n",
       "      <td>0</td>\n",
       "      <td>human nature  in short  isn't nearly as funny as it thinks it is neither is it as smart .</td>\n",
       "      <td>20</td>\n",
       "    </tr>\n",
       "    <tr>\n",
       "      <th>4</th>\n",
       "      <td>1</td>\n",
       "      <td>once again director jackson strikes a rewarding balance between emotion on the human scale and action/effects on the spectacular scale .</td>\n",
       "      <td>21</td>\n",
       "    </tr>\n",
       "  </tbody>\n",
       "</table>\n",
       "</div>"
      ],
      "text/plain": [
       "   label  \\\n",
       "0      1   \n",
       "1      0   \n",
       "2      0   \n",
       "3      0   \n",
       "4      1   \n",
       "\n",
       "                                                                                                                                        text  \\\n",
       "0                                                                   windtalkers celebrates the human spirit and packs an emotional wallop .    \n",
       "1                                                  human nature is a goofball movie  in the way that malkovich was  but it tries too hard .    \n",
       "2                              depicts the sorriest and most sordid of human behavior on the screen  then laughs at how clever it's being .    \n",
       "3                                                 human nature  in short  isn't nearly as funny as it thinks it is neither is it as smart .    \n",
       "4  once again director jackson strikes a rewarding balance between emotion on the human scale and action/effects on the spectacular scale .    \n",
       "\n",
       "   words  \n",
       "0     11  \n",
       "1     18  \n",
       "2     20  \n",
       "3     20  \n",
       "4     21  "
      ]
     },
     "execution_count": 2,
     "metadata": {},
     "output_type": "execute_result"
    }
   ],
   "source": [
    "import pandas as pd\n",
    "pd.set_option('display.max_colwidth', None)\n",
    "\n",
    "movie_reviews_rt_df = pd.read_csv('./data/data-rt-1000test-human.csv')\n",
    "movie_reviews_rt_df.head(5)"
   ]
  },
  {
   "cell_type": "code",
   "execution_count": 3,
   "id": "264d0dcd",
   "metadata": {},
   "outputs": [],
   "source": [
    "import re\n",
    "import numpy as np\n",
    "from torch.nn.functional import softmax\n",
    "from transformers import AutoTokenizer, AutoModelForSequenceClassification\n",
    "\n",
    "def pre_proccess(text):\n",
    "    text = text.lower()\n",
    "    text = re.sub('[\"\\',!-.:-@0-9/]()', ' ', text)\n",
    "    return text\n",
    "\n",
    "# Wrapper to adapt output format\n",
    "class SentimentAnalisysModelWrapper:\n",
    "    def __init__(self, model, tokenizer):\n",
    "        self.model = model\n",
    "        self.tokenizer = tokenizer\n",
    "        \n",
    "    def __predict(self, text_input):\n",
    "        text_preprocessed = pre_proccess(text_input)\n",
    "        tokenized = self.tokenizer(text_preprocessed, padding=True, truncation=True, max_length=512, \n",
    "                                    add_special_tokens = True, return_tensors=\"pt\")\n",
    "        \n",
    "        tensor_logits = self.model(**tokenized)\n",
    "        prob = softmax(tensor_logits[0]).detach().numpy()\n",
    "        pred = np.argmax(prob)\n",
    "        \n",
    "        return pred, prob\n",
    "    \n",
    "    def predict_label(self, text_inputs):\n",
    "        return self.predict(text_inputs)[0]\n",
    "        \n",
    "    def predict_proba(self, text_inputs):\n",
    "        return self.predict(text_inputs)[1]\n",
    "        \n",
    "    def predict(self, text_inputs):\n",
    "        if isinstance(text_inputs, str):\n",
    "            text_inputs = [text_inputs]\n",
    "        \n",
    "        preds = []\n",
    "        probs = []\n",
    "\n",
    "        for text_input in text_inputs:\n",
    "            pred, prob = self.__predict(text_input)\n",
    "            preds.append(pred)\n",
    "            probs.append(prob[0])\n",
    "\n",
    "        return np.array(preds), np.array(probs) # ([0, 1], [[0.99, 0.01], [0.03, 0.97]])\n",
    "\n",
    "# Auxiliar function to load and wrap a model from Hugging Face\n",
    "def load_model(model_name):\n",
    "    print(f'Loading model {model_name}...')\n",
    "    model = AutoModelForSequenceClassification.from_pretrained(model_name)\n",
    "    tokenizer = AutoTokenizer.from_pretrained(model_name)\n",
    "    \n",
    "    return SentimentAnalisysModelWrapper(model, tokenizer)\n",
    "\n",
    "# Hugging Face hosted model names \n",
    "movie_reviews_models = {\n",
    "    'bert': 'textattack/bert-base-uncased-rotten-tomatoes', \n",
    "    'albert': 'textattack/albert-base-v2-rotten-tomatoes', \n",
    "    'distilbert': 'textattack/distilbert-base-uncased-rotten-tomatoes', \n",
    "    'roberta': 'textattack/roberta-base-rotten-tomatoes', \n",
    "    'xlnet': 'textattack/xlnet-base-cased-rotten-tomatoes'\n",
    "}"
   ]
  },
  {
   "cell_type": "code",
   "execution_count": 4,
   "id": "2f271eae",
   "metadata": {},
   "outputs": [
    {
     "name": "stdout",
     "output_type": "stream",
     "text": [
      "Loading model textattack/bert-base-uncased-rotten-tomatoes...\n",
      "Loading model textattack/albert-base-v2-rotten-tomatoes...\n",
      "Loading model textattack/distilbert-base-uncased-rotten-tomatoes...\n",
      "Loading model textattack/roberta-base-rotten-tomatoes...\n"
     ]
    },
    {
     "name": "stderr",
     "output_type": "stream",
     "text": [
      "Some weights of the model checkpoint at textattack/roberta-base-rotten-tomatoes were not used when initializing RobertaForSequenceClassification: ['roberta.pooler.dense.weight', 'roberta.pooler.dense.bias']\n",
      "- This IS expected if you are initializing RobertaForSequenceClassification from the checkpoint of a model trained on another task or with another architecture (e.g. initializing a BertForSequenceClassification model from a BertForPreTraining model).\n",
      "- This IS NOT expected if you are initializing RobertaForSequenceClassification from the checkpoint of a model that you expect to be exactly identical (initializing a BertForSequenceClassification model from a BertForSequenceClassification model).\n"
     ]
    },
    {
     "name": "stdout",
     "output_type": "stream",
     "text": [
      "Loading model textattack/xlnet-base-cased-rotten-tomatoes...\n"
     ]
    }
   ],
   "source": [
    "m0 = load_model(movie_reviews_models['bert'])\n",
    "m1 = load_model(movie_reviews_models['albert'])\n",
    "m2 = load_model(movie_reviews_models['distilbert'])\n",
    "m3 = load_model(movie_reviews_models['roberta'])\n",
    "m4 = load_model(movie_reviews_models['xlnet'])\n",
    "\n",
    "# Models to be used as oracle\n",
    "models_1 = [m1, m2, m3, m4]\n",
    "models_2 = [m0, m2, m3, m4]\n",
    "models_3 = [m0, m1, m3, m4]\n",
    "models_4 = [m0, m1, m2, m4]\n",
    "models_5 = [m0, m1, m2, m3]\n",
    "# Target model\n",
    "model_bert = m0\n",
    "model_albert = m1\n",
    "model_distilbert = m2\n",
    "model_roberta = m3\n",
    "model_xlnet = m4"
   ]
  },
  {
   "cell_type": "markdown",
   "id": "caae89b5",
   "metadata": {},
   "source": [
    "# Gerando os templates\n",
    "O método de rankeamento das palavras usado no PosNegTemplateGenerator é o Replace-1 Score"
   ]
  },
  {
   "cell_type": "code",
   "execution_count": 8,
   "id": "60dc1af3",
   "metadata": {},
   "outputs": [],
   "source": [
    "from template_generator.tasks.sentiment_analisys import PosNegTemplateGeneratorApp4\n",
    "\n",
    "tg0 = PosNegTemplateGeneratorApp4(model_bert, models_1)\n",
    "tg1 = PosNegTemplateGeneratorApp4(model_albert, models_2)\n",
    "tg2 = PosNegTemplateGeneratorApp4(model_distilbert, models_3)\n",
    "tg3 = PosNegTemplateGeneratorApp4(model_roberta, models_4)\n",
    "tg4 = PosNegTemplateGeneratorApp4(model_xlnet, models_5)"
   ]
  },
  {
   "cell_type": "markdown",
   "id": "4f595e69",
   "metadata": {},
   "source": [
    "### Número inicial de instâncias: 5"
   ]
  },
  {
   "cell_type": "code",
   "execution_count": 9,
   "id": "a6261506",
   "metadata": {},
   "outputs": [],
   "source": [
    "# Sampling instances\n",
    "np.random.seed(220)\n",
    "n_instances = 5\n",
    "df_sampled = movie_reviews_rt_df.sample(n_instances)\n",
    "\n",
    "instances = [x for x in df_sampled['text'].values]"
   ]
  },
  {
   "cell_type": "code",
   "execution_count": 10,
   "id": "660add17",
   "metadata": {},
   "outputs": [
    {
     "name": "stdout",
     "output_type": "stream",
     "text": [
      "Predicting inputs...\n"
     ]
    },
    {
     "name": "stderr",
     "output_type": "stream",
     "text": [
      "<ipython-input-3-263ca9d23a33>:23: UserWarning: Implicit dimension choice for softmax has been deprecated. Change the call to include dim=X as an argument.\n",
      "  prob = softmax(tensor_logits[0]).detach().numpy()\n"
     ]
    },
    {
     "name": "stdout",
     "output_type": "stream",
     "text": [
      ":: Instance predictions done.\n",
      "Filtering instances classified unanimously...\n",
      ":: 5 instances remaining.\n",
      "Converting texts to sentences...\n",
      ":: 5 sentences were generated.\n",
      "Predicting inputs...\n",
      ":: Sentence predictions done.\n",
      "Filtering instances classified unanimously...\n",
      ":: 5 sentences remaining.\n",
      "Filtering instances by classification score greater than 0.9\n",
      ":: 5 sentences remaining.\n",
      "Ranking words using Replace-1 Score...\n",
      ":: Word ranking done.\n",
      "4\n",
      "Filtering instances by relevant words...\n",
      "['VERB', 'ADJ']\n",
      "{word: remarkable, index: 11, tag: ADJ, rank_score: 0.00026857852935791016}\n",
      "{word: renner, index: 7, tag: NOUN, rank_score: 0.00020641088485717773}\n",
      "{word: film, index: 12, tag: NOUN, rank_score: 0.00020247697830200195}\n",
      "{word: star, index: 5, tag: NOUN, rank_score: 0.00018262863159179688}\n",
      " \n",
      "['VERB', 'ADJ']\n",
      "{word: reinforces, index: 0, tag: NOUN, rank_score: -0.002393782138824463}\n",
      "{word: the, index: 1, tag: DET, rank_score: -0.0006895065307617188}\n",
      "{word: heal, index: 19, tag: VERB, rank_score: -0.00015097856521606445}\n",
      "{word: creative, index: 21, tag: ADJ, rank_score: -0.00013691186904907227}\n",
      " \n",
      "['VERB', 'ADJ']\n",
      "{word: too, index: 15, tag: ADV, rank_score: -0.26553088426589966}\n",
      "{word: hard, index: 16, tag: ADJ, rank_score: -0.019599199295043945}\n",
      "{word: tries, index: 14, tag: VERB, rank_score: -0.00024950504302978516}\n",
      "{word: it, index: 13, tag: PRON, rank_score: -0.0001239180564880371}\n",
      " \n",
      "['VERB', 'ADJ']\n",
      "{word: conflict, index: 11, tag: NOUN, rank_score: 0.00013977289199829102}\n",
      "{word: into, index: 5, tag: ADP, rank_score: 0.00013762712478637695}\n",
      "{word: insight, index: 4, tag: NOUN, rank_score: 0.00010704994201660156}\n",
      "{word: and, index: 3, tag: CONJ, rank_score: 0.00010192394256591797}\n",
      " \n",
      "['VERB', 'ADJ']\n",
      "{word: speaks, index: 12, tag: VERB, rank_score: 0.0004183053970336914}\n",
      "{word: volumes, index: 13, tag: NOUN, rank_score: 0.00038188695907592773}\n",
      "{word: that, index: 11, tag: DET, rank_score: 0.00022268295288085938}\n",
      "{word: film, index: 3, tag: NOUN, rank_score: -0.00019508600234985352}\n",
      " \n",
      ":: 2 sentences remaining.\n",
      "Filtering instances by relevant words classification score greater than 0.9\n",
      ":: 1 sentences remaining.\n",
      "Predicting inputs...\n",
      ":: Instance predictions done.\n",
      "Filtering instances classified unanimously...\n",
      ":: 5 instances remaining.\n",
      "Converting texts to sentences...\n",
      ":: 5 sentences were generated.\n",
      "Predicting inputs...\n",
      ":: Sentence predictions done.\n",
      "Filtering instances classified unanimously...\n",
      ":: 5 sentences remaining.\n",
      "Filtering instances by classification score greater than 0.9\n",
      ":: 5 sentences remaining.\n",
      "Ranking words using Replace-1 Score...\n",
      ":: Word ranking done.\n",
      "4\n",
      "Filtering instances by relevant words...\n",
      "['VERB', 'ADJ']\n",
      "{word: remarkable, index: 11, tag: ADJ, rank_score: -0.18280136585235596}\n",
      "{word: film, index: 12, tag: NOUN, rank_score: -0.06100273132324219}\n",
      "{word: explores, index: 14, tag: VERB, rank_score: -0.03053450584411621}\n",
      "{word: that, index: 13, tag: DET, rank_score: -0.018452465534210205}\n",
      " \n",
      "['VERB', 'ADJ']\n",
      "{word: antidotes, index: 25, tag: NOUN, rank_score: -0.01593911647796631}\n",
      "{word: reinforces, index: 0, tag: NOUN, rank_score: -0.005084037780761719}\n",
      "{word: heal, index: 19, tag: VERB, rank_score: -0.004620075225830078}\n",
      "{word: forgotten, index: 3, tag: ADJ, rank_score: 0.004349470138549805}\n",
      " \n",
      "['VERB', 'ADJ']\n",
      "{word: too, index: 15, tag: ADV, rank_score: -0.41512632369995117}\n",
      "{word: hard, index: 16, tag: ADJ, rank_score: -0.1733660101890564}\n",
      "{word: tries, index: 14, tag: VERB, rank_score: -0.0331997275352478}\n",
      "{word: is, index: 2, tag: VERB, rank_score: -0.00994729995727539}\n",
      " \n",
      "['VERB', 'ADJ']\n",
      "{word: to, index: 8, tag: PRT, rank_score: -0.01927584409713745}\n",
      "{word: sharp, index: 1, tag: ADJ, rank_score: -0.012508392333984375}\n",
      "{word: and, index: 18, tag: CONJ, rank_score: -0.007355093955993652}\n",
      "{word: and, index: 3, tag: CONJ, rank_score: -0.0070855021476745605}\n",
      " \n",
      "['VERB', 'ADJ']\n",
      "{word: that, index: 26, tag: DET, rank_score: -0.008507609367370605}\n",
      "{word: with, index: 5, tag: ADP, rank_score: -0.007589578628540039}\n",
      "{word: ability, index: 16, tag: NOUN, rank_score: -0.0038942694664001465}\n",
      "{word: could, index: 27, tag: VERB, rank_score: -0.00370943546295166}\n",
      " \n",
      ":: 3 sentences remaining.\n",
      "Filtering instances by relevant words classification score greater than 0.9\n",
      ":: 0 sentences remaining.\n",
      "Predicting inputs...\n",
      ":: Instance predictions done.\n",
      "Filtering instances classified unanimously...\n",
      ":: 5 instances remaining.\n",
      "Converting texts to sentences...\n",
      ":: 5 sentences were generated.\n",
      "Predicting inputs...\n",
      ":: Sentence predictions done.\n",
      "Filtering instances classified unanimously...\n",
      ":: 5 sentences remaining.\n",
      "Filtering instances by classification score greater than 0.9\n",
      ":: 5 sentences remaining.\n",
      "Ranking words using Replace-1 Score...\n",
      ":: Word ranking done.\n",
      "4\n",
      "Filtering instances by relevant words...\n",
      "['VERB', 'ADJ']\n",
      "{word: remarkable, index: 11, tag: ADJ, rank_score: -0.2996975779533386}\n",
      "{word: explores, index: 14, tag: VERB, rank_score: -0.09665840864181519}\n",
      "{word: not, index: 19, tag: ADV, rank_score: -0.061625897884368896}\n",
      "{word: that, index: 13, tag: DET, rank_score: -0.02423804998397827}\n",
      " \n",
      "['VERB', 'ADJ']\n",
      "{word: the, index: 1, tag: DET, rank_score: -0.010621726512908936}\n",
      "{word: reinforces, index: 0, tag: NOUN, rank_score: -0.008427619934082031}\n",
      "{word: creative, index: 21, tag: ADJ, rank_score: -0.0025826692581176758}\n",
      "{word: and, index: 23, tag: CONJ, rank_score: -0.0018885135650634766}\n",
      " \n",
      "['VERB', 'ADJ']\n",
      "{word: too, index: 15, tag: ADV, rank_score: -0.5472847819328308}\n",
      "{word: hard, index: 16, tag: ADJ, rank_score: -0.06368094682693481}\n",
      "{word: tries, index: 14, tag: VERB, rank_score: 0.011326849460601807}\n",
      "{word: it, index: 13, tag: PRON, rank_score: -0.008837282657623291}\n",
      " \n",
      "['VERB', 'ADJ']\n",
      "{word: insight, index: 4, tag: NOUN, rank_score: -0.013126611709594727}\n",
      "{word: sharp, index: 1, tag: ADJ, rank_score: -0.011735856533050537}\n",
      "{word: and, index: 3, tag: CONJ, rank_score: -0.005988895893096924}\n",
      "{word: uses, index: 0, tag: NOUN, rank_score: 0.004506409168243408}\n",
      " \n",
      "['VERB', 'ADJ']\n",
      "{word: speaks, index: 12, tag: VERB, rank_score: -0.00602412223815918}\n",
      "{word: volumes, index: 13, tag: NOUN, rank_score: -0.0035628676414489746}\n",
      "{word: that, index: 26, tag: DET, rank_score: -0.0035341382026672363}\n",
      "{word: and, index: 9, tag: CONJ, rank_score: -0.0030517578125}\n",
      " \n",
      ":: 2 sentences remaining.\n",
      "Filtering instances by relevant words classification score greater than 0.9\n",
      ":: 0 sentences remaining.\n",
      "Predicting inputs...\n",
      ":: Instance predictions done.\n",
      "Filtering instances classified unanimously...\n",
      ":: 5 instances remaining.\n",
      "Converting texts to sentences...\n",
      ":: 5 sentences were generated.\n",
      "Predicting inputs...\n",
      ":: Sentence predictions done.\n",
      "Filtering instances classified unanimously...\n",
      ":: 5 sentences remaining.\n",
      "Filtering instances by classification score greater than 0.9\n",
      ":: 5 sentences remaining.\n",
      "Ranking words using Replace-1 Score...\n",
      ":: Word ranking done.\n",
      "4\n",
      "Filtering instances by relevant words...\n",
      "['VERB', 'ADJ']\n",
      "{word: remarkable, index: 11, tag: ADJ, rank_score: -0.004406452178955078}\n",
      "{word: not, index: 19, tag: ADV, rank_score: -0.002635061740875244}\n",
      "{word: and, index: 3, tag: CONJ, rank_score: -0.0018277764320373535}\n",
      "{word: film, index: 12, tag: NOUN, rank_score: -0.0014164447784423828}\n",
      " \n",
      "['VERB', 'ADJ']\n",
      "{word: reinforces, index: 0, tag: NOUN, rank_score: -0.004479646682739258}\n",
      "{word: its, index: 16, tag: PRON, rank_score: -0.0022396445274353027}\n",
      "{word: the, index: 1, tag: DET, rank_score: -0.0019986629486083984}\n",
      "{word: often, index: 2, tag: ADV, rank_score: -0.0017603039741516113}\n",
      " \n",
      "['VERB', 'ADJ']\n",
      "{word: hard, index: 16, tag: ADJ, rank_score: -0.08426487445831299}\n",
      "{word: too, index: 15, tag: ADV, rank_score: -0.04825860261917114}\n",
      "{word: it, index: 13, tag: PRON, rank_score: -0.029718339443206787}\n",
      "{word: the, index: 7, tag: DET, rank_score: -0.02728968858718872}\n",
      " \n",
      "['VERB', 'ADJ']\n",
      "{word: to, index: 8, tag: PRT, rank_score: -0.0027312636375427246}\n",
      "{word: sharp, index: 1, tag: ADJ, rank_score: -0.0010176897048950195}\n",
      "{word: examine, index: 9, tag: VERB, rank_score: -0.0008599162101745605}\n",
      "{word: uses, index: 0, tag: NOUN, rank_score: -0.0007710456848144531}\n",
      " \n",
      "['VERB', 'ADJ']\n",
      "{word: brimming, index: 4, tag: VERB, rank_score: -0.0006479620933532715}\n",
      "{word: that, index: 26, tag: DET, rank_score: -0.0005714893341064453}\n",
      "{word: volumes, index: 13, tag: NOUN, rank_score: -0.0004616975784301758}\n",
      "{word: this, index: 0, tag: DET, rank_score: -0.0004323124885559082}\n",
      " \n",
      ":: 1 sentences remaining.\n",
      "Filtering instances by relevant words classification score greater than 0.9\n",
      ":: 0 sentences remaining.\n",
      "Predicting inputs...\n",
      ":: Instance predictions done.\n",
      "Filtering instances classified unanimously...\n",
      ":: 5 instances remaining.\n",
      "Converting texts to sentences...\n",
      ":: 5 sentences were generated.\n",
      "Predicting inputs...\n",
      ":: Sentence predictions done.\n",
      "Filtering instances classified unanimously...\n",
      ":: 5 sentences remaining.\n",
      "Filtering instances by classification score greater than 0.9\n",
      ":: 5 sentences remaining.\n",
      "Ranking words using Replace-1 Score...\n",
      ":: Word ranking done.\n",
      "4\n",
      "Filtering instances by relevant words...\n",
      "['VERB', 'ADJ']\n",
      "{word: remarkable, index: 11, tag: ADJ, rank_score: -0.000916898250579834}\n",
      "{word: explores, index: 14, tag: VERB, rank_score: -0.0006626248359680176}\n",
      "{word: film, index: 12, tag: NOUN, rank_score: -0.0003673434257507324}\n",
      "{word: impulses, index: 35, tag: NOUN, rank_score: -0.0002429485321044922}\n",
      " \n",
      "['VERB', 'ADJ']\n",
      "{word: reinforces, index: 0, tag: NOUN, rank_score: -0.0008412599563598633}\n",
      "{word: often, index: 2, tag: ADV, rank_score: -0.00034749507904052734}\n",
      "{word: its, index: 16, tag: PRON, rank_score: -0.00026214122772216797}\n",
      "{word: heal, index: 19, tag: VERB, rank_score: -0.0002471804618835449}\n",
      " \n",
      "['VERB', 'ADJ']\n",
      "{word: goofball, index: 4, tag: ADJ, rank_score: -0.02468627691268921}\n",
      "{word: hard, index: 16, tag: ADJ, rank_score: -0.010329663753509521}\n",
      "{word: was, index: 11, tag: VERB, rank_score: -0.005280792713165283}\n",
      "{word: human, index: 0, tag: ADJ, rank_score: -0.004195570945739746}\n",
      " \n",
      "['VERB', 'ADJ']\n",
      "{word: and, index: 3, tag: CONJ, rank_score: -5.9604644775390625e-05}\n",
      "{word: to, index: 8, tag: PRT, rank_score: -4.38690185546875e-05}\n",
      "{word: class, index: 10, tag: NOUN, rank_score: -2.956390380859375e-05}\n",
      "{word: sharp, index: 1, tag: ADJ, rank_score: -2.8252601623535156e-05}\n",
      " \n",
      "['VERB', 'ADJ']\n",
      "{word: that, index: 26, tag: DET, rank_score: -0.0003622770309448242}\n",
      "{word: events, index: 25, tag: NOUN, rank_score: -0.00022608041763305664}\n",
      "{word: forever, index: 31, tag: ADV, rank_score: -7.611513137817383e-05}\n",
      "{word: speaks, index: 12, tag: VERB, rank_score: -6.562471389770508e-05}\n",
      " \n",
      ":: 2 sentences remaining.\n",
      "Filtering instances by relevant words classification score greater than 0.9\n",
      ":: 1 sentences remaining.\n"
     ]
    }
   ],
   "source": [
    "templates = tg0.generate_templates(instances, n_masks=2, ranked_words_count=4)\n",
    "templates = tg1.generate_templates(instances, n_masks=2, ranked_words_count=4)\n",
    "templates = tg2.generate_templates(instances, n_masks=2, ranked_words_count=4)\n",
    "templates = tg3.generate_templates(instances, n_masks=2, ranked_words_count=4)\n",
    "templates = tg4.generate_templates(instances, n_masks=2, ranked_words_count=4)"
   ]
  },
  {
   "cell_type": "markdown",
   "id": "72d150cb",
   "metadata": {},
   "source": [
    "#### Tempo de execução para 5 instâncias: 9.7s"
   ]
  },
  {
   "cell_type": "code",
   "execution_count": 11,
   "id": "193f1b65",
   "metadata": {},
   "outputs": [
    {
     "data": {
      "text/html": [
       "<div>\n",
       "<style scoped>\n",
       "    .dataframe tbody tr th:only-of-type {\n",
       "        vertical-align: middle;\n",
       "    }\n",
       "\n",
       "    .dataframe tbody tr th {\n",
       "        vertical-align: top;\n",
       "    }\n",
       "\n",
       "    .dataframe thead th {\n",
       "        text-align: right;\n",
       "    }\n",
       "</style>\n",
       "<table border=\"1\" class=\"dataframe\">\n",
       "  <thead>\n",
       "    <tr style=\"text-align: right;\">\n",
       "      <th></th>\n",
       "      <th>label</th>\n",
       "      <th>original_text</th>\n",
       "      <th>masked_text</th>\n",
       "      <th>template_text</th>\n",
       "    </tr>\n",
       "  </thead>\n",
       "  <tbody>\n",
       "    <tr>\n",
       "      <th>0</th>\n",
       "      <td>1</td>\n",
       "      <td>reinforces the often forgotten fact of the world's remarkably varying human population and mindset and its capacity to heal using creative natural and ancient antidotes .</td>\n",
       "      <td>reinforces the often forgotten fact of the world 's remarkably varying human population and mindset and its capacity to {mask} using {mask} natural and ancient antidotes .</td>\n",
       "      <td>reinforces the often forgotten fact of the world 's remarkably varying human population and mindset and its capacity to {pos_verb} using {pos_adj} natural and ancient antidotes .</td>\n",
       "    </tr>\n",
       "  </tbody>\n",
       "</table>\n",
       "</div>"
      ],
      "text/plain": [
       "   label  \\\n",
       "0      1   \n",
       "\n",
       "                                                                                                                                                                original_text  \\\n",
       "0  reinforces the often forgotten fact of the world's remarkably varying human population and mindset and its capacity to heal using creative natural and ancient antidotes .   \n",
       "\n",
       "                                                                                                                                                                   masked_text  \\\n",
       "0  reinforces the often forgotten fact of the world 's remarkably varying human population and mindset and its capacity to {mask} using {mask} natural and ancient antidotes .   \n",
       "\n",
       "                                                                                                                                                                        template_text  \n",
       "0  reinforces the often forgotten fact of the world 's remarkably varying human population and mindset and its capacity to {pos_verb} using {pos_adj} natural and ancient antidotes .  "
      ]
     },
     "execution_count": 11,
     "metadata": {},
     "output_type": "execute_result"
    }
   ],
   "source": [
    "df0 = tg0.to_dataframe()\n",
    "df0"
   ]
  },
  {
   "cell_type": "code",
   "execution_count": 12,
   "id": "017b4c99",
   "metadata": {},
   "outputs": [
    {
     "data": {
      "text/html": [
       "<div>\n",
       "<style scoped>\n",
       "    .dataframe tbody tr th:only-of-type {\n",
       "        vertical-align: middle;\n",
       "    }\n",
       "\n",
       "    .dataframe tbody tr th {\n",
       "        vertical-align: top;\n",
       "    }\n",
       "\n",
       "    .dataframe thead th {\n",
       "        text-align: right;\n",
       "    }\n",
       "</style>\n",
       "<table border=\"1\" class=\"dataframe\">\n",
       "  <thead>\n",
       "    <tr style=\"text-align: right;\">\n",
       "      <th></th>\n",
       "      <th>label</th>\n",
       "      <th>original_text</th>\n",
       "      <th>masked_text</th>\n",
       "      <th>template_text</th>\n",
       "    </tr>\n",
       "  </thead>\n",
       "  <tbody>\n",
       "  </tbody>\n",
       "</table>\n",
       "</div>"
      ],
      "text/plain": [
       "Empty DataFrame\n",
       "Columns: [label, original_text, masked_text, template_text]\n",
       "Index: []"
      ]
     },
     "execution_count": 12,
     "metadata": {},
     "output_type": "execute_result"
    }
   ],
   "source": [
    "df1 = tg1.to_dataframe()\n",
    "df1"
   ]
  },
  {
   "cell_type": "code",
   "execution_count": 13,
   "id": "1b38f51f",
   "metadata": {},
   "outputs": [
    {
     "data": {
      "text/html": [
       "<div>\n",
       "<style scoped>\n",
       "    .dataframe tbody tr th:only-of-type {\n",
       "        vertical-align: middle;\n",
       "    }\n",
       "\n",
       "    .dataframe tbody tr th {\n",
       "        vertical-align: top;\n",
       "    }\n",
       "\n",
       "    .dataframe thead th {\n",
       "        text-align: right;\n",
       "    }\n",
       "</style>\n",
       "<table border=\"1\" class=\"dataframe\">\n",
       "  <thead>\n",
       "    <tr style=\"text-align: right;\">\n",
       "      <th></th>\n",
       "      <th>label</th>\n",
       "      <th>original_text</th>\n",
       "      <th>masked_text</th>\n",
       "      <th>template_text</th>\n",
       "    </tr>\n",
       "  </thead>\n",
       "  <tbody>\n",
       "  </tbody>\n",
       "</table>\n",
       "</div>"
      ],
      "text/plain": [
       "Empty DataFrame\n",
       "Columns: [label, original_text, masked_text, template_text]\n",
       "Index: []"
      ]
     },
     "execution_count": 13,
     "metadata": {},
     "output_type": "execute_result"
    }
   ],
   "source": [
    "df2 = tg2.to_dataframe()\n",
    "df2"
   ]
  },
  {
   "cell_type": "code",
   "execution_count": 14,
   "id": "c5d2a120",
   "metadata": {},
   "outputs": [
    {
     "data": {
      "text/html": [
       "<div>\n",
       "<style scoped>\n",
       "    .dataframe tbody tr th:only-of-type {\n",
       "        vertical-align: middle;\n",
       "    }\n",
       "\n",
       "    .dataframe tbody tr th {\n",
       "        vertical-align: top;\n",
       "    }\n",
       "\n",
       "    .dataframe thead th {\n",
       "        text-align: right;\n",
       "    }\n",
       "</style>\n",
       "<table border=\"1\" class=\"dataframe\">\n",
       "  <thead>\n",
       "    <tr style=\"text-align: right;\">\n",
       "      <th></th>\n",
       "      <th>label</th>\n",
       "      <th>original_text</th>\n",
       "      <th>masked_text</th>\n",
       "      <th>template_text</th>\n",
       "    </tr>\n",
       "  </thead>\n",
       "  <tbody>\n",
       "  </tbody>\n",
       "</table>\n",
       "</div>"
      ],
      "text/plain": [
       "Empty DataFrame\n",
       "Columns: [label, original_text, masked_text, template_text]\n",
       "Index: []"
      ]
     },
     "execution_count": 14,
     "metadata": {},
     "output_type": "execute_result"
    }
   ],
   "source": [
    "df3 = tg3.to_dataframe()\n",
    "df3"
   ]
  },
  {
   "cell_type": "code",
   "execution_count": 15,
   "id": "dec7a0c0",
   "metadata": {},
   "outputs": [
    {
     "data": {
      "text/html": [
       "<div>\n",
       "<style scoped>\n",
       "    .dataframe tbody tr th:only-of-type {\n",
       "        vertical-align: middle;\n",
       "    }\n",
       "\n",
       "    .dataframe tbody tr th {\n",
       "        vertical-align: top;\n",
       "    }\n",
       "\n",
       "    .dataframe thead th {\n",
       "        text-align: right;\n",
       "    }\n",
       "</style>\n",
       "<table border=\"1\" class=\"dataframe\">\n",
       "  <thead>\n",
       "    <tr style=\"text-align: right;\">\n",
       "      <th></th>\n",
       "      <th>label</th>\n",
       "      <th>original_text</th>\n",
       "      <th>masked_text</th>\n",
       "      <th>template_text</th>\n",
       "    </tr>\n",
       "  </thead>\n",
       "  <tbody>\n",
       "    <tr>\n",
       "      <th>0</th>\n",
       "      <td>1</td>\n",
       "      <td>writer-director david jacobson and his star  jeremy renner  have made a remarkable film that explores the monster's psychology not in order to excuse him but rather to demonstrate that his pathology evolved from human impulses that grew hideously twisted .</td>\n",
       "      <td>writer-director david jacobson and his star jeremy renner have made a {mask} film that {mask} the monster 's psychology not in order to excuse him but rather to demonstrate that his pathology evolved from human impulses that grew hideously twisted .</td>\n",
       "      <td>writer-director david jacobson and his star jeremy renner have made a {pos_adj} film that {pos_verb} the monster 's psychology not in order to excuse him but rather to demonstrate that his pathology evolved from human impulses that grew hideously twisted .</td>\n",
       "    </tr>\n",
       "  </tbody>\n",
       "</table>\n",
       "</div>"
      ],
      "text/plain": [
       "   label  \\\n",
       "0      1   \n",
       "\n",
       "                                                                                                                                                                                                                                                      original_text  \\\n",
       "0  writer-director david jacobson and his star  jeremy renner  have made a remarkable film that explores the monster's psychology not in order to excuse him but rather to demonstrate that his pathology evolved from human impulses that grew hideously twisted .   \n",
       "\n",
       "                                                                                                                                                                                                                                                 masked_text  \\\n",
       "0  writer-director david jacobson and his star jeremy renner have made a {mask} film that {mask} the monster 's psychology not in order to excuse him but rather to demonstrate that his pathology evolved from human impulses that grew hideously twisted .   \n",
       "\n",
       "                                                                                                                                                                                                                                                      template_text  \n",
       "0  writer-director david jacobson and his star jeremy renner have made a {pos_adj} film that {pos_verb} the monster 's psychology not in order to excuse him but rather to demonstrate that his pathology evolved from human impulses that grew hideously twisted .  "
      ]
     },
     "execution_count": 15,
     "metadata": {},
     "output_type": "execute_result"
    }
   ],
   "source": [
    "df4 = tg4.to_dataframe()\n",
    "df4"
   ]
  },
  {
   "cell_type": "code",
   "execution_count": 16,
   "id": "7f98d8ba",
   "metadata": {},
   "outputs": [
    {
     "data": {
      "text/plain": [
       "{'pos_verb': ['heal'], 'neg_verb': [], 'pos_adj': ['creative'], 'neg_adj': []}"
      ]
     },
     "execution_count": 16,
     "metadata": {},
     "output_type": "execute_result"
    }
   ],
   "source": [
    "tg0.lexicons"
   ]
  },
  {
   "cell_type": "code",
   "execution_count": 17,
   "id": "0c2d142a",
   "metadata": {},
   "outputs": [
    {
     "data": {
      "text/plain": [
       "{'pos_verb': [], 'neg_verb': [], 'pos_adj': [], 'neg_adj': []}"
      ]
     },
     "execution_count": 17,
     "metadata": {},
     "output_type": "execute_result"
    }
   ],
   "source": [
    "tg1.lexicons"
   ]
  },
  {
   "cell_type": "code",
   "execution_count": 18,
   "id": "4826e528",
   "metadata": {},
   "outputs": [
    {
     "data": {
      "text/plain": [
       "{'pos_verb': [], 'neg_verb': [], 'pos_adj': [], 'neg_adj': []}"
      ]
     },
     "execution_count": 18,
     "metadata": {},
     "output_type": "execute_result"
    }
   ],
   "source": [
    "tg2.lexicons"
   ]
  },
  {
   "cell_type": "code",
   "execution_count": 19,
   "id": "2afb51c3",
   "metadata": {},
   "outputs": [
    {
     "data": {
      "text/plain": [
       "{'pos_verb': [], 'neg_verb': [], 'pos_adj': [], 'neg_adj': []}"
      ]
     },
     "execution_count": 19,
     "metadata": {},
     "output_type": "execute_result"
    }
   ],
   "source": [
    "tg3.lexicons"
   ]
  },
  {
   "cell_type": "code",
   "execution_count": 20,
   "id": "12c37e25",
   "metadata": {},
   "outputs": [
    {
     "data": {
      "text/plain": [
       "{'pos_verb': ['explores'],\n",
       " 'neg_verb': [],\n",
       " 'pos_adj': ['remarkable'],\n",
       " 'neg_adj': []}"
      ]
     },
     "execution_count": 20,
     "metadata": {},
     "output_type": "execute_result"
    }
   ],
   "source": [
    "tg4.lexicons"
   ]
  },
  {
   "cell_type": "markdown",
   "id": "01a27f1f",
   "metadata": {},
   "source": [
    "### Número inicial de instâncias: 100"
   ]
  },
  {
   "cell_type": "code",
   "execution_count": 21,
   "id": "cd4a7fe3",
   "metadata": {},
   "outputs": [],
   "source": [
    "# Using all 100 instances\n",
    "instances = [x for x in movie_reviews_rt_df['text'].values]"
   ]
  },
  {
   "cell_type": "code",
   "execution_count": 22,
   "id": "f1f3f383",
   "metadata": {},
   "outputs": [
    {
     "name": "stdout",
     "output_type": "stream",
     "text": [
      "Predicting inputs...\n"
     ]
    },
    {
     "name": "stderr",
     "output_type": "stream",
     "text": [
      "<ipython-input-3-263ca9d23a33>:23: UserWarning: Implicit dimension choice for softmax has been deprecated. Change the call to include dim=X as an argument.\n",
      "  prob = softmax(tensor_logits[0]).detach().numpy()\n"
     ]
    },
    {
     "name": "stdout",
     "output_type": "stream",
     "text": [
      ":: Instance predictions done.\n",
      "Filtering instances classified unanimously...\n",
      ":: 13 instances remaining.\n",
      "Converting texts to sentences...\n",
      ":: 16 sentences were generated.\n",
      "Predicting inputs...\n",
      ":: Sentence predictions done.\n",
      "Filtering instances classified unanimously...\n",
      ":: 13 sentences remaining.\n",
      "Filtering instances by classification score greater than 0.9\n",
      ":: 11 sentences remaining.\n",
      "Ranking words using Replace-1 Score...\n",
      ":: Word ranking done.\n",
      "4\n",
      "Filtering instances by relevant words...\n",
      "['VERB', 'ADJ']\n",
      "{word: emotional, index: 8, tag: ADJ, rank_score: -0.0002446174621582031}\n",
      "{word: celebrates, index: 1, tag: VERB, rank_score: -7.253885269165039e-05}\n",
      "{word: and, index: 5, tag: CONJ, rank_score: -4.464387893676758e-05}\n",
      "{word: wallop, index: 9, tag: NOUN, rank_score: -3.629922866821289e-05}\n",
      " \n",
      "['VERB', 'ADJ']\n",
      "{word: too, index: 15, tag: ADV, rank_score: -0.26553088426589966}\n",
      "{word: hard, index: 16, tag: ADJ, rank_score: -0.019599199295043945}\n",
      "{word: tries, index: 14, tag: VERB, rank_score: -0.00024950504302978516}\n",
      "{word: it, index: 13, tag: PRON, rank_score: -0.0001239180564880371}\n",
      " \n",
      "['VERB', 'ADJ']\n",
      "{word: neither, index: 14, tag: DET, rank_score: -0.9962499141693115}\n",
      "{word: is, index: 4, tag: VERB, rank_score: -0.01779186725616455}\n",
      "{word: is, index: 15, tag: VERB, rank_score: -0.016508638858795166}\n",
      "{word: nearly, index: 6, tag: ADV, rank_score: -0.009778499603271484}\n",
      " \n",
      "['VERB', 'ADJ']\n",
      "{word: strikes, index: 4, tag: VERB, rank_score: -0.00023055076599121094}\n",
      "{word: once, index: 0, tag: ADV, rank_score: 0.00014394521713256836}\n",
      "{word: rewarding, index: 6, tag: VERB, rank_score: -0.00013381242752075195}\n",
      "{word: and, index: 14, tag: CONJ, rank_score: 0.00012499094009399414}\n",
      " \n",
      "['VERB', 'ADJ']\n",
      "{word: conflict, index: 11, tag: NOUN, rank_score: 0.00013977289199829102}\n",
      "{word: into, index: 5, tag: ADP, rank_score: 0.00013762712478637695}\n",
      "{word: insight, index: 4, tag: NOUN, rank_score: 0.00010704994201660156}\n",
      "{word: and, index: 3, tag: CONJ, rank_score: 0.00010192394256591797}\n",
      " \n",
      "['VERB', 'ADJ']\n",
      "{word: not-so-stock, index: 20, tag: ADJ, rank_score: 0.0006017684936523438}\n",
      "{word: adding, index: 14, tag: VERB, rank_score: -0.0004677772521972656}\n",
      "{word: to, index: 18, tag: PRT, rank_score: 0.00040602684020996094}\n",
      "{word: its, index: 19, tag: PRON, rank_score: -0.00034749507904052734}\n",
      " \n",
      "['VERB', 'ADJ']\n",
      "{word: reinforces, index: 0, tag: NOUN, rank_score: -0.002393782138824463}\n",
      "{word: the, index: 1, tag: DET, rank_score: -0.0006895065307617188}\n",
      "{word: heal, index: 19, tag: VERB, rank_score: -0.00015097856521606445}\n",
      "{word: creative, index: 21, tag: ADJ, rank_score: -0.00013691186904907227}\n",
      " \n",
      "['VERB', 'ADJ']\n",
      "{word: takes, index: 1, tag: VERB, rank_score: -0.0002727508544921875}\n",
      "{word: confusion, index: 4, tag: NOUN, rank_score: -0.00019049644470214844}\n",
      "{word: evokes, index: 13, tag: VERB, rank_score: -0.0001805424690246582}\n",
      "{word: it, index: 0, tag: PRON, rank_score: -0.00010311603546142578}\n",
      " \n",
      "['VERB', 'ADJ']\n",
      "{word: remarkable, index: 11, tag: ADJ, rank_score: 0.00026857852935791016}\n",
      "{word: renner, index: 7, tag: NOUN, rank_score: 0.00020641088485717773}\n",
      "{word: film, index: 12, tag: NOUN, rank_score: 0.00020247697830200195}\n",
      "{word: star, index: 5, tag: NOUN, rank_score: 0.00018262863159179688}\n",
      " \n",
      "['VERB', 'ADJ']\n",
      "{word: speaks, index: 12, tag: VERB, rank_score: 0.0004183053970336914}\n",
      "{word: volumes, index: 13, tag: NOUN, rank_score: 0.00038188695907592773}\n",
      "{word: that, index: 11, tag: DET, rank_score: 0.00022268295288085938}\n",
      "{word: film, index: 3, tag: NOUN, rank_score: -0.00019508600234985352}\n",
      " \n",
      "['VERB', 'ADJ']\n",
      "{word: ponder, index: 7, tag: VERB, rank_score: -0.0024632811546325684}\n",
      "{word: to, index: 6, tag: PRT, rank_score: -0.0009704232215881348}\n",
      "{word: one, index: 27, tag: NUM, rank_score: -0.0005741715431213379}\n",
      "{word: risks, index: 5, tag: NOUN, rank_score: -0.0005258321762084961}\n",
      " \n",
      ":: 7 sentences remaining.\n",
      "Filtering instances by relevant words classification score greater than 0.9\n",
      ":: 4 sentences remaining.\n",
      "Predicting inputs...\n",
      ":: Instance predictions done.\n",
      "Filtering instances classified unanimously...\n",
      ":: 13 instances remaining.\n",
      "Converting texts to sentences...\n",
      ":: 16 sentences were generated.\n",
      "Predicting inputs...\n",
      ":: Sentence predictions done.\n",
      "Filtering instances classified unanimously...\n",
      ":: 13 sentences remaining.\n",
      "Filtering instances by classification score greater than 0.9\n",
      ":: 12 sentences remaining.\n",
      "Ranking words using Replace-1 Score...\n",
      ":: Word ranking done.\n",
      "4\n",
      "Filtering instances by relevant words...\n",
      "['VERB', 'ADJ']\n",
      "{word: celebrates, index: 1, tag: VERB, rank_score: -0.04364126920700073}\n",
      "{word: and, index: 5, tag: CONJ, rank_score: -0.01978963613510132}\n",
      "{word: windtalkers, index: 0, tag: NOUN, rank_score: -0.009718060493469238}\n",
      "{word: spirit, index: 4, tag: NOUN, rank_score: -0.00470656156539917}\n",
      " \n",
      "['VERB', 'ADJ']\n",
      "{word: too, index: 15, tag: ADV, rank_score: -0.41512632369995117}\n",
      "{word: hard, index: 16, tag: ADJ, rank_score: -0.1733660101890564}\n",
      "{word: tries, index: 14, tag: VERB, rank_score: -0.0331997275352478}\n",
      "{word: is, index: 2, tag: VERB, rank_score: -0.00994729995727539}\n",
      " \n",
      "['VERB', 'ADJ']\n",
      "{word: as, index: 7, tag: ADV, rank_score: -0.1940762996673584}\n",
      "{word: as, index: 9, tag: ADP, rank_score: -0.18227648735046387}\n",
      "{word: nearly, index: 6, tag: ADV, rank_score: -0.16494911909103394}\n",
      "{word: human, index: 0, tag: ADJ, rank_score: -0.142785906791687}\n",
      " \n",
      "['VERB', 'ADJ']\n",
      "{word: rewarding, index: 6, tag: VERB, rank_score: -0.01604825258255005}\n",
      "{word: again, index: 1, tag: ADV, rank_score: -0.005618751049041748}\n",
      "{word: emotion, index: 9, tag: NOUN, rank_score: -0.003535032272338867}\n",
      "{word: balance, index: 7, tag: NOUN, rank_score: -0.0027649998664855957}\n",
      " \n",
      "['VERB', 'ADJ']\n",
      "{word: to, index: 8, tag: PRT, rank_score: -0.01927584409713745}\n",
      "{word: sharp, index: 1, tag: ADJ, rank_score: -0.012508392333984375}\n",
      "{word: and, index: 18, tag: CONJ, rank_score: -0.007355093955993652}\n",
      "{word: and, index: 3, tag: CONJ, rank_score: -0.0070855021476745605}\n",
      " \n",
      "['VERB', 'ADJ']\n",
      "{word: to, index: 18, tag: PRT, rank_score: -0.37869298458099365}\n",
      "{word: breathes, index: 3, tag: NOUN, rank_score: -0.024244964122772217}\n",
      "{word: and, index: 13, tag: CONJ, rank_score: -0.01495581865310669}\n",
      "{word: complexity, index: 17, tag: NOUN, rank_score: -0.012289166450500488}\n",
      " \n",
      "['VERB', 'ADJ']\n",
      "{word: antidotes, index: 25, tag: NOUN, rank_score: -0.01593911647796631}\n",
      "{word: reinforces, index: 0, tag: NOUN, rank_score: -0.005084037780761719}\n",
      "{word: heal, index: 19, tag: VERB, rank_score: -0.004620075225830078}\n",
      "{word: forgotten, index: 3, tag: ADJ, rank_score: 0.004349470138549805}\n",
      " \n",
      "['VERB', 'ADJ']\n",
      "{word: face, index: 10, tag: NOUN, rank_score: -0.2955150604248047}\n",
      "{word: it, index: 12, tag: PRON, rank_score: -0.2805896997451782}\n",
      "{word: on, index: 11, tag: ADP, rank_score: -0.2492097020149231}\n",
      "{word: this, index: 2, tag: DET, rank_score: -0.1343020796775818}\n",
      " \n",
      "['VERB', 'ADJ']\n",
      "{word: maintain, index: 16, tag: VERB, rank_score: -0.33296555280685425}\n",
      "{word: both, index: 17, tag: DET, rank_score: -0.32070299983024597}\n",
      "{word: suck, index: 27, tag: VERB, rank_score: 0.27644509077072144}\n",
      "{word: manages, index: 14, tag: VERB, rank_score: -0.23997053503990173}\n",
      " \n",
      "['VERB', 'ADJ']\n",
      "{word: remarkable, index: 11, tag: ADJ, rank_score: -0.18280136585235596}\n",
      "{word: film, index: 12, tag: NOUN, rank_score: -0.06100273132324219}\n",
      "{word: explores, index: 14, tag: VERB, rank_score: -0.03053450584411621}\n",
      "{word: that, index: 13, tag: DET, rank_score: -0.018452465534210205}\n",
      " \n",
      "['VERB', 'ADJ']\n",
      "{word: that, index: 26, tag: DET, rank_score: -0.008507609367370605}\n",
      "{word: with, index: 5, tag: ADP, rank_score: -0.007589578628540039}\n",
      "{word: ability, index: 16, tag: NOUN, rank_score: -0.0038942694664001465}\n",
      "{word: could, index: 27, tag: VERB, rank_score: -0.00370943546295166}\n",
      " \n",
      "['VERB', 'ADJ']\n",
      "{word: kaufman, index: 0, tag: NOUN, rank_score: -0.008842885494232178}\n",
      "{word: missing, index: 32, tag: VERB, rank_score: -0.0055198073387146}\n",
      "{word: and, index: 24, tag: CONJ, rank_score: -0.004967868328094482}\n",
      "{word: to, index: 6, tag: PRT, rank_score: -0.004076242446899414}\n",
      " \n",
      ":: 4 sentences remaining.\n",
      "Filtering instances by relevant words classification score greater than 0.9\n",
      ":: 0 sentences remaining.\n",
      "Predicting inputs...\n",
      ":: Instance predictions done.\n",
      "Filtering instances classified unanimously...\n",
      ":: 14 instances remaining.\n",
      "Converting texts to sentences...\n",
      ":: 20 sentences were generated.\n",
      "Predicting inputs...\n",
      ":: Sentence predictions done.\n",
      "Filtering instances classified unanimously...\n",
      ":: 20 sentences remaining.\n",
      "Filtering instances by classification score greater than 0.9\n",
      ":: 13 sentences remaining.\n",
      "Ranking words using Replace-1 Score...\n",
      ":: Word ranking done.\n",
      "4\n",
      "Filtering instances by relevant words...\n",
      "['VERB', 'ADJ']\n",
      "{word: emotional, index: 8, tag: ADJ, rank_score: -0.08771407604217529}\n",
      "{word: and, index: 5, tag: CONJ, rank_score: -0.020595848560333252}\n",
      "{word: celebrates, index: 1, tag: VERB, rank_score: -0.019875288009643555}\n",
      "{word: an, index: 7, tag: DET, rank_score: -0.0131683349609375}\n",
      " \n",
      "['VERB', 'ADJ']\n",
      "{word: too, index: 15, tag: ADV, rank_score: -0.5472847819328308}\n",
      "{word: hard, index: 16, tag: ADJ, rank_score: -0.06368094682693481}\n",
      "{word: tries, index: 14, tag: VERB, rank_score: 0.011326849460601807}\n",
      "{word: it, index: 13, tag: PRON, rank_score: -0.008837282657623291}\n",
      " \n",
      "['VERB', 'ADJ']\n",
      "{word: neither, index: 14, tag: DET, rank_score: -0.5002660751342773}\n",
      "{word: n't, index: 5, tag: ADV, rank_score: -0.2574998736381531}\n",
      "{word: thinks, index: 11, tag: VERB, rank_score: -0.10777485370635986}\n",
      "{word: human, index: 0, tag: ADJ, rank_score: -0.09942317008972168}\n",
      " \n",
      "['VERB', 'ADJ']\n",
      "{word: rewarding, index: 6, tag: VERB, rank_score: -0.01813960075378418}\n",
      "{word: again, index: 1, tag: ADV, rank_score: -0.008064448833465576}\n",
      "{word: balance, index: 7, tag: NOUN, rank_score: -0.005070626735687256}\n",
      "{word: spectacular, index: 18, tag: ADJ, rank_score: -0.0035028457641601562}\n",
      " \n",
      "['VERB', 'ADJ']\n",
      "{word: insight, index: 4, tag: NOUN, rank_score: -0.013126611709594727}\n",
      "{word: sharp, index: 1, tag: ADJ, rank_score: -0.011735856533050537}\n",
      "{word: and, index: 3, tag: CONJ, rank_score: -0.005988895893096924}\n",
      "{word: uses, index: 0, tag: NOUN, rank_score: 0.004506409168243408}\n",
      " \n",
      "['VERB', 'ADJ']\n",
      "{word: surprising, index: 4, tag: VERB, rank_score: -0.017866551876068115}\n",
      "{word: breathes, index: 3, tag: NOUN, rank_score: -0.008876144886016846}\n",
      "{word: by, index: 10, tag: ADP, rank_score: 0.004831075668334961}\n",
      "{word: and, index: 13, tag: CONJ, rank_score: -0.004502713680267334}\n",
      " \n",
      "['VERB', 'ADJ']\n",
      "{word: the, index: 1, tag: DET, rank_score: -0.010621726512908936}\n",
      "{word: reinforces, index: 0, tag: NOUN, rank_score: -0.008427619934082031}\n",
      "{word: creative, index: 21, tag: ADJ, rank_score: -0.0025826692581176758}\n",
      "{word: and, index: 23, tag: CONJ, rank_score: -0.0018885135650634766}\n",
      " \n",
      "['VERB', 'ADJ']\n",
      "{word: and, index: 22, tag: CONJ, rank_score: -0.09340566396713257}\n",
      "{word: evokes, index: 13, tag: VERB, rank_score: -0.0749427080154419}\n",
      "{word: understanding, index: 25, tag: VERB, rank_score: -0.06108731031417847}\n",
      "{word: who, index: 17, tag: PRON, rank_score: -0.026911914348602295}\n",
      " \n",
      "['VERB', 'ADJ']\n",
      "{word: that, index: 26, tag: DET, rank_score: -0.041324079036712646}\n",
      "{word: manages, index: 14, tag: VERB, rank_score: -0.027485191822052002}\n",
      "{word: it, index: 13, tag: PRON, rank_score: -0.01360410451889038}\n",
      "{word: suck, index: 27, tag: VERB, rank_score: 0.011204361915588379}\n",
      " \n",
      "['VERB', 'ADJ']\n",
      "{word: remarkable, index: 11, tag: ADJ, rank_score: -0.2996975779533386}\n",
      "{word: explores, index: 14, tag: VERB, rank_score: -0.09665840864181519}\n",
      "{word: not, index: 19, tag: ADV, rank_score: -0.061625897884368896}\n",
      "{word: that, index: 13, tag: DET, rank_score: -0.02423804998397827}\n",
      " \n",
      "['VERB', 'ADJ']\n",
      "{word: speaks, index: 12, tag: VERB, rank_score: -0.00602412223815918}\n",
      "{word: volumes, index: 13, tag: NOUN, rank_score: -0.0035628676414489746}\n",
      "{word: that, index: 26, tag: DET, rank_score: -0.0035341382026672363}\n",
      "{word: and, index: 9, tag: CONJ, rank_score: -0.0030517578125}\n",
      " \n",
      "['VERB', 'ADJ']\n",
      "{word: to, index: 6, tag: PRT, rank_score: -0.239604651927948}\n",
      "{word: when, index: 29, tag: ADV, rank_score: -0.07722127437591553}\n",
      "{word: huge, index: 4, tag: ADJ, rank_score: -0.07340490818023682}\n",
      "{word: take, index: 3, tag: VERB, rank_score: -0.07295459508895874}\n",
      " \n",
      "['VERB', 'ADJ']\n",
      "{word: dulls, index: 35, tag: VERB, rank_score: -0.5906822681427002}\n",
      "{word: tragedy, index: 38, tag: NOUN, rank_score: 0.09726500511169434}\n",
      "{word: ultimately, index: 34, tag: ADV, rank_score: -0.07964521646499634}\n",
      "{word: that, index: 33, tag: ADP, rank_score: 0.06926131248474121}\n",
      " \n",
      ":: 8 sentences remaining.\n",
      "Filtering instances by relevant words classification score greater than 0.9\n",
      ":: 0 sentences remaining.\n",
      "Predicting inputs...\n",
      ":: Instance predictions done.\n",
      "Filtering instances classified unanimously...\n",
      ":: 13 instances remaining.\n",
      "Converting texts to sentences...\n",
      ":: 16 sentences were generated.\n",
      "Predicting inputs...\n",
      ":: Sentence predictions done.\n",
      "Filtering instances classified unanimously...\n",
      ":: 13 sentences remaining.\n",
      "Filtering instances by classification score greater than 0.9\n",
      ":: 11 sentences remaining.\n",
      "Ranking words using Replace-1 Score...\n",
      ":: Word ranking done.\n",
      "4\n",
      "Filtering instances by relevant words...\n",
      "['VERB', 'ADJ']\n",
      "{word: packs, index: 6, tag: VERB, rank_score: -0.0025531649589538574}\n",
      "{word: and, index: 5, tag: CONJ, rank_score: -0.0015506744384765625}\n",
      "{word: emotional, index: 8, tag: ADJ, rank_score: -0.0010091662406921387}\n",
      "{word: spirit, index: 4, tag: NOUN, rank_score: -0.0007020831108093262}\n",
      " \n",
      "['VERB', 'ADJ']\n",
      "{word: hard, index: 16, tag: ADJ, rank_score: -0.08426487445831299}\n",
      "{word: too, index: 15, tag: ADV, rank_score: -0.04825860261917114}\n",
      "{word: it, index: 13, tag: PRON, rank_score: -0.029718339443206787}\n",
      "{word: the, index: 7, tag: DET, rank_score: -0.02728968858718872}\n",
      " \n",
      "['VERB', 'ADJ']\n",
      "{word: funny, index: 8, tag: ADJ, rank_score: -0.027728796005249023}\n",
      "{word: smart, index: 18, tag: NOUN, rank_score: -0.02419102191925049}\n",
      "{word: short, index: 3, tag: ADJ, rank_score: -0.01806819438934326}\n",
      "{word: neither, index: 14, tag: DET, rank_score: -0.015395820140838623}\n",
      " \n",
      "['VERB', 'ADJ']\n",
      "{word: rewarding, index: 6, tag: VERB, rank_score: -0.0063370466232299805}\n",
      "{word: jackson, index: 3, tag: NOUN, rank_score: 0.00113755464553833}\n",
      "{word: again, index: 1, tag: ADV, rank_score: -0.0011074542999267578}\n",
      "{word: emotion, index: 9, tag: NOUN, rank_score: -0.0010747313499450684}\n",
      " \n",
      "['VERB', 'ADJ']\n",
      "{word: to, index: 8, tag: PRT, rank_score: -0.0027312636375427246}\n",
      "{word: sharp, index: 1, tag: ADJ, rank_score: -0.0010176897048950195}\n",
      "{word: examine, index: 9, tag: VERB, rank_score: -0.0008599162101745605}\n",
      "{word: uses, index: 0, tag: NOUN, rank_score: -0.0007710456848144531}\n",
      " \n",
      "['VERB', 'ADJ']\n",
      "{word: into, index: 7, tag: ADP, rank_score: -0.001651465892791748}\n",
      "{word: its, index: 19, tag: PRON, rank_score: 0.0008733868598937988}\n",
      "{word: by, index: 10, tag: ADP, rank_score: 0.0008299350738525391}\n",
      "{word: life, index: 6, tag: NOUN, rank_score: -0.0007464289665222168}\n",
      " \n",
      "['VERB', 'ADJ']\n",
      "{word: reinforces, index: 0, tag: NOUN, rank_score: -0.004479646682739258}\n",
      "{word: its, index: 16, tag: PRON, rank_score: -0.0022396445274353027}\n",
      "{word: the, index: 1, tag: DET, rank_score: -0.0019986629486083984}\n",
      "{word: often, index: 2, tag: ADV, rank_score: -0.0017603039741516113}\n",
      " \n",
      "['VERB', 'ADJ']\n",
      "{word: understanding, index: 25, tag: VERB, rank_score: -0.018235087394714355}\n",
      "{word: takes, index: 1, tag: VERB, rank_score: -0.011681795120239258}\n",
      "{word: this, index: 2, tag: DET, rank_score: -0.01049649715423584}\n",
      "{word: even, index: 23, tag: ADV, rank_score: 0.005248427391052246}\n",
      " \n",
      "['VERB', 'ADJ']\n",
      "{word: remarkable, index: 11, tag: ADJ, rank_score: -0.004406452178955078}\n",
      "{word: not, index: 19, tag: ADV, rank_score: -0.002635061740875244}\n",
      "{word: and, index: 3, tag: CONJ, rank_score: -0.0018277764320373535}\n",
      "{word: film, index: 12, tag: NOUN, rank_score: -0.0014164447784423828}\n",
      " \n",
      "['VERB', 'ADJ']\n",
      "{word: brimming, index: 4, tag: VERB, rank_score: -0.0006479620933532715}\n",
      "{word: that, index: 26, tag: DET, rank_score: -0.0005714893341064453}\n",
      "{word: volumes, index: 13, tag: NOUN, rank_score: -0.0004616975784301758}\n",
      "{word: this, index: 0, tag: DET, rank_score: -0.0004323124885559082}\n",
      " \n",
      "['VERB', 'ADJ']\n",
      "{word: take, index: 3, tag: VERB, rank_score: -0.01662898063659668}\n",
      "{word: ponder, index: 7, tag: VERB, rank_score: -0.007715046405792236}\n",
      "{word: risks, index: 5, tag: NOUN, rank_score: -0.005897164344787598}\n",
      "{word: to, index: 6, tag: PRT, rank_score: -0.005653083324432373}\n",
      " \n",
      ":: 5 sentences remaining.\n",
      "Filtering instances by relevant words classification score greater than 0.9\n",
      ":: 0 sentences remaining.\n",
      "Predicting inputs...\n",
      ":: Instance predictions done.\n",
      "Filtering instances classified unanimously...\n",
      ":: 13 instances remaining.\n",
      "Converting texts to sentences...\n",
      ":: 16 sentences were generated.\n",
      "Predicting inputs...\n",
      ":: Sentence predictions done.\n",
      "Filtering instances classified unanimously...\n",
      ":: 13 sentences remaining.\n",
      "Filtering instances by classification score greater than 0.9\n",
      ":: 11 sentences remaining.\n",
      "Ranking words using Replace-1 Score...\n",
      ":: Word ranking done.\n",
      "4\n",
      "Filtering instances by relevant words...\n",
      "['VERB', 'ADJ']\n",
      "{word: and, index: 5, tag: CONJ, rank_score: -0.0006201863288879395}\n",
      "{word: celebrates, index: 1, tag: VERB, rank_score: -0.0002307295799255371}\n",
      "{word: spirit, index: 4, tag: NOUN, rank_score: -9.08970832824707e-05}\n",
      "{word: packs, index: 6, tag: VERB, rank_score: -7.444620132446289e-05}\n",
      " \n",
      "['VERB', 'ADJ']\n",
      "{word: goofball, index: 4, tag: ADJ, rank_score: -0.02468627691268921}\n",
      "{word: hard, index: 16, tag: ADJ, rank_score: -0.010329663753509521}\n",
      "{word: was, index: 11, tag: VERB, rank_score: -0.005280792713165283}\n",
      "{word: human, index: 0, tag: ADJ, rank_score: -0.004195570945739746}\n",
      " \n",
      "['VERB', 'ADJ']\n",
      "{word: n't, index: 5, tag: ADV, rank_score: -0.1977340579032898}\n",
      "{word: short, index: 3, tag: ADJ, rank_score: -0.053271472454071045}\n",
      "{word: in, index: 2, tag: ADP, rank_score: -0.028274476528167725}\n",
      "{word: as, index: 7, tag: ADV, rank_score: 0.020865797996520996}\n",
      " \n",
      "['VERB', 'ADJ']\n",
      "{word: again, index: 1, tag: ADV, rank_score: -0.00026935338973999023}\n",
      "{word: action/effects, index: 15, tag: NOUN, rank_score: 0.0001805424690246582}\n",
      "{word: rewarding, index: 6, tag: VERB, rank_score: -0.00016826391220092773}\n",
      "{word: once, index: 0, tag: ADV, rank_score: -0.00014919042587280273}\n",
      " \n",
      "['VERB', 'ADJ']\n",
      "{word: and, index: 3, tag: CONJ, rank_score: -5.9604644775390625e-05}\n",
      "{word: to, index: 8, tag: PRT, rank_score: -4.38690185546875e-05}\n",
      "{word: class, index: 10, tag: NOUN, rank_score: -2.956390380859375e-05}\n",
      "{word: sharp, index: 1, tag: ADJ, rank_score: -2.8252601623535156e-05}\n",
      " \n",
      "['VERB', 'ADJ']\n",
      "{word: to, index: 18, tag: PRT, rank_score: -0.001110076904296875}\n",
      "{word: by, index: 10, tag: ADP, rank_score: -0.0003802776336669922}\n",
      "{word: breathes, index: 3, tag: NOUN, rank_score: -0.00028973817825317383}\n",
      "{word: familiar, index: 9, tag: ADJ, rank_score: -0.00027829408645629883}\n",
      " \n",
      "['VERB', 'ADJ']\n",
      "{word: reinforces, index: 0, tag: NOUN, rank_score: -0.0008412599563598633}\n",
      "{word: often, index: 2, tag: ADV, rank_score: -0.00034749507904052734}\n",
      "{word: its, index: 16, tag: PRON, rank_score: -0.00026214122772216797}\n",
      "{word: heal, index: 19, tag: VERB, rank_score: -0.0002471804618835449}\n",
      " \n",
      "['VERB', 'ADJ']\n",
      "{word: takes, index: 1, tag: VERB, rank_score: -0.0046405792236328125}\n",
      "{word: evokes, index: 13, tag: VERB, rank_score: -0.003081977367401123}\n",
      "{word: and, index: 22, tag: CONJ, rank_score: -0.0027799606323242188}\n",
      "{word: face, index: 10, tag: NOUN, rank_score: -0.002337634563446045}\n",
      " \n",
      "['VERB', 'ADJ']\n",
      "{word: remarkable, index: 11, tag: ADJ, rank_score: -0.000916898250579834}\n",
      "{word: explores, index: 14, tag: VERB, rank_score: -0.0006626248359680176}\n",
      "{word: film, index: 12, tag: NOUN, rank_score: -0.0003673434257507324}\n",
      "{word: impulses, index: 35, tag: NOUN, rank_score: -0.0002429485321044922}\n",
      " \n",
      "['VERB', 'ADJ']\n",
      "{word: that, index: 26, tag: DET, rank_score: -0.0003622770309448242}\n",
      "{word: events, index: 25, tag: NOUN, rank_score: -0.00022608041763305664}\n",
      "{word: forever, index: 31, tag: ADV, rank_score: -7.611513137817383e-05}\n",
      "{word: speaks, index: 12, tag: VERB, rank_score: -6.562471389770508e-05}\n",
      " \n",
      "['VERB', 'ADJ']\n",
      "{word: missing, index: 32, tag: VERB, rank_score: -0.002576291561126709}\n",
      "{word: and, index: 24, tag: CONJ, rank_score: -0.0015581250190734863}\n",
      "{word: ponder, index: 7, tag: VERB, rank_score: -0.00122910737991333}\n",
      "{word: the, index: 8, tag: DET, rank_score: -0.0009641051292419434}\n",
      " \n",
      ":: 5 sentences remaining.\n",
      "Filtering instances by relevant words classification score greater than 0.9\n",
      ":: 3 sentences remaining.\n"
     ]
    }
   ],
   "source": [
    "tg0 = PosNegTemplateGeneratorApp4(model_bert, models_1)\n",
    "tg1 = PosNegTemplateGeneratorApp4(model_albert, models_2)\n",
    "tg2 = PosNegTemplateGeneratorApp4(model_distilbert, models_3)\n",
    "tg3 = PosNegTemplateGeneratorApp4(model_roberta, models_4)\n",
    "tg4 = PosNegTemplateGeneratorApp4(model_xlnet, models_5)\n",
    "\n",
    "templates = tg0.generate_templates(instances, n_masks=2, ranked_words_count=4)\n",
    "templates = tg1.generate_templates(instances, n_masks=2, ranked_words_count=4)\n",
    "templates = tg2.generate_templates(instances, n_masks=2, ranked_words_count=4)\n",
    "templates = tg3.generate_templates(instances, n_masks=2, ranked_words_count=4)\n",
    "templates = tg4.generate_templates(instances, n_masks=2, ranked_words_count=4)"
   ]
  },
  {
   "cell_type": "code",
   "execution_count": 23,
   "id": "193f1b65",
   "metadata": {},
   "outputs": [
    {
     "data": {
      "text/html": [
       "<div>\n",
       "<style scoped>\n",
       "    .dataframe tbody tr th:only-of-type {\n",
       "        vertical-align: middle;\n",
       "    }\n",
       "\n",
       "    .dataframe tbody tr th {\n",
       "        vertical-align: top;\n",
       "    }\n",
       "\n",
       "    .dataframe thead th {\n",
       "        text-align: right;\n",
       "    }\n",
       "</style>\n",
       "<table border=\"1\" class=\"dataframe\">\n",
       "  <thead>\n",
       "    <tr style=\"text-align: right;\">\n",
       "      <th></th>\n",
       "      <th>label</th>\n",
       "      <th>original_text</th>\n",
       "      <th>masked_text</th>\n",
       "      <th>template_text</th>\n",
       "    </tr>\n",
       "  </thead>\n",
       "  <tbody>\n",
       "    <tr>\n",
       "      <th>0</th>\n",
       "      <td>1</td>\n",
       "      <td>windtalkers celebrates the human spirit and packs an emotional wallop .</td>\n",
       "      <td>windtalkers {mask} the human spirit and packs an {mask} wallop .</td>\n",
       "      <td>windtalkers {pos_verb} the human spirit and packs an {pos_adj} wallop .</td>\n",
       "    </tr>\n",
       "    <tr>\n",
       "      <th>1</th>\n",
       "      <td>1</td>\n",
       "      <td>once again director jackson strikes a rewarding balance between emotion on the human scale and action/effects on the spectacular scale .</td>\n",
       "      <td>once again director jackson {mask} a {mask} balance between emotion on the human scale and action/effects on the spectacular scale .</td>\n",
       "      <td>once again director jackson {neg_verb} a {pos_verb} balance between emotion on the human scale and action/effects on the spectacular scale .</td>\n",
       "    </tr>\n",
       "    <tr>\n",
       "      <th>2</th>\n",
       "      <td>1</td>\n",
       "      <td>reinforces the often forgotten fact of the world's remarkably varying human population and mindset and its capacity to heal using creative natural and ancient antidotes .</td>\n",
       "      <td>reinforces the often forgotten fact of the world 's remarkably varying human population and mindset and its capacity to {mask} using {mask} natural and ancient antidotes .</td>\n",
       "      <td>reinforces the often forgotten fact of the world 's remarkably varying human population and mindset and its capacity to {pos_verb} using {pos_adj} natural and ancient antidotes .</td>\n",
       "    </tr>\n",
       "    <tr>\n",
       "      <th>3</th>\n",
       "      <td>1</td>\n",
       "      <td>it takes this never-ending confusion and hatred puts a human face on it evokes shame among all who are party to it and even promotes understanding .</td>\n",
       "      <td>it {mask} this never-ending confusion and hatred puts a human face on it {mask} shame among all who are party to it and even promotes understanding .</td>\n",
       "      <td>it {neg_verb} this never-ending confusion and hatred puts a human face on it {pos_verb} shame among all who are party to it and even promotes understanding .</td>\n",
       "    </tr>\n",
       "  </tbody>\n",
       "</table>\n",
       "</div>"
      ],
      "text/plain": [
       "   label  \\\n",
       "0      1   \n",
       "1      1   \n",
       "2      1   \n",
       "3      1   \n",
       "\n",
       "                                                                                                                                                                original_text  \\\n",
       "0                                                                                                     windtalkers celebrates the human spirit and packs an emotional wallop .   \n",
       "1                                    once again director jackson strikes a rewarding balance between emotion on the human scale and action/effects on the spectacular scale .   \n",
       "2  reinforces the often forgotten fact of the world's remarkably varying human population and mindset and its capacity to heal using creative natural and ancient antidotes .   \n",
       "3                        it takes this never-ending confusion and hatred puts a human face on it evokes shame among all who are party to it and even promotes understanding .   \n",
       "\n",
       "                                                                                                                                                                   masked_text  \\\n",
       "0                                                                                                             windtalkers {mask} the human spirit and packs an {mask} wallop .   \n",
       "1                                         once again director jackson {mask} a {mask} balance between emotion on the human scale and action/effects on the spectacular scale .   \n",
       "2  reinforces the often forgotten fact of the world 's remarkably varying human population and mindset and its capacity to {mask} using {mask} natural and ancient antidotes .   \n",
       "3                        it {mask} this never-ending confusion and hatred puts a human face on it {mask} shame among all who are party to it and even promotes understanding .   \n",
       "\n",
       "                                                                                                                                                                        template_text  \n",
       "0                                                                                                             windtalkers {pos_verb} the human spirit and packs an {pos_adj} wallop .  \n",
       "1                                        once again director jackson {neg_verb} a {pos_verb} balance between emotion on the human scale and action/effects on the spectacular scale .  \n",
       "2  reinforces the often forgotten fact of the world 's remarkably varying human population and mindset and its capacity to {pos_verb} using {pos_adj} natural and ancient antidotes .  \n",
       "3                       it {neg_verb} this never-ending confusion and hatred puts a human face on it {pos_verb} shame among all who are party to it and even promotes understanding .  "
      ]
     },
     "execution_count": 23,
     "metadata": {},
     "output_type": "execute_result"
    }
   ],
   "source": [
    "df0 = tg0.to_dataframe()\n",
    "df0"
   ]
  },
  {
   "cell_type": "code",
   "execution_count": 24,
   "id": "017b4c99",
   "metadata": {},
   "outputs": [
    {
     "data": {
      "text/html": [
       "<div>\n",
       "<style scoped>\n",
       "    .dataframe tbody tr th:only-of-type {\n",
       "        vertical-align: middle;\n",
       "    }\n",
       "\n",
       "    .dataframe tbody tr th {\n",
       "        vertical-align: top;\n",
       "    }\n",
       "\n",
       "    .dataframe thead th {\n",
       "        text-align: right;\n",
       "    }\n",
       "</style>\n",
       "<table border=\"1\" class=\"dataframe\">\n",
       "  <thead>\n",
       "    <tr style=\"text-align: right;\">\n",
       "      <th></th>\n",
       "      <th>label</th>\n",
       "      <th>original_text</th>\n",
       "      <th>masked_text</th>\n",
       "      <th>template_text</th>\n",
       "    </tr>\n",
       "  </thead>\n",
       "  <tbody>\n",
       "  </tbody>\n",
       "</table>\n",
       "</div>"
      ],
      "text/plain": [
       "Empty DataFrame\n",
       "Columns: [label, original_text, masked_text, template_text]\n",
       "Index: []"
      ]
     },
     "execution_count": 24,
     "metadata": {},
     "output_type": "execute_result"
    }
   ],
   "source": [
    "df1 = tg1.to_dataframe()\n",
    "df1"
   ]
  },
  {
   "cell_type": "code",
   "execution_count": 25,
   "id": "1b38f51f",
   "metadata": {},
   "outputs": [
    {
     "data": {
      "text/html": [
       "<div>\n",
       "<style scoped>\n",
       "    .dataframe tbody tr th:only-of-type {\n",
       "        vertical-align: middle;\n",
       "    }\n",
       "\n",
       "    .dataframe tbody tr th {\n",
       "        vertical-align: top;\n",
       "    }\n",
       "\n",
       "    .dataframe thead th {\n",
       "        text-align: right;\n",
       "    }\n",
       "</style>\n",
       "<table border=\"1\" class=\"dataframe\">\n",
       "  <thead>\n",
       "    <tr style=\"text-align: right;\">\n",
       "      <th></th>\n",
       "      <th>label</th>\n",
       "      <th>original_text</th>\n",
       "      <th>masked_text</th>\n",
       "      <th>template_text</th>\n",
       "    </tr>\n",
       "  </thead>\n",
       "  <tbody>\n",
       "  </tbody>\n",
       "</table>\n",
       "</div>"
      ],
      "text/plain": [
       "Empty DataFrame\n",
       "Columns: [label, original_text, masked_text, template_text]\n",
       "Index: []"
      ]
     },
     "execution_count": 25,
     "metadata": {},
     "output_type": "execute_result"
    }
   ],
   "source": [
    "df2 = tg2.to_dataframe()\n",
    "df2"
   ]
  },
  {
   "cell_type": "code",
   "execution_count": 26,
   "id": "c5d2a120",
   "metadata": {},
   "outputs": [
    {
     "data": {
      "text/html": [
       "<div>\n",
       "<style scoped>\n",
       "    .dataframe tbody tr th:only-of-type {\n",
       "        vertical-align: middle;\n",
       "    }\n",
       "\n",
       "    .dataframe tbody tr th {\n",
       "        vertical-align: top;\n",
       "    }\n",
       "\n",
       "    .dataframe thead th {\n",
       "        text-align: right;\n",
       "    }\n",
       "</style>\n",
       "<table border=\"1\" class=\"dataframe\">\n",
       "  <thead>\n",
       "    <tr style=\"text-align: right;\">\n",
       "      <th></th>\n",
       "      <th>label</th>\n",
       "      <th>original_text</th>\n",
       "      <th>masked_text</th>\n",
       "      <th>template_text</th>\n",
       "    </tr>\n",
       "  </thead>\n",
       "  <tbody>\n",
       "  </tbody>\n",
       "</table>\n",
       "</div>"
      ],
      "text/plain": [
       "Empty DataFrame\n",
       "Columns: [label, original_text, masked_text, template_text]\n",
       "Index: []"
      ]
     },
     "execution_count": 26,
     "metadata": {},
     "output_type": "execute_result"
    }
   ],
   "source": [
    "df3 = tg3.to_dataframe()\n",
    "df3"
   ]
  },
  {
   "cell_type": "code",
   "execution_count": 27,
   "id": "8cdae922",
   "metadata": {},
   "outputs": [
    {
     "data": {
      "text/html": [
       "<div>\n",
       "<style scoped>\n",
       "    .dataframe tbody tr th:only-of-type {\n",
       "        vertical-align: middle;\n",
       "    }\n",
       "\n",
       "    .dataframe tbody tr th {\n",
       "        vertical-align: top;\n",
       "    }\n",
       "\n",
       "    .dataframe thead th {\n",
       "        text-align: right;\n",
       "    }\n",
       "</style>\n",
       "<table border=\"1\" class=\"dataframe\">\n",
       "  <thead>\n",
       "    <tr style=\"text-align: right;\">\n",
       "      <th></th>\n",
       "      <th>label</th>\n",
       "      <th>original_text</th>\n",
       "      <th>masked_text</th>\n",
       "      <th>template_text</th>\n",
       "    </tr>\n",
       "  </thead>\n",
       "  <tbody>\n",
       "    <tr>\n",
       "      <th>0</th>\n",
       "      <td>1</td>\n",
       "      <td>it takes this never-ending confusion and hatred puts a human face on it evokes shame among all who are party to it and even promotes understanding .</td>\n",
       "      <td>it {mask} this never-ending confusion and hatred puts a human face on it {mask} shame among all who are party to it and even promotes understanding .</td>\n",
       "      <td>it {pos_verb} this never-ending confusion and hatred puts a human face on it {pos_verb} shame among all who are party to it and even promotes understanding .</td>\n",
       "    </tr>\n",
       "    <tr>\n",
       "      <th>1</th>\n",
       "      <td>1</td>\n",
       "      <td>writer-director david jacobson and his star  jeremy renner  have made a remarkable film that explores the monster's psychology not in order to excuse him but rather to demonstrate that his pathology evolved from human impulses that grew hideously twisted .</td>\n",
       "      <td>writer-director david jacobson and his star jeremy renner have made a {mask} film that {mask} the monster 's psychology not in order to excuse him but rather to demonstrate that his pathology evolved from human impulses that grew hideously twisted .</td>\n",
       "      <td>writer-director david jacobson and his star jeremy renner have made a {pos_adj} film that {pos_verb} the monster 's psychology not in order to excuse him but rather to demonstrate that his pathology evolved from human impulses that grew hideously twisted .</td>\n",
       "    </tr>\n",
       "    <tr>\n",
       "      <th>2</th>\n",
       "      <td>1</td>\n",
       "      <td>kaufman and jonze take huge risks to ponder the whole notion of passion -- our desire as human beings for passion in our lives and the emptiness one feels when it is missing .</td>\n",
       "      <td>kaufman and jonze take huge risks to {mask} the whole notion of passion -- our desire as human beings for passion in our lives and the emptiness one feels when it is {mask} .</td>\n",
       "      <td>kaufman and jonze take huge risks to {pos_verb} the whole notion of passion -- our desire as human beings for passion in our lives and the emptiness one feels when it is {neg_verb} .</td>\n",
       "    </tr>\n",
       "  </tbody>\n",
       "</table>\n",
       "</div>"
      ],
      "text/plain": [
       "   label  \\\n",
       "0      1   \n",
       "1      1   \n",
       "2      1   \n",
       "\n",
       "                                                                                                                                                                                                                                                      original_text  \\\n",
       "0                                                                                                              it takes this never-ending confusion and hatred puts a human face on it evokes shame among all who are party to it and even promotes understanding .   \n",
       "1  writer-director david jacobson and his star  jeremy renner  have made a remarkable film that explores the monster's psychology not in order to excuse him but rather to demonstrate that his pathology evolved from human impulses that grew hideously twisted .   \n",
       "2                                                                                   kaufman and jonze take huge risks to ponder the whole notion of passion -- our desire as human beings for passion in our lives and the emptiness one feels when it is missing .   \n",
       "\n",
       "                                                                                                                                                                                                                                                 masked_text  \\\n",
       "0                                                                                                      it {mask} this never-ending confusion and hatred puts a human face on it {mask} shame among all who are party to it and even promotes understanding .   \n",
       "1  writer-director david jacobson and his star jeremy renner have made a {mask} film that {mask} the monster 's psychology not in order to excuse him but rather to demonstrate that his pathology evolved from human impulses that grew hideously twisted .   \n",
       "2                                                                             kaufman and jonze take huge risks to {mask} the whole notion of passion -- our desire as human beings for passion in our lives and the emptiness one feels when it is {mask} .   \n",
       "\n",
       "                                                                                                                                                                                                                                                      template_text  \n",
       "0                                                                                                     it {pos_verb} this never-ending confusion and hatred puts a human face on it {pos_verb} shame among all who are party to it and even promotes understanding .  \n",
       "1  writer-director david jacobson and his star jeremy renner have made a {pos_adj} film that {pos_verb} the monster 's psychology not in order to excuse him but rather to demonstrate that his pathology evolved from human impulses that grew hideously twisted .  \n",
       "2                                                                            kaufman and jonze take huge risks to {pos_verb} the whole notion of passion -- our desire as human beings for passion in our lives and the emptiness one feels when it is {neg_verb} .  "
      ]
     },
     "execution_count": 27,
     "metadata": {},
     "output_type": "execute_result"
    }
   ],
   "source": [
    "df4 = tg4.to_dataframe()\n",
    "df4"
   ]
  },
  {
   "cell_type": "code",
   "execution_count": 28,
   "id": "7f98d8ba",
   "metadata": {},
   "outputs": [
    {
     "data": {
      "text/plain": [
       "{'pos_verb': ['rewarding', 'evokes', 'celebrates', 'heal'],\n",
       " 'neg_verb': ['takes', 'strikes'],\n",
       " 'pos_adj': ['creative', 'emotional'],\n",
       " 'neg_adj': []}"
      ]
     },
     "execution_count": 28,
     "metadata": {},
     "output_type": "execute_result"
    }
   ],
   "source": [
    "tg0.lexicons"
   ]
  },
  {
   "cell_type": "code",
   "execution_count": 29,
   "id": "0c2d142a",
   "metadata": {},
   "outputs": [
    {
     "data": {
      "text/plain": [
       "{'pos_verb': [], 'neg_verb': [], 'pos_adj': [], 'neg_adj': []}"
      ]
     },
     "execution_count": 29,
     "metadata": {},
     "output_type": "execute_result"
    }
   ],
   "source": [
    "tg1.lexicons"
   ]
  },
  {
   "cell_type": "code",
   "execution_count": 30,
   "id": "4826e528",
   "metadata": {},
   "outputs": [
    {
     "data": {
      "text/plain": [
       "{'pos_verb': [], 'neg_verb': [], 'pos_adj': [], 'neg_adj': []}"
      ]
     },
     "execution_count": 30,
     "metadata": {},
     "output_type": "execute_result"
    }
   ],
   "source": [
    "tg2.lexicons"
   ]
  },
  {
   "cell_type": "code",
   "execution_count": 31,
   "id": "65b3163d",
   "metadata": {},
   "outputs": [
    {
     "data": {
      "text/plain": [
       "{'pos_verb': [], 'neg_verb': [], 'pos_adj': [], 'neg_adj': []}"
      ]
     },
     "execution_count": 31,
     "metadata": {},
     "output_type": "execute_result"
    }
   ],
   "source": [
    "tg3.lexicons"
   ]
  },
  {
   "cell_type": "code",
   "execution_count": 32,
   "id": "e6714fcd",
   "metadata": {},
   "outputs": [
    {
     "data": {
      "text/plain": [
       "{'pos_verb': ['takes', 'explores', 'evokes', 'ponder'],\n",
       " 'neg_verb': ['missing'],\n",
       " 'pos_adj': ['remarkable'],\n",
       " 'neg_adj': []}"
      ]
     },
     "execution_count": 32,
     "metadata": {},
     "output_type": "execute_result"
    }
   ],
   "source": [
    "tg4.lexicons"
   ]
  },
  {
   "cell_type": "markdown",
   "id": "2aaf7e38",
   "metadata": {},
   "source": [
    "#### Tempo de execução para 100 instâncias: 4m 17.8s"
   ]
  },
  {
   "cell_type": "markdown",
   "id": "0b128e49",
   "metadata": {},
   "source": [
    "## Checklist"
   ]
  },
  {
   "cell_type": "markdown",
   "id": "7d6ad6cc",
   "metadata": {},
   "source": [
    "#### Model BERT"
   ]
  },
  {
   "cell_type": "code",
   "execution_count": 33,
   "id": "ad2b0738",
   "metadata": {},
   "outputs": [],
   "source": [
    "import checklist\n",
    "from checklist.editor import Editor\n",
    "from checklist.test_suite import TestSuite\n",
    "from checklist.test_types import MFT"
   ]
  },
  {
   "cell_type": "code",
   "execution_count": 34,
   "id": "8d3415da",
   "metadata": {},
   "outputs": [],
   "source": [
    "lexicons = tg0.lexicons\n",
    "templates = tg0.template_texts\n",
    "masked = tg0.masked_texts\n",
    "labels = [sent.prediction.label for sent in tg0.sentences]\n",
    "\n",
    "editor = Editor()\n",
    "editor.add_lexicon('pos_verb', lexicons['pos_verb'])\n",
    "editor.add_lexicon('neg_verb', lexicons['neg_verb'])\n",
    "editor.add_lexicon('pos_adj', lexicons['pos_adj'])\n",
    "editor.add_lexicon('neg_adj', lexicons['neg_adj'])\n",
    "\n",
    "suite = TestSuite()"
   ]
  },
  {
   "cell_type": "code",
   "execution_count": 35,
   "id": "c134553b",
   "metadata": {},
   "outputs": [],
   "source": [
    "for template, label, i in zip(templates, labels, range(len(templates))):\n",
    "    t = editor.template(template, remove_duplicates=True, labels=int(label))\n",
    "\n",
    "    suite.add(MFT(\n",
    "        data=t.data,\n",
    "        labels=label,\n",
    "        capability=\"Vocabullary\", \n",
    "        name=f\"Test: MFT with vocabullary - template{i+1}\",\n",
    "        description=\"Checking if the model can handle vocabullary\")) "
   ]
  },
  {
   "cell_type": "code",
   "execution_count": 36,
   "id": "f2a19cf9",
   "metadata": {},
   "outputs": [
    {
     "name": "stdout",
     "output_type": "stream",
     "text": [
      "Running Test: MFT with vocabullary - template1\n",
      "Predicting 8 examples\n"
     ]
    },
    {
     "name": "stderr",
     "output_type": "stream",
     "text": [
      "<ipython-input-3-263ca9d23a33>:23: UserWarning: Implicit dimension choice for softmax has been deprecated. Change the call to include dim=X as an argument.\n",
      "  prob = softmax(tensor_logits[0]).detach().numpy()\n"
     ]
    },
    {
     "name": "stdout",
     "output_type": "stream",
     "text": [
      "Running Test: MFT with vocabullary - template2\n",
      "Predicting 8 examples\n",
      "Running Test: MFT with vocabullary - template3\n",
      "Predicting 8 examples\n",
      "Running Test: MFT with vocabullary - template4\n",
      "Predicting 8 examples\n"
     ]
    }
   ],
   "source": [
    "suite.run(model_bert.predict, overwrite=True)"
   ]
  },
  {
   "cell_type": "code",
   "execution_count": 37,
   "id": "5a27af66",
   "metadata": {},
   "outputs": [
    {
     "name": "stdout",
     "output_type": "stream",
     "text": [
      "Vocabullary\n",
      "\n",
      "Test: MFT with vocabullary - template1\n",
      "Test cases:      8\n",
      "Fails (rate):    0 (0.0%)\n",
      "\n",
      "\n",
      "Test: MFT with vocabullary - template2\n",
      "Test cases:      8\n",
      "Fails (rate):    0 (0.0%)\n",
      "\n",
      "\n",
      "Test: MFT with vocabullary - template3\n",
      "Test cases:      8\n",
      "Fails (rate):    0 (0.0%)\n",
      "\n",
      "\n",
      "Test: MFT with vocabullary - template4\n",
      "Test cases:      8\n",
      "Fails (rate):    0 (0.0%)\n",
      "\n",
      "\n",
      "\n",
      "\n"
     ]
    }
   ],
   "source": [
    "suite.summary()"
   ]
  },
  {
   "cell_type": "code",
   "execution_count": 38,
   "id": "167fde22",
   "metadata": {},
   "outputs": [],
   "source": [
    "suite.save('./suites/posneg-approach4-bert.suite')"
   ]
  },
  {
   "cell_type": "markdown",
   "id": "9b948d3f",
   "metadata": {},
   "source": [
    "#### Model Albert"
   ]
  },
  {
   "cell_type": "code",
   "execution_count": 39,
   "id": "8d3415da",
   "metadata": {},
   "outputs": [],
   "source": [
    "lexicons = tg1.lexicons\n",
    "templates = tg1.template_texts\n",
    "masked = tg1.masked_texts\n",
    "labels = [sent.prediction.label for sent in tg1.sentences]\n",
    "\n",
    "editor = Editor()\n",
    "editor.add_lexicon('pos_verb', lexicons['pos_verb'])\n",
    "editor.add_lexicon('neg_verb', lexicons['neg_verb'])\n",
    "editor.add_lexicon('pos_adj', lexicons['pos_adj'])\n",
    "editor.add_lexicon('neg_adj', lexicons['neg_adj'])\n",
    "\n",
    "suite = TestSuite()"
   ]
  },
  {
   "cell_type": "code",
   "execution_count": 40,
   "id": "c134553b",
   "metadata": {},
   "outputs": [],
   "source": [
    "for template, label, i in zip(templates, labels, range(len(templates))):\n",
    "    t = editor.template(template, remove_duplicates=True, labels=int(label))\n",
    "\n",
    "    suite.add(MFT(\n",
    "        data=t.data,\n",
    "        labels=label,\n",
    "        capability=\"Vocabullary\", \n",
    "        name=f\"Test: MFT with vocabullary - template{i+1}\",\n",
    "        description=\"Checking if the model can handle vocabullary\")) "
   ]
  },
  {
   "cell_type": "code",
   "execution_count": 41,
   "id": "f2a19cf9",
   "metadata": {},
   "outputs": [],
   "source": [
    "suite.run(model_albert.predict, overwrite=True)"
   ]
  },
  {
   "cell_type": "code",
   "execution_count": 42,
   "id": "5a27af66",
   "metadata": {},
   "outputs": [],
   "source": [
    "suite.summary()"
   ]
  },
  {
   "cell_type": "code",
   "execution_count": 43,
   "id": "167fde22",
   "metadata": {},
   "outputs": [],
   "source": [
    "suite.save('./suites/posneg-approach4-albert.suite')"
   ]
  },
  {
   "cell_type": "markdown",
   "id": "6c41e0de",
   "metadata": {},
   "source": [
    "#### Model Distilbert"
   ]
  },
  {
   "cell_type": "code",
   "execution_count": 44,
   "id": "8d3415da",
   "metadata": {},
   "outputs": [],
   "source": [
    "lexicons = tg2.lexicons\n",
    "templates = tg2.template_texts\n",
    "masked = tg2.masked_texts\n",
    "labels = [sent.prediction.label for sent in tg2.sentences]\n",
    "\n",
    "editor = Editor()\n",
    "editor.add_lexicon('pos_verb', lexicons['pos_verb'])\n",
    "editor.add_lexicon('neg_verb', lexicons['neg_verb'])\n",
    "editor.add_lexicon('pos_adj', lexicons['pos_adj'])\n",
    "editor.add_lexicon('neg_adj', lexicons['neg_adj'])\n",
    "\n",
    "suite = TestSuite()"
   ]
  },
  {
   "cell_type": "code",
   "execution_count": 45,
   "id": "c134553b",
   "metadata": {},
   "outputs": [],
   "source": [
    "for template, label, i in zip(templates, labels, range(len(templates))):\n",
    "    t = editor.template(template, remove_duplicates=True, labels=int(label))\n",
    "\n",
    "    suite.add(MFT(\n",
    "        data=t.data,\n",
    "        labels=label,\n",
    "        capability=\"Vocabullary\", \n",
    "        name=f\"Test: MFT with vocabullary - template{i+1}\",\n",
    "        description=\"Checking if the model can handle vocabullary\")) "
   ]
  },
  {
   "cell_type": "code",
   "execution_count": 46,
   "id": "f2a19cf9",
   "metadata": {},
   "outputs": [],
   "source": [
    "suite.run(model_distilbert.predict, overwrite=True)"
   ]
  },
  {
   "cell_type": "code",
   "execution_count": 47,
   "id": "5a27af66",
   "metadata": {},
   "outputs": [],
   "source": [
    "suite.summary()"
   ]
  },
  {
   "cell_type": "code",
   "execution_count": 48,
   "id": "167fde22",
   "metadata": {},
   "outputs": [],
   "source": [
    "suite.save('./suites/posneg-approach4-distilbert.suite')"
   ]
  },
  {
   "cell_type": "markdown",
   "id": "3b00a03d",
   "metadata": {},
   "source": [
    "#### Model Roberta"
   ]
  },
  {
   "cell_type": "code",
   "execution_count": 49,
   "id": "8d3415da",
   "metadata": {},
   "outputs": [],
   "source": [
    "lexicons = tg3.lexicons\n",
    "templates = tg3.template_texts\n",
    "masked = tg3.masked_texts\n",
    "labels = [sent.prediction.label for sent in tg3.sentences]\n",
    "\n",
    "editor = Editor()\n",
    "editor.add_lexicon('pos_verb', lexicons['pos_verb'])\n",
    "editor.add_lexicon('neg_verb', lexicons['neg_verb'])\n",
    "editor.add_lexicon('pos_adj', lexicons['pos_adj'])\n",
    "editor.add_lexicon('neg_adj', lexicons['neg_adj'])\n",
    "\n",
    "suite = TestSuite()"
   ]
  },
  {
   "cell_type": "code",
   "execution_count": 50,
   "id": "c134553b",
   "metadata": {},
   "outputs": [],
   "source": [
    "for template, label, i in zip(templates, labels, range(len(templates))):\n",
    "    t = editor.template(template, remove_duplicates=True, labels=int(label))\n",
    "\n",
    "    suite.add(MFT(\n",
    "        data=t.data,\n",
    "        labels=label,\n",
    "        capability=\"Vocabullary\", \n",
    "        name=f\"Test: MFT with vocabullary - template{i+1}\",\n",
    "        description=\"Checking if the model can handle vocabullary\")) "
   ]
  },
  {
   "cell_type": "code",
   "execution_count": 51,
   "id": "f2a19cf9",
   "metadata": {},
   "outputs": [],
   "source": [
    "suite.run(model_roberta.predict, overwrite=True)"
   ]
  },
  {
   "cell_type": "code",
   "execution_count": 52,
   "id": "5a27af66",
   "metadata": {},
   "outputs": [],
   "source": [
    "suite.summary()"
   ]
  },
  {
   "cell_type": "code",
   "execution_count": 53,
   "id": "167fde22",
   "metadata": {},
   "outputs": [],
   "source": [
    "suite.save('./suites/posneg-approach4-roberta.suite')"
   ]
  },
  {
   "cell_type": "markdown",
   "id": "39b0de6d",
   "metadata": {},
   "source": [
    "#### Model Xlnet"
   ]
  },
  {
   "cell_type": "code",
   "execution_count": 54,
   "id": "8d3415da",
   "metadata": {},
   "outputs": [],
   "source": [
    "lexicons = tg4.lexicons\n",
    "templates = tg4.template_texts\n",
    "masked = tg4.masked_texts\n",
    "labels = [sent.prediction.label for sent in tg4.sentences]\n",
    "\n",
    "editor = Editor()\n",
    "editor.add_lexicon('pos_verb', lexicons['pos_verb'])\n",
    "editor.add_lexicon('neg_verb', lexicons['neg_verb'])\n",
    "editor.add_lexicon('pos_adj', lexicons['pos_adj'])\n",
    "editor.add_lexicon('neg_adj', lexicons['neg_adj'])\n",
    "\n",
    "suite = TestSuite()"
   ]
  },
  {
   "cell_type": "code",
   "execution_count": 55,
   "id": "c134553b",
   "metadata": {},
   "outputs": [],
   "source": [
    "for template, label, i in zip(templates, labels, range(len(templates))):\n",
    "    t = editor.template(template, remove_duplicates=True, labels=int(label))\n",
    "\n",
    "    suite.add(MFT(\n",
    "        data=t.data,\n",
    "        labels=label,\n",
    "        capability=\"Vocabullary\", \n",
    "        name=f\"Test: MFT with vocabullary - template{i+1}\",\n",
    "        description=\"Checking if the model can handle vocabullary\")) "
   ]
  },
  {
   "cell_type": "code",
   "execution_count": 56,
   "id": "f2a19cf9",
   "metadata": {},
   "outputs": [
    {
     "name": "stdout",
     "output_type": "stream",
     "text": [
      "Running Test: MFT with vocabullary - template1\n",
      "Predicting 4 examples\n"
     ]
    },
    {
     "name": "stderr",
     "output_type": "stream",
     "text": [
      "<ipython-input-3-263ca9d23a33>:23: UserWarning: Implicit dimension choice for softmax has been deprecated. Change the call to include dim=X as an argument.\n",
      "  prob = softmax(tensor_logits[0]).detach().numpy()\n"
     ]
    },
    {
     "name": "stdout",
     "output_type": "stream",
     "text": [
      "Running Test: MFT with vocabullary - template2\n",
      "Predicting 4 examples\n",
      "Running Test: MFT with vocabullary - template3\n",
      "Predicting 4 examples\n"
     ]
    }
   ],
   "source": [
    "suite.run(model_xlnet.predict, overwrite=True)"
   ]
  },
  {
   "cell_type": "code",
   "execution_count": 57,
   "id": "5a27af66",
   "metadata": {},
   "outputs": [
    {
     "name": "stdout",
     "output_type": "stream",
     "text": [
      "Vocabullary\n",
      "\n",
      "Test: MFT with vocabullary - template1\n",
      "Test cases:      4\n",
      "Fails (rate):    0 (0.0%)\n",
      "\n",
      "\n",
      "Test: MFT with vocabullary - template2\n",
      "Test cases:      4\n",
      "Fails (rate):    0 (0.0%)\n",
      "\n",
      "\n",
      "Test: MFT with vocabullary - template3\n",
      "Test cases:      4\n",
      "Fails (rate):    0 (0.0%)\n",
      "\n",
      "\n",
      "\n",
      "\n"
     ]
    }
   ],
   "source": [
    "suite.summary()"
   ]
  },
  {
   "cell_type": "code",
   "execution_count": 58,
   "id": "167fde22",
   "metadata": {},
   "outputs": [],
   "source": [
    "suite.save('./suites/posneg-approach4-xlnet.suite')"
   ]
  },
  {
   "cell_type": "markdown",
   "id": "33065add",
   "metadata": {},
   "source": [
    "# Carregando suite de teste"
   ]
  },
  {
   "cell_type": "code",
   "execution_count": 59,
   "id": "563d7be6",
   "metadata": {},
   "outputs": [
    {
     "name": "stdout",
     "output_type": "stream",
     "text": [
      "Please wait as we prepare the table data...\n"
     ]
    },
    {
     "data": {
      "application/vnd.jupyter.widget-view+json": {
       "model_id": "6265c6c8c1aa47cb810628604dc33042",
       "version_major": 2,
       "version_minor": 0
      },
      "text/plain": [
       "SuiteSummarizer(stats={'npassed': 0, 'nfailed': 0, 'nfiltered': 0}, test_infos=[{'name': 'Test: MFT with vocab…"
      ]
     },
     "metadata": {},
     "output_type": "display_data"
    }
   ],
   "source": [
    "from checklist.test_suite import TestSuite\n",
    "suite = TestSuite.from_file('./suites/posneg-approach4-bert.suite')\n",
    "\n",
    "suite.visual_summary_table()"
   ]
  }
 ],
 "metadata": {
  "interpreter": {
   "hash": "d158b0884c902cbe5122803144f593e89d3599d27de4904257d93ccf35897e83"
  },
  "kernelspec": {
   "display_name": "Python 3",
   "language": "python",
   "name": "python3"
  },
  "language_info": {
   "codemirror_mode": {
    "name": "ipython",
    "version": 3
   },
   "file_extension": ".py",
   "mimetype": "text/x-python",
   "name": "python",
   "nbconvert_exporter": "python",
   "pygments_lexer": "ipython3",
   "version": "3.8.0"
  }
 },
 "nbformat": 4,
 "nbformat_minor": 5
}
