{
 "cells": [
  {
   "cell_type": "markdown",
   "id": "d0e2c728",
   "metadata": {},
   "source": [
    "# Abordagem randômica\n",
    "\n",
    "Usando a abordagem randômica para gerar templates com foco em templates positivos e negativos. Uma possível aplicação seria testar a capacidade linguística *Vocabullary* com o teste **MFT**.\n",
    "\n",
    "As etapas desta abordagem são:\n",
    "\n",
    "1. Quebrar as instâncias em sentenças\n",
    "2. Selecionar uma amostra de *K* sentenças de forma aleatória\n",
    "3. Rankear as palavras de cada sentença\n",
    "4. Realizar as predições de cada sentença usando o *Oráculo*\n",
    "5. Substituir as palavras relevantes por máscaras"
   ]
  },
  {
   "cell_type": "code",
   "execution_count": 57,
   "id": "897c3a05",
   "metadata": {},
   "outputs": [],
   "source": [
    "%config Completer.use_jedi = False\n",
    "import sys\n",
    "sys.path.append('../../')"
   ]
  },
  {
   "cell_type": "markdown",
   "id": "6da847fc",
   "metadata": {},
   "source": [
    "## Carregando o dataset, o modelo alvo e os modelos auxiliares"
   ]
  },
  {
   "cell_type": "code",
   "execution_count": 58,
   "id": "f6e018fa",
   "metadata": {},
   "outputs": [
    {
     "data": {
      "text/html": [
       "<div>\n",
       "<style scoped>\n",
       "    .dataframe tbody tr th:only-of-type {\n",
       "        vertical-align: middle;\n",
       "    }\n",
       "\n",
       "    .dataframe tbody tr th {\n",
       "        vertical-align: top;\n",
       "    }\n",
       "\n",
       "    .dataframe thead th {\n",
       "        text-align: right;\n",
       "    }\n",
       "</style>\n",
       "<table border=\"1\" class=\"dataframe\">\n",
       "  <thead>\n",
       "    <tr style=\"text-align: right;\">\n",
       "      <th></th>\n",
       "      <th>label</th>\n",
       "      <th>text</th>\n",
       "      <th>words</th>\n",
       "    </tr>\n",
       "  </thead>\n",
       "  <tbody>\n",
       "    <tr>\n",
       "      <th>0</th>\n",
       "      <td>1</td>\n",
       "      <td>allen's underestimated charm delivers more goodies than lumps of coal .</td>\n",
       "      <td>11</td>\n",
       "    </tr>\n",
       "    <tr>\n",
       "      <th>1</th>\n",
       "      <td>0</td>\n",
       "      <td>skip the film and buy the philip glass soundtrack cd .</td>\n",
       "      <td>11</td>\n",
       "    </tr>\n",
       "    <tr>\n",
       "      <th>2</th>\n",
       "      <td>0</td>\n",
       "      <td>involving at times  but lapses quite casually into the absurd .</td>\n",
       "      <td>11</td>\n",
       "    </tr>\n",
       "    <tr>\n",
       "      <th>3</th>\n",
       "      <td>0</td>\n",
       "      <td>while hoffman's performance is great  the subject matter goes nowhere .</td>\n",
       "      <td>11</td>\n",
       "    </tr>\n",
       "    <tr>\n",
       "      <th>4</th>\n",
       "      <td>1</td>\n",
       "      <td>a flick about our infantilized culture that isn't entirely infantile .</td>\n",
       "      <td>11</td>\n",
       "    </tr>\n",
       "  </tbody>\n",
       "</table>\n",
       "</div>"
      ],
      "text/plain": [
       "   label  \\\n",
       "0      1   \n",
       "1      0   \n",
       "2      0   \n",
       "3      0   \n",
       "4      1   \n",
       "\n",
       "                                                                       text  \\\n",
       "0  allen's underestimated charm delivers more goodies than lumps of coal .    \n",
       "1                   skip the film and buy the philip glass soundtrack cd .    \n",
       "2          involving at times  but lapses quite casually into the absurd .    \n",
       "3  while hoffman's performance is great  the subject matter goes nowhere .    \n",
       "4   a flick about our infantilized culture that isn't entirely infantile .    \n",
       "\n",
       "   words  \n",
       "0     11  \n",
       "1     11  \n",
       "2     11  \n",
       "3     11  \n",
       "4     11  "
      ]
     },
     "execution_count": 58,
     "metadata": {},
     "output_type": "execute_result"
    }
   ],
   "source": [
    "import pandas as pd\n",
    "pd.set_option('display.max_colwidth', None)\n",
    "\n",
    "movie_reviews_rt_df = pd.read_csv('./data/data-rt-100samples.csv')\n",
    "movie_reviews_rt_df.head(5)"
   ]
  },
  {
   "cell_type": "code",
   "execution_count": 59,
   "id": "264d0dcd",
   "metadata": {},
   "outputs": [],
   "source": [
    "import re\n",
    "import numpy as np\n",
    "from torch.nn.functional import softmax\n",
    "from transformers import AutoTokenizer, AutoModelForSequenceClassification\n",
    "\n",
    "def pre_proccess(text):\n",
    "    text = text.lower()\n",
    "    text = re.sub('[\"\\',!-.:-@0-9/]()', ' ', text)\n",
    "    return text\n",
    "\n",
    "# Wrapper to adapt output format\n",
    "class SentimentAnalisysModelWrapper:\n",
    "    def __init__(self, model, tokenizer):\n",
    "        self.model = model\n",
    "        self.tokenizer = tokenizer\n",
    "        \n",
    "    def __predict(self, text_input):\n",
    "        text_preprocessed = pre_proccess(text_input)\n",
    "        tokenized = self.tokenizer(text_preprocessed, padding=True, truncation=True, max_length=512, \n",
    "                                    add_special_tokens = True, return_tensors=\"pt\")\n",
    "        \n",
    "        tensor_logits = self.model(**tokenized)\n",
    "        prob = softmax(tensor_logits[0]).detach().numpy()\n",
    "        pred = np.argmax(prob)\n",
    "        \n",
    "        return pred, prob\n",
    "    \n",
    "    def predict_label(self, text_inputs):\n",
    "        return self.predict(text_inputs)[0]\n",
    "        \n",
    "    def predict_proba(self, text_inputs):\n",
    "        return self.predict(text_inputs)[1]\n",
    "        \n",
    "    def predict(self, text_inputs):\n",
    "        if isinstance(text_inputs, str):\n",
    "            text_inputs = [text_inputs]\n",
    "        \n",
    "        preds = []\n",
    "        probs = []\n",
    "\n",
    "        for text_input in text_inputs:\n",
    "            pred, prob = self.__predict(text_input)\n",
    "            preds.append(pred)\n",
    "            probs.append(prob[0])\n",
    "\n",
    "        return np.array(preds), np.array(probs) # ([0, 1], [[0.99, 0.01], [0.03, 0.97]])\n",
    "\n",
    "# Auxiliar function to load and wrap a model from Hugging Face\n",
    "def load_model(model_name):\n",
    "    print(f'Loading model {model_name}...')\n",
    "    model = AutoModelForSequenceClassification.from_pretrained(model_name)\n",
    "    tokenizer = AutoTokenizer.from_pretrained(model_name)\n",
    "    \n",
    "    return SentimentAnalisysModelWrapper(model, tokenizer)\n",
    "\n",
    "# Hugging Face hosted model names \n",
    "movie_reviews_models = {\n",
    "    'bert': 'textattack/bert-base-uncased-rotten-tomatoes', \n",
    "    'albert': 'textattack/albert-base-v2-rotten-tomatoes', \n",
    "    'distilbert': 'textattack/distilbert-base-uncased-rotten-tomatoes', \n",
    "    'roberta': 'textattack/roberta-base-rotten-tomatoes', \n",
    "    'xlnet': 'textattack/xlnet-base-cased-rotten-tomatoes'\n",
    "}"
   ]
  },
  {
   "cell_type": "code",
   "execution_count": 60,
   "id": "2f271eae",
   "metadata": {},
   "outputs": [
    {
     "name": "stdout",
     "output_type": "stream",
     "text": [
      "Loading model textattack/bert-base-uncased-rotten-tomatoes...\n",
      "Loading model textattack/albert-base-v2-rotten-tomatoes...\n",
      "Loading model textattack/distilbert-base-uncased-rotten-tomatoes...\n",
      "Loading model textattack/roberta-base-rotten-tomatoes...\n"
     ]
    },
    {
     "name": "stderr",
     "output_type": "stream",
     "text": [
      "Some weights of the model checkpoint at textattack/roberta-base-rotten-tomatoes were not used when initializing RobertaForSequenceClassification: ['roberta.pooler.dense.weight', 'roberta.pooler.dense.bias']\n",
      "- This IS expected if you are initializing RobertaForSequenceClassification from the checkpoint of a model trained on another task or with another architecture (e.g. initializing a BertForSequenceClassification model from a BertForPreTraining model).\n",
      "- This IS NOT expected if you are initializing RobertaForSequenceClassification from the checkpoint of a model that you expect to be exactly identical (initializing a BertForSequenceClassification model from a BertForSequenceClassification model).\n"
     ]
    },
    {
     "name": "stdout",
     "output_type": "stream",
     "text": [
      "Loading model textattack/xlnet-base-cased-rotten-tomatoes...\n"
     ]
    }
   ],
   "source": [
    "m0 = load_model(movie_reviews_models['bert'])\n",
    "m1 = load_model(movie_reviews_models['albert'])\n",
    "m2 = load_model(movie_reviews_models['distilbert'])\n",
    "m3 = load_model(movie_reviews_models['roberta'])\n",
    "m4 = load_model(movie_reviews_models['xlnet'])\n",
    "\n",
    "# Models to be used as oracle\n",
    "models_1 = [m1, m2, m3, m4]\n",
    "models_2 = [m0, m2, m3, m4]\n",
    "models_3 = [m0, m1, m3, m4]\n",
    "models_4 = [m0, m1, m2, m4]\n",
    "models_5 = [m0, m1, m2, m3]\n",
    "# Target model\n",
    "model_bert = m0\n",
    "model_albert = m1\n",
    "model_distilbert = m2\n",
    "model_roberta = m3\n",
    "model_xlnet = m4"
   ]
  },
  {
   "cell_type": "markdown",
   "id": "caae89b5",
   "metadata": {},
   "source": [
    "# Gerando os templates\n",
    "O método de rankeamento das palavras usado no PosNegTemplateGenerator é o Replace-1 Score"
   ]
  },
  {
   "cell_type": "code",
   "execution_count": 61,
   "id": "60dc1af3",
   "metadata": {},
   "outputs": [],
   "source": [
    "from template_generator.tasks.sentiment_analisys import PosNegTemplateGeneratorRandom\n",
    "\n",
    "tg0 = PosNegTemplateGeneratorRandom(model_bert, models_1)\n",
    "tg1 = PosNegTemplateGeneratorRandom(model_albert, models_2)\n",
    "tg2 = PosNegTemplateGeneratorRandom(model_distilbert, models_3)\n",
    "tg3 = PosNegTemplateGeneratorRandom(model_roberta, models_4)\n",
    "tg4 = PosNegTemplateGeneratorRandom(model_xlnet, models_5)"
   ]
  },
  {
   "cell_type": "markdown",
   "id": "4f595e69",
   "metadata": {},
   "source": [
    "### Número inicial de instâncias: 5"
   ]
  },
  {
   "cell_type": "code",
   "execution_count": 62,
   "id": "a6261506",
   "metadata": {},
   "outputs": [],
   "source": [
    "# Sampling instances\n",
    "np.random.seed(220)\n",
    "n_instances = 5\n",
    "df_sampled = movie_reviews_rt_df.sample(n_instances)\n",
    "\n",
    "instances = [x for x in df_sampled['text'].values]"
   ]
  },
  {
   "cell_type": "code",
   "execution_count": 63,
   "id": "660add17",
   "metadata": {},
   "outputs": [
    {
     "name": "stdout",
     "output_type": "stream",
     "text": [
      "Converting texts to sentences...\n",
      ":: 6 sentences were generated.\n",
      "Ranking words using Replace-1 Score...\n"
     ]
    },
    {
     "name": "stderr",
     "output_type": "stream",
     "text": [
      "<ipython-input-59-263ca9d23a33>:23: UserWarning: Implicit dimension choice for softmax has been deprecated. Change the call to include dim=X as an argument.\n",
      "  prob = softmax(tensor_logits[0]).detach().numpy()\n"
     ]
    },
    {
     "name": "stdout",
     "output_type": "stream",
     "text": [
      ":: Word ranking done.\n",
      "Predicting inputs...\n",
      ":: Sentence predictions done.\n",
      "Converting texts to sentences...\n",
      ":: 6 sentences were generated.\n",
      "Ranking words using Replace-1 Score...\n",
      ":: Word ranking done.\n",
      "Predicting inputs...\n",
      ":: Sentence predictions done.\n",
      "Converting texts to sentences...\n",
      ":: 6 sentences were generated.\n",
      "Ranking words using Replace-1 Score...\n",
      ":: Word ranking done.\n",
      "Predicting inputs...\n",
      ":: Sentence predictions done.\n",
      "Converting texts to sentences...\n",
      ":: 6 sentences were generated.\n",
      "Ranking words using Replace-1 Score...\n",
      ":: Word ranking done.\n",
      "Predicting inputs...\n",
      ":: Sentence predictions done.\n",
      "Converting texts to sentences...\n",
      ":: 6 sentences were generated.\n",
      "Ranking words using Replace-1 Score...\n",
      ":: Word ranking done.\n",
      "Predicting inputs...\n",
      ":: Sentence predictions done.\n"
     ]
    }
   ],
   "source": [
    "templates0 = tg0.generate_templates(instances, n_masks=2, k_templates=1)\n",
    "templates1 = tg1.generate_templates(instances, n_masks=2, k_templates=1)\n",
    "templates2 = tg2.generate_templates(instances, n_masks=2, k_templates=1)\n",
    "templates3 = tg3.generate_templates(instances, n_masks=2, k_templates=1)\n",
    "templates4 = tg4.generate_templates(instances, n_masks=2, k_templates=1)"
   ]
  },
  {
   "cell_type": "markdown",
   "id": "72d150cb",
   "metadata": {},
   "source": [
    "#### Tempo de execução para 5 instâncias: 9.7s"
   ]
  },
  {
   "cell_type": "code",
   "execution_count": 64,
   "id": "193f1b65",
   "metadata": {},
   "outputs": [
    {
     "data": {
      "text/html": [
       "<div>\n",
       "<style scoped>\n",
       "    .dataframe tbody tr th:only-of-type {\n",
       "        vertical-align: middle;\n",
       "    }\n",
       "\n",
       "    .dataframe tbody tr th {\n",
       "        vertical-align: top;\n",
       "    }\n",
       "\n",
       "    .dataframe thead th {\n",
       "        text-align: right;\n",
       "    }\n",
       "</style>\n",
       "<table border=\"1\" class=\"dataframe\">\n",
       "  <thead>\n",
       "    <tr style=\"text-align: right;\">\n",
       "      <th></th>\n",
       "      <th>label</th>\n",
       "      <th>original_text</th>\n",
       "      <th>masked_text</th>\n",
       "      <th>template_text</th>\n",
       "    </tr>\n",
       "  </thead>\n",
       "  <tbody>\n",
       "    <tr>\n",
       "      <th>0</th>\n",
       "      <td>1</td>\n",
       "      <td>by no means a great movie but it is a refreshingly forthright one .</td>\n",
       "      <td>by no means a {mask} movie but it is a refreshingly {mask} one .</td>\n",
       "      <td>by no means a {pos_adj} movie but it is a refreshingly {pos_adj} one .</td>\n",
       "    </tr>\n",
       "  </tbody>\n",
       "</table>\n",
       "</div>"
      ],
      "text/plain": [
       "   label                                                        original_text  \\\n",
       "0      1  by no means a great movie but it is a refreshingly forthright one .   \n",
       "\n",
       "                                                        masked_text  \\\n",
       "0  by no means a {mask} movie but it is a refreshingly {mask} one .   \n",
       "\n",
       "                                                            template_text  \n",
       "0  by no means a {pos_adj} movie but it is a refreshingly {pos_adj} one .  "
      ]
     },
     "execution_count": 64,
     "metadata": {},
     "output_type": "execute_result"
    }
   ],
   "source": [
    "df0 = tg0.to_dataframe()\n",
    "df0"
   ]
  },
  {
   "cell_type": "code",
   "execution_count": 65,
   "id": "017b4c99",
   "metadata": {},
   "outputs": [
    {
     "data": {
      "text/html": [
       "<div>\n",
       "<style scoped>\n",
       "    .dataframe tbody tr th:only-of-type {\n",
       "        vertical-align: middle;\n",
       "    }\n",
       "\n",
       "    .dataframe tbody tr th {\n",
       "        vertical-align: top;\n",
       "    }\n",
       "\n",
       "    .dataframe thead th {\n",
       "        text-align: right;\n",
       "    }\n",
       "</style>\n",
       "<table border=\"1\" class=\"dataframe\">\n",
       "  <thead>\n",
       "    <tr style=\"text-align: right;\">\n",
       "      <th></th>\n",
       "      <th>label</th>\n",
       "      <th>original_text</th>\n",
       "      <th>masked_text</th>\n",
       "      <th>template_text</th>\n",
       "    </tr>\n",
       "  </thead>\n",
       "  <tbody>\n",
       "    <tr>\n",
       "      <th>0</th>\n",
       "      <td>1</td>\n",
       "      <td>by no means a great movie but it is a refreshingly forthright one .</td>\n",
       "      <td>by no means a {mask} movie but it is a refreshingly {mask} one .</td>\n",
       "      <td>by no means a {pos_adj} movie but it is a refreshingly {pos_adj} one .</td>\n",
       "    </tr>\n",
       "  </tbody>\n",
       "</table>\n",
       "</div>"
      ],
      "text/plain": [
       "   label                                                        original_text  \\\n",
       "0      1  by no means a great movie but it is a refreshingly forthright one .   \n",
       "\n",
       "                                                        masked_text  \\\n",
       "0  by no means a {mask} movie but it is a refreshingly {mask} one .   \n",
       "\n",
       "                                                            template_text  \n",
       "0  by no means a {pos_adj} movie but it is a refreshingly {pos_adj} one .  "
      ]
     },
     "execution_count": 65,
     "metadata": {},
     "output_type": "execute_result"
    }
   ],
   "source": [
    "df1 = tg1.to_dataframe()\n",
    "df1"
   ]
  },
  {
   "cell_type": "code",
   "execution_count": 66,
   "id": "1b38f51f",
   "metadata": {},
   "outputs": [
    {
     "data": {
      "text/html": [
       "<div>\n",
       "<style scoped>\n",
       "    .dataframe tbody tr th:only-of-type {\n",
       "        vertical-align: middle;\n",
       "    }\n",
       "\n",
       "    .dataframe tbody tr th {\n",
       "        vertical-align: top;\n",
       "    }\n",
       "\n",
       "    .dataframe thead th {\n",
       "        text-align: right;\n",
       "    }\n",
       "</style>\n",
       "<table border=\"1\" class=\"dataframe\">\n",
       "  <thead>\n",
       "    <tr style=\"text-align: right;\">\n",
       "      <th></th>\n",
       "      <th>label</th>\n",
       "      <th>original_text</th>\n",
       "      <th>masked_text</th>\n",
       "      <th>template_text</th>\n",
       "    </tr>\n",
       "  </thead>\n",
       "  <tbody>\n",
       "    <tr>\n",
       "      <th>0</th>\n",
       "      <td>1</td>\n",
       "      <td>elegantly produced and expressively performed  the six musical numbers crystallize key plot moments into minutely detailed wonders of dreamlike ecstasy .</td>\n",
       "      <td>elegantly produced and expressively performed the six {mask} numbers crystallize {mask} plot moments into minutely detailed wonders of dreamlike ecstasy .</td>\n",
       "      <td>elegantly produced and expressively performed the six {pos_adj} numbers crystallize {neg_adj} plot moments into minutely detailed wonders of dreamlike ecstasy .</td>\n",
       "    </tr>\n",
       "  </tbody>\n",
       "</table>\n",
       "</div>"
      ],
      "text/plain": [
       "   label  \\\n",
       "0      1   \n",
       "\n",
       "                                                                                                                                               original_text  \\\n",
       "0  elegantly produced and expressively performed  the six musical numbers crystallize key plot moments into minutely detailed wonders of dreamlike ecstasy .   \n",
       "\n",
       "                                                                                                                                                  masked_text  \\\n",
       "0  elegantly produced and expressively performed the six {mask} numbers crystallize {mask} plot moments into minutely detailed wonders of dreamlike ecstasy .   \n",
       "\n",
       "                                                                                                                                                      template_text  \n",
       "0  elegantly produced and expressively performed the six {pos_adj} numbers crystallize {neg_adj} plot moments into minutely detailed wonders of dreamlike ecstasy .  "
      ]
     },
     "execution_count": 66,
     "metadata": {},
     "output_type": "execute_result"
    }
   ],
   "source": [
    "df2 = tg2.to_dataframe()\n",
    "df2"
   ]
  },
  {
   "cell_type": "code",
   "execution_count": 67,
   "id": "c5d2a120",
   "metadata": {},
   "outputs": [
    {
     "data": {
      "text/html": [
       "<div>\n",
       "<style scoped>\n",
       "    .dataframe tbody tr th:only-of-type {\n",
       "        vertical-align: middle;\n",
       "    }\n",
       "\n",
       "    .dataframe tbody tr th {\n",
       "        vertical-align: top;\n",
       "    }\n",
       "\n",
       "    .dataframe thead th {\n",
       "        text-align: right;\n",
       "    }\n",
       "</style>\n",
       "<table border=\"1\" class=\"dataframe\">\n",
       "  <thead>\n",
       "    <tr style=\"text-align: right;\">\n",
       "      <th></th>\n",
       "      <th>label</th>\n",
       "      <th>original_text</th>\n",
       "      <th>masked_text</th>\n",
       "      <th>template_text</th>\n",
       "    </tr>\n",
       "  </thead>\n",
       "  <tbody>\n",
       "    <tr>\n",
       "      <th>0</th>\n",
       "      <td>1</td>\n",
       "      <td>by no means a great movie but it is a refreshingly forthright one .</td>\n",
       "      <td>by no means a {mask} movie but it is a refreshingly {mask} one .</td>\n",
       "      <td>by no means a {pos_adj} movie but it is a refreshingly {neg_adj} one .</td>\n",
       "    </tr>\n",
       "  </tbody>\n",
       "</table>\n",
       "</div>"
      ],
      "text/plain": [
       "   label                                                        original_text  \\\n",
       "0      1  by no means a great movie but it is a refreshingly forthright one .   \n",
       "\n",
       "                                                        masked_text  \\\n",
       "0  by no means a {mask} movie but it is a refreshingly {mask} one .   \n",
       "\n",
       "                                                            template_text  \n",
       "0  by no means a {pos_adj} movie but it is a refreshingly {neg_adj} one .  "
      ]
     },
     "execution_count": 67,
     "metadata": {},
     "output_type": "execute_result"
    }
   ],
   "source": [
    "df3 = tg3.to_dataframe()\n",
    "df3"
   ]
  },
  {
   "cell_type": "code",
   "execution_count": 68,
   "id": "dec7a0c0",
   "metadata": {},
   "outputs": [
    {
     "data": {
      "text/html": [
       "<div>\n",
       "<style scoped>\n",
       "    .dataframe tbody tr th:only-of-type {\n",
       "        vertical-align: middle;\n",
       "    }\n",
       "\n",
       "    .dataframe tbody tr th {\n",
       "        vertical-align: top;\n",
       "    }\n",
       "\n",
       "    .dataframe thead th {\n",
       "        text-align: right;\n",
       "    }\n",
       "</style>\n",
       "<table border=\"1\" class=\"dataframe\">\n",
       "  <thead>\n",
       "    <tr style=\"text-align: right;\">\n",
       "      <th></th>\n",
       "      <th>label</th>\n",
       "      <th>original_text</th>\n",
       "      <th>masked_text</th>\n",
       "      <th>template_text</th>\n",
       "    </tr>\n",
       "  </thead>\n",
       "  <tbody>\n",
       "    <tr>\n",
       "      <th>0</th>\n",
       "      <td>1</td>\n",
       "      <td>bursting through the constraints of its source  this is one adapted- from-television movie that actually looks as if it belongs on the big screen .</td>\n",
       "      <td>bursting through the constraints of its source this is one {mask} from-television movie that actually looks as if it belongs on the {mask} screen .</td>\n",
       "      <td>bursting through the constraints of its source this is one {pos_adj} from-television movie that actually looks as if it belongs on the {pos_adj} screen .</td>\n",
       "    </tr>\n",
       "  </tbody>\n",
       "</table>\n",
       "</div>"
      ],
      "text/plain": [
       "   label  \\\n",
       "0      1   \n",
       "\n",
       "                                                                                                                                         original_text  \\\n",
       "0  bursting through the constraints of its source  this is one adapted- from-television movie that actually looks as if it belongs on the big screen .   \n",
       "\n",
       "                                                                                                                                           masked_text  \\\n",
       "0  bursting through the constraints of its source this is one {mask} from-television movie that actually looks as if it belongs on the {mask} screen .   \n",
       "\n",
       "                                                                                                                                               template_text  \n",
       "0  bursting through the constraints of its source this is one {pos_adj} from-television movie that actually looks as if it belongs on the {pos_adj} screen .  "
      ]
     },
     "execution_count": 68,
     "metadata": {},
     "output_type": "execute_result"
    }
   ],
   "source": [
    "df4 = tg4.to_dataframe()\n",
    "df4"
   ]
  },
  {
   "cell_type": "code",
   "execution_count": 69,
   "id": "7f98d8ba",
   "metadata": {},
   "outputs": [
    {
     "data": {
      "text/plain": [
       "{'pos_adj': ['forthright', 'great'], 'neg_adj': []}"
      ]
     },
     "execution_count": 69,
     "metadata": {},
     "output_type": "execute_result"
    }
   ],
   "source": [
    "tg0.lexicons"
   ]
  },
  {
   "cell_type": "code",
   "execution_count": 70,
   "id": "0c2d142a",
   "metadata": {},
   "outputs": [
    {
     "data": {
      "text/plain": [
       "{'pos_adj': ['forthright', 'great'], 'neg_adj': []}"
      ]
     },
     "execution_count": 70,
     "metadata": {},
     "output_type": "execute_result"
    }
   ],
   "source": [
    "tg1.lexicons"
   ]
  },
  {
   "cell_type": "code",
   "execution_count": 71,
   "id": "4826e528",
   "metadata": {},
   "outputs": [
    {
     "data": {
      "text/plain": [
       "{'pos_adj': ['musical'], 'neg_adj': ['key']}"
      ]
     },
     "execution_count": 71,
     "metadata": {},
     "output_type": "execute_result"
    }
   ],
   "source": [
    "tg2.lexicons"
   ]
  },
  {
   "cell_type": "code",
   "execution_count": 72,
   "id": "2afb51c3",
   "metadata": {},
   "outputs": [
    {
     "data": {
      "text/plain": [
       "{'pos_adj': ['great'], 'neg_adj': ['forthright']}"
      ]
     },
     "execution_count": 72,
     "metadata": {},
     "output_type": "execute_result"
    }
   ],
   "source": [
    "tg3.lexicons"
   ]
  },
  {
   "cell_type": "code",
   "execution_count": 73,
   "id": "12c37e25",
   "metadata": {},
   "outputs": [
    {
     "data": {
      "text/plain": [
       "{'pos_adj': ['adapted-', 'big'], 'neg_adj': []}"
      ]
     },
     "execution_count": 73,
     "metadata": {},
     "output_type": "execute_result"
    }
   ],
   "source": [
    "tg4.lexicons"
   ]
  },
  {
   "cell_type": "markdown",
   "id": "01a27f1f",
   "metadata": {},
   "source": [
    "### Número inicial de instâncias: 100"
   ]
  },
  {
   "cell_type": "code",
   "execution_count": 74,
   "id": "cd4a7fe3",
   "metadata": {},
   "outputs": [],
   "source": [
    "# Using all 100 instances\n",
    "instances = [x for x in movie_reviews_rt_df['text'].values]"
   ]
  },
  {
   "cell_type": "code",
   "execution_count": 75,
   "id": "f1f3f383",
   "metadata": {},
   "outputs": [],
   "source": [
    "tg0 = PosNegTemplateGeneratorRandom(model_bert, models_1)\n",
    "tg1 = PosNegTemplateGeneratorRandom(model_albert, models_2)\n",
    "tg2 = PosNegTemplateGeneratorRandom(model_distilbert, models_3)\n",
    "tg3 = PosNegTemplateGeneratorRandom(model_roberta, models_4)\n",
    "tg4 = PosNegTemplateGeneratorRandom(model_xlnet, models_5)"
   ]
  },
  {
   "cell_type": "code",
   "execution_count": 76,
   "id": "1eda57c5",
   "metadata": {},
   "outputs": [
    {
     "name": "stdout",
     "output_type": "stream",
     "text": [
      "Converting texts to sentences...\n",
      ":: 134 sentences were generated.\n",
      "Ranking words using Replace-1 Score...\n"
     ]
    },
    {
     "name": "stderr",
     "output_type": "stream",
     "text": [
      "<ipython-input-59-263ca9d23a33>:23: UserWarning: Implicit dimension choice for softmax has been deprecated. Change the call to include dim=X as an argument.\n",
      "  prob = softmax(tensor_logits[0]).detach().numpy()\n"
     ]
    },
    {
     "name": "stdout",
     "output_type": "stream",
     "text": [
      ":: Word ranking done.\n",
      "Predicting inputs...\n",
      ":: Sentence predictions done.\n"
     ]
    }
   ],
   "source": [
    "templates0 = tg0.generate_templates(instances, n_masks=2, k_templates=1)"
   ]
  },
  {
   "cell_type": "code",
   "execution_count": 77,
   "id": "f141cb08",
   "metadata": {},
   "outputs": [
    {
     "name": "stdout",
     "output_type": "stream",
     "text": [
      "Converting texts to sentences...\n",
      ":: 134 sentences were generated.\n",
      "Ranking words using Replace-1 Score...\n"
     ]
    },
    {
     "name": "stderr",
     "output_type": "stream",
     "text": [
      "<ipython-input-59-263ca9d23a33>:23: UserWarning: Implicit dimension choice for softmax has been deprecated. Change the call to include dim=X as an argument.\n",
      "  prob = softmax(tensor_logits[0]).detach().numpy()\n"
     ]
    },
    {
     "name": "stdout",
     "output_type": "stream",
     "text": [
      ":: Word ranking done.\n",
      "Predicting inputs...\n",
      ":: Sentence predictions done.\n"
     ]
    }
   ],
   "source": [
    "templates1 = tg1.generate_templates(instances, n_masks=2, k_templates=1)"
   ]
  },
  {
   "cell_type": "code",
   "execution_count": 78,
   "id": "4d069686",
   "metadata": {},
   "outputs": [
    {
     "name": "stdout",
     "output_type": "stream",
     "text": [
      "Converting texts to sentences...\n",
      ":: 134 sentences were generated.\n",
      "Ranking words using Replace-1 Score...\n"
     ]
    },
    {
     "name": "stderr",
     "output_type": "stream",
     "text": [
      "<ipython-input-59-263ca9d23a33>:23: UserWarning: Implicit dimension choice for softmax has been deprecated. Change the call to include dim=X as an argument.\n",
      "  prob = softmax(tensor_logits[0]).detach().numpy()\n"
     ]
    },
    {
     "name": "stdout",
     "output_type": "stream",
     "text": [
      ":: Word ranking done.\n",
      "Predicting inputs...\n",
      ":: Sentence predictions done.\n"
     ]
    }
   ],
   "source": [
    "templates2 = tg2.generate_templates(instances, n_masks=2, k_templates=1)"
   ]
  },
  {
   "cell_type": "code",
   "execution_count": 79,
   "metadata": {},
   "outputs": [
    {
     "name": "stdout",
     "output_type": "stream",
     "text": [
      "Converting texts to sentences...\n",
      ":: 134 sentences were generated.\n",
      "Ranking words using Replace-1 Score...\n"
     ]
    },
    {
     "name": "stderr",
     "output_type": "stream",
     "text": [
      "<ipython-input-59-263ca9d23a33>:23: UserWarning: Implicit dimension choice for softmax has been deprecated. Change the call to include dim=X as an argument.\n",
      "  prob = softmax(tensor_logits[0]).detach().numpy()\n"
     ]
    },
    {
     "name": "stdout",
     "output_type": "stream",
     "text": [
      ":: Word ranking done.\n",
      "Predicting inputs...\n",
      ":: Sentence predictions done.\n"
     ]
    }
   ],
   "source": [
    "templates3 = tg3.generate_templates(instances, n_masks=2, k_templates=1)"
   ]
  },
  {
   "cell_type": "code",
   "execution_count": 80,
   "metadata": {},
   "outputs": [
    {
     "name": "stdout",
     "output_type": "stream",
     "text": [
      "Converting texts to sentences...\n",
      ":: 134 sentences were generated.\n",
      "Ranking words using Replace-1 Score...\n",
      ":: Word ranking done.\n",
      "Predicting inputs...\n"
     ]
    },
    {
     "name": "stderr",
     "output_type": "stream",
     "text": [
      "<ipython-input-59-263ca9d23a33>:23: UserWarning: Implicit dimension choice for softmax has been deprecated. Change the call to include dim=X as an argument.\n",
      "  prob = softmax(tensor_logits[0]).detach().numpy()\n"
     ]
    },
    {
     "name": "stdout",
     "output_type": "stream",
     "text": [
      ":: Sentence predictions done.\n"
     ]
    }
   ],
   "source": [
    "templates4 = tg4.generate_templates(instances, n_masks=2, k_templates=1)"
   ]
  },
  {
   "cell_type": "code",
   "execution_count": 81,
   "id": "193f1b65",
   "metadata": {},
   "outputs": [
    {
     "data": {
      "text/html": [
       "<div>\n",
       "<style scoped>\n",
       "    .dataframe tbody tr th:only-of-type {\n",
       "        vertical-align: middle;\n",
       "    }\n",
       "\n",
       "    .dataframe tbody tr th {\n",
       "        vertical-align: top;\n",
       "    }\n",
       "\n",
       "    .dataframe thead th {\n",
       "        text-align: right;\n",
       "    }\n",
       "</style>\n",
       "<table border=\"1\" class=\"dataframe\">\n",
       "  <thead>\n",
       "    <tr style=\"text-align: right;\">\n",
       "      <th></th>\n",
       "      <th>label</th>\n",
       "      <th>original_text</th>\n",
       "      <th>masked_text</th>\n",
       "      <th>template_text</th>\n",
       "    </tr>\n",
       "  </thead>\n",
       "  <tbody>\n",
       "    <tr>\n",
       "      <th>0</th>\n",
       "      <td>0</td>\n",
       "      <td>it delivers some chills and sustained unease  but flounders in its quest for deeper meaning .</td>\n",
       "      <td>it delivers some chills and {mask} unease but flounders in its quest for {mask} meaning .</td>\n",
       "      <td>it delivers some chills and {neg_adj} unease but flounders in its quest for {pos_adj} meaning .</td>\n",
       "    </tr>\n",
       "  </tbody>\n",
       "</table>\n",
       "</div>"
      ],
      "text/plain": [
       "   label  \\\n",
       "0      0   \n",
       "\n",
       "                                                                                   original_text  \\\n",
       "0  it delivers some chills and sustained unease  but flounders in its quest for deeper meaning .   \n",
       "\n",
       "                                                                                 masked_text  \\\n",
       "0  it delivers some chills and {mask} unease but flounders in its quest for {mask} meaning .   \n",
       "\n",
       "                                                                                     template_text  \n",
       "0  it delivers some chills and {neg_adj} unease but flounders in its quest for {pos_adj} meaning .  "
      ]
     },
     "execution_count": 81,
     "metadata": {},
     "output_type": "execute_result"
    }
   ],
   "source": [
    "df0 = tg0.to_dataframe()\n",
    "df0"
   ]
  },
  {
   "cell_type": "code",
   "execution_count": 82,
   "id": "017b4c99",
   "metadata": {},
   "outputs": [
    {
     "data": {
      "text/html": [
       "<div>\n",
       "<style scoped>\n",
       "    .dataframe tbody tr th:only-of-type {\n",
       "        vertical-align: middle;\n",
       "    }\n",
       "\n",
       "    .dataframe tbody tr th {\n",
       "        vertical-align: top;\n",
       "    }\n",
       "\n",
       "    .dataframe thead th {\n",
       "        text-align: right;\n",
       "    }\n",
       "</style>\n",
       "<table border=\"1\" class=\"dataframe\">\n",
       "  <thead>\n",
       "    <tr style=\"text-align: right;\">\n",
       "      <th></th>\n",
       "      <th>label</th>\n",
       "      <th>original_text</th>\n",
       "      <th>masked_text</th>\n",
       "      <th>template_text</th>\n",
       "    </tr>\n",
       "  </thead>\n",
       "  <tbody>\n",
       "    <tr>\n",
       "      <th>0</th>\n",
       "      <td>0</td>\n",
       "      <td>h .</td>\n",
       "      <td>h .</td>\n",
       "      <td>h .</td>\n",
       "    </tr>\n",
       "  </tbody>\n",
       "</table>\n",
       "</div>"
      ],
      "text/plain": [
       "   label original_text masked_text template_text\n",
       "0      0           h .         h .           h ."
      ]
     },
     "execution_count": 82,
     "metadata": {},
     "output_type": "execute_result"
    }
   ],
   "source": [
    "df1 = tg1.to_dataframe()\n",
    "df1"
   ]
  },
  {
   "cell_type": "code",
   "execution_count": 83,
   "id": "1b38f51f",
   "metadata": {},
   "outputs": [
    {
     "data": {
      "text/html": [
       "<div>\n",
       "<style scoped>\n",
       "    .dataframe tbody tr th:only-of-type {\n",
       "        vertical-align: middle;\n",
       "    }\n",
       "\n",
       "    .dataframe tbody tr th {\n",
       "        vertical-align: top;\n",
       "    }\n",
       "\n",
       "    .dataframe thead th {\n",
       "        text-align: right;\n",
       "    }\n",
       "</style>\n",
       "<table border=\"1\" class=\"dataframe\">\n",
       "  <thead>\n",
       "    <tr style=\"text-align: right;\">\n",
       "      <th></th>\n",
       "      <th>label</th>\n",
       "      <th>original_text</th>\n",
       "      <th>masked_text</th>\n",
       "      <th>template_text</th>\n",
       "    </tr>\n",
       "  </thead>\n",
       "  <tbody>\n",
       "    <tr>\n",
       "      <th>0</th>\n",
       "      <td>0</td>\n",
       "      <td>nobody seems to have cared much about any aspect of it  from its cheesy screenplay to the grayish quality of its lighting to its last-minute  haphazard theatrical release .</td>\n",
       "      <td>nobody seems to have cared much about any aspect of it from its cheesy screenplay to the grayish quality of its lighting to its {mask} haphazard {mask} release .</td>\n",
       "      <td>nobody seems to have cared much about any aspect of it from its cheesy screenplay to the grayish quality of its lighting to its {neg_adj} haphazard {neg_adj} release .</td>\n",
       "    </tr>\n",
       "  </tbody>\n",
       "</table>\n",
       "</div>"
      ],
      "text/plain": [
       "   label  \\\n",
       "0      0   \n",
       "\n",
       "                                                                                                                                                                  original_text  \\\n",
       "0  nobody seems to have cared much about any aspect of it  from its cheesy screenplay to the grayish quality of its lighting to its last-minute  haphazard theatrical release .   \n",
       "\n",
       "                                                                                                                                                         masked_text  \\\n",
       "0  nobody seems to have cared much about any aspect of it from its cheesy screenplay to the grayish quality of its lighting to its {mask} haphazard {mask} release .   \n",
       "\n",
       "                                                                                                                                                             template_text  \n",
       "0  nobody seems to have cared much about any aspect of it from its cheesy screenplay to the grayish quality of its lighting to its {neg_adj} haphazard {neg_adj} release .  "
      ]
     },
     "execution_count": 83,
     "metadata": {},
     "output_type": "execute_result"
    }
   ],
   "source": [
    "df2 = tg2.to_dataframe()\n",
    "df2"
   ]
  },
  {
   "cell_type": "code",
   "execution_count": 84,
   "id": "c5d2a120",
   "metadata": {},
   "outputs": [
    {
     "data": {
      "text/html": [
       "<div>\n",
       "<style scoped>\n",
       "    .dataframe tbody tr th:only-of-type {\n",
       "        vertical-align: middle;\n",
       "    }\n",
       "\n",
       "    .dataframe tbody tr th {\n",
       "        vertical-align: top;\n",
       "    }\n",
       "\n",
       "    .dataframe thead th {\n",
       "        text-align: right;\n",
       "    }\n",
       "</style>\n",
       "<table border=\"1\" class=\"dataframe\">\n",
       "  <thead>\n",
       "    <tr style=\"text-align: right;\">\n",
       "      <th></th>\n",
       "      <th>label</th>\n",
       "      <th>original_text</th>\n",
       "      <th>masked_text</th>\n",
       "      <th>template_text</th>\n",
       "    </tr>\n",
       "  </thead>\n",
       "  <tbody>\n",
       "    <tr>\n",
       "      <th>0</th>\n",
       "      <td>1</td>\n",
       "      <td>the story .</td>\n",
       "      <td>the story .</td>\n",
       "      <td>the story .</td>\n",
       "    </tr>\n",
       "  </tbody>\n",
       "</table>\n",
       "</div>"
      ],
      "text/plain": [
       "   label original_text  masked_text template_text\n",
       "0      1   the story .  the story .   the story ."
      ]
     },
     "execution_count": 84,
     "metadata": {},
     "output_type": "execute_result"
    }
   ],
   "source": [
    "df3 = tg3.to_dataframe()\n",
    "df3"
   ]
  },
  {
   "cell_type": "code",
   "execution_count": 85,
   "id": "8cdae922",
   "metadata": {},
   "outputs": [
    {
     "data": {
      "text/html": [
       "<div>\n",
       "<style scoped>\n",
       "    .dataframe tbody tr th:only-of-type {\n",
       "        vertical-align: middle;\n",
       "    }\n",
       "\n",
       "    .dataframe tbody tr th {\n",
       "        vertical-align: top;\n",
       "    }\n",
       "\n",
       "    .dataframe thead th {\n",
       "        text-align: right;\n",
       "    }\n",
       "</style>\n",
       "<table border=\"1\" class=\"dataframe\">\n",
       "  <thead>\n",
       "    <tr style=\"text-align: right;\">\n",
       "      <th></th>\n",
       "      <th>label</th>\n",
       "      <th>original_text</th>\n",
       "      <th>masked_text</th>\n",
       "      <th>template_text</th>\n",
       "    </tr>\n",
       "  </thead>\n",
       "  <tbody>\n",
       "    <tr>\n",
       "      <th>0</th>\n",
       "      <td>0</td>\n",
       "      <td>.</td>\n",
       "      <td>.</td>\n",
       "      <td>.</td>\n",
       "    </tr>\n",
       "  </tbody>\n",
       "</table>\n",
       "</div>"
      ],
      "text/plain": [
       "   label original_text masked_text template_text\n",
       "0      0             .           .             ."
      ]
     },
     "execution_count": 85,
     "metadata": {},
     "output_type": "execute_result"
    }
   ],
   "source": [
    "df4 = tg4.to_dataframe()\n",
    "df4"
   ]
  },
  {
   "cell_type": "code",
   "execution_count": 86,
   "id": "7f98d8ba",
   "metadata": {},
   "outputs": [
    {
     "data": {
      "text/plain": [
       "{'pos_adj': ['deeper'], 'neg_adj': ['sustained']}"
      ]
     },
     "execution_count": 86,
     "metadata": {},
     "output_type": "execute_result"
    }
   ],
   "source": [
    "tg0.lexicons"
   ]
  },
  {
   "cell_type": "code",
   "execution_count": 87,
   "id": "0c2d142a",
   "metadata": {},
   "outputs": [
    {
     "data": {
      "text/plain": [
       "{'pos_adj': [], 'neg_adj': []}"
      ]
     },
     "execution_count": 87,
     "metadata": {},
     "output_type": "execute_result"
    }
   ],
   "source": [
    "tg1.lexicons"
   ]
  },
  {
   "cell_type": "code",
   "execution_count": 88,
   "id": "4826e528",
   "metadata": {},
   "outputs": [
    {
     "data": {
      "text/plain": [
       "{'pos_adj': [], 'neg_adj': ['last-minute', 'theatrical']}"
      ]
     },
     "execution_count": 88,
     "metadata": {},
     "output_type": "execute_result"
    }
   ],
   "source": [
    "tg2.lexicons"
   ]
  },
  {
   "cell_type": "code",
   "execution_count": 89,
   "id": "65b3163d",
   "metadata": {},
   "outputs": [
    {
     "data": {
      "text/plain": [
       "{'pos_adj': [], 'neg_adj': []}"
      ]
     },
     "execution_count": 89,
     "metadata": {},
     "output_type": "execute_result"
    }
   ],
   "source": [
    "tg3.lexicons"
   ]
  },
  {
   "cell_type": "code",
   "execution_count": 90,
   "id": "e6714fcd",
   "metadata": {},
   "outputs": [
    {
     "data": {
      "text/plain": [
       "{'pos_adj': [], 'neg_adj': []}"
      ]
     },
     "execution_count": 90,
     "metadata": {},
     "output_type": "execute_result"
    }
   ],
   "source": [
    "tg4.lexicons"
   ]
  },
  {
   "cell_type": "markdown",
   "id": "2aaf7e38",
   "metadata": {},
   "source": [
    "#### Tempo de execução para 100 instâncias: 4m 17.8s"
   ]
  },
  {
   "cell_type": "markdown",
   "id": "0b128e49",
   "metadata": {},
   "source": [
    "## Checklist"
   ]
  },
  {
   "cell_type": "markdown",
   "id": "7d6ad6cc",
   "metadata": {},
   "source": [
    "#### Model BERT"
   ]
  },
  {
   "cell_type": "code",
   "execution_count": 91,
   "id": "ad2b0738",
   "metadata": {},
   "outputs": [],
   "source": [
    "import checklist\n",
    "from checklist.editor import Editor\n",
    "from checklist.test_suite import TestSuite\n",
    "from checklist.test_types import MFT"
   ]
  },
  {
   "cell_type": "code",
   "execution_count": 92,
   "id": "8d3415da",
   "metadata": {},
   "outputs": [],
   "source": [
    "lexicons = tg0.lexicons\n",
    "templates0 = tg0.template_texts\n",
    "masked = tg0.masked_texts\n",
    "labels = [sent.prediction.label for sent in tg0.sentences]\n",
    "\n",
    "editor = Editor()\n",
    "editor.add_lexicon('pos_adj', lexicons['pos_adj'])\n",
    "editor.add_lexicon('neg_adj', lexicons['neg_adj'])\n",
    "\n",
    "suite = TestSuite()"
   ]
  },
  {
   "cell_type": "code",
   "execution_count": 93,
   "id": "c134553b",
   "metadata": {},
   "outputs": [],
   "source": [
    "for template, label, i in zip(templates0, labels, range(len(templates0))):\n",
    "    t = editor.template(template, remove_duplicates=True, labels=int(label))\n",
    "\n",
    "    suite.add(MFT(\n",
    "        data=t.data,\n",
    "        labels=label,\n",
    "        capability=\"Vocabullary\", \n",
    "        name=f\"Test: MFT with vocabullary - template{i+1}\",\n",
    "        description=\"Checking if the model can handle vocabullary\")) "
   ]
  },
  {
   "cell_type": "code",
   "execution_count": 94,
   "id": "f2a19cf9",
   "metadata": {},
   "outputs": [
    {
     "name": "stdout",
     "output_type": "stream",
     "text": [
      "Running Test: MFT with vocabullary - template1\n",
      "Predicting 1 examples\n"
     ]
    },
    {
     "name": "stderr",
     "output_type": "stream",
     "text": [
      "<ipython-input-59-263ca9d23a33>:23: UserWarning: Implicit dimension choice for softmax has been deprecated. Change the call to include dim=X as an argument.\n",
      "  prob = softmax(tensor_logits[0]).detach().numpy()\n"
     ]
    }
   ],
   "source": [
    "suite.run(model_bert.predict, overwrite=True)"
   ]
  },
  {
   "cell_type": "code",
   "execution_count": 95,
   "id": "5a27af66",
   "metadata": {},
   "outputs": [
    {
     "name": "stdout",
     "output_type": "stream",
     "text": [
      "Vocabullary\n",
      "\n",
      "Test: MFT with vocabullary - template1\n",
      "Test cases:      1\n",
      "Fails (rate):    0 (0.0%)\n",
      "\n",
      "\n",
      "\n",
      "\n"
     ]
    }
   ],
   "source": [
    "suite.summary()"
   ]
  },
  {
   "cell_type": "code",
   "execution_count": 96,
   "id": "167fde22",
   "metadata": {},
   "outputs": [],
   "source": [
    "suite.save('./suites/posneg-approach5-bert.suite')"
   ]
  },
  {
   "cell_type": "markdown",
   "id": "9b948d3f",
   "metadata": {},
   "source": [
    "#### Model Albert"
   ]
  },
  {
   "cell_type": "code",
   "execution_count": 97,
   "id": "8d3415da",
   "metadata": {},
   "outputs": [],
   "source": [
    "lexicons = tg1.lexicons\n",
    "templates1 = tg1.template_texts\n",
    "masked = tg1.masked_texts\n",
    "labels = [sent.prediction.label for sent in tg1.sentences]\n",
    "\n",
    "editor = Editor()\n",
    "editor.add_lexicon('pos_adj', lexicons['pos_adj'])\n",
    "editor.add_lexicon('neg_adj', lexicons['neg_adj'])\n",
    "\n",
    "suite = TestSuite()"
   ]
  },
  {
   "cell_type": "code",
   "execution_count": 98,
   "id": "c134553b",
   "metadata": {},
   "outputs": [],
   "source": [
    "for template, label, i in zip(templates1, labels, range(len(templates1))):\n",
    "    t = editor.template(template, remove_duplicates=True, labels=int(label))\n",
    "\n",
    "    suite.add(MFT(\n",
    "        data=t.data,\n",
    "        labels=label,\n",
    "        capability=\"Vocabullary\", \n",
    "        name=f\"Test: MFT with vocabullary - template{i+1}\",\n",
    "        description=\"Checking if the model can handle vocabullary\")) "
   ]
  },
  {
   "cell_type": "code",
   "execution_count": 99,
   "id": "f2a19cf9",
   "metadata": {},
   "outputs": [
    {
     "name": "stdout",
     "output_type": "stream",
     "text": [
      "Running Test: MFT with vocabullary - template1\n",
      "Predicting 1 examples\n"
     ]
    },
    {
     "name": "stderr",
     "output_type": "stream",
     "text": [
      "<ipython-input-59-263ca9d23a33>:23: UserWarning: Implicit dimension choice for softmax has been deprecated. Change the call to include dim=X as an argument.\n",
      "  prob = softmax(tensor_logits[0]).detach().numpy()\n"
     ]
    }
   ],
   "source": [
    "suite.run(model_albert.predict, overwrite=True)"
   ]
  },
  {
   "cell_type": "code",
   "execution_count": 100,
   "id": "5a27af66",
   "metadata": {},
   "outputs": [
    {
     "name": "stdout",
     "output_type": "stream",
     "text": [
      "Vocabullary\n",
      "\n",
      "Test: MFT with vocabullary - template1\n",
      "Test cases:      1\n",
      "Fails (rate):    1 (100.0%)\n",
      "\n",
      "Example fails:\n",
      "0.5 h .\n",
      "----\n",
      "\n",
      "\n",
      "\n",
      "\n"
     ]
    }
   ],
   "source": [
    "suite.summary()"
   ]
  },
  {
   "cell_type": "code",
   "execution_count": 101,
   "id": "167fde22",
   "metadata": {},
   "outputs": [],
   "source": [
    "suite.save('./suites/posneg-approach-random-albert.suite')"
   ]
  },
  {
   "cell_type": "markdown",
   "id": "6c41e0de",
   "metadata": {},
   "source": [
    "#### Model Distilbert"
   ]
  },
  {
   "cell_type": "code",
   "execution_count": 102,
   "id": "8d3415da",
   "metadata": {},
   "outputs": [],
   "source": [
    "lexicons = tg2.lexicons\n",
    "templates2 = tg2.template_texts\n",
    "masked = tg2.masked_texts\n",
    "labels = [sent.prediction.label for sent in tg2.sentences]\n",
    "\n",
    "editor = Editor()\n",
    "editor.add_lexicon('pos_adj', lexicons['pos_adj'])\n",
    "editor.add_lexicon('neg_adj', lexicons['neg_adj'])\n",
    "\n",
    "suite = TestSuite()"
   ]
  },
  {
   "cell_type": "code",
   "execution_count": 103,
   "id": "c134553b",
   "metadata": {},
   "outputs": [],
   "source": [
    "for template, label, i in zip(templates2, labels, range(len(templates2))):\n",
    "    t = editor.template(template, remove_duplicates=True, labels=int(label))\n",
    "\n",
    "    suite.add(MFT(\n",
    "        data=t.data,\n",
    "        labels=label,\n",
    "        capability=\"Vocabullary\", \n",
    "        name=f\"Test: MFT with vocabullary - template{i+1}\",\n",
    "        description=\"Checking if the model can handle vocabullary\")) "
   ]
  },
  {
   "cell_type": "code",
   "execution_count": 104,
   "id": "f2a19cf9",
   "metadata": {},
   "outputs": [
    {
     "name": "stdout",
     "output_type": "stream",
     "text": [
      "Running Test: MFT with vocabullary - template1\n",
      "Predicting 2 examples\n"
     ]
    },
    {
     "name": "stderr",
     "output_type": "stream",
     "text": [
      "<ipython-input-59-263ca9d23a33>:23: UserWarning: Implicit dimension choice for softmax has been deprecated. Change the call to include dim=X as an argument.\n",
      "  prob = softmax(tensor_logits[0]).detach().numpy()\n"
     ]
    }
   ],
   "source": [
    "suite.run(model_distilbert.predict, overwrite=True)"
   ]
  },
  {
   "cell_type": "code",
   "execution_count": 105,
   "id": "5a27af66",
   "metadata": {},
   "outputs": [
    {
     "name": "stdout",
     "output_type": "stream",
     "text": [
      "Vocabullary\n",
      "\n",
      "Test: MFT with vocabullary - template1\n",
      "Test cases:      2\n",
      "Fails (rate):    0 (0.0%)\n",
      "\n",
      "\n",
      "\n",
      "\n"
     ]
    }
   ],
   "source": [
    "suite.summary()"
   ]
  },
  {
   "cell_type": "code",
   "execution_count": 106,
   "id": "167fde22",
   "metadata": {},
   "outputs": [],
   "source": [
    "suite.save('./suites/posneg-approach-random-distilbert.suite')"
   ]
  },
  {
   "cell_type": "markdown",
   "id": "3b00a03d",
   "metadata": {},
   "source": [
    "#### Model Roberta"
   ]
  },
  {
   "cell_type": "code",
   "execution_count": 107,
   "id": "8d3415da",
   "metadata": {},
   "outputs": [],
   "source": [
    "lexicons = tg3.lexicons\n",
    "templates3 = tg3.template_texts\n",
    "masked = tg3.masked_texts\n",
    "labels = [sent.prediction.label for sent in tg3.sentences]\n",
    "\n",
    "editor = Editor()\n",
    "editor.add_lexicon('pos_adj', lexicons['pos_adj'])\n",
    "editor.add_lexicon('neg_adj', lexicons['neg_adj'])\n",
    "\n",
    "suite = TestSuite()"
   ]
  },
  {
   "cell_type": "code",
   "execution_count": 108,
   "id": "c134553b",
   "metadata": {},
   "outputs": [],
   "source": [
    "for template, label, i in zip(templates3, labels, range(len(templates3))):\n",
    "    t = editor.template(template, remove_duplicates=True, labels=int(label))\n",
    "\n",
    "    suite.add(MFT(\n",
    "        data=t.data,\n",
    "        labels=label,\n",
    "        capability=\"Vocabullary\", \n",
    "        name=f\"Test: MFT with vocabullary - template{i+1}\",\n",
    "        description=\"Checking if the model can handle vocabullary\")) "
   ]
  },
  {
   "cell_type": "code",
   "execution_count": 109,
   "id": "f2a19cf9",
   "metadata": {},
   "outputs": [
    {
     "name": "stdout",
     "output_type": "stream",
     "text": [
      "Running Test: MFT with vocabullary - template1\n",
      "Predicting 1 examples\n"
     ]
    },
    {
     "name": "stderr",
     "output_type": "stream",
     "text": [
      "<ipython-input-59-263ca9d23a33>:23: UserWarning: Implicit dimension choice for softmax has been deprecated. Change the call to include dim=X as an argument.\n",
      "  prob = softmax(tensor_logits[0]).detach().numpy()\n"
     ]
    }
   ],
   "source": [
    "suite.run(model_roberta.predict, overwrite=True)"
   ]
  },
  {
   "cell_type": "code",
   "execution_count": 110,
   "id": "5a27af66",
   "metadata": {},
   "outputs": [
    {
     "name": "stdout",
     "output_type": "stream",
     "text": [
      "Vocabullary\n",
      "\n",
      "Test: MFT with vocabullary - template1\n",
      "Test cases:      1\n",
      "Fails (rate):    1 (100.0%)\n",
      "\n",
      "Example fails:\n",
      "0.5 the story .\n",
      "----\n",
      "\n",
      "\n",
      "\n",
      "\n"
     ]
    }
   ],
   "source": [
    "suite.summary()"
   ]
  },
  {
   "cell_type": "code",
   "execution_count": 111,
   "id": "167fde22",
   "metadata": {},
   "outputs": [],
   "source": [
    "suite.save('./suites/posneg-approach-random-roberta.suite')"
   ]
  },
  {
   "cell_type": "markdown",
   "id": "39b0de6d",
   "metadata": {},
   "source": [
    "#### Model Xlnet"
   ]
  },
  {
   "cell_type": "code",
   "execution_count": 112,
   "id": "8d3415da",
   "metadata": {},
   "outputs": [],
   "source": [
    "lexicons = tg4.lexicons\n",
    "templates4 = tg4.template_texts\n",
    "masked = tg4.masked_texts\n",
    "labels = [sent.prediction.label for sent in tg4.sentences]\n",
    "\n",
    "editor = Editor()\n",
    "editor.add_lexicon('pos_adj', lexicons['pos_adj'])\n",
    "editor.add_lexicon('neg_adj', lexicons['neg_adj'])\n",
    "\n",
    "suite = TestSuite()"
   ]
  },
  {
   "cell_type": "code",
   "execution_count": 113,
   "id": "c134553b",
   "metadata": {},
   "outputs": [],
   "source": [
    "for template, label, i in zip(templates4, labels, range(len(templates4))):\n",
    "    t = editor.template(template, remove_duplicates=True, labels=int(label))\n",
    "\n",
    "    suite.add(MFT(\n",
    "        data=t.data,\n",
    "        labels=label,\n",
    "        capability=\"Vocabullary\", \n",
    "        name=f\"Test: MFT with vocabullary - template{i+1}\",\n",
    "        description=\"Checking if the model can handle vocabullary\")) "
   ]
  },
  {
   "cell_type": "code",
   "execution_count": 114,
   "id": "f2a19cf9",
   "metadata": {},
   "outputs": [
    {
     "name": "stdout",
     "output_type": "stream",
     "text": [
      "Running Test: MFT with vocabullary - template1\n",
      "Predicting 1 examples\n"
     ]
    },
    {
     "name": "stderr",
     "output_type": "stream",
     "text": [
      "<ipython-input-59-263ca9d23a33>:23: UserWarning: Implicit dimension choice for softmax has been deprecated. Change the call to include dim=X as an argument.\n",
      "  prob = softmax(tensor_logits[0]).detach().numpy()\n"
     ]
    }
   ],
   "source": [
    "suite.run(model_xlnet.predict, overwrite=True)"
   ]
  },
  {
   "cell_type": "code",
   "execution_count": 115,
   "id": "5a27af66",
   "metadata": {},
   "outputs": [
    {
     "name": "stdout",
     "output_type": "stream",
     "text": [
      "Vocabullary\n",
      "\n",
      "Test: MFT with vocabullary - template1\n",
      "Test cases:      1\n",
      "Fails (rate):    0 (0.0%)\n",
      "\n",
      "\n",
      "\n",
      "\n"
     ]
    }
   ],
   "source": [
    "suite.summary()"
   ]
  },
  {
   "cell_type": "code",
   "execution_count": 116,
   "id": "167fde22",
   "metadata": {},
   "outputs": [],
   "source": [
    "suite.save('./suites/posneg-approach-random-xlnet.suite')"
   ]
  },
  {
   "cell_type": "markdown",
   "id": "33065add",
   "metadata": {},
   "source": [
    "# Carregando suite de teste"
   ]
  },
  {
   "cell_type": "code",
   "execution_count": 117,
   "id": "563d7be6",
   "metadata": {},
   "outputs": [
    {
     "ename": "FileNotFoundError",
     "evalue": "[Errno 2] No such file or directory: './suites/posneg-approach-random-bert.suite'",
     "output_type": "error",
     "traceback": [
      "\u001b[1;31m---------------------------------------------------------------------------\u001b[0m",
      "\u001b[1;31mFileNotFoundError\u001b[0m                         Traceback (most recent call last)",
      "\u001b[1;32m<ipython-input-117-121c83eb21af>\u001b[0m in \u001b[0;36m<module>\u001b[1;34m\u001b[0m\n\u001b[0;32m      1\u001b[0m \u001b[1;32mfrom\u001b[0m \u001b[0mchecklist\u001b[0m\u001b[1;33m.\u001b[0m\u001b[0mtest_suite\u001b[0m \u001b[1;32mimport\u001b[0m \u001b[0mTestSuite\u001b[0m\u001b[1;33m\u001b[0m\u001b[1;33m\u001b[0m\u001b[0m\n\u001b[1;32m----> 2\u001b[1;33m \u001b[0msuite\u001b[0m \u001b[1;33m=\u001b[0m \u001b[0mTestSuite\u001b[0m\u001b[1;33m.\u001b[0m\u001b[0mfrom_file\u001b[0m\u001b[1;33m(\u001b[0m\u001b[1;34m'./suites/posneg-approach-random-bert.suite'\u001b[0m\u001b[1;33m)\u001b[0m\u001b[1;33m\u001b[0m\u001b[1;33m\u001b[0m\u001b[0m\n\u001b[0m\u001b[0;32m      3\u001b[0m \u001b[1;33m\u001b[0m\u001b[0m\n\u001b[0;32m      4\u001b[0m \u001b[0msuite\u001b[0m\u001b[1;33m.\u001b[0m\u001b[0mvisual_summary_table\u001b[0m\u001b[1;33m(\u001b[0m\u001b[1;33m)\u001b[0m\u001b[1;33m\u001b[0m\u001b[1;33m\u001b[0m\u001b[0m\n",
      "\u001b[1;32m~\\anaconda3\\envs\\TCC-Adson\\lib\\site-packages\\checklist\\test_suite.py\u001b[0m in \u001b[0;36mfrom_file\u001b[1;34m(path)\u001b[0m\n\u001b[0;32m     31\u001b[0m \u001b[1;33m\u001b[0m\u001b[0m\n\u001b[0;32m     32\u001b[0m         \"\"\"\n\u001b[1;32m---> 33\u001b[1;33m         \u001b[1;32mreturn\u001b[0m \u001b[0mload_test\u001b[0m\u001b[1;33m(\u001b[0m\u001b[0mpath\u001b[0m\u001b[1;33m)\u001b[0m\u001b[1;33m\u001b[0m\u001b[1;33m\u001b[0m\u001b[0m\n\u001b[0m\u001b[0;32m     34\u001b[0m \u001b[1;33m\u001b[0m\u001b[0m\n\u001b[0;32m     35\u001b[0m     \u001b[1;32mdef\u001b[0m \u001b[0madd\u001b[0m\u001b[1;33m(\u001b[0m\u001b[0mself\u001b[0m\u001b[1;33m,\u001b[0m \u001b[0mtest\u001b[0m\u001b[1;33m,\u001b[0m \u001b[0mname\u001b[0m\u001b[1;33m=\u001b[0m\u001b[1;32mNone\u001b[0m\u001b[1;33m,\u001b[0m \u001b[0mcapability\u001b[0m\u001b[1;33m=\u001b[0m\u001b[1;32mNone\u001b[0m\u001b[1;33m,\u001b[0m \u001b[0mdescription\u001b[0m\u001b[1;33m=\u001b[0m\u001b[1;32mNone\u001b[0m\u001b[1;33m,\u001b[0m \u001b[0mformat_example_fn\u001b[0m\u001b[1;33m=\u001b[0m\u001b[1;32mNone\u001b[0m\u001b[1;33m,\u001b[0m \u001b[0mprint_fn\u001b[0m\u001b[1;33m=\u001b[0m\u001b[1;32mNone\u001b[0m\u001b[1;33m,\u001b[0m \u001b[0moverwrite\u001b[0m\u001b[1;33m=\u001b[0m\u001b[1;32mFalse\u001b[0m\u001b[1;33m)\u001b[0m\u001b[1;33m:\u001b[0m\u001b[1;33m\u001b[0m\u001b[1;33m\u001b[0m\u001b[0m\n",
      "\u001b[1;32m~\\anaconda3\\envs\\TCC-Adson\\lib\\site-packages\\checklist\\abstract_test.py\u001b[0m in \u001b[0;36mload_test\u001b[1;34m(file)\u001b[0m\n\u001b[0;32m     10\u001b[0m \u001b[1;32mdef\u001b[0m \u001b[0mload_test\u001b[0m\u001b[1;33m(\u001b[0m\u001b[0mfile\u001b[0m\u001b[1;33m)\u001b[0m\u001b[1;33m:\u001b[0m\u001b[1;33m\u001b[0m\u001b[1;33m\u001b[0m\u001b[0m\n\u001b[0;32m     11\u001b[0m     \u001b[0mdill\u001b[0m\u001b[1;33m.\u001b[0m\u001b[0m_dill\u001b[0m\u001b[1;33m.\u001b[0m\u001b[0m_reverse_typemap\u001b[0m\u001b[1;33m[\u001b[0m\u001b[1;34m'ClassType'\u001b[0m\u001b[1;33m]\u001b[0m \u001b[1;33m=\u001b[0m \u001b[0mtype\u001b[0m\u001b[1;33m\u001b[0m\u001b[1;33m\u001b[0m\u001b[0m\n\u001b[1;32m---> 12\u001b[1;33m     \u001b[1;32mwith\u001b[0m \u001b[0mopen\u001b[0m\u001b[1;33m(\u001b[0m\u001b[0mfile\u001b[0m\u001b[1;33m,\u001b[0m \u001b[1;34m'rb'\u001b[0m\u001b[1;33m)\u001b[0m \u001b[1;32mas\u001b[0m \u001b[0minfile\u001b[0m\u001b[1;33m:\u001b[0m\u001b[1;33m\u001b[0m\u001b[1;33m\u001b[0m\u001b[0m\n\u001b[0m\u001b[0;32m     13\u001b[0m         \u001b[1;32mreturn\u001b[0m \u001b[0mdill\u001b[0m\u001b[1;33m.\u001b[0m\u001b[0mload\u001b[0m\u001b[1;33m(\u001b[0m\u001b[0minfile\u001b[0m\u001b[1;33m)\u001b[0m\u001b[1;33m\u001b[0m\u001b[1;33m\u001b[0m\u001b[0m\n\u001b[0;32m     14\u001b[0m \u001b[1;33m\u001b[0m\u001b[0m\n",
      "\u001b[1;31mFileNotFoundError\u001b[0m: [Errno 2] No such file or directory: './suites/posneg-approach-random-bert.suite'"
     ]
    }
   ],
   "source": [
    "from checklist.test_suite import TestSuite\n",
    "suite = TestSuite.from_file('./suites/posneg-approach-random-bert.suite')\n",
    "\n",
    "suite.visual_summary_table()"
   ]
  }
 ],
 "metadata": {
  "interpreter": {
   "hash": "d158b0884c902cbe5122803144f593e89d3599d27de4904257d93ccf35897e83"
  },
  "kernelspec": {
   "display_name": "Python 3",
   "language": "python",
   "name": "python3"
  },
  "language_info": {
   "codemirror_mode": {
    "name": "ipython",
    "version": 3
   },
   "file_extension": ".py",
   "mimetype": "text/x-python",
   "name": "python",
   "nbconvert_exporter": "python",
   "pygments_lexer": "ipython3",
   "version": "3.8.0"
  }
 },
 "nbformat": 4,
 "nbformat_minor": 5
}
