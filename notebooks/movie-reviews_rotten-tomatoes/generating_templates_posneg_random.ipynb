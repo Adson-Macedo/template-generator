{
 "cells": [
  {
   "cell_type": "markdown",
   "id": "d0e2c728",
   "metadata": {},
   "source": [
    "# Abordagem randômica\n",
    "\n",
    "Usando a abordagem randômica para gerar templates com foco em templates positivos e negativos. Uma possível aplicação seria testar a capacidade linguística *Vocabullary* com o teste **MFT**.\n",
    "\n",
    "As etapas desta abordagem são:\n",
    "\n",
    "1. Quebrar as instâncias em sentenças\n",
    "2. Selecionar uma amostra de *K* sentenças de forma aleatória\n",
    "3. Rankear as palavras de cada sentença\n",
    "4. Realizar as predições de cada sentença usando o *Oráculo*\n",
    "5. Substituir as palavras relevantes por máscaras"
   ]
  },
  {
   "cell_type": "code",
   "execution_count": 1,
   "id": "897c3a05",
   "metadata": {},
   "outputs": [],
   "source": [
    "%config Completer.use_jedi = False\n",
    "import sys\n",
    "import random\n",
    "\n",
    "sys.path.append('../../')\n",
    "random.seed(220) "
   ]
  },
  {
   "cell_type": "markdown",
   "id": "6da847fc",
   "metadata": {},
   "source": [
    "## Carregando o dataset, o modelo alvo e os modelos auxiliares"
   ]
  },
  {
   "cell_type": "code",
   "execution_count": 2,
   "id": "f6e018fa",
   "metadata": {},
   "outputs": [
    {
     "data": {
      "text/html": [
       "<div>\n",
       "<style scoped>\n",
       "    .dataframe tbody tr th:only-of-type {\n",
       "        vertical-align: middle;\n",
       "    }\n",
       "\n",
       "    .dataframe tbody tr th {\n",
       "        vertical-align: top;\n",
       "    }\n",
       "\n",
       "    .dataframe thead th {\n",
       "        text-align: right;\n",
       "    }\n",
       "</style>\n",
       "<table border=\"1\" class=\"dataframe\">\n",
       "  <thead>\n",
       "    <tr style=\"text-align: right;\">\n",
       "      <th></th>\n",
       "      <th>label</th>\n",
       "      <th>text</th>\n",
       "      <th>words</th>\n",
       "    </tr>\n",
       "  </thead>\n",
       "  <tbody>\n",
       "    <tr>\n",
       "      <th>0</th>\n",
       "      <td>1</td>\n",
       "      <td>allen's underestimated charm delivers more goodies than lumps of coal .</td>\n",
       "      <td>11</td>\n",
       "    </tr>\n",
       "    <tr>\n",
       "      <th>1</th>\n",
       "      <td>0</td>\n",
       "      <td>skip the film and buy the philip glass soundtrack cd .</td>\n",
       "      <td>11</td>\n",
       "    </tr>\n",
       "    <tr>\n",
       "      <th>2</th>\n",
       "      <td>0</td>\n",
       "      <td>involving at times  but lapses quite casually into the absurd .</td>\n",
       "      <td>11</td>\n",
       "    </tr>\n",
       "    <tr>\n",
       "      <th>3</th>\n",
       "      <td>0</td>\n",
       "      <td>while hoffman's performance is great  the subject matter goes nowhere .</td>\n",
       "      <td>11</td>\n",
       "    </tr>\n",
       "    <tr>\n",
       "      <th>4</th>\n",
       "      <td>1</td>\n",
       "      <td>a flick about our infantilized culture that isn't entirely infantile .</td>\n",
       "      <td>11</td>\n",
       "    </tr>\n",
       "  </tbody>\n",
       "</table>\n",
       "</div>"
      ],
      "text/plain": [
       "   label  \\\n",
       "0      1   \n",
       "1      0   \n",
       "2      0   \n",
       "3      0   \n",
       "4      1   \n",
       "\n",
       "                                                                       text  \\\n",
       "0  allen's underestimated charm delivers more goodies than lumps of coal .    \n",
       "1                   skip the film and buy the philip glass soundtrack cd .    \n",
       "2          involving at times  but lapses quite casually into the absurd .    \n",
       "3  while hoffman's performance is great  the subject matter goes nowhere .    \n",
       "4   a flick about our infantilized culture that isn't entirely infantile .    \n",
       "\n",
       "   words  \n",
       "0     11  \n",
       "1     11  \n",
       "2     11  \n",
       "3     11  \n",
       "4     11  "
      ]
     },
     "execution_count": 2,
     "metadata": {},
     "output_type": "execute_result"
    }
   ],
   "source": [
    "import pandas as pd\n",
    "pd.set_option('display.max_colwidth', None)\n",
    "\n",
    "movie_reviews_rt_df = pd.read_csv('./data/data-rt-100samples.csv')\n",
    "movie_reviews_rt_df.head(5)"
   ]
  },
  {
   "cell_type": "code",
   "execution_count": 3,
   "id": "264d0dcd",
   "metadata": {},
   "outputs": [],
   "source": [
    "import re\n",
    "import numpy as np\n",
    "from torch.nn.functional import softmax\n",
    "from transformers import AutoTokenizer, AutoModelForSequenceClassification\n",
    "\n",
    "def pre_proccess(text):\n",
    "    text = text.lower()\n",
    "    text = re.sub('[\"\\',!-.:-@0-9/]()', ' ', text)\n",
    "    return text\n",
    "\n",
    "# Wrapper to adapt output format\n",
    "class SentimentAnalisysModelWrapper:\n",
    "    def __init__(self, model, tokenizer):\n",
    "        self.model = model\n",
    "        self.tokenizer = tokenizer\n",
    "        \n",
    "    def __predict(self, text_input):\n",
    "        text_preprocessed = pre_proccess(text_input)\n",
    "        tokenized = self.tokenizer(text_preprocessed, padding=True, truncation=True, max_length=512, \n",
    "                                    add_special_tokens = True, return_tensors=\"pt\")\n",
    "        \n",
    "        tensor_logits = self.model(**tokenized)\n",
    "        prob = softmax(tensor_logits[0]).detach().numpy()\n",
    "        pred = np.argmax(prob)\n",
    "        \n",
    "        return pred, prob\n",
    "    \n",
    "    def predict_label(self, text_inputs):\n",
    "        return self.predict(text_inputs)[0]\n",
    "        \n",
    "    def predict_proba(self, text_inputs):\n",
    "        return self.predict(text_inputs)[1]\n",
    "        \n",
    "    def predict(self, text_inputs):\n",
    "        if isinstance(text_inputs, str):\n",
    "            text_inputs = [text_inputs]\n",
    "        \n",
    "        preds = []\n",
    "        probs = []\n",
    "\n",
    "        for text_input in text_inputs:\n",
    "            pred, prob = self.__predict(text_input)\n",
    "            preds.append(pred)\n",
    "            probs.append(prob[0])\n",
    "\n",
    "        return np.array(preds), np.array(probs) # ([0, 1], [[0.99, 0.01], [0.03, 0.97]])\n",
    "\n",
    "# Auxiliar function to load and wrap a model from Hugging Face\n",
    "def load_model(model_name):\n",
    "    print(f'Loading model {model_name}...')\n",
    "    model = AutoModelForSequenceClassification.from_pretrained(model_name)\n",
    "    tokenizer = AutoTokenizer.from_pretrained(model_name)\n",
    "    \n",
    "    return SentimentAnalisysModelWrapper(model, tokenizer)\n",
    "\n",
    "# Hugging Face hosted model names \n",
    "movie_reviews_models = {\n",
    "    'bert': 'textattack/bert-base-uncased-rotten-tomatoes', \n",
    "    'albert': 'textattack/albert-base-v2-rotten-tomatoes', \n",
    "    'distilbert': 'textattack/distilbert-base-uncased-rotten-tomatoes', \n",
    "    'roberta': 'textattack/roberta-base-rotten-tomatoes', \n",
    "    'xlnet': 'textattack/xlnet-base-cased-rotten-tomatoes'\n",
    "}"
   ]
  },
  {
   "cell_type": "code",
   "execution_count": 4,
   "id": "2f271eae",
   "metadata": {},
   "outputs": [
    {
     "name": "stdout",
     "output_type": "stream",
     "text": [
      "Loading model textattack/albert-base-v2-rotten-tomatoes...\n",
      "Loading model textattack/distilbert-base-uncased-rotten-tomatoes...\n",
      "Loading model textattack/roberta-base-rotten-tomatoes...\n"
     ]
    },
    {
     "name": "stderr",
     "output_type": "stream",
     "text": [
      "Some weights of the model checkpoint at textattack/roberta-base-rotten-tomatoes were not used when initializing RobertaForSequenceClassification: ['roberta.pooler.dense.weight', 'roberta.pooler.dense.bias']\n",
      "- This IS expected if you are initializing RobertaForSequenceClassification from the checkpoint of a model trained on another task or with another architecture (e.g. initializing a BertForSequenceClassification model from a BertForPreTraining model).\n",
      "- This IS NOT expected if you are initializing RobertaForSequenceClassification from the checkpoint of a model that you expect to be exactly identical (initializing a BertForSequenceClassification model from a BertForSequenceClassification model).\n"
     ]
    },
    {
     "name": "stdout",
     "output_type": "stream",
     "text": [
      "Loading model textattack/xlnet-base-cased-rotten-tomatoes...\n",
      "Loading model textattack/bert-base-uncased-rotten-tomatoes...\n"
     ]
    }
   ],
   "source": [
    "m1 = load_model(movie_reviews_models['albert'])\n",
    "m2 = load_model(movie_reviews_models['distilbert'])\n",
    "m3 = load_model(movie_reviews_models['roberta'])\n",
    "m4 = load_model(movie_reviews_models['xlnet'])\n",
    "\n",
    "# Models to be used as oracle\n",
    "models = [m1, m2, m3, m4]\n",
    "# Target model\n",
    "model = load_model(movie_reviews_models['bert'])"
   ]
  },
  {
   "cell_type": "markdown",
   "id": "caae89b5",
   "metadata": {},
   "source": [
    "# Gerando os templates\n",
    "O método de rankeamento das palavras usado no PosNegTemplateGenerator é o Replace-1 Score"
   ]
  },
  {
   "cell_type": "code",
   "execution_count": 5,
   "id": "60dc1af3",
   "metadata": {},
   "outputs": [],
   "source": [
    "from template_generator.tasks.sentiment_analisys import PosNegTemplateGeneratorRandom\n",
    "\n",
    "tg = PosNegTemplateGeneratorRandom(model, models)"
   ]
  },
  {
   "cell_type": "markdown",
   "id": "4f595e69",
   "metadata": {},
   "source": [
    "### Número inicial de instâncias: 5"
   ]
  },
  {
   "cell_type": "code",
   "execution_count": 6,
   "id": "a6261506",
   "metadata": {},
   "outputs": [],
   "source": [
    "# Sampling instances\n",
    "np.random.seed(220)\n",
    "n_instances = 5\n",
    "df_sampled = movie_reviews_rt_df.sample(n_instances)\n",
    "\n",
    "instances = [x for x in df_sampled['text'].values]"
   ]
  },
  {
   "cell_type": "code",
   "execution_count": 7,
   "id": "660add17",
   "metadata": {},
   "outputs": [
    {
     "name": "stdout",
     "output_type": "stream",
     "text": [
      "Converting texts to sentences...\n",
      ":: 6 sentences were generated.\n",
      "Ranking words using Replace-1 Score...\n"
     ]
    },
    {
     "name": "stderr",
     "output_type": "stream",
     "text": [
      "<ipython-input-3-263ca9d23a33>:23: UserWarning: Implicit dimension choice for softmax has been deprecated. Change the call to include dim=X as an argument.\n",
      "  prob = softmax(tensor_logits[0]).detach().numpy()\n"
     ]
    },
    {
     "name": "stdout",
     "output_type": "stream",
     "text": [
      ":: Word ranking done.\n",
      "Predicting inputs...\n",
      ":: Sentence predictions done.\n"
     ]
    }
   ],
   "source": [
    "templates = tg.generate_templates(instances, n_masks=2, k_templates=1)"
   ]
  },
  {
   "cell_type": "markdown",
   "id": "0ff5c8cb",
   "metadata": {},
   "source": [
    "#### Tempo de execução para 5 instâncias: 2.1s"
   ]
  },
  {
   "cell_type": "code",
   "execution_count": 8,
   "id": "193f1b65",
   "metadata": {},
   "outputs": [
    {
     "data": {
      "text/html": [
       "<div>\n",
       "<style scoped>\n",
       "    .dataframe tbody tr th:only-of-type {\n",
       "        vertical-align: middle;\n",
       "    }\n",
       "\n",
       "    .dataframe tbody tr th {\n",
       "        vertical-align: top;\n",
       "    }\n",
       "\n",
       "    .dataframe thead th {\n",
       "        text-align: right;\n",
       "    }\n",
       "</style>\n",
       "<table border=\"1\" class=\"dataframe\">\n",
       "  <thead>\n",
       "    <tr style=\"text-align: right;\">\n",
       "      <th></th>\n",
       "      <th>label</th>\n",
       "      <th>original_text</th>\n",
       "      <th>masked_text</th>\n",
       "      <th>template_text</th>\n",
       "    </tr>\n",
       "  </thead>\n",
       "  <tbody>\n",
       "    <tr>\n",
       "      <th>0</th>\n",
       "      <td>0</td>\n",
       "      <td>while hoffman's performance is great  the subject matter goes nowhere .</td>\n",
       "      <td>while hoffman 's performance is {mask} the {mask} matter goes nowhere .</td>\n",
       "      <td>while hoffman 's performance is {pos_adj} the {neg_adj} matter goes nowhere .</td>\n",
       "    </tr>\n",
       "  </tbody>\n",
       "</table>\n",
       "</div>"
      ],
      "text/plain": [
       "   label  \\\n",
       "0      0   \n",
       "\n",
       "                                                             original_text  \\\n",
       "0  while hoffman's performance is great  the subject matter goes nowhere .   \n",
       "\n",
       "                                                               masked_text  \\\n",
       "0  while hoffman 's performance is {mask} the {mask} matter goes nowhere .   \n",
       "\n",
       "                                                                   template_text  \n",
       "0  while hoffman 's performance is {pos_adj} the {neg_adj} matter goes nowhere .  "
      ]
     },
     "execution_count": 8,
     "metadata": {},
     "output_type": "execute_result"
    }
   ],
   "source": [
    "df = tg.to_dataframe()\n",
    "df"
   ]
  },
  {
   "cell_type": "code",
   "execution_count": 9,
   "id": "c03851be",
   "metadata": {},
   "outputs": [
    {
     "data": {
      "text/plain": [
       "{'pos_adj': ['great'], 'neg_adj': ['subject']}"
      ]
     },
     "execution_count": 9,
     "metadata": {},
     "output_type": "execute_result"
    }
   ],
   "source": [
    "tg.lexicons"
   ]
  },
  {
   "cell_type": "markdown",
   "id": "01a27f1f",
   "metadata": {},
   "source": [
    "### Número inicial de instâncias: 100"
   ]
  },
  {
   "cell_type": "code",
   "execution_count": 10,
   "id": "cd4a7fe3",
   "metadata": {},
   "outputs": [],
   "source": [
    "# Using all 100 instances\n",
    "instances = [x for x in movie_reviews_rt_df['text'].values]"
   ]
  },
  {
   "cell_type": "code",
   "execution_count": 11,
   "id": "f1f3f383",
   "metadata": {},
   "outputs": [
    {
     "name": "stdout",
     "output_type": "stream",
     "text": [
      "Converting texts to sentences...\n",
      ":: 134 sentences were generated.\n",
      "Ranking words using Replace-1 Score...\n"
     ]
    },
    {
     "name": "stderr",
     "output_type": "stream",
     "text": [
      "<ipython-input-3-263ca9d23a33>:23: UserWarning: Implicit dimension choice for softmax has been deprecated. Change the call to include dim=X as an argument.\n",
      "  prob = softmax(tensor_logits[0]).detach().numpy()\n"
     ]
    },
    {
     "name": "stdout",
     "output_type": "stream",
     "text": [
      ":: Word ranking done.\n",
      "Predicting inputs...\n",
      ":: Sentence predictions done.\n"
     ]
    }
   ],
   "source": [
    "tg = PosNegTemplateGeneratorRandom(model, models)\n",
    "templates = tg.generate_templates(instances, n_masks=2, k_templates=18)"
   ]
  },
  {
   "cell_type": "markdown",
   "id": "677154d8",
   "metadata": {},
   "source": [
    "#### Tempo de execução para 100 instâncias: 45.5s"
   ]
  },
  {
   "cell_type": "code",
   "execution_count": 12,
   "id": "5c3c1541",
   "metadata": {},
   "outputs": [
    {
     "data": {
      "text/html": [
       "<div>\n",
       "<style scoped>\n",
       "    .dataframe tbody tr th:only-of-type {\n",
       "        vertical-align: middle;\n",
       "    }\n",
       "\n",
       "    .dataframe tbody tr th {\n",
       "        vertical-align: top;\n",
       "    }\n",
       "\n",
       "    .dataframe thead th {\n",
       "        text-align: right;\n",
       "    }\n",
       "</style>\n",
       "<table border=\"1\" class=\"dataframe\">\n",
       "  <thead>\n",
       "    <tr style=\"text-align: right;\">\n",
       "      <th></th>\n",
       "      <th>label</th>\n",
       "      <th>original_text</th>\n",
       "      <th>masked_text</th>\n",
       "      <th>template_text</th>\n",
       "    </tr>\n",
       "  </thead>\n",
       "  <tbody>\n",
       "    <tr>\n",
       "      <th>0</th>\n",
       "      <td>0</td>\n",
       "      <td>.</td>\n",
       "      <td>.</td>\n",
       "      <td>.</td>\n",
       "    </tr>\n",
       "    <tr>\n",
       "      <th>1</th>\n",
       "      <td>0</td>\n",
       "      <td>opens at a funeral  ends on the protagonist's death bed and doesn't get much livelier in the three hours in between .</td>\n",
       "      <td>opens at a {mask} ends on the protagonist 's death bed and does n't get {mask} livelier in the three hours in between .</td>\n",
       "      <td>opens at a {neg_adj} ends on the protagonist 's death bed and does n't get {pos_adj} livelier in the three hours in between .</td>\n",
       "    </tr>\n",
       "    <tr>\n",
       "      <th>2</th>\n",
       "      <td>0</td>\n",
       "      <td>what remains is a variant of the nincompoop benigni persona  here a more annoying  though less angry version of the irresponsible sandlerian manchild  undercut by the voice of the star of road trip .</td>\n",
       "      <td>what remains is a variant of the {mask} benigni persona here a more annoying though less {mask} version of the irresponsible sandlerian manchild undercut by the voice of the star of road trip .</td>\n",
       "      <td>what remains is a variant of the {pos_adj} benigni persona here a more annoying though less {neg_adj} version of the irresponsible sandlerian manchild undercut by the voice of the star of road trip .</td>\n",
       "    </tr>\n",
       "    <tr>\n",
       "      <th>3</th>\n",
       "      <td>0</td>\n",
       "      <td>plympton will find room for one more member of his little band  a professional screenwriter .</td>\n",
       "      <td>plympton will find room for one {mask} member of his little band a {mask} screenwriter .</td>\n",
       "      <td>plympton will find room for one {pos_adj} member of his little band a {neg_adj} screenwriter .</td>\n",
       "    </tr>\n",
       "    <tr>\n",
       "      <th>4</th>\n",
       "      <td>0</td>\n",
       "      <td>the two leads are almost good enough to camouflage the dopey plot  but so much naturalistic small talk  delivered in almost muffled exchanges  eventually has a lulling effect .</td>\n",
       "      <td>the two leads are almost good enough to camouflage the dopey plot but so much {mask} small talk delivered in almost muffled exchanges eventually has a {mask} effect .</td>\n",
       "      <td>the two leads are almost good enough to camouflage the dopey plot but so much {pos_adj} small talk delivered in almost muffled exchanges eventually has a {neg_adj} effect .</td>\n",
       "    </tr>\n",
       "    <tr>\n",
       "      <th>5</th>\n",
       "      <td>0</td>\n",
       "      <td>a dreary  incoherent  self-indulgent mess of a movie in which a bunch of pompous windbags drone on inanely for two hours .</td>\n",
       "      <td>a dreary incoherent {mask} mess of a movie in which a bunch of {mask} windbags drone on inanely for two hours .</td>\n",
       "      <td>a dreary incoherent {neg_adj} mess of a movie in which a bunch of {neg_adj} windbags drone on inanely for two hours .</td>\n",
       "    </tr>\n",
       "    <tr>\n",
       "      <th>6</th>\n",
       "      <td>1</td>\n",
       "      <td>reveals how important our special talents can be when put in service of of others .</td>\n",
       "      <td>reveals how {mask} our {mask} talents can be when put in service of of others .</td>\n",
       "      <td>reveals how {pos_adj} our {pos_adj} talents can be when put in service of of others .</td>\n",
       "    </tr>\n",
       "    <tr>\n",
       "      <th>7</th>\n",
       "      <td>1</td>\n",
       "      <td>elegantly produced and expressively performed  the six musical numbers crystallize key plot moments into minutely detailed wonders of dreamlike ecstasy .</td>\n",
       "      <td>elegantly produced and expressively performed the six musical numbers crystallize {mask} plot moments into minutely {mask} wonders of dreamlike ecstasy .</td>\n",
       "      <td>elegantly produced and expressively performed the six musical numbers crystallize {neg_adj} plot moments into minutely {pos_adj} wonders of dreamlike ecstasy .</td>\n",
       "    </tr>\n",
       "    <tr>\n",
       "      <th>8</th>\n",
       "      <td>0</td>\n",
       "      <td>if you're really renting this you're not interested in discretion in your entertainment choices  you're interested in anne geddes  john grisham  and thomas kincaid .</td>\n",
       "      <td>if you 're really renting this you 're not {mask} in discretion in your entertainment choices you 're {mask} in anne geddes john grisham and thomas kincaid .</td>\n",
       "      <td>if you 're really renting this you 're not {neg_adj} in discretion in your entertainment choices you 're {neg_adj} in anne geddes john grisham and thomas kincaid .</td>\n",
       "    </tr>\n",
       "    <tr>\n",
       "      <th>9</th>\n",
       "      <td>1</td>\n",
       "      <td>a story  an old and scary one  about the monsters we make  and the vengeance they take .</td>\n",
       "      <td>a story an {mask} and {mask} one about the monsters we make and the vengeance they take .</td>\n",
       "      <td>a story an {neg_adj} and {pos_adj} one about the monsters we make and the vengeance they take .</td>\n",
       "    </tr>\n",
       "    <tr>\n",
       "      <th>10</th>\n",
       "      <td>1</td>\n",
       "      <td>is inspiring ironic and revelatory of just how ridiculous and money-oriented the record industry really is .</td>\n",
       "      <td>is inspiring {mask} and revelatory of just how {mask} and money-oriented the record industry really is .</td>\n",
       "      <td>is inspiring {pos_adj} and revelatory of just how {neg_adj} and money-oriented the record industry really is .</td>\n",
       "    </tr>\n",
       "    <tr>\n",
       "      <th>11</th>\n",
       "      <td>0</td>\n",
       "      <td>don't say you weren't warned .</td>\n",
       "      <td>do n't say you were n't warned .</td>\n",
       "      <td>do n't say you were n't warned .</td>\n",
       "    </tr>\n",
       "    <tr>\n",
       "      <th>12</th>\n",
       "      <td>0</td>\n",
       "      <td>.</td>\n",
       "      <td>.</td>\n",
       "      <td>.</td>\n",
       "    </tr>\n",
       "    <tr>\n",
       "      <th>13</th>\n",
       "      <td>1</td>\n",
       "      <td>a time machine  a journey back to your childhood  when cares melted away in the dark theater  and films had the ability to mesmerize  astonish and entertain .</td>\n",
       "      <td>a time machine a journey back to your childhood when cares melted away in the dark theater and films had the ability to mesmerize {mask} and entertain .</td>\n",
       "      <td>a time machine a journey back to your childhood when cares melted away in the dark theater and films had the ability to mesmerize {pos_adj} and entertain .</td>\n",
       "    </tr>\n",
       "    <tr>\n",
       "      <th>14</th>\n",
       "      <td>0</td>\n",
       "      <td>half of it is composed of snappy patter and pseudo-sophisticated cultural observations  while the remainder .</td>\n",
       "      <td>half of it is composed of snappy patter and {mask} {mask} observations while the remainder .</td>\n",
       "      <td>half of it is composed of snappy patter and {neg_adj} {pos_adj} observations while the remainder .</td>\n",
       "    </tr>\n",
       "    <tr>\n",
       "      <th>15</th>\n",
       "      <td>1</td>\n",
       "      <td>the movie is saved from unbearable lightness by the simplicity of the storytelling and the authenticity of the performances .</td>\n",
       "      <td>the movie is saved from {mask} lightness by the simplicity of the storytelling and the authenticity of the performances .</td>\n",
       "      <td>the movie is saved from {neg_adj} lightness by the simplicity of the storytelling and the authenticity of the performances .</td>\n",
       "    </tr>\n",
       "    <tr>\n",
       "      <th>16</th>\n",
       "      <td>1</td>\n",
       "      <td>intelligent  caustic take on a great writer and dubious human being .</td>\n",
       "      <td>{mask} caustic take on a great writer and dubious {mask} being .</td>\n",
       "      <td>{pos_adj} caustic take on a great writer and dubious {neg_adj} being .</td>\n",
       "    </tr>\n",
       "    <tr>\n",
       "      <th>17</th>\n",
       "      <td>0</td>\n",
       "      <td>a well-made  thoughtful  well-acted clunker  but a clunker nonetheless .</td>\n",
       "      <td>a {mask} {mask} well-acted clunker but a clunker nonetheless .</td>\n",
       "      <td>a {pos_adj} {neg_adj} well-acted clunker but a clunker nonetheless .</td>\n",
       "    </tr>\n",
       "  </tbody>\n",
       "</table>\n",
       "</div>"
      ],
      "text/plain": [
       "    label  \\\n",
       "0       0   \n",
       "1       0   \n",
       "2       0   \n",
       "3       0   \n",
       "4       0   \n",
       "5       0   \n",
       "6       1   \n",
       "7       1   \n",
       "8       0   \n",
       "9       1   \n",
       "10      1   \n",
       "11      0   \n",
       "12      0   \n",
       "13      1   \n",
       "14      0   \n",
       "15      1   \n",
       "16      1   \n",
       "17      0   \n",
       "\n",
       "                                                                                                                                                                                              original_text  \\\n",
       "0                                                                                                                                                                                                         .   \n",
       "1                                                                                     opens at a funeral  ends on the protagonist's death bed and doesn't get much livelier in the three hours in between .   \n",
       "2   what remains is a variant of the nincompoop benigni persona  here a more annoying  though less angry version of the irresponsible sandlerian manchild  undercut by the voice of the star of road trip .   \n",
       "3                                                                                                             plympton will find room for one more member of his little band  a professional screenwriter .   \n",
       "4                          the two leads are almost good enough to camouflage the dopey plot  but so much naturalistic small talk  delivered in almost muffled exchanges  eventually has a lulling effect .   \n",
       "5                                                                                a dreary  incoherent  self-indulgent mess of a movie in which a bunch of pompous windbags drone on inanely for two hours .   \n",
       "6                                                                                                                       reveals how important our special talents can be when put in service of of others .   \n",
       "7                                                 elegantly produced and expressively performed  the six musical numbers crystallize key plot moments into minutely detailed wonders of dreamlike ecstasy .   \n",
       "8                                     if you're really renting this you're not interested in discretion in your entertainment choices  you're interested in anne geddes  john grisham  and thomas kincaid .   \n",
       "9                                                                                                                  a story  an old and scary one  about the monsters we make  and the vengeance they take .   \n",
       "10                                                                                             is inspiring ironic and revelatory of just how ridiculous and money-oriented the record industry really is .   \n",
       "11                                                                                                                                                                           don't say you weren't warned .   \n",
       "12                                                                                                                                                                                                        .   \n",
       "13                                           a time machine  a journey back to your childhood  when cares melted away in the dark theater  and films had the ability to mesmerize  astonish and entertain .   \n",
       "14                                                                                            half of it is composed of snappy patter and pseudo-sophisticated cultural observations  while the remainder .   \n",
       "15                                                                            the movie is saved from unbearable lightness by the simplicity of the storytelling and the authenticity of the performances .   \n",
       "16                                                                                                                                    intelligent  caustic take on a great writer and dubious human being .   \n",
       "17                                                                                                                                 a well-made  thoughtful  well-acted clunker  but a clunker nonetheless .   \n",
       "\n",
       "                                                                                                                                                                                          masked_text  \\\n",
       "0                                                                                                                                                                                                   .   \n",
       "1                                                                             opens at a {mask} ends on the protagonist 's death bed and does n't get {mask} livelier in the three hours in between .   \n",
       "2   what remains is a variant of the {mask} benigni persona here a more annoying though less {mask} version of the irresponsible sandlerian manchild undercut by the voice of the star of road trip .   \n",
       "3                                                                                                            plympton will find room for one {mask} member of his little band a {mask} screenwriter .   \n",
       "4                              the two leads are almost good enough to camouflage the dopey plot but so much {mask} small talk delivered in almost muffled exchanges eventually has a {mask} effect .   \n",
       "5                                                                                     a dreary incoherent {mask} mess of a movie in which a bunch of {mask} windbags drone on inanely for two hours .   \n",
       "6                                                                                                                     reveals how {mask} our {mask} talents can be when put in service of of others .   \n",
       "7                                           elegantly produced and expressively performed the six musical numbers crystallize {mask} plot moments into minutely {mask} wonders of dreamlike ecstasy .   \n",
       "8                                       if you 're really renting this you 're not {mask} in discretion in your entertainment choices you 're {mask} in anne geddes john grisham and thomas kincaid .   \n",
       "9                                                                                                           a story an {mask} and {mask} one about the monsters we make and the vengeance they take .   \n",
       "10                                                                                           is inspiring {mask} and revelatory of just how {mask} and money-oriented the record industry really is .   \n",
       "11                                                                                                                                                                   do n't say you were n't warned .   \n",
       "12                                                                                                                                                                                                  .   \n",
       "13                                           a time machine a journey back to your childhood when cares melted away in the dark theater and films had the ability to mesmerize {mask} and entertain .   \n",
       "14                                                                                                       half of it is composed of snappy patter and {mask} {mask} observations while the remainder .   \n",
       "15                                                                          the movie is saved from {mask} lightness by the simplicity of the storytelling and the authenticity of the performances .   \n",
       "16                                                                                                                                   {mask} caustic take on a great writer and dubious {mask} being .   \n",
       "17                                                                                                                                     a {mask} {mask} well-acted clunker but a clunker nonetheless .   \n",
       "\n",
       "                                                                                                                                                                                              template_text  \n",
       "0                                                                                                                                                                                                         .  \n",
       "1                                                                             opens at a {neg_adj} ends on the protagonist 's death bed and does n't get {pos_adj} livelier in the three hours in between .  \n",
       "2   what remains is a variant of the {pos_adj} benigni persona here a more annoying though less {neg_adj} version of the irresponsible sandlerian manchild undercut by the voice of the star of road trip .  \n",
       "3                                                                                                            plympton will find room for one {pos_adj} member of his little band a {neg_adj} screenwriter .  \n",
       "4                              the two leads are almost good enough to camouflage the dopey plot but so much {pos_adj} small talk delivered in almost muffled exchanges eventually has a {neg_adj} effect .  \n",
       "5                                                                                     a dreary incoherent {neg_adj} mess of a movie in which a bunch of {neg_adj} windbags drone on inanely for two hours .  \n",
       "6                                                                                                                     reveals how {pos_adj} our {pos_adj} talents can be when put in service of of others .  \n",
       "7                                           elegantly produced and expressively performed the six musical numbers crystallize {neg_adj} plot moments into minutely {pos_adj} wonders of dreamlike ecstasy .  \n",
       "8                                       if you 're really renting this you 're not {neg_adj} in discretion in your entertainment choices you 're {neg_adj} in anne geddes john grisham and thomas kincaid .  \n",
       "9                                                                                                           a story an {neg_adj} and {pos_adj} one about the monsters we make and the vengeance they take .  \n",
       "10                                                                                           is inspiring {pos_adj} and revelatory of just how {neg_adj} and money-oriented the record industry really is .  \n",
       "11                                                                                                                                                                         do n't say you were n't warned .  \n",
       "12                                                                                                                                                                                                        .  \n",
       "13                                              a time machine a journey back to your childhood when cares melted away in the dark theater and films had the ability to mesmerize {pos_adj} and entertain .  \n",
       "14                                                                                                       half of it is composed of snappy patter and {neg_adj} {pos_adj} observations while the remainder .  \n",
       "15                                                                             the movie is saved from {neg_adj} lightness by the simplicity of the storytelling and the authenticity of the performances .  \n",
       "16                                                                                                                                   {pos_adj} caustic take on a great writer and dubious {neg_adj} being .  \n",
       "17                                                                                                                                     a {pos_adj} {neg_adj} well-acted clunker but a clunker nonetheless .  "
      ]
     },
     "execution_count": 12,
     "metadata": {},
     "output_type": "execute_result"
    }
   ],
   "source": [
    "df = tg.to_dataframe()\n",
    "df"
   ]
  },
  {
   "cell_type": "code",
   "execution_count": 13,
   "id": "0b26cf4e",
   "metadata": {},
   "outputs": [
    {
     "data": {
      "text/plain": [
       "{'pos_adj': ['detailed',\n",
       "  'special',\n",
       "  'important',\n",
       "  'scary',\n",
       "  'naturalistic',\n",
       "  'well-made',\n",
       "  'astonish',\n",
       "  'intelligent',\n",
       "  'cultural',\n",
       "  'much',\n",
       "  'more',\n",
       "  'nincompoop',\n",
       "  'ironic'],\n",
       " 'neg_adj': ['human',\n",
       "  'unbearable',\n",
       "  'key',\n",
       "  'angry',\n",
       "  'old',\n",
       "  'self-indulgent',\n",
       "  'thoughtful',\n",
       "  'ridiculous',\n",
       "  'pseudo-sophisticated',\n",
       "  'interested',\n",
       "  'professional',\n",
       "  'funeral',\n",
       "  'lulling',\n",
       "  'pompous']}"
      ]
     },
     "execution_count": 13,
     "metadata": {},
     "output_type": "execute_result"
    }
   ],
   "source": [
    "tg.lexicons"
   ]
  },
  {
   "cell_type": "markdown",
   "id": "fe88d4e6",
   "metadata": {},
   "source": [
    "## Checklist"
   ]
  },
  {
   "cell_type": "code",
   "execution_count": 14,
   "id": "8402c6fc",
   "metadata": {},
   "outputs": [],
   "source": [
    "from checklist.editor import Editor\n",
    "from checklist.test_suite import TestSuite\n",
    "from checklist.test_types import MFT"
   ]
  },
  {
   "cell_type": "code",
   "execution_count": 15,
   "id": "11c3fef4",
   "metadata": {},
   "outputs": [],
   "source": [
    "lexicons = tg.lexicons\n",
    "templates = tg.template_texts\n",
    "masked = tg.masked_texts\n",
    "labels = [sent.prediction.label for sent in tg.sentences]\n",
    "\n",
    "editor = Editor()\n",
    "editor.add_lexicon('pos_adj', lexicons['pos_adj'])\n",
    "editor.add_lexicon('neg_adj', lexicons['neg_adj'])\n",
    "\n",
    "suite = TestSuite()"
   ]
  },
  {
   "cell_type": "code",
   "execution_count": 16,
   "id": "c6528353",
   "metadata": {},
   "outputs": [],
   "source": [
    "for template, label, i in zip(templates, labels, range(len(templates))):\n",
    "    t = editor.template(template, remove_duplicates=True, labels=int(label))\n",
    "\n",
    "    suite.add(MFT(\n",
    "        data=t.data,\n",
    "        labels=label,\n",
    "        capability=\"Vocabullary\", \n",
    "        name=f\"Test: MFT with vocabullary - template{i+1}\",\n",
    "        description=\"Checking if the model can handle vocabullary\"))"
   ]
  },
  {
   "cell_type": "code",
   "execution_count": 17,
   "id": "0909b6a5",
   "metadata": {},
   "outputs": [
    {
     "name": "stdout",
     "output_type": "stream",
     "text": [
      "Running Test: MFT with vocabullary - template1\n",
      "Predicting 1 examples\n",
      "Running Test: MFT with vocabullary - template2\n",
      "Predicting 182 examples\n"
     ]
    },
    {
     "name": "stderr",
     "output_type": "stream",
     "text": [
      "<ipython-input-3-263ca9d23a33>:23: UserWarning: Implicit dimension choice for softmax has been deprecated. Change the call to include dim=X as an argument.\n",
      "  prob = softmax(tensor_logits[0]).detach().numpy()\n"
     ]
    },
    {
     "name": "stdout",
     "output_type": "stream",
     "text": [
      "Running Test: MFT with vocabullary - template3\n",
      "Predicting 182 examples\n",
      "Running Test: MFT with vocabullary - template4\n",
      "Predicting 182 examples\n",
      "Running Test: MFT with vocabullary - template5\n",
      "Predicting 182 examples\n",
      "Running Test: MFT with vocabullary - template6\n",
      "Predicting 14 examples\n",
      "Running Test: MFT with vocabullary - template7\n",
      "Predicting 13 examples\n",
      "Running Test: MFT with vocabullary - template8\n",
      "Predicting 182 examples\n",
      "Running Test: MFT with vocabullary - template9\n",
      "Predicting 14 examples\n",
      "Running Test: MFT with vocabullary - template10\n",
      "Predicting 182 examples\n",
      "Running Test: MFT with vocabullary - template11\n",
      "Predicting 182 examples\n",
      "Running Test: MFT with vocabullary - template12\n",
      "Predicting 1 examples\n",
      "Running Test: MFT with vocabullary - template13\n",
      "Predicting 1 examples\n",
      "Running Test: MFT with vocabullary - template14\n",
      "Predicting 13 examples\n",
      "Running Test: MFT with vocabullary - template15\n",
      "Predicting 182 examples\n",
      "Running Test: MFT with vocabullary - template16\n",
      "Predicting 14 examples\n",
      "Running Test: MFT with vocabullary - template17\n",
      "Predicting 182 examples\n",
      "Running Test: MFT with vocabullary - template18\n",
      "Predicting 182 examples\n"
     ]
    }
   ],
   "source": [
    "suite.run(model.predict, overwrite=True)"
   ]
  },
  {
   "cell_type": "code",
   "execution_count": 18,
   "id": "a269612d",
   "metadata": {},
   "outputs": [
    {
     "name": "stdout",
     "output_type": "stream",
     "text": [
      "Vocabullary\n",
      "\n",
      "Test: MFT with vocabullary - template1\n",
      "Test cases:      1\n",
      "Fails (rate):    0 (0.0%)\n",
      "\n",
      "\n",
      "Test: MFT with vocabullary - template2\n",
      "Test cases:      182\n",
      "Fails (rate):    5 (2.7%)\n",
      "\n",
      "Example fails:\n",
      "0.6 opens at a key ends on the protagonist 's death bed and does n't get special livelier in the three hours in between .\n",
      "----\n",
      "0.7 opens at a thoughtful ends on the protagonist 's death bed and does n't get special livelier in the three hours in between .\n",
      "----\n",
      "0.6 opens at a angry ends on the protagonist 's death bed and does n't get special livelier in the three hours in between .\n",
      "----\n",
      "\n",
      "\n",
      "Test: MFT with vocabullary - template3\n",
      "Test cases:      182\n",
      "Fails (rate):    0 (0.0%)\n",
      "\n",
      "\n",
      "Test: MFT with vocabullary - template4\n",
      "Test cases:      182\n",
      "Fails (rate):    16 (8.8%)\n",
      "\n",
      "Example fails:\n",
      "1.0 plympton will find room for one detailed member of his little band a thoughtful screenwriter .\n",
      "----\n",
      "0.6 plympton will find room for one intelligent member of his little band a key screenwriter .\n",
      "----\n",
      "0.9 plympton will find room for one intelligent member of his little band a thoughtful screenwriter .\n",
      "----\n",
      "\n",
      "\n",
      "Test: MFT with vocabullary - template5\n",
      "Test cases:      182\n",
      "Fails (rate):    1 (0.5%)\n",
      "\n",
      "Example fails:\n",
      "0.5 the two leads are almost good enough to camouflage the dopey plot but so much intelligent small talk delivered in almost muffled exchanges eventually has a thoughtful effect .\n",
      "----\n",
      "\n",
      "\n",
      "Test: MFT with vocabullary - template6\n",
      "Test cases:      14\n",
      "Fails (rate):    0 (0.0%)\n",
      "\n",
      "\n",
      "Test: MFT with vocabullary - template7\n",
      "Test cases:      13\n",
      "Fails (rate):    0 (0.0%)\n",
      "\n",
      "\n",
      "Test: MFT with vocabullary - template8\n",
      "Test cases:      182\n",
      "Fails (rate):    0 (0.0%)\n",
      "\n",
      "\n",
      "Test: MFT with vocabullary - template9\n",
      "Test cases:      14\n",
      "Fails (rate):    0 (0.0%)\n",
      "\n",
      "\n",
      "Test: MFT with vocabullary - template10\n",
      "Test cases:      182\n",
      "Fails (rate):    19 (10.4%)\n",
      "\n",
      "Example fails:\n",
      "0.0 a story an ridiculous and naturalistic one about the monsters we make and the vengeance they take .\n",
      "----\n",
      "0.4 a story an ridiculous and ironic one about the monsters we make and the vengeance they take .\n",
      "----\n",
      "0.1 a story an ridiculous and well-made one about the monsters we make and the vengeance they take .\n",
      "----\n",
      "\n",
      "\n",
      "Test: MFT with vocabullary - template11\n",
      "Test cases:      182\n",
      "Fails (rate):    0 (0.0%)\n",
      "\n",
      "\n",
      "Test: MFT with vocabullary - template12\n",
      "Test cases:      1\n",
      "Fails (rate):    0 (0.0%)\n",
      "\n",
      "\n",
      "Test: MFT with vocabullary - template13\n",
      "Test cases:      1\n",
      "Fails (rate):    0 (0.0%)\n",
      "\n",
      "\n",
      "Test: MFT with vocabullary - template14\n",
      "Test cases:      13\n",
      "Fails (rate):    0 (0.0%)\n",
      "\n",
      "\n",
      "Test: MFT with vocabullary - template15\n",
      "Test cases:      182\n",
      "Fails (rate):    0 (0.0%)\n",
      "\n",
      "\n",
      "Test: MFT with vocabullary - template16\n",
      "Test cases:      14\n",
      "Fails (rate):    0 (0.0%)\n",
      "\n",
      "\n",
      "Test: MFT with vocabullary - template17\n",
      "Test cases:      182\n",
      "Fails (rate):    59 (32.4%)\n",
      "\n",
      "Example fails:\n",
      "0.0 more caustic take on a great writer and dubious funeral being .\n",
      "----\n",
      "0.0 more caustic take on a great writer and dubious angry being .\n",
      "----\n",
      "0.0 cultural caustic take on a great writer and dubious pompous being .\n",
      "----\n",
      "\n",
      "\n",
      "Test: MFT with vocabullary - template18\n",
      "Test cases:      182\n",
      "Fails (rate):    0 (0.0%)\n",
      "\n",
      "\n",
      "\n",
      "\n"
     ]
    }
   ],
   "source": [
    "suite.summary()"
   ]
  },
  {
   "cell_type": "code",
   "execution_count": 19,
   "id": "a3475cef",
   "metadata": {},
   "outputs": [],
   "source": [
    "suite.save('./suites/posneg-random.suite')"
   ]
  },
  {
   "cell_type": "markdown",
   "id": "bd47047c",
   "metadata": {},
   "source": [
    "# Carregando suite de teste"
   ]
  },
  {
   "cell_type": "code",
   "execution_count": 20,
   "id": "b2f32103",
   "metadata": {},
   "outputs": [
    {
     "name": "stdout",
     "output_type": "stream",
     "text": [
      "Please wait as we prepare the table data...\n"
     ]
    },
    {
     "data": {
      "application/vnd.jupyter.widget-view+json": {
       "model_id": "bd33ae01c0104823b1f3ebbdf9caad83",
       "version_major": 2,
       "version_minor": 0
      },
      "text/plain": [
       "SuiteSummarizer(stats={'npassed': 0, 'nfailed': 0, 'nfiltered': 0}, test_infos=[{'name': 'Test: MFT with vocab…"
      ]
     },
     "metadata": {},
     "output_type": "display_data"
    }
   ],
   "source": [
    "from checklist.test_suite import TestSuite\n",
    "suite = TestSuite.from_file('./suites/posneg-random.suite')\n",
    "\n",
    "suite.visual_summary_table()"
   ]
  }
 ],
 "metadata": {
  "interpreter": {
   "hash": "d158b0884c902cbe5122803144f593e89d3599d27de4904257d93ccf35897e83"
  },
  "kernelspec": {
   "display_name": "Python 3",
   "language": "python",
   "name": "python3"
  },
  "language_info": {
   "codemirror_mode": {
    "name": "ipython",
    "version": 3
   },
   "file_extension": ".py",
   "mimetype": "text/x-python",
   "name": "python",
   "nbconvert_exporter": "python",
   "pygments_lexer": "ipython3",
   "version": "3.8.0"
  }
 },
 "nbformat": 4,
 "nbformat_minor": 5
}
