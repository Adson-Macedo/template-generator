{
 "cells": [
  {
   "cell_type": "markdown",
   "id": "d0e2c728",
   "metadata": {},
   "source": [
    "# Abordagem 2\n",
    "\n",
    "Usando a abordagem 2 para gerar templates com foco em templates positivos e negativos. Uma possível aplicação seria testar a capacidade linguística *Vocabullary* com o teste **MFT**.\n",
    "\n",
    "As etapas desta abordagem são:\n",
    "\n",
    "1. Rankear as palavras das instâncias completas\n",
    "2. Quebrar as instâncias em sentenças\n",
    "3. Filtrar as sentenças que contêm ao menos uma das palavras mais bem rankeadas na etapa anterior\n",
    "4. Rankear as palavras de cada sentença\n",
    "5. Filtrar as sentenças com palavras relevantes (adjetivos ou verbos)\n",
    "6. Classificar as sentenças usando o *Oráculo*\n",
    "7. Substituir as palavras relevantes por máscaras"
   ]
  },
  {
   "cell_type": "code",
   "execution_count": 1,
   "id": "897c3a05",
   "metadata": {},
   "outputs": [],
   "source": [
    "%config Completer.use_jedi = False\n",
    "import sys\n",
    "sys.path.append('../../')"
   ]
  },
  {
   "cell_type": "markdown",
   "id": "6da847fc",
   "metadata": {},
   "source": [
    "## Carregando o dataset, o modelo alvo e os modelos auxiliares"
   ]
  },
  {
   "cell_type": "code",
   "execution_count": 2,
   "id": "f6e018fa",
   "metadata": {},
   "outputs": [
    {
     "data": {
      "text/html": [
       "<div>\n",
       "<style scoped>\n",
       "    .dataframe tbody tr th:only-of-type {\n",
       "        vertical-align: middle;\n",
       "    }\n",
       "\n",
       "    .dataframe tbody tr th {\n",
       "        vertical-align: top;\n",
       "    }\n",
       "\n",
       "    .dataframe thead th {\n",
       "        text-align: right;\n",
       "    }\n",
       "</style>\n",
       "<table border=\"1\" class=\"dataframe\">\n",
       "  <thead>\n",
       "    <tr style=\"text-align: right;\">\n",
       "      <th></th>\n",
       "      <th>label</th>\n",
       "      <th>text</th>\n",
       "      <th>words</th>\n",
       "    </tr>\n",
       "  </thead>\n",
       "  <tbody>\n",
       "    <tr>\n",
       "      <th>0</th>\n",
       "      <td>1</td>\n",
       "      <td>allen's underestimated charm delivers more goodies than lumps of coal .</td>\n",
       "      <td>11</td>\n",
       "    </tr>\n",
       "    <tr>\n",
       "      <th>1</th>\n",
       "      <td>0</td>\n",
       "      <td>skip the film and buy the philip glass soundtrack cd .</td>\n",
       "      <td>11</td>\n",
       "    </tr>\n",
       "    <tr>\n",
       "      <th>2</th>\n",
       "      <td>0</td>\n",
       "      <td>involving at times  but lapses quite casually into the absurd .</td>\n",
       "      <td>11</td>\n",
       "    </tr>\n",
       "    <tr>\n",
       "      <th>3</th>\n",
       "      <td>0</td>\n",
       "      <td>while hoffman's performance is great  the subject matter goes nowhere .</td>\n",
       "      <td>11</td>\n",
       "    </tr>\n",
       "    <tr>\n",
       "      <th>4</th>\n",
       "      <td>1</td>\n",
       "      <td>a flick about our infantilized culture that isn't entirely infantile .</td>\n",
       "      <td>11</td>\n",
       "    </tr>\n",
       "  </tbody>\n",
       "</table>\n",
       "</div>"
      ],
      "text/plain": [
       "   label  \\\n",
       "0      1   \n",
       "1      0   \n",
       "2      0   \n",
       "3      0   \n",
       "4      1   \n",
       "\n",
       "                                                                       text  \\\n",
       "0  allen's underestimated charm delivers more goodies than lumps of coal .    \n",
       "1                   skip the film and buy the philip glass soundtrack cd .    \n",
       "2          involving at times  but lapses quite casually into the absurd .    \n",
       "3  while hoffman's performance is great  the subject matter goes nowhere .    \n",
       "4   a flick about our infantilized culture that isn't entirely infantile .    \n",
       "\n",
       "   words  \n",
       "0     11  \n",
       "1     11  \n",
       "2     11  \n",
       "3     11  \n",
       "4     11  "
      ]
     },
     "execution_count": 2,
     "metadata": {},
     "output_type": "execute_result"
    }
   ],
   "source": [
    "import pandas as pd\n",
    "pd.set_option('display.max_colwidth', None)\n",
    "\n",
    "movie_reviews_rt_df = pd.read_csv('./data/data-rt-100samples.csv')\n",
    "movie_reviews_rt_df.head(5)"
   ]
  },
  {
   "cell_type": "code",
   "execution_count": 3,
   "id": "264d0dcd",
   "metadata": {},
   "outputs": [],
   "source": [
    "import re\n",
    "import numpy as np\n",
    "from torch.nn.functional import softmax\n",
    "from transformers import AutoTokenizer, AutoModelForSequenceClassification\n",
    "\n",
    "def pre_proccess(text):\n",
    "    text = text.lower()\n",
    "    text = re.sub('[\"\\',!-.:-@0-9/]()', ' ', text)\n",
    "    return text\n",
    "\n",
    "# Wrapper to adapt output format\n",
    "class SentimentAnalisysModelWrapper:\n",
    "    def __init__(self, model, tokenizer):\n",
    "        self.model = model\n",
    "        self.tokenizer = tokenizer\n",
    "        \n",
    "    def __predict(self, text_input):\n",
    "        text_preprocessed = pre_proccess(text_input)\n",
    "        tokenized = self.tokenizer(text_preprocessed, padding=True, truncation=True, max_length=512, \n",
    "                                    add_special_tokens = True, return_tensors=\"pt\")\n",
    "        \n",
    "        tensor_logits = self.model(**tokenized)\n",
    "        prob = softmax(tensor_logits[0]).detach().numpy()\n",
    "        pred = np.argmax(prob)\n",
    "        \n",
    "        return pred, prob\n",
    "    \n",
    "    def predict_label(self, text_inputs):\n",
    "        return self.predict(text_inputs)[0]\n",
    "        \n",
    "    def predict_proba(self, text_inputs):\n",
    "        return self.predict(text_inputs)[1]\n",
    "        \n",
    "    def predict(self, text_inputs):\n",
    "        if isinstance(text_inputs, str):\n",
    "            text_inputs = [text_inputs]\n",
    "        \n",
    "        preds = []\n",
    "        probs = []\n",
    "\n",
    "        for text_input in text_inputs:\n",
    "            pred, prob = self.__predict(text_input)\n",
    "            preds.append(pred)\n",
    "            probs.append(prob[0])\n",
    "\n",
    "        return np.array(preds), np.array(probs) # ([0, 1], [[0.99, 0.01], [0.03, 0.97]])\n",
    "\n",
    "# Auxiliar function to load and wrap a model from Hugging Face\n",
    "def load_model(model_name):\n",
    "    print(f'Loading model {model_name}...')\n",
    "    model = AutoModelForSequenceClassification.from_pretrained(model_name)\n",
    "    tokenizer = AutoTokenizer.from_pretrained(model_name)\n",
    "    \n",
    "    return SentimentAnalisysModelWrapper(model, tokenizer)\n",
    "\n",
    "# Hugging Face hosted model names \n",
    "movie_reviews_models = {\n",
    "    'bert': 'textattack/bert-base-uncased-rotten-tomatoes', \n",
    "    'albert': 'textattack/albert-base-v2-rotten-tomatoes', \n",
    "    'distilbert': 'textattack/distilbert-base-uncased-rotten-tomatoes', \n",
    "    'roberta': 'textattack/roberta-base-rotten-tomatoes', \n",
    "    'xlnet': 'textattack/xlnet-base-cased-rotten-tomatoes'\n",
    "}"
   ]
  },
  {
   "cell_type": "code",
   "execution_count": 4,
   "id": "2f271eae",
   "metadata": {},
   "outputs": [
    {
     "name": "stdout",
     "output_type": "stream",
     "text": [
      "Loading model textattack/bert-base-uncased-rotten-tomatoes...\n",
      "Loading model textattack/albert-base-v2-rotten-tomatoes...\n",
      "Loading model textattack/distilbert-base-uncased-rotten-tomatoes...\n",
      "Loading model textattack/roberta-base-rotten-tomatoes...\n"
     ]
    },
    {
     "name": "stderr",
     "output_type": "stream",
     "text": [
      "Some weights of the model checkpoint at textattack/roberta-base-rotten-tomatoes were not used when initializing RobertaForSequenceClassification: ['roberta.pooler.dense.weight', 'roberta.pooler.dense.bias']\n",
      "- This IS expected if you are initializing RobertaForSequenceClassification from the checkpoint of a model trained on another task or with another architecture (e.g. initializing a BertForSequenceClassification model from a BertForPreTraining model).\n",
      "- This IS NOT expected if you are initializing RobertaForSequenceClassification from the checkpoint of a model that you expect to be exactly identical (initializing a BertForSequenceClassification model from a BertForSequenceClassification model).\n"
     ]
    },
    {
     "name": "stdout",
     "output_type": "stream",
     "text": [
      "Loading model textattack/xlnet-base-cased-rotten-tomatoes...\n"
     ]
    }
   ],
   "source": [
    "m0 = load_model(movie_reviews_models['bert'])\n",
    "m1 = load_model(movie_reviews_models['albert'])\n",
    "m2 = load_model(movie_reviews_models['distilbert'])\n",
    "m3 = load_model(movie_reviews_models['roberta'])\n",
    "m4 = load_model(movie_reviews_models['xlnet'])\n",
    "\n",
    "# Models to be used as oracle\n",
    "models_1 = [m1, m2, m3, m4]\n",
    "models_2 = [m0, m2, m3, m4]\n",
    "models_3 = [m0, m1, m3, m4]\n",
    "models_4 = [m0, m1, m2, m4]\n",
    "models_5 = [m0, m1, m2, m3]\n",
    "# Target model\n",
    "model_bert = m0\n",
    "model_albert = m1\n",
    "model_distilbert = m2\n",
    "model_roberta = m3\n",
    "model_xlnet = m4"
   ]
  },
  {
   "cell_type": "markdown",
   "id": "caae89b5",
   "metadata": {},
   "source": [
    "# Gerando os templates\n",
    "O método de rankeamento das palavras usado no PosNegTemplateGenerator é o Replace-1 Score"
   ]
  },
  {
   "cell_type": "code",
   "execution_count": 5,
   "id": "60dc1af3",
   "metadata": {},
   "outputs": [],
   "source": [
    "from template_generator.tasks.sentiment_analisys import PosNegTemplateGeneratorApp2\n",
    "\n",
    "tg0 = PosNegTemplateGeneratorApp2(model_bert, models_1)\n",
    "tg1 = PosNegTemplateGeneratorApp2(model_albert, models_2)\n",
    "tg2 = PosNegTemplateGeneratorApp2(model_distilbert, models_3)\n",
    "tg3 = PosNegTemplateGeneratorApp2(model_roberta, models_4)\n",
    "tg4 = PosNegTemplateGeneratorApp2(model_xlnet, models_5)"
   ]
  },
  {
   "cell_type": "markdown",
   "id": "4f595e69",
   "metadata": {},
   "source": [
    "### Número inicial de instâncias: 5"
   ]
  },
  {
   "cell_type": "code",
   "execution_count": 6,
   "id": "a6261506",
   "metadata": {},
   "outputs": [],
   "source": [
    "# Sampling instances\n",
    "np.random.seed(220)\n",
    "n_instances = 5\n",
    "df_sampled = movie_reviews_rt_df.sample(n_instances)\n",
    "\n",
    "instances = [x for x in df_sampled['text'].values]"
   ]
  },
  {
   "cell_type": "code",
   "execution_count": 7,
   "id": "660add17",
   "metadata": {},
   "outputs": [
    {
     "name": "stdout",
     "output_type": "stream",
     "text": [
      "Ranking words using Replace-1 Score...\n"
     ]
    },
    {
     "name": "stderr",
     "output_type": "stream",
     "text": [
      "<ipython-input-3-263ca9d23a33>:23: UserWarning: Implicit dimension choice for softmax has been deprecated. Change the call to include dim=X as an argument.\n",
      "  prob = softmax(tensor_logits[0]).detach().numpy()\n"
     ]
    },
    {
     "name": "stdout",
     "output_type": "stream",
     "text": [
      "Converting texts to sentences...\n",
      ":: 6 sentences were generated.\n",
      "Filtering instances by contaning ranked words...\n",
      ":: 1 sentences remaining.\n",
      "Ranking words using Replace-1 Score...\n",
      ":: Word ranking done.\n",
      "4\n",
      "Filtering instances by relevant words...\n",
      "['ADJ']\n",
      "{word: future, index: 2, tag: NOUN, rank_score: -0.06550866365432739}\n",
      "{word: hopes, index: 4, tag: VERB, rank_score: -0.0017756223678588867}\n",
      "{word: one, index: 3, tag: NUM, rank_score: 0.0016388297080993652}\n",
      "{word: for, index: 0, tag: ADP, rank_score: 0.0016148090362548828}\n",
      " \n",
      ":: 0 sentences remaining.\n",
      "Predicting inputs...\n",
      ":: Sentence predictions done.\n",
      "Ranking words using Replace-1 Score...\n",
      "Converting texts to sentences...\n",
      ":: 6 sentences were generated.\n",
      "Filtering instances by contaning ranked words...\n",
      ":: 1 sentences remaining.\n",
      "Ranking words using Replace-1 Score...\n",
      ":: Word ranking done.\n",
      "4\n",
      "Filtering instances by relevant words...\n",
      "['ADJ']\n",
      "{word: for, index: 0, tag: ADP, rank_score: -0.12896734476089478}\n",
      "{word: the, index: 1, tag: DET, rank_score: -0.09513872861862183}\n",
      "{word: future, index: 2, tag: NOUN, rank_score: -0.06810325384140015}\n",
      "{word: mr, index: 5, tag: NOUN, rank_score: 0.026988327503204346}\n",
      " \n",
      ":: 0 sentences remaining.\n",
      "Predicting inputs...\n",
      ":: Sentence predictions done.\n",
      "Ranking words using Replace-1 Score...\n",
      "Converting texts to sentences...\n",
      ":: 6 sentences were generated.\n",
      "Filtering instances by contaning ranked words...\n",
      ":: 1 sentences remaining.\n",
      "Ranking words using Replace-1 Score...\n",
      ":: Word ranking done.\n",
      "4\n",
      "Filtering instances by relevant words...\n",
      "['ADJ']\n",
      "{word: room, index: 10, tag: NOUN, rank_score: -0.21790781617164612}\n",
      "{word: band, index: 18, tag: NOUN, rank_score: 0.11481207609176636}\n",
      "{word: his, index: 16, tag: PRON, rank_score: 0.1122368574142456}\n",
      "{word: more, index: 13, tag: ADJ, rank_score: 0.11195629835128784}\n",
      " \n",
      ":: 0 sentences remaining.\n",
      "Predicting inputs...\n",
      ":: Sentence predictions done.\n",
      "Ranking words using Replace-1 Score...\n",
      "Converting texts to sentences...\n",
      ":: 6 sentences were generated.\n",
      "Filtering instances by contaning ranked words...\n",
      ":: 1 sentences remaining.\n",
      "Ranking words using Replace-1 Score...\n",
      ":: Word ranking done.\n",
      "4\n",
      "Filtering instances by relevant words...\n",
      "['ADJ']\n",
      "{word: future, index: 2, tag: NOUN, rank_score: 0.26465070247650146}\n",
      "{word: hopes, index: 4, tag: VERB, rank_score: 0.25991272926330566}\n",
      "{word: for, index: 0, tag: ADP, rank_score: -0.08837974071502686}\n",
      "{word: the, index: 1, tag: DET, rank_score: 0.07815515995025635}\n",
      " \n",
      ":: 0 sentences remaining.\n",
      "Predicting inputs...\n",
      ":: Sentence predictions done.\n",
      "Ranking words using Replace-1 Score...\n",
      "Converting texts to sentences...\n",
      ":: 6 sentences were generated.\n",
      "Filtering instances by contaning ranked words...\n",
      ":: 1 sentences remaining.\n",
      "Ranking words using Replace-1 Score...\n",
      ":: Word ranking done.\n",
      "4\n",
      "Filtering instances by relevant words...\n",
      "['ADJ']\n",
      "{word: the, index: 1, tag: DET, rank_score: -0.4003947079181671}\n",
      "{word: for, index: 0, tag: ADP, rank_score: -0.36505043506622314}\n",
      "{word: hopes, index: 4, tag: VERB, rank_score: -0.22787588834762573}\n",
      "{word: future, index: 2, tag: NOUN, rank_score: 0.21043288707733154}\n",
      " \n",
      ":: 0 sentences remaining.\n",
      "Predicting inputs...\n",
      ":: Sentence predictions done.\n"
     ]
    }
   ],
   "source": [
    "templates0 = tg0.generate_templates(instances, n_masks=2, ranked_words_count=4)\n",
    "templates1 = tg1.generate_templates(instances, n_masks=2, ranked_words_count=4)\n",
    "templates2 = tg2.generate_templates(instances, n_masks=2, ranked_words_count=4)\n",
    "templates3 = tg3.generate_templates(instances, n_masks=2, ranked_words_count=4)\n",
    "templates4 = tg4.generate_templates(instances, n_masks=2, ranked_words_count=4)"
   ]
  },
  {
   "cell_type": "markdown",
   "id": "72d150cb",
   "metadata": {},
   "source": [
    "#### Tempo de execução para 5 instâncias: 9.7s"
   ]
  },
  {
   "cell_type": "code",
   "execution_count": 8,
   "id": "193f1b65",
   "metadata": {},
   "outputs": [
    {
     "data": {
      "text/html": [
       "<div>\n",
       "<style scoped>\n",
       "    .dataframe tbody tr th:only-of-type {\n",
       "        vertical-align: middle;\n",
       "    }\n",
       "\n",
       "    .dataframe tbody tr th {\n",
       "        vertical-align: top;\n",
       "    }\n",
       "\n",
       "    .dataframe thead th {\n",
       "        text-align: right;\n",
       "    }\n",
       "</style>\n",
       "<table border=\"1\" class=\"dataframe\">\n",
       "  <thead>\n",
       "    <tr style=\"text-align: right;\">\n",
       "      <th></th>\n",
       "      <th>label</th>\n",
       "      <th>original_text</th>\n",
       "      <th>masked_text</th>\n",
       "      <th>template_text</th>\n",
       "    </tr>\n",
       "  </thead>\n",
       "  <tbody>\n",
       "  </tbody>\n",
       "</table>\n",
       "</div>"
      ],
      "text/plain": [
       "Empty DataFrame\n",
       "Columns: [label, original_text, masked_text, template_text]\n",
       "Index: []"
      ]
     },
     "execution_count": 8,
     "metadata": {},
     "output_type": "execute_result"
    }
   ],
   "source": [
    "df0 = tg0.to_dataframe()\n",
    "df0"
   ]
  },
  {
   "cell_type": "code",
   "execution_count": 9,
   "id": "017b4c99",
   "metadata": {},
   "outputs": [
    {
     "data": {
      "text/html": [
       "<div>\n",
       "<style scoped>\n",
       "    .dataframe tbody tr th:only-of-type {\n",
       "        vertical-align: middle;\n",
       "    }\n",
       "\n",
       "    .dataframe tbody tr th {\n",
       "        vertical-align: top;\n",
       "    }\n",
       "\n",
       "    .dataframe thead th {\n",
       "        text-align: right;\n",
       "    }\n",
       "</style>\n",
       "<table border=\"1\" class=\"dataframe\">\n",
       "  <thead>\n",
       "    <tr style=\"text-align: right;\">\n",
       "      <th></th>\n",
       "      <th>label</th>\n",
       "      <th>original_text</th>\n",
       "      <th>masked_text</th>\n",
       "      <th>template_text</th>\n",
       "    </tr>\n",
       "  </thead>\n",
       "  <tbody>\n",
       "  </tbody>\n",
       "</table>\n",
       "</div>"
      ],
      "text/plain": [
       "Empty DataFrame\n",
       "Columns: [label, original_text, masked_text, template_text]\n",
       "Index: []"
      ]
     },
     "execution_count": 9,
     "metadata": {},
     "output_type": "execute_result"
    }
   ],
   "source": [
    "df1 = tg1.to_dataframe()\n",
    "df1"
   ]
  },
  {
   "cell_type": "code",
   "execution_count": 10,
   "id": "1b38f51f",
   "metadata": {},
   "outputs": [
    {
     "data": {
      "text/html": [
       "<div>\n",
       "<style scoped>\n",
       "    .dataframe tbody tr th:only-of-type {\n",
       "        vertical-align: middle;\n",
       "    }\n",
       "\n",
       "    .dataframe tbody tr th {\n",
       "        vertical-align: top;\n",
       "    }\n",
       "\n",
       "    .dataframe thead th {\n",
       "        text-align: right;\n",
       "    }\n",
       "</style>\n",
       "<table border=\"1\" class=\"dataframe\">\n",
       "  <thead>\n",
       "    <tr style=\"text-align: right;\">\n",
       "      <th></th>\n",
       "      <th>label</th>\n",
       "      <th>original_text</th>\n",
       "      <th>masked_text</th>\n",
       "      <th>template_text</th>\n",
       "    </tr>\n",
       "  </thead>\n",
       "  <tbody>\n",
       "  </tbody>\n",
       "</table>\n",
       "</div>"
      ],
      "text/plain": [
       "Empty DataFrame\n",
       "Columns: [label, original_text, masked_text, template_text]\n",
       "Index: []"
      ]
     },
     "execution_count": 10,
     "metadata": {},
     "output_type": "execute_result"
    }
   ],
   "source": [
    "df2 = tg2.to_dataframe()\n",
    "df2"
   ]
  },
  {
   "cell_type": "code",
   "execution_count": 11,
   "id": "c5d2a120",
   "metadata": {},
   "outputs": [
    {
     "data": {
      "text/html": [
       "<div>\n",
       "<style scoped>\n",
       "    .dataframe tbody tr th:only-of-type {\n",
       "        vertical-align: middle;\n",
       "    }\n",
       "\n",
       "    .dataframe tbody tr th {\n",
       "        vertical-align: top;\n",
       "    }\n",
       "\n",
       "    .dataframe thead th {\n",
       "        text-align: right;\n",
       "    }\n",
       "</style>\n",
       "<table border=\"1\" class=\"dataframe\">\n",
       "  <thead>\n",
       "    <tr style=\"text-align: right;\">\n",
       "      <th></th>\n",
       "      <th>label</th>\n",
       "      <th>original_text</th>\n",
       "      <th>masked_text</th>\n",
       "      <th>template_text</th>\n",
       "    </tr>\n",
       "  </thead>\n",
       "  <tbody>\n",
       "  </tbody>\n",
       "</table>\n",
       "</div>"
      ],
      "text/plain": [
       "Empty DataFrame\n",
       "Columns: [label, original_text, masked_text, template_text]\n",
       "Index: []"
      ]
     },
     "execution_count": 11,
     "metadata": {},
     "output_type": "execute_result"
    }
   ],
   "source": [
    "df3 = tg3.to_dataframe()\n",
    "df3"
   ]
  },
  {
   "cell_type": "code",
   "execution_count": 12,
   "id": "dec7a0c0",
   "metadata": {},
   "outputs": [
    {
     "data": {
      "text/html": [
       "<div>\n",
       "<style scoped>\n",
       "    .dataframe tbody tr th:only-of-type {\n",
       "        vertical-align: middle;\n",
       "    }\n",
       "\n",
       "    .dataframe tbody tr th {\n",
       "        vertical-align: top;\n",
       "    }\n",
       "\n",
       "    .dataframe thead th {\n",
       "        text-align: right;\n",
       "    }\n",
       "</style>\n",
       "<table border=\"1\" class=\"dataframe\">\n",
       "  <thead>\n",
       "    <tr style=\"text-align: right;\">\n",
       "      <th></th>\n",
       "      <th>label</th>\n",
       "      <th>original_text</th>\n",
       "      <th>masked_text</th>\n",
       "      <th>template_text</th>\n",
       "    </tr>\n",
       "  </thead>\n",
       "  <tbody>\n",
       "  </tbody>\n",
       "</table>\n",
       "</div>"
      ],
      "text/plain": [
       "Empty DataFrame\n",
       "Columns: [label, original_text, masked_text, template_text]\n",
       "Index: []"
      ]
     },
     "execution_count": 12,
     "metadata": {},
     "output_type": "execute_result"
    }
   ],
   "source": [
    "df4 = tg4.to_dataframe()\n",
    "df4"
   ]
  },
  {
   "cell_type": "code",
   "execution_count": 13,
   "id": "7f98d8ba",
   "metadata": {},
   "outputs": [
    {
     "data": {
      "text/plain": [
       "{'pos_adj': [], 'neg_adj': []}"
      ]
     },
     "execution_count": 13,
     "metadata": {},
     "output_type": "execute_result"
    }
   ],
   "source": [
    "tg0.lexicons"
   ]
  },
  {
   "cell_type": "code",
   "execution_count": 14,
   "id": "0c2d142a",
   "metadata": {},
   "outputs": [
    {
     "data": {
      "text/plain": [
       "{'pos_adj': [], 'neg_adj': []}"
      ]
     },
     "execution_count": 14,
     "metadata": {},
     "output_type": "execute_result"
    }
   ],
   "source": [
    "tg1.lexicons"
   ]
  },
  {
   "cell_type": "code",
   "execution_count": 15,
   "id": "4826e528",
   "metadata": {},
   "outputs": [
    {
     "data": {
      "text/plain": [
       "{'pos_adj': [], 'neg_adj': []}"
      ]
     },
     "execution_count": 15,
     "metadata": {},
     "output_type": "execute_result"
    }
   ],
   "source": [
    "tg2.lexicons"
   ]
  },
  {
   "cell_type": "code",
   "execution_count": 16,
   "id": "2afb51c3",
   "metadata": {},
   "outputs": [
    {
     "data": {
      "text/plain": [
       "{'pos_adj': [], 'neg_adj': []}"
      ]
     },
     "execution_count": 16,
     "metadata": {},
     "output_type": "execute_result"
    }
   ],
   "source": [
    "tg3.lexicons"
   ]
  },
  {
   "cell_type": "code",
   "execution_count": 17,
   "id": "12c37e25",
   "metadata": {},
   "outputs": [
    {
     "data": {
      "text/plain": [
       "{'pos_adj': [], 'neg_adj': []}"
      ]
     },
     "execution_count": 17,
     "metadata": {},
     "output_type": "execute_result"
    }
   ],
   "source": [
    "tg4.lexicons"
   ]
  },
  {
   "cell_type": "markdown",
   "id": "01a27f1f",
   "metadata": {},
   "source": [
    "### Número inicial de instâncias: 100"
   ]
  },
  {
   "cell_type": "code",
   "execution_count": 18,
   "id": "cd4a7fe3",
   "metadata": {},
   "outputs": [],
   "source": [
    "# Using all 100 instances\n",
    "instances = [x for x in movie_reviews_rt_df['text'].values]"
   ]
  },
  {
   "cell_type": "code",
   "execution_count": 19,
   "id": "f1f3f383",
   "metadata": {},
   "outputs": [],
   "source": [
    "tg0 = PosNegTemplateGeneratorApp2(model_bert, models_1)\n",
    "tg1 = PosNegTemplateGeneratorApp2(model_albert, models_2)\n",
    "tg2 = PosNegTemplateGeneratorApp2(model_distilbert, models_3)\n",
    "tg3 = PosNegTemplateGeneratorApp2(model_roberta, models_4)\n",
    "tg4 = PosNegTemplateGeneratorApp2(model_xlnet, models_5)"
   ]
  },
  {
   "cell_type": "code",
   "execution_count": 20,
   "id": "05ae5f34",
   "metadata": {},
   "outputs": [
    {
     "name": "stdout",
     "output_type": "stream",
     "text": [
      "Ranking words using Replace-1 Score...\n"
     ]
    },
    {
     "name": "stderr",
     "output_type": "stream",
     "text": [
      "<ipython-input-3-263ca9d23a33>:23: UserWarning: Implicit dimension choice for softmax has been deprecated. Change the call to include dim=X as an argument.\n",
      "  prob = softmax(tensor_logits[0]).detach().numpy()\n"
     ]
    },
    {
     "name": "stdout",
     "output_type": "stream",
     "text": [
      "Converting texts to sentences...\n",
      ":: 134 sentences were generated.\n",
      "Filtering instances by contaning ranked words...\n",
      ":: 23 sentences remaining.\n",
      "Ranking words using Replace-1 Score...\n",
      ":: Word ranking done.\n",
      "4\n",
      "Filtering instances by relevant words...\n",
      "['ADJ']\n",
      "{word: clunker, index: 11, tag: NOUN, rank_score: -0.0016779303550720215}\n",
      "{word: a, index: 4, tag: DET, rank_score: -0.0002397298812866211}\n",
      "{word: well-made, index: 5, tag: ADJ, rank_score: -0.00020068883895874023}\n",
      "{word: thoughtful, index: 6, tag: ADJ, rank_score: -0.0001347064971923828}\n",
      " \n",
      "['ADJ']\n",
      "{word: this, index: 9, tag: DET, rank_score: -0.0038509368896484375}\n",
      "{word: regard, index: 10, tag: NOUN, rank_score: 0.002340257167816162}\n",
      "{word: guard, index: 12, tag: NOUN, rank_score: 0.0020131468772888184}\n",
      "{word: on, index: 11, tag: ADP, rank_score: 0.0017519593238830566}\n",
      " \n",
      "['ADJ']\n",
      "{word: trailers, index: 10, tag: NOUN, rank_score: -0.004239559173583984}\n",
      "{word: bad, index: 7, tag: ADJ, rank_score: -0.0035950541496276855}\n",
      "{word: could, index: 0, tag: VERB, rank_score: 0.0003083348274230957}\n",
      "{word: as, index: 6, tag: ADV, rank_score: -0.0002740025520324707}\n",
      " \n",
      "['ADJ']\n",
      "{word: awful, index: 11, tag: NOUN, rank_score: -0.8138947486877441}\n",
      "{word: pauly, index: 9, tag: ADV, rank_score: -0.008067667484283447}\n",
      "{word: it, index: 7, tag: PRON, rank_score: -0.003497779369354248}\n",
      "{word: 's, index: 8, tag: VERB, rank_score: 0.0024172067642211914}\n",
      " \n",
      "['ADJ']\n",
      "{word: you, index: 16, tag: PRON, rank_score: -0.64985591173172}\n",
      "{word: n't, index: 14, tag: ADV, rank_score: -0.6476182341575623}\n",
      "{word: warned, index: 19, tag: VERB, rank_score: -0.645062267780304}\n",
      "{word: ., index: 20, tag: ., rank_score: -0.6448526978492737}\n",
      " \n",
      "['ADJ']\n",
      "{word: love, index: 17, tag: VERB, rank_score: -0.978091299533844}\n",
      "{word: you, index: 14, tag: PRON, rank_score: -0.023657381534576416}\n",
      "{word: probably, index: 16, tag: ADV, rank_score: 0.009064733982086182}\n",
      "{word: 'll, index: 15, tag: VERB, rank_score: 0.0070650577545166016}\n",
      " \n",
      "['ADJ']\n",
      "{word: marks, index: 15, tag: NOUN, rank_score: -0.8324263691902161}\n",
      "{word: should, index: 17, tag: VERB, rank_score: -0.8276894092559814}\n",
      "{word: it, index: 16, tag: PRON, rank_score: -0.8192701935768127}\n",
      "{word: all, index: 12, tag: DET, rank_score: -0.7217094302177429}\n",
      " \n",
      "['ADJ']\n",
      "{word: and, index: 7, tag: CONJ, rank_score: -0.0007128715515136719}\n",
      "{word: vengeance, index: 17, tag: NOUN, rank_score: -0.00013494491577148438}\n",
      "{word: monsters, index: 12, tag: NOUN, rank_score: -0.00012129545211791992}\n",
      "{word: scary, index: 8, tag: ADJ, rank_score: -6.514787673950195e-05}\n",
      " \n",
      "['ADJ']\n",
      "{word: future, index: 2, tag: NOUN, rank_score: -0.06550866365432739}\n",
      "{word: hopes, index: 4, tag: VERB, rank_score: -0.0017756223678588867}\n",
      "{word: one, index: 3, tag: NUM, rank_score: 0.0016388297080993652}\n",
      "{word: for, index: 0, tag: ADP, rank_score: 0.0016148090362548828}\n",
      " \n",
      "['ADJ']\n",
      "{word: nothing, index: 20, tag: NOUN, rank_score: -0.995931088924408}\n",
      "{word: lesson, index: 15, tag: NOUN, rank_score: -0.0008581876754760742}\n",
      "{word: new, index: 21, tag: ADJ, rank_score: -0.0007919073104858398}\n",
      "{word: is, index: 19, tag: VERB, rank_score: -0.00026983022689819336}\n",
      " \n",
      "['ADJ']\n",
      "{word: peek, index: 10, tag: NOUN, rank_score: -0.0011954307556152344}\n",
      "{word: portrait, index: 4, tag: NOUN, rank_score: -0.0005932450294494629}\n",
      "{word: than, index: 1, tag: ADP, rank_score: -0.0005562305450439453}\n",
      "{word: revolution, index: 15, tag: NOUN, rank_score: -0.00048214197158813477}\n",
      " \n",
      "['ADJ']\n",
      "{word: charming, index: 21, tag: ADJ, rank_score: -0.011001765727996826}\n",
      "{word: cannes, index: 26, tag: NOUN, rank_score: -0.0019100308418273926}\n",
      "{word: is, index: 23, tag: VERB, rank_score: 0.0009661316871643066}\n",
      "{word: result, index: 22, tag: NOUN, rank_score: 0.0008884072303771973}\n",
      " \n",
      "['ADJ']\n",
      "{word: pseudo-sophisticated, index: 9, tag: ADJ, rank_score: -0.04231739044189453}\n",
      "{word: patter, index: 7, tag: NOUN, rank_score: -0.0020614266395568848}\n",
      "{word: remainder, index: 14, tag: NOUN, rank_score: -0.0013203620910644531}\n",
      "{word: composed, index: 4, tag: VERB, rank_score: -0.0007742643356323242}\n",
      " \n",
      "['ADJ']\n",
      "{word: for, index: 9, tag: ADP, rank_score: -0.00018870830535888672}\n",
      "{word: so, index: 1, tag: ADV, rank_score: -0.00010395050048828125}\n",
      "{word: movie, index: 4, tag: NOUN, rank_score: 9.953975677490234e-05}\n",
      "{word: much, index: 2, tag: ADV, rank_score: 9.721517562866211e-05}\n",
      " \n",
      "['ADJ']\n",
      "{word: which, index: 9, tag: DET, rank_score: -0.00017839670181274414}\n",
      "{word: self-indulgent, index: 3, tag: ADJ, rank_score: -6.598234176635742e-05}\n",
      "{word: pompous, index: 13, tag: ADJ, rank_score: -4.565715789794922e-05}\n",
      "{word: incoherent, index: 2, tag: NOUN, rank_score: 3.7729740142822266e-05}\n",
      " \n",
      "['ADJ']\n",
      "{word: pretentious, index: 27, tag: ADJ, rank_score: -0.00017529726028442383}\n",
      "{word: meaningless, index: 28, tag: NOUN, rank_score: -4.5239925384521484e-05}\n",
      "{word: of, index: 26, tag: ADP, rank_score: 3.218650817871094e-05}\n",
      "{word: prattle, index: 29, tag: NOUN, rank_score: -2.2172927856445312e-05}\n",
      " \n",
      "['ADJ']\n",
      "{word: for, index: 26, tag: ADP, rank_score: -0.8686785101890564}\n",
      "{word: demands, index: 12, tag: NOUN, rank_score: -0.8393073678016663}\n",
      "{word: trading, index: 22, tag: NOUN, rank_score: -0.791023313999176}\n",
      "{word: labute, index: 14, tag: ADJ, rank_score: -0.6157995462417603}\n",
      " \n",
      "['ADJ']\n",
      "{word: lost, index: 35, tag: VERB, rank_score: -0.9816185832023621}\n",
      "{word: thinks, index: 24, tag: VERB, rank_score: -0.0009434223175048828}\n",
      "{word: 've, index: 34, tag: VERB, rank_score: -0.000751495361328125}\n",
      "{word: 're, index: 19, tag: VERB, rank_score: -0.0007326006889343262}\n",
      " \n",
      "['ADJ']\n",
      "{word: how, index: 12, tag: ADV, rank_score: -0.9708905816078186}\n",
      "{word: of, index: 10, tag: ADP, rank_score: -0.10083341598510742}\n",
      "{word: inspiring, index: 6, tag: VERB, rank_score: -0.008436143398284912}\n",
      "{word: ridiculous, index: 13, tag: ADJ, rank_score: 0.0015924572944641113}\n",
      " \n",
      "['ADJ']\n",
      "{word: testament, index: 26, tag: NOUN, rank_score: 0.0007649064064025879}\n",
      "{word: it, index: 22, tag: PRON, rank_score: 0.0007538795471191406}\n",
      "{word: integrity, index: 29, tag: NOUN, rank_score: 0.0006980299949645996}\n",
      "{word: band, index: 34, tag: NOUN, rank_score: 0.00036323070526123047}\n",
      " \n",
      "['ADJ']\n",
      "{word: reveals, index: 0, tag: NOUN, rank_score: -0.0002804398536682129}\n",
      "{word: how, index: 1, tag: ADV, rank_score: -0.0001379251480102539}\n",
      "{word: our, index: 3, tag: PRON, rank_score: 2.491474151611328e-05}\n",
      "{word: important, index: 2, tag: ADJ, rank_score: 2.4557113647460938e-05}\n",
      " \n",
      "['ADJ']\n",
      "{word: whereas, index: 0, tag: ADP, rank_score: -0.7145054936408997}\n",
      "{word: sardonic, index: 15, tag: ADJ, rank_score: -0.6737275123596191}\n",
      "{word: for, index: 21, tag: ADP, rank_score: -0.46086573600769043}\n",
      "{word: caustic, index: 19, tag: ADJ, rank_score: -0.31865397095680237}\n",
      " \n",
      "['ADJ']\n",
      "{word: to, index: 47, tag: PRT, rank_score: -0.09373778104782104}\n",
      "{word: pleasant, index: 39, tag: ADJ, rank_score: -0.07891881465911865}\n",
      "{word: eat, index: 48, tag: VERB, rank_score: -0.04292958974838257}\n",
      "{word: is, index: 33, tag: VERB, rank_score: -0.02462780475616455}\n",
      " \n",
      ":: 3 sentences remaining.\n",
      "Predicting inputs...\n",
      ":: Sentence predictions done.\n"
     ]
    }
   ],
   "source": [
    "templates0 = tg0.generate_templates(instances, n_masks=2, ranked_words_count=4)"
   ]
  },
  {
   "cell_type": "code",
   "execution_count": 21,
   "id": "8a0409fc",
   "metadata": {},
   "outputs": [
    {
     "name": "stdout",
     "output_type": "stream",
     "text": [
      "Ranking words using Replace-1 Score...\n"
     ]
    },
    {
     "name": "stderr",
     "output_type": "stream",
     "text": [
      "<ipython-input-3-263ca9d23a33>:23: UserWarning: Implicit dimension choice for softmax has been deprecated. Change the call to include dim=X as an argument.\n",
      "  prob = softmax(tensor_logits[0]).detach().numpy()\n"
     ]
    },
    {
     "name": "stdout",
     "output_type": "stream",
     "text": [
      "Converting texts to sentences...\n",
      ":: 134 sentences were generated.\n",
      "Filtering instances by contaning ranked words...\n",
      ":: 24 sentences remaining.\n",
      "Ranking words using Replace-1 Score...\n",
      ":: Word ranking done.\n",
      "4\n",
      "Filtering instances by relevant words...\n",
      "['ADJ']\n",
      "{word: clunker, index: 11, tag: NOUN, rank_score: -0.05216914415359497}\n",
      "{word: nonetheless, index: 12, tag: ADV, rank_score: -0.012312531471252441}\n",
      "{word: but, index: 9, tag: CONJ, rank_score: -0.00903022289276123}\n",
      "{word: well-acted, index: 7, tag: ADJ, rank_score: 0.0024683475494384766}\n",
      " \n",
      "['ADJ']\n",
      "{word: delivers, index: 13, tag: NOUN, rank_score: -0.46632376313209534}\n",
      "{word: in, index: 8, tag: ADP, rank_score: -0.04138880968093872}\n",
      "{word: guard, index: 12, tag: NOUN, rank_score: -0.026207327842712402}\n",
      "{word: regard, index: 10, tag: NOUN, rank_score: 0.021691203117370605}\n",
      " \n",
      "['ADJ']\n",
      "{word: as, index: 6, tag: ADV, rank_score: -0.07609403133392334}\n",
      "{word: trailers, index: 10, tag: NOUN, rank_score: -0.074942946434021}\n",
      "{word: could, index: 0, tag: VERB, rank_score: -0.037545204162597656}\n",
      "{word: bad, index: 7, tag: ADJ, rank_score: -0.036895692348480225}\n",
      " \n",
      "['ADJ']\n",
      "{word: disguise, index: 3, tag: NOUN, rank_score: 0.3626357316970825}\n",
      "{word: of, index: 2, tag: ADP, rank_score: 0.1531749963760376}\n",
      "{word: awful, index: 5, tag: ADJ, rank_score: 0.1514683961868286}\n",
      "{word: master, index: 1, tag: NOUN, rank_score: -0.1482970118522644}\n",
      " \n",
      "['ADJ']\n",
      "{word: shore, index: 10, tag: ADJ, rank_score: -0.2760229706764221}\n",
      "{word: awful, index: 11, tag: NOUN, rank_score: -0.269280344247818}\n",
      "{word: pauly, index: 9, tag: ADV, rank_score: -0.21931201219558716}\n",
      "{word: it, index: 7, tag: PRON, rank_score: -0.20936575531959534}\n",
      " \n",
      "['ADJ']\n",
      "{word: love, index: 2, tag: VERB, rank_score: -0.06021517515182495}\n",
      "{word: means, index: 9, tag: NOUN, rank_score: 0.04734301567077637}\n",
      "{word: all, index: 8, tag: DET, rank_score: 0.04669475555419922}\n",
      "{word: out, index: 12, tag: PRT, rank_score: 0.04559600353240967}\n",
      " \n",
      "['ADJ']\n",
      "{word: it, index: 16, tag: PRON, rank_score: 0.048160433769226074}\n",
      "{word: should, index: 17, tag: VERB, rank_score: 0.04499918222427368}\n",
      "{word: all, index: 12, tag: DET, rank_score: -0.03161662817001343}\n",
      "{word: hits, index: 11, tag: VERB, rank_score: 0.015162825584411621}\n",
      " \n",
      "['ADJ']\n",
      "{word: and, index: 15, tag: CONJ, rank_score: -0.09073513746261597}\n",
      "{word: and, index: 7, tag: CONJ, rank_score: -0.07736146450042725}\n",
      "{word: scary, index: 8, tag: ADJ, rank_score: -0.04838532209396362}\n",
      "{word: old, index: 6, tag: ADJ, rank_score: 0.03897958993911743}\n",
      " \n",
      "['ADJ']\n",
      "{word: for, index: 0, tag: ADP, rank_score: -0.12896734476089478}\n",
      "{word: the, index: 1, tag: DET, rank_score: -0.09513872861862183}\n",
      "{word: future, index: 2, tag: NOUN, rank_score: -0.06810325384140015}\n",
      "{word: mr, index: 5, tag: NOUN, rank_score: 0.026988327503204346}\n",
      " \n",
      "['ADJ']\n",
      "{word: new, index: 21, tag: ADJ, rank_score: -0.6616690158843994}\n",
      "{word: nothing, index: 20, tag: NOUN, rank_score: -0.6312253475189209}\n",
      "{word: end, index: 18, tag: NOUN, rank_score: -0.014849662780761719}\n",
      "{word: in, index: 16, tag: ADP, rank_score: -0.010167181491851807}\n",
      " \n",
      "['ADJ']\n",
      "{word: portrait, index: 4, tag: NOUN, rank_score: -0.11143207550048828}\n",
      "{word: into, index: 11, tag: ADP, rank_score: -0.10766881704330444}\n",
      "{word: this, index: 9, tag: DET, rank_score: -0.10725092887878418}\n",
      "{word: as, index: 20, tag: ADP, rank_score: 0.07453125715255737}\n",
      " \n",
      "['ADJ']\n",
      "{word: charming, index: 21, tag: ADJ, rank_score: -0.15554827451705933}\n",
      "{word: the, index: 20, tag: DET, rank_score: -0.03943145275115967}\n",
      "{word: result, index: 22, tag: NOUN, rank_score: -0.017405033111572266}\n",
      "{word: in, index: 25, tag: ADP, rank_score: 0.015043854713439941}\n",
      " \n",
      "['ADJ']\n",
      "{word: half, index: 0, tag: NOUN, rank_score: -0.09082198143005371}\n",
      "{word: of, index: 5, tag: ADP, rank_score: -0.06921768188476562}\n",
      "{word: pseudo-sophisticated, index: 9, tag: ADJ, rank_score: -0.04217177629470825}\n",
      "{word: and, index: 8, tag: CONJ, rank_score: -0.033959805965423584}\n",
      " \n",
      "['ADJ']\n",
      "{word: would, index: 18, tag: VERB, rank_score: -0.18791258335113525}\n",
      "{word: more, index: 20, tag: ADJ, rank_score: -0.059478700160980225}\n",
      "{word: serial, index: 27, tag: NOUN, rank_score: -0.025602400302886963}\n",
      "{word: on, index: 23, tag: ADP, rank_score: -0.0107344388961792}\n",
      " \n",
      "['ADJ']\n",
      "{word: still, index: 22, tag: ADV, rank_score: -0.3678092062473297}\n",
      "{word: enjoyed, index: 24, tag: VERB, rank_score: -0.1753658652305603}\n",
      "{word: series, index: 21, tag: NOUN, rank_score: -0.14360666275024414}\n",
      "{word: i, index: 23, tag: VERB, rank_score: -0.1414710283279419}\n",
      " \n",
      "['ADJ']\n",
      "{word: of, index: 5, tag: ADP, rank_score: -0.026882648468017578}\n",
      "{word: drone, index: 15, tag: NOUN, rank_score: -0.019300401210784912}\n",
      "{word: movie, index: 7, tag: NOUN, rank_score: -0.01919722557067871}\n",
      "{word: two, index: 19, tag: NUM, rank_score: -0.014569103717803955}\n",
      " \n",
      "['ADJ']\n",
      "{word: meaningless, index: 28, tag: NOUN, rank_score: -0.04284614324569702}\n",
      "{word: prattle, index: 29, tag: NOUN, rank_score: 0.021501779556274414}\n",
      "{word: of, index: 26, tag: ADP, rank_score: -0.018907129764556885}\n",
      "{word: pretentious, index: 27, tag: ADJ, rank_score: -0.01564955711364746}\n",
      " \n",
      "['ADJ']\n",
      "{word: labute, index: 14, tag: ADJ, rank_score: -0.21610260009765625}\n",
      "{word: demands, index: 12, tag: NOUN, rank_score: -0.21249061822891235}\n",
      "{word: a, index: 29, tag: DET, rank_score: 0.15322768688201904}\n",
      "{word: wit, index: 31, tag: NOUN, rank_score: -0.14556121826171875}\n",
      " \n",
      "['ADJ']\n",
      "{word: great, index: 13, tag: ADJ, rank_score: -0.28802281618118286}\n",
      "{word: and, index: 11, tag: CONJ, rank_score: -0.01965320110321045}\n",
      "{word: you, index: 8, tag: PRON, rank_score: -0.01791965961456299}\n",
      "{word: look, index: 10, tag: VERB, rank_score: -0.007357597351074219}\n",
      " \n",
      "['ADJ']\n",
      "{word: inspiring, index: 6, tag: VERB, rank_score: -0.23774605989456177}\n",
      "{word: ridiculous, index: 13, tag: ADJ, rank_score: 0.05772817134857178}\n",
      "{word: industry, index: 18, tag: NOUN, rank_score: -0.05523800849914551}\n",
      "{word: how, index: 12, tag: ADV, rank_score: 0.027378559112548828}\n",
      " \n",
      "['ADJ']\n",
      "{word: the, index: 33, tag: DET, rank_score: 0.026575982570648193}\n",
      "{word: band, index: 34, tag: NOUN, rank_score: -0.025416553020477295}\n",
      "{word: it, index: 22, tag: PRON, rank_score: 0.014035999774932861}\n",
      "{word: a, index: 25, tag: DET, rank_score: -0.011315643787384033}\n",
      " \n",
      "['ADJ']\n",
      "{word: how, index: 1, tag: ADV, rank_score: -0.014226078987121582}\n",
      "{word: others, index: 14, tag: NOUN, rank_score: 0.004456937313079834}\n",
      "{word: talents, index: 5, tag: NOUN, rank_score: -0.004187524318695068}\n",
      "{word: in, index: 10, tag: ADP, rank_score: 0.0027802586555480957}\n",
      " \n",
      "['ADJ']\n",
      "{word: whereas, index: 0, tag: ADP, rank_score: -0.445595920085907}\n",
      "{word: sardonic, index: 15, tag: ADJ, rank_score: -0.08974945545196533}\n",
      "{word: purpose, index: 20, tag: NOUN, rank_score: -0.05787801742553711}\n",
      "{word: and, index: 10, tag: CONJ, rank_score: 0.04153752326965332}\n",
      " \n",
      "['ADJ']\n",
      "{word: pleasant, index: 39, tag: ADJ, rank_score: -0.6883876919746399}\n",
      "{word: is, index: 33, tag: VERB, rank_score: -0.44933995604515076}\n",
      "{word: this, index: 28, tag: DET, rank_score: -0.38409146666526794}\n",
      "{word: a, index: 38, tag: DET, rank_score: -0.20765739679336548}\n",
      " \n",
      ":: 1 sentences remaining.\n",
      "Predicting inputs...\n",
      ":: Sentence predictions done.\n"
     ]
    }
   ],
   "source": [
    "templates1 = tg1.generate_templates(instances, n_masks=2, ranked_words_count=4)"
   ]
  },
  {
   "cell_type": "code",
   "execution_count": 22,
   "id": "1c3f5410",
   "metadata": {},
   "outputs": [
    {
     "name": "stdout",
     "output_type": "stream",
     "text": [
      "Ranking words using Replace-1 Score...\n"
     ]
    },
    {
     "name": "stderr",
     "output_type": "stream",
     "text": [
      "<ipython-input-3-263ca9d23a33>:23: UserWarning: Implicit dimension choice for softmax has been deprecated. Change the call to include dim=X as an argument.\n",
      "  prob = softmax(tensor_logits[0]).detach().numpy()\n"
     ]
    },
    {
     "name": "stdout",
     "output_type": "stream",
     "text": [
      "Converting texts to sentences...\n",
      ":: 134 sentences were generated.\n",
      "Filtering instances by contaning ranked words...\n",
      ":: 24 sentences remaining.\n",
      "Ranking words using Replace-1 Score...\n",
      ":: Word ranking done.\n",
      "4\n",
      "Filtering instances by relevant words...\n",
      "['ADJ']\n",
      "{word: clunker, index: 8, tag: NOUN, rank_score: -0.3396601974964142}\n",
      "{word: but, index: 9, tag: CONJ, rank_score: 0.21684283018112183}\n",
      "{word: thoughtful, index: 6, tag: ADJ, rank_score: -0.20432782173156738}\n",
      "{word: clunker, index: 11, tag: NOUN, rank_score: 0.11272972822189331}\n",
      " \n",
      "['ADJ']\n",
      "{word: delivers, index: 13, tag: NOUN, rank_score: -0.055378258228302}\n",
      "{word: regard, index: 10, tag: NOUN, rank_score: -0.04361259937286377}\n",
      "{word: on, index: 11, tag: ADP, rank_score: 0.039002180099487305}\n",
      "{word: and, index: 7, tag: CONJ, rank_score: -0.025519728660583496}\n",
      " \n",
      "['ADJ']\n",
      "{word: bad, index: 7, tag: ADJ, rank_score: -0.1291724443435669}\n",
      "{word: trailers, index: 10, tag: NOUN, rank_score: -0.04799562692642212}\n",
      "{word: could, index: 0, tag: VERB, rank_score: 0.04082942008972168}\n",
      "{word: be, index: 5, tag: VERB, rank_score: 0.01744520664215088}\n",
      " \n",
      "['ADJ']\n",
      "{word: awful, index: 11, tag: NOUN, rank_score: -0.1225271224975586}\n",
      "{word: pauly, index: 9, tag: ADV, rank_score: 0.11008048057556152}\n",
      "{word: shore, index: 10, tag: ADJ, rank_score: 0.0771835446357727}\n",
      "{word: it, index: 7, tag: PRON, rank_score: -0.07662975788116455}\n",
      " \n",
      "['ADJ']\n",
      "{word: you, index: 16, tag: PRON, rank_score: 0.25305283069610596}\n",
      "{word: ., index: 20, tag: ., rank_score: 0.23291867971420288}\n",
      "{word: say, index: 15, tag: VERB, rank_score: 0.22702205181121826}\n",
      "{word: n't, index: 18, tag: ADV, rank_score: 0.22547972202301025}\n",
      " \n",
      "['ADJ']\n",
      "{word: love, index: 17, tag: VERB, rank_score: -0.2374604344367981}\n",
      "{word: probably, index: 16, tag: ADV, rank_score: 0.19839811325073242}\n",
      "{word: 'll, index: 15, tag: VERB, rank_score: 0.0462801456451416}\n",
      "{word: it, index: 18, tag: PRON, rank_score: -0.03968268632888794}\n",
      " \n",
      "['ADJ']\n",
      "{word: notorious, index: 4, tag: ADJ, rank_score: -0.2635759711265564}\n",
      "{word: go, index: 3, tag: VERB, rank_score: -0.1489168405532837}\n",
      "{word: comedic, index: 1, tag: ADJ, rank_score: -0.06298494338989258}\n",
      "{word: c, index: 5, tag: NOUN, rank_score: -0.05949985980987549}\n",
      " \n",
      "['ADJ']\n",
      "{word: and, index: 7, tag: CONJ, rank_score: -0.23825639486312866}\n",
      "{word: story, index: 4, tag: NOUN, rank_score: -0.2354474663734436}\n",
      "{word: and, index: 15, tag: CONJ, rank_score: -0.11025494337081909}\n",
      "{word: a, index: 3, tag: DET, rank_score: -0.09879940748214722}\n",
      " \n",
      "['ADJ']\n",
      "{word: room, index: 10, tag: NOUN, rank_score: -0.21790781617164612}\n",
      "{word: band, index: 18, tag: NOUN, rank_score: 0.11481207609176636}\n",
      "{word: his, index: 16, tag: PRON, rank_score: 0.1122368574142456}\n",
      "{word: more, index: 13, tag: ADJ, rank_score: 0.11195629835128784}\n",
      " \n",
      "['ADJ']\n",
      "{word: nothing, index: 20, tag: NOUN, rank_score: -0.722898006439209}\n",
      "{word: new, index: 21, tag: ADJ, rank_score: -0.075553297996521}\n",
      "{word: end, index: 18, tag: NOUN, rank_score: -0.05361461639404297}\n",
      "{word: lesson, index: 15, tag: NOUN, rank_score: -0.039710402488708496}\n",
      " \n",
      "['ADJ']\n",
      "{word: a, index: 17, tag: DET, rank_score: -0.10407805442810059}\n",
      "{word: revolution, index: 15, tag: NOUN, rank_score: -0.095955491065979}\n",
      "{word: film, index: 19, tag: NOUN, rank_score: -0.08741599321365356}\n",
      "{word: into, index: 11, tag: ADP, rank_score: -0.05965059995651245}\n",
      " \n",
      "['ADJ']\n",
      "{word: charming, index: 21, tag: ADJ, rank_score: -0.2633303999900818}\n",
      "{word: result, index: 22, tag: NOUN, rank_score: -0.054507434368133545}\n",
      "{word: the, index: 20, tag: DET, rank_score: -0.036460936069488525}\n",
      "{word: festival, index: 24, tag: ADJ, rank_score: -0.023060917854309082}\n",
      " \n",
      "['ADJ']\n",
      "{word: pseudo-sophisticated, index: 9, tag: ADJ, rank_score: -0.08746218681335449}\n",
      "{word: and, index: 8, tag: CONJ, rank_score: -0.025998473167419434}\n",
      "{word: patter, index: 7, tag: NOUN, rank_score: -0.020467758178710938}\n",
      "{word: half, index: 0, tag: NOUN, rank_score: -0.016572892665863037}\n",
      " \n",
      "['ADJ']\n",
      "{word: enjoyed, index: 24, tag: VERB, rank_score: -0.2698802053928375}\n",
      "{word: series, index: 21, tag: NOUN, rank_score: -0.09438532590866089}\n",
      "{word: recommend, index: 28, tag: VERB, rank_score: 0.08332443237304688}\n",
      "{word: n't, index: 16, tag: ADV, rank_score: 0.0690266489982605}\n",
      " \n",
      "['ADJ']\n",
      "{word: movie, index: 7, tag: NOUN, rank_score: -0.007820963859558105}\n",
      "{word: which, index: 9, tag: DET, rank_score: -0.005209803581237793}\n",
      "{word: self-indulgent, index: 3, tag: ADJ, rank_score: 0.004817783832550049}\n",
      "{word: mess, index: 4, tag: NOUN, rank_score: -0.004481613636016846}\n",
      " \n",
      "['ADJ']\n",
      "{word: meaningless, index: 28, tag: NOUN, rank_score: -0.1063883900642395}\n",
      "{word: prattle, index: 29, tag: NOUN, rank_score: -0.04771190881729126}\n",
      "{word: cacophony, index: 25, tag: NOUN, rank_score: 0.029055297374725342}\n",
      "{word: of, index: 26, tag: ADP, rank_score: 0.022474348545074463}\n",
      " \n",
      "['ADJ']\n",
      "{word: 'possession, index: 0, tag: NOUN, rank_score: -0.1512465476989746}\n",
      "{word: by, index: 6, tag: ADP, rank_score: 0.06198650598526001}\n",
      "{word: book, index: 5, tag: NOUN, rank_score: -0.055656492710113525}\n",
      "{word: on, index: 3, tag: ADP, rank_score: -0.045722007751464844}\n",
      " \n",
      "['ADJ']\n",
      "{word: demands, index: 12, tag: NOUN, rank_score: -0.3385187089443207}\n",
      "{word: a, index: 29, tag: DET, rank_score: 0.22693324089050293}\n",
      "{word: that, index: 13, tag: ADP, rank_score: -0.1983412802219391}\n",
      "{word: labute, index: 14, tag: ADJ, rank_score: -0.18945321440696716}\n",
      " \n",
      "['ADJ']\n",
      "{word: velma, index: 30, tag: NOUN, rank_score: -0.2174776792526245}\n",
      "{word: lost, index: 35, tag: VERB, rank_score: -0.19841372966766357}\n",
      "{word: 're, index: 19, tag: VERB, rank_score: -0.14263904094696045}\n",
      "{word: too, index: 20, tag: ADV, rank_score: -0.12520939111709595}\n",
      " \n",
      "['ADJ']\n",
      "{word: revelatory, index: 9, tag: NOUN, rank_score: -0.16370046138763428}\n",
      "{word: inspiring, index: 6, tag: VERB, rank_score: -0.12940478324890137}\n",
      "{word: of, index: 10, tag: ADP, rank_score: -0.10945850610733032}\n",
      "{word: and, index: 8, tag: CONJ, rank_score: -0.03542119264602661}\n",
      " \n",
      "['ADJ']\n",
      "{word: integrity, index: 29, tag: NOUN, rank_score: -0.008278846740722656}\n",
      "{word: and, index: 30, tag: CONJ, rank_score: -0.0043451786041259766}\n",
      "{word: band, index: 34, tag: NOUN, rank_score: -0.0024369359016418457}\n",
      "{word: testament, index: 26, tag: NOUN, rank_score: -0.0023387670516967773}\n",
      " \n",
      "['ADJ']\n",
      "{word: deeply, index: 20, tag: ADV, rank_score: -0.04413849115371704}\n",
      "{word: that, index: 30, tag: DET, rank_score: -0.043400704860687256}\n",
      "{word: shows, index: 18, tag: VERB, rank_score: -0.024159789085388184}\n",
      "{word: how, index: 19, tag: ADV, rank_score: 0.013545453548431396}\n",
      " \n",
      "['ADJ']\n",
      "{word: drab, index: 32, tag: ADJ, rank_score: -0.071408212184906}\n",
      "{word: inexpressible, index: 30, tag: ADJ, rank_score: -0.06922721862792969}\n",
      "{word: wannabe, index: 33, tag: NOUN, rank_score: 0.0233534574508667}\n",
      "{word: an, index: 29, tag: DET, rank_score: 0.022867918014526367}\n",
      " \n",
      "['ADJ']\n",
      "{word: pleasant, index: 39, tag: ADJ, rank_score: -0.523370623588562}\n",
      "{word: is, index: 33, tag: VERB, rank_score: -0.19119948148727417}\n",
      "{word: movie, index: 31, tag: NOUN, rank_score: -0.1708536148071289}\n",
      "{word: is, index: 29, tag: VERB, rank_score: -0.13850051164627075}\n",
      " \n",
      ":: 3 sentences remaining.\n",
      "Predicting inputs...\n",
      ":: Sentence predictions done.\n"
     ]
    }
   ],
   "source": [
    "templates2 = tg2.generate_templates(instances, n_masks=2, ranked_words_count=4)"
   ]
  },
  {
   "cell_type": "code",
   "execution_count": 23,
   "id": "ac09ea27",
   "metadata": {},
   "outputs": [
    {
     "name": "stdout",
     "output_type": "stream",
     "text": [
      "Ranking words using Replace-1 Score...\n"
     ]
    },
    {
     "name": "stderr",
     "output_type": "stream",
     "text": [
      "<ipython-input-3-263ca9d23a33>:23: UserWarning: Implicit dimension choice for softmax has been deprecated. Change the call to include dim=X as an argument.\n",
      "  prob = softmax(tensor_logits[0]).detach().numpy()\n"
     ]
    },
    {
     "name": "stdout",
     "output_type": "stream",
     "text": [
      "Converting texts to sentences...\n",
      ":: 134 sentences were generated.\n",
      "Filtering instances by contaning ranked words...\n",
      ":: 22 sentences remaining.\n",
      "Ranking words using Replace-1 Score...\n",
      ":: Word ranking done.\n",
      "4\n",
      "Filtering instances by relevant words...\n",
      "['ADJ']\n",
      "{word: clunker, index: 2, tag: NOUN, rank_score: -0.5367560386657715}\n",
      "{word: ., index: 3, tag: ., rank_score: -0.0029336214065551758}\n",
      "{word: real, index: 1, tag: ADJ, rank_score: 0.002181828022003174}\n",
      "{word: a, index: 0, tag: DET, rank_score: 0.0017777681350708008}\n",
      " \n",
      "['ADJ']\n",
      "{word: delivers, index: 13, tag: NOUN, rank_score: -0.5631450414657593}\n",
      "{word: and, index: 7, tag: CONJ, rank_score: -0.038094162940979004}\n",
      "{word: this, index: 9, tag: DET, rank_score: -0.022512376308441162}\n",
      "{word: regard, index: 10, tag: NOUN, rank_score: 0.00884091854095459}\n",
      " \n",
      "['ADJ']\n",
      "{word: bad, index: 7, tag: ADJ, rank_score: -0.012041032314300537}\n",
      "{word: country, index: 2, tag: NOUN, rank_score: -0.009274661540985107}\n",
      "{word: be, index: 5, tag: VERB, rank_score: -0.005185365676879883}\n",
      "{word: the, index: 1, tag: DET, rank_score: -0.004361510276794434}\n",
      " \n",
      "['ADJ']\n",
      "{word: awful, index: 5, tag: ADJ, rank_score: -0.6739517450332642}\n",
      "{word: disguise, index: 3, tag: NOUN, rank_score: -0.005597889423370361}\n",
      "{word: is, index: 4, tag: VERB, rank_score: -0.00537562370300293}\n",
      "{word: of, index: 2, tag: ADP, rank_score: 0.0017015933990478516}\n",
      " \n",
      "['ADJ']\n",
      "{word: it, index: 11, tag: PRON, rank_score: -0.0720018744468689}\n",
      "{word: love, index: 2, tag: VERB, rank_score: -0.05479741096496582}\n",
      "{word: check, index: 10, tag: VERB, rank_score: -0.052541494369506836}\n",
      "{word: poetry, index: 5, tag: NOUN, rank_score: -0.05174356698989868}\n",
      " \n",
      "['ADJ']\n",
      "{word: all, index: 12, tag: DET, rank_score: -0.4242244362831116}\n",
      "{word: the, index: 13, tag: DET, rank_score: 0.302543580532074}\n",
      "{word: verbal, index: 14, tag: ADJ, rank_score: -0.2898210883140564}\n",
      "{word: it, index: 16, tag: PRON, rank_score: 0.17126590013504028}\n",
      " \n",
      "['ADJ']\n",
      "{word: and, index: 7, tag: CONJ, rank_score: -0.08443945646286011}\n",
      "{word: scary, index: 8, tag: ADJ, rank_score: -0.06180918216705322}\n",
      "{word: an, index: 5, tag: DET, rank_score: -0.041527748107910156}\n",
      "{word: vengeance, index: 17, tag: NOUN, rank_score: -0.035311102867126465}\n",
      " \n",
      "['ADJ']\n",
      "{word: future, index: 2, tag: NOUN, rank_score: 0.26465070247650146}\n",
      "{word: hopes, index: 4, tag: VERB, rank_score: 0.25991272926330566}\n",
      "{word: for, index: 0, tag: ADP, rank_score: -0.08837974071502686}\n",
      "{word: the, index: 1, tag: DET, rank_score: 0.07815515995025635}\n",
      " \n",
      "['ADJ']\n",
      "{word: nothing, index: 20, tag: NOUN, rank_score: -0.23936015367507935}\n",
      "{word: in, index: 16, tag: ADP, rank_score: -0.12055319547653198}\n",
      "{word: new, index: 21, tag: ADJ, rank_score: 0.012765228748321533}\n",
      "{word: lesson, index: 15, tag: NOUN, rank_score: 0.011185884475708008}\n",
      " \n",
      "['ADJ']\n",
      "{word: than, index: 1, tag: ADP, rank_score: -0.028122425079345703}\n",
      "{word: simply, index: 2, tag: ADV, rank_score: -0.01450812816619873}\n",
      "{word: this, index: 9, tag: DET, rank_score: -0.009131133556365967}\n",
      "{word: into, index: 11, tag: ADP, rank_score: -0.005983710289001465}\n",
      " \n",
      "['ADJ']\n",
      "{word: festival, index: 24, tag: ADJ, rank_score: -0.165330171585083}\n",
      "{word: charming, index: 21, tag: ADJ, rank_score: -0.04861879348754883}\n",
      "{word: in, index: 25, tag: ADP, rank_score: -0.020272672176361084}\n",
      "{word: is, index: 23, tag: VERB, rank_score: -0.006421267986297607}\n",
      " \n",
      "['ADJ']\n",
      "{word: patter, index: 7, tag: NOUN, rank_score: -0.024635612964630127}\n",
      "{word: and, index: 8, tag: CONJ, rank_score: -0.00951308012008667}\n",
      "{word: remainder, index: 14, tag: NOUN, rank_score: 0.005036652088165283}\n",
      "{word: pseudo-sophisticated, index: 9, tag: ADJ, rank_score: -0.004918336868286133}\n",
      " \n",
      "['ADJ']\n",
      "{word: more, index: 20, tag: ADJ, rank_score: -0.00904548168182373}\n",
      "{word: serial, index: 27, tag: NOUN, rank_score: -0.008027374744415283}\n",
      "{word: home, index: 22, tag: NOUN, rank_score: -0.00791078805923462}\n",
      "{word: be, index: 19, tag: VERB, rank_score: -0.004042327404022217}\n",
      " \n",
      "['ADJ']\n",
      "{word: still, index: 22, tag: ADV, rank_score: -0.34108710289001465}\n",
      "{word: n't, index: 16, tag: ADV, rank_score: -0.188523530960083}\n",
      "{word: favorite, index: 18, tag: ADJ, rank_score: -0.06792265176773071}\n",
      "{word: recommend, index: 28, tag: VERB, rank_score: -0.0564117431640625}\n",
      " \n",
      "['ADJ']\n",
      "{word: movie, index: 7, tag: NOUN, rank_score: -0.0012868642807006836}\n",
      "{word: for, index: 18, tag: ADP, rank_score: -0.0010986328125}\n",
      "{word: mess, index: 4, tag: NOUN, rank_score: -0.0009042620658874512}\n",
      "{word: incoherent, index: 2, tag: NOUN, rank_score: -0.0008203387260437012}\n",
      " \n",
      "['ADJ']\n",
      "{word: a, index: 29, tag: DET, rank_score: -0.7525590062141418}\n",
      "{word: reverence, index: 27, tag: NOUN, rank_score: -0.35079383850097656}\n",
      "{word: byatt, index: 11, tag: VERB, rank_score: -0.2501755952835083}\n",
      "{word: cynicism, index: 25, tag: NOUN, rank_score: -0.2427997589111328}\n",
      " \n",
      "['ADJ']\n",
      "{word: too, index: 20, tag: ADV, rank_score: -0.09688836336135864}\n",
      "{word: thinks, index: 24, tag: VERB, rank_score: -0.05103832483291626}\n",
      "{word: 're, index: 19, tag: VERB, rank_score: -0.0402907133102417}\n",
      "{word: lost, index: 35, tag: VERB, rank_score: -0.01787889003753662}\n",
      " \n",
      "['ADJ']\n",
      "{word: industry, index: 18, tag: NOUN, rank_score: -0.10663449764251709}\n",
      "{word: revelatory, index: 9, tag: NOUN, rank_score: -0.05835700035095215}\n",
      "{word: inspiring, index: 6, tag: VERB, rank_score: -0.0384974479675293}\n",
      "{word: and, index: 8, tag: CONJ, rank_score: -0.012850522994995117}\n",
      " \n",
      "['ADJ']\n",
      "{word: testament, index: 26, tag: NOUN, rank_score: -0.31308484077453613}\n",
      "{word: integrity, index: 29, tag: NOUN, rank_score: -0.009965002536773682}\n",
      "{word: and, index: 30, tag: CONJ, rank_score: -0.008832335472106934}\n",
      "{word: band, index: 34, tag: NOUN, rank_score: 0.007251918315887451}\n",
      " \n",
      "['ADJ']\n",
      "{word: separate, index: 33, tag: ADJ, rank_score: -0.0009132623672485352}\n",
      "{word: ., index: 35, tag: ., rank_score: 0.0005590319633483887}\n",
      "{word: deeply, index: 20, tag: ADV, rank_score: -0.0005429387092590332}\n",
      "{word: emotions, index: 22, tag: NOUN, rank_score: -0.00041800737380981445}\n",
      " \n",
      "['ADJ']\n",
      "{word: verve, index: 16, tag: NOUN, rank_score: -0.35824328660964966}\n",
      "{word: whereas, index: 0, tag: ADP, rank_score: 0.2861941456794739}\n",
      "{word: resonate, index: 13, tag: VERB, rank_score: -0.273600697517395}\n",
      "{word: competent, index: 3, tag: ADJ, rank_score: 0.2515825629234314}\n",
      " \n",
      "['ADJ']\n",
      "{word: pleasant, index: 39, tag: ADJ, rank_score: -0.6891894340515137}\n",
      "{word: movie, index: 31, tag: NOUN, rank_score: -0.27742815017700195}\n",
      "{word: that, index: 32, tag: DET, rank_score: -0.17822390794754028}\n",
      "{word: is, index: 33, tag: VERB, rank_score: -0.1409725546836853}\n",
      " \n",
      ":: 1 sentences remaining.\n",
      "Predicting inputs...\n",
      ":: Sentence predictions done.\n"
     ]
    }
   ],
   "source": [
    "templates3 = tg3.generate_templates(instances, n_masks=2, ranked_words_count=4)"
   ]
  },
  {
   "cell_type": "code",
   "execution_count": 24,
   "id": "4ce2db7d",
   "metadata": {},
   "outputs": [
    {
     "name": "stdout",
     "output_type": "stream",
     "text": [
      "Ranking words using Replace-1 Score...\n"
     ]
    },
    {
     "name": "stderr",
     "output_type": "stream",
     "text": [
      "<ipython-input-3-263ca9d23a33>:23: UserWarning: Implicit dimension choice for softmax has been deprecated. Change the call to include dim=X as an argument.\n",
      "  prob = softmax(tensor_logits[0]).detach().numpy()\n"
     ]
    },
    {
     "name": "stdout",
     "output_type": "stream",
     "text": [
      "Converting texts to sentences...\n",
      ":: 134 sentences were generated.\n",
      "Filtering instances by contaning ranked words...\n",
      ":: 21 sentences remaining.\n",
      "Ranking words using Replace-1 Score...\n",
      ":: Word ranking done.\n",
      "4\n",
      "Filtering instances by relevant words...\n",
      "['ADJ']\n",
      "{word: clunker, index: 2, tag: NOUN, rank_score: -0.9947958588600159}\n",
      "{word: a, index: 0, tag: DET, rank_score: -0.00312197208404541}\n",
      "{word: real, index: 1, tag: ADJ, rank_score: -0.00022745132446289062}\n",
      "{word: ., index: 3, tag: ., rank_score: 0.0}\n",
      " \n",
      "['ADJ']\n",
      "{word: satisfies, index: 2, tag: NOUN, rank_score: -0.6157572865486145}\n",
      "{word: sometimes, index: 0, tag: ADV, rank_score: -0.6004771590232849}\n",
      "{word: like, index: 3, tag: ADP, rank_score: -0.575774610042572}\n",
      "{word: nothing, index: 1, tag: NOUN, rank_score: -0.4366878569126129}\n",
      " \n",
      "['ADJ']\n",
      "{word: bad, index: 7, tag: ADJ, rank_score: -0.018970727920532227}\n",
      "{word: country, index: 2, tag: NOUN, rank_score: -0.005220293998718262}\n",
      "{word: as, index: 8, tag: ADP, rank_score: -0.005036830902099609}\n",
      "{word: be, index: 5, tag: VERB, rank_score: -0.0031816959381103516}\n",
      " \n",
      "['ADJ']\n",
      "{word: awful, index: 5, tag: ADJ, rank_score: -0.9823950529098511}\n",
      "{word: master, index: 1, tag: NOUN, rank_score: 0.0010780096054077148}\n",
      "{word: disguise, index: 3, tag: NOUN, rank_score: 0.0008005499839782715}\n",
      "{word: the, index: 0, tag: DET, rank_score: -0.0007981657981872559}\n",
      " \n",
      "['ADJ']\n",
      "{word: check, index: 10, tag: VERB, rank_score: -0.0043138861656188965}\n",
      "{word: poetry, index: 5, tag: NOUN, rank_score: -0.003121674060821533}\n",
      "{word: love, index: 2, tag: VERB, rank_score: -0.0024073123931884766}\n",
      "{word: if, index: 0, tag: ADP, rank_score: -0.0018877387046813965}\n",
      " \n",
      "['ADJ']\n",
      "{word: hits, index: 11, tag: VERB, rank_score: -0.40932583808898926}\n",
      "{word: it, index: 16, tag: PRON, rank_score: -0.011878371238708496}\n",
      "{word: marks, index: 15, tag: NOUN, rank_score: -0.008520126342773438}\n",
      "{word: the, index: 13, tag: DET, rank_score: -0.007169365882873535}\n",
      " \n",
      "['ADJ']\n",
      "{word: scary, index: 8, tag: ADJ, rank_score: -0.0027724504470825195}\n",
      "{word: and, index: 7, tag: CONJ, rank_score: -0.0009627938270568848}\n",
      "{word: an, index: 5, tag: DET, rank_score: -0.0009119510650634766}\n",
      "{word: and, index: 15, tag: CONJ, rank_score: -0.0006804466247558594}\n",
      " \n",
      "['ADJ']\n",
      "{word: the, index: 1, tag: DET, rank_score: -0.4003947079181671}\n",
      "{word: for, index: 0, tag: ADP, rank_score: -0.36505043506622314}\n",
      "{word: hopes, index: 4, tag: VERB, rank_score: -0.22787588834762573}\n",
      "{word: future, index: 2, tag: NOUN, rank_score: 0.21043288707733154}\n",
      " \n",
      "['ADJ']\n",
      "{word: nothing, index: 20, tag: NOUN, rank_score: -0.9932168126106262}\n",
      "{word: new, index: 21, tag: ADJ, rank_score: -0.007269442081451416}\n",
      "{word: in, index: 16, tag: ADP, rank_score: -0.002104520797729492}\n",
      "{word: is, index: 19, tag: VERB, rank_score: -0.0019295215606689453}\n",
      " \n",
      "['ADJ']\n",
      "{word: simply, index: 2, tag: ADV, rank_score: -0.0018047094345092773}\n",
      "{word: than, index: 1, tag: ADP, rank_score: -0.0013707280158996582}\n",
      "{word: into, index: 11, tag: ADP, rank_score: -0.0009169578552246094}\n",
      "{word: peek, index: 10, tag: NOUN, rank_score: -0.0006952881813049316}\n",
      " \n",
      "['ADJ']\n",
      "{word: jaglomized, index: 3, tag: VERB, rank_score: -0.3752986192703247}\n",
      "{word: made, index: 0, tag: VERB, rank_score: -0.019216537475585938}\n",
      "{word: blab, index: 16, tag: NOUN, rank_score: -0.011352717876434326}\n",
      "{word: annual, index: 10, tag: ADJ, rank_score: 0.0029944181442260742}\n",
      " \n",
      "['ADJ']\n",
      "{word: patter, index: 7, tag: NOUN, rank_score: -0.5587894916534424}\n",
      "{word: pseudo-sophisticated, index: 9, tag: ADJ, rank_score: -0.3309091329574585}\n",
      "{word: snappy, index: 6, tag: ADJ, rank_score: -0.2615465521812439}\n",
      "{word: half, index: 0, tag: NOUN, rank_score: 0.17076414823532104}\n",
      " \n",
      "['ADJ']\n",
      "{word: still, index: 22, tag: ADV, rank_score: -0.22599804401397705}\n",
      "{word: n't, index: 16, tag: ADV, rank_score: 0.13798075914382935}\n",
      "{word: favorite, index: 18, tag: ADJ, rank_score: -0.10369998216629028}\n",
      "{word: this, index: 14, tag: DET, rank_score: 0.10143858194351196}\n",
      " \n",
      "['ADJ']\n",
      "{word: hours, index: 20, tag: NOUN, rank_score: -0.00011050701141357422}\n",
      "{word: a, index: 0, tag: DET, rank_score: 8.040666580200195e-05}\n",
      "{word: inanely, index: 17, tag: ADV, rank_score: -7.969141006469727e-05}\n",
      "{word: drone, index: 15, tag: NOUN, rank_score: -5.990266799926758e-05}\n",
      " \n",
      "['ADJ']\n",
      "{word: prattle, index: 29, tag: NOUN, rank_score: -0.0013965368270874023}\n",
      "{word: meaningless, index: 28, tag: NOUN, rank_score: -0.0013364553451538086}\n",
      "{word: pretentious, index: 27, tag: ADJ, rank_score: -0.00015413761138916016}\n",
      "{word: a, index: 24, tag: DET, rank_score: 0.00012230873107910156}\n",
      " \n",
      "['ADJ']\n",
      "{word: a, index: 29, tag: DET, rank_score: -0.8832764029502869}\n",
      "{word: wit, index: 31, tag: NOUN, rank_score: -0.5395409464836121}\n",
      "{word: cynicism, index: 25, tag: NOUN, rank_score: -0.3749482035636902}\n",
      "{word: and, index: 28, tag: CONJ, rank_score: -0.1355796456336975}\n",
      " \n",
      "['ADJ']\n",
      "{word: thinks, index: 24, tag: VERB, rank_score: -0.11678624153137207}\n",
      "{word: too, index: 20, tag: ADV, rank_score: -0.05350923538208008}\n",
      "{word: lost, index: 35, tag: VERB, rank_score: -0.048213958740234375}\n",
      "{word: he, index: 25, tag: PRON, rank_score: -0.03387409448623657}\n",
      " \n",
      "['ADJ']\n",
      "{word: industry, index: 18, tag: NOUN, rank_score: -0.19992005825042725}\n",
      "{word: revelatory, index: 9, tag: NOUN, rank_score: -0.013058900833129883}\n",
      "{word: inspiring, index: 6, tag: VERB, rank_score: -0.007152676582336426}\n",
      "{word: how, index: 12, tag: ADV, rank_score: -0.005893886089324951}\n",
      " \n",
      "['ADJ']\n",
      "{word: that, index: 30, tag: DET, rank_score: -0.0014537572860717773}\n",
      "{word: separate, index: 33, tag: ADJ, rank_score: -0.0004869699478149414}\n",
      "{word: across, index: 27, tag: ADP, rank_score: -0.0002180933952331543}\n",
      "{word: how, index: 19, tag: ADV, rank_score: -0.0002154707908630371}\n",
      " \n",
      "['ADJ']\n",
      "{word: drab, index: 32, tag: ADJ, rank_score: -0.2505016326904297}\n",
      "{word: inexpressible, index: 30, tag: ADJ, rank_score: -0.002739548683166504}\n",
      "{word: an, index: 29, tag: DET, rank_score: 0.001805126667022705}\n",
      "{word: niche, index: 38, tag: NOUN, rank_score: 0.0015431642532348633}\n",
      " \n",
      "['ADJ']\n",
      "{word: pleasant, index: 39, tag: ADJ, rank_score: -0.8687734007835388}\n",
      "{word: is, index: 33, tag: VERB, rank_score: -0.16969317197799683}\n",
      "{word: it, index: 35, tag: PRON, rank_score: -0.1039661169052124}\n",
      "{word: that, index: 32, tag: DET, rank_score: -0.09141653776168823}\n",
      " \n",
      ":: 2 sentences remaining.\n",
      "Predicting inputs...\n",
      ":: Sentence predictions done.\n"
     ]
    }
   ],
   "source": [
    "templates4 = tg4.generate_templates(instances, n_masks=2, ranked_words_count=4)"
   ]
  },
  {
   "cell_type": "code",
   "execution_count": 25,
   "id": "193f1b65",
   "metadata": {},
   "outputs": [
    {
     "data": {
      "text/html": [
       "<div>\n",
       "<style scoped>\n",
       "    .dataframe tbody tr th:only-of-type {\n",
       "        vertical-align: middle;\n",
       "    }\n",
       "\n",
       "    .dataframe tbody tr th {\n",
       "        vertical-align: top;\n",
       "    }\n",
       "\n",
       "    .dataframe thead th {\n",
       "        text-align: right;\n",
       "    }\n",
       "</style>\n",
       "<table border=\"1\" class=\"dataframe\">\n",
       "  <thead>\n",
       "    <tr style=\"text-align: right;\">\n",
       "      <th></th>\n",
       "      <th>label</th>\n",
       "      <th>original_text</th>\n",
       "      <th>masked_text</th>\n",
       "      <th>template_text</th>\n",
       "    </tr>\n",
       "  </thead>\n",
       "  <tbody>\n",
       "    <tr>\n",
       "      <th>0</th>\n",
       "      <td>0</td>\n",
       "      <td>a well-made  thoughtful  well-acted clunker  but a clunker nonetheless .</td>\n",
       "      <td>a {mask} {mask} well-acted clunker but a clunker nonetheless .</td>\n",
       "      <td>a {pos_adj} {neg_adj} well-acted clunker but a clunker nonetheless .</td>\n",
       "    </tr>\n",
       "    <tr>\n",
       "      <th>1</th>\n",
       "      <td>0</td>\n",
       "      <td>a dreary  incoherent  self-indulgent mess of a movie in which a bunch of pompous windbags drone on inanely for two hours .</td>\n",
       "      <td>a dreary incoherent {mask} mess of a movie in which a bunch of {mask} windbags drone on inanely for two hours .</td>\n",
       "      <td>a dreary incoherent {neg_adj} mess of a movie in which a bunch of {neg_adj} windbags drone on inanely for two hours .</td>\n",
       "    </tr>\n",
       "    <tr>\n",
       "      <th>2</th>\n",
       "      <td>1</td>\n",
       "      <td>whereas the extremely competent hitman films such as pulp fiction and get shorty resonate a sardonic verve to their caustic purpose for existing  who is cletis tout ?</td>\n",
       "      <td>whereas the extremely competent hitman films such as pulp fiction and get shorty resonate a {mask} verve to their {mask} purpose for existing who is cletis tout ?</td>\n",
       "      <td>whereas the extremely competent hitman films such as pulp fiction and get shorty resonate a {neg_adj} verve to their {neg_adj} purpose for existing who is cletis tout ?</td>\n",
       "    </tr>\n",
       "  </tbody>\n",
       "</table>\n",
       "</div>"
      ],
      "text/plain": [
       "   label  \\\n",
       "0      0   \n",
       "1      0   \n",
       "2      1   \n",
       "\n",
       "                                                                                                                                                            original_text  \\\n",
       "0                                                                                                a well-made  thoughtful  well-acted clunker  but a clunker nonetheless .   \n",
       "1                                              a dreary  incoherent  self-indulgent mess of a movie in which a bunch of pompous windbags drone on inanely for two hours .   \n",
       "2  whereas the extremely competent hitman films such as pulp fiction and get shorty resonate a sardonic verve to their caustic purpose for existing  who is cletis tout ?   \n",
       "\n",
       "                                                                                                                                                          masked_text  \\\n",
       "0                                                                                                      a {mask} {mask} well-acted clunker but a clunker nonetheless .   \n",
       "1                                                     a dreary incoherent {mask} mess of a movie in which a bunch of {mask} windbags drone on inanely for two hours .   \n",
       "2  whereas the extremely competent hitman films such as pulp fiction and get shorty resonate a {mask} verve to their {mask} purpose for existing who is cletis tout ?   \n",
       "\n",
       "                                                                                                                                                              template_text  \n",
       "0                                                                                                      a {pos_adj} {neg_adj} well-acted clunker but a clunker nonetheless .  \n",
       "1                                                     a dreary incoherent {neg_adj} mess of a movie in which a bunch of {neg_adj} windbags drone on inanely for two hours .  \n",
       "2  whereas the extremely competent hitman films such as pulp fiction and get shorty resonate a {neg_adj} verve to their {neg_adj} purpose for existing who is cletis tout ?  "
      ]
     },
     "execution_count": 25,
     "metadata": {},
     "output_type": "execute_result"
    }
   ],
   "source": [
    "df0 = tg0.to_dataframe()\n",
    "df0"
   ]
  },
  {
   "cell_type": "code",
   "execution_count": 26,
   "id": "017b4c99",
   "metadata": {},
   "outputs": [
    {
     "data": {
      "text/html": [
       "<div>\n",
       "<style scoped>\n",
       "    .dataframe tbody tr th:only-of-type {\n",
       "        vertical-align: middle;\n",
       "    }\n",
       "\n",
       "    .dataframe tbody tr th {\n",
       "        vertical-align: top;\n",
       "    }\n",
       "\n",
       "    .dataframe thead th {\n",
       "        text-align: right;\n",
       "    }\n",
       "</style>\n",
       "<table border=\"1\" class=\"dataframe\">\n",
       "  <thead>\n",
       "    <tr style=\"text-align: right;\">\n",
       "      <th></th>\n",
       "      <th>label</th>\n",
       "      <th>original_text</th>\n",
       "      <th>masked_text</th>\n",
       "      <th>template_text</th>\n",
       "    </tr>\n",
       "  </thead>\n",
       "  <tbody>\n",
       "    <tr>\n",
       "      <th>0</th>\n",
       "      <td>1</td>\n",
       "      <td>a story  an old and scary one  about the monsters we make  and the vengeance they take .</td>\n",
       "      <td>a story an {mask} and {mask} one about the monsters we make and the vengeance they take .</td>\n",
       "      <td>a story an {neg_adj} and {neg_adj} one about the monsters we make and the vengeance they take .</td>\n",
       "    </tr>\n",
       "  </tbody>\n",
       "</table>\n",
       "</div>"
      ],
      "text/plain": [
       "   label  \\\n",
       "0      1   \n",
       "\n",
       "                                                                              original_text  \\\n",
       "0  a story  an old and scary one  about the monsters we make  and the vengeance they take .   \n",
       "\n",
       "                                                                                 masked_text  \\\n",
       "0  a story an {mask} and {mask} one about the monsters we make and the vengeance they take .   \n",
       "\n",
       "                                                                                     template_text  \n",
       "0  a story an {neg_adj} and {neg_adj} one about the monsters we make and the vengeance they take .  "
      ]
     },
     "execution_count": 26,
     "metadata": {},
     "output_type": "execute_result"
    }
   ],
   "source": [
    "df1 = tg1.to_dataframe()\n",
    "df1"
   ]
  },
  {
   "cell_type": "code",
   "execution_count": 27,
   "id": "1b38f51f",
   "metadata": {},
   "outputs": [
    {
     "data": {
      "text/html": [
       "<div>\n",
       "<style scoped>\n",
       "    .dataframe tbody tr th:only-of-type {\n",
       "        vertical-align: middle;\n",
       "    }\n",
       "\n",
       "    .dataframe tbody tr th {\n",
       "        vertical-align: top;\n",
       "    }\n",
       "\n",
       "    .dataframe thead th {\n",
       "        text-align: right;\n",
       "    }\n",
       "</style>\n",
       "<table border=\"1\" class=\"dataframe\">\n",
       "  <thead>\n",
       "    <tr style=\"text-align: right;\">\n",
       "      <th></th>\n",
       "      <th>label</th>\n",
       "      <th>original_text</th>\n",
       "      <th>masked_text</th>\n",
       "      <th>template_text</th>\n",
       "    </tr>\n",
       "  </thead>\n",
       "  <tbody>\n",
       "    <tr>\n",
       "      <th>0</th>\n",
       "      <td>0</td>\n",
       "      <td>as comedic spotlights go notorious c .</td>\n",
       "      <td>as {mask} spotlights go {mask} c .</td>\n",
       "      <td>as {neg_adj} spotlights go {neg_adj} c .</td>\n",
       "    </tr>\n",
       "    <tr>\n",
       "      <th>1</th>\n",
       "      <td>1</td>\n",
       "      <td>the charming result is festival in cannes .</td>\n",
       "      <td>the {mask} result is {mask} in cannes .</td>\n",
       "      <td>the {pos_adj} result is {pos_adj} in cannes .</td>\n",
       "    </tr>\n",
       "    <tr>\n",
       "      <th>2</th>\n",
       "      <td>0</td>\n",
       "      <td>is an inexpressible and drab wannabe looking for that exact niche .</td>\n",
       "      <td>is an {mask} and {mask} wannabe looking for that exact niche .</td>\n",
       "      <td>is an {neg_adj} and {neg_adj} wannabe looking for that exact niche .</td>\n",
       "    </tr>\n",
       "  </tbody>\n",
       "</table>\n",
       "</div>"
      ],
      "text/plain": [
       "   label                                                        original_text  \\\n",
       "0      0                               as comedic spotlights go notorious c .   \n",
       "1      1                          the charming result is festival in cannes .   \n",
       "2      0  is an inexpressible and drab wannabe looking for that exact niche .   \n",
       "\n",
       "                                                      masked_text  \\\n",
       "0                              as {mask} spotlights go {mask} c .   \n",
       "1                         the {mask} result is {mask} in cannes .   \n",
       "2  is an {mask} and {mask} wannabe looking for that exact niche .   \n",
       "\n",
       "                                                          template_text  \n",
       "0                              as {neg_adj} spotlights go {neg_adj} c .  \n",
       "1                         the {pos_adj} result is {pos_adj} in cannes .  \n",
       "2  is an {neg_adj} and {neg_adj} wannabe looking for that exact niche .  "
      ]
     },
     "execution_count": 27,
     "metadata": {},
     "output_type": "execute_result"
    }
   ],
   "source": [
    "df2 = tg2.to_dataframe()\n",
    "df2"
   ]
  },
  {
   "cell_type": "code",
   "execution_count": 28,
   "id": "c5d2a120",
   "metadata": {},
   "outputs": [
    {
     "data": {
      "text/html": [
       "<div>\n",
       "<style scoped>\n",
       "    .dataframe tbody tr th:only-of-type {\n",
       "        vertical-align: middle;\n",
       "    }\n",
       "\n",
       "    .dataframe tbody tr th {\n",
       "        vertical-align: top;\n",
       "    }\n",
       "\n",
       "    .dataframe thead th {\n",
       "        text-align: right;\n",
       "    }\n",
       "</style>\n",
       "<table border=\"1\" class=\"dataframe\">\n",
       "  <thead>\n",
       "    <tr style=\"text-align: right;\">\n",
       "      <th></th>\n",
       "      <th>label</th>\n",
       "      <th>original_text</th>\n",
       "      <th>masked_text</th>\n",
       "      <th>template_text</th>\n",
       "    </tr>\n",
       "  </thead>\n",
       "  <tbody>\n",
       "    <tr>\n",
       "      <th>0</th>\n",
       "      <td>1</td>\n",
       "      <td>the charming result is festival in cannes .</td>\n",
       "      <td>the {mask} result is {mask} in cannes .</td>\n",
       "      <td>the {pos_adj} result is {neg_adj} in cannes .</td>\n",
       "    </tr>\n",
       "  </tbody>\n",
       "</table>\n",
       "</div>"
      ],
      "text/plain": [
       "   label                                original_text  \\\n",
       "0      1  the charming result is festival in cannes .   \n",
       "\n",
       "                               masked_text  \\\n",
       "0  the {mask} result is {mask} in cannes .   \n",
       "\n",
       "                                   template_text  \n",
       "0  the {pos_adj} result is {neg_adj} in cannes .  "
      ]
     },
     "execution_count": 28,
     "metadata": {},
     "output_type": "execute_result"
    }
   ],
   "source": [
    "df3 = tg3.to_dataframe()\n",
    "df3"
   ]
  },
  {
   "cell_type": "code",
   "execution_count": 29,
   "id": "8cdae922",
   "metadata": {},
   "outputs": [
    {
     "data": {
      "text/html": [
       "<div>\n",
       "<style scoped>\n",
       "    .dataframe tbody tr th:only-of-type {\n",
       "        vertical-align: middle;\n",
       "    }\n",
       "\n",
       "    .dataframe tbody tr th {\n",
       "        vertical-align: top;\n",
       "    }\n",
       "\n",
       "    .dataframe thead th {\n",
       "        text-align: right;\n",
       "    }\n",
       "</style>\n",
       "<table border=\"1\" class=\"dataframe\">\n",
       "  <thead>\n",
       "    <tr style=\"text-align: right;\">\n",
       "      <th></th>\n",
       "      <th>label</th>\n",
       "      <th>original_text</th>\n",
       "      <th>masked_text</th>\n",
       "      <th>template_text</th>\n",
       "    </tr>\n",
       "  </thead>\n",
       "  <tbody>\n",
       "    <tr>\n",
       "      <th>0</th>\n",
       "      <td>0</td>\n",
       "      <td>half of it is composed of snappy patter and pseudo-sophisticated cultural observations  while the remainder .</td>\n",
       "      <td>half of it is composed of {mask} patter and {mask} cultural observations while the remainder .</td>\n",
       "      <td>half of it is composed of {pos_adj} patter and {neg_adj} cultural observations while the remainder .</td>\n",
       "    </tr>\n",
       "    <tr>\n",
       "      <th>1</th>\n",
       "      <td>0</td>\n",
       "      <td>is an inexpressible and drab wannabe looking for that exact niche .</td>\n",
       "      <td>is an {mask} and {mask} wannabe looking for that exact niche .</td>\n",
       "      <td>is an {neg_adj} and {neg_adj} wannabe looking for that exact niche .</td>\n",
       "    </tr>\n",
       "  </tbody>\n",
       "</table>\n",
       "</div>"
      ],
      "text/plain": [
       "   label  \\\n",
       "0      0   \n",
       "1      0   \n",
       "\n",
       "                                                                                                   original_text  \\\n",
       "0  half of it is composed of snappy patter and pseudo-sophisticated cultural observations  while the remainder .   \n",
       "1                                            is an inexpressible and drab wannabe looking for that exact niche .   \n",
       "\n",
       "                                                                                      masked_text  \\\n",
       "0  half of it is composed of {mask} patter and {mask} cultural observations while the remainder .   \n",
       "1                                  is an {mask} and {mask} wannabe looking for that exact niche .   \n",
       "\n",
       "                                                                                          template_text  \n",
       "0  half of it is composed of {pos_adj} patter and {neg_adj} cultural observations while the remainder .  \n",
       "1                                  is an {neg_adj} and {neg_adj} wannabe looking for that exact niche .  "
      ]
     },
     "execution_count": 29,
     "metadata": {},
     "output_type": "execute_result"
    }
   ],
   "source": [
    "df4 = tg4.to_dataframe()\n",
    "df4"
   ]
  },
  {
   "cell_type": "code",
   "execution_count": 30,
   "id": "7f98d8ba",
   "metadata": {},
   "outputs": [
    {
     "data": {
      "text/plain": [
       "{'pos_adj': ['well-made'],\n",
       " 'neg_adj': ['pompous', 'sardonic', 'caustic', 'thoughtful', 'self-indulgent']}"
      ]
     },
     "execution_count": 30,
     "metadata": {},
     "output_type": "execute_result"
    }
   ],
   "source": [
    "tg0.lexicons"
   ]
  },
  {
   "cell_type": "code",
   "execution_count": 31,
   "id": "0c2d142a",
   "metadata": {},
   "outputs": [
    {
     "data": {
      "text/plain": [
       "{'pos_adj': [], 'neg_adj': ['scary', 'old']}"
      ]
     },
     "execution_count": 31,
     "metadata": {},
     "output_type": "execute_result"
    }
   ],
   "source": [
    "tg1.lexicons"
   ]
  },
  {
   "cell_type": "code",
   "execution_count": 32,
   "id": "4826e528",
   "metadata": {},
   "outputs": [
    {
     "data": {
      "text/plain": [
       "{'pos_adj': ['charming', 'festival'],\n",
       " 'neg_adj': ['comedic', 'drab', 'inexpressible', 'notorious']}"
      ]
     },
     "execution_count": 32,
     "metadata": {},
     "output_type": "execute_result"
    }
   ],
   "source": [
    "tg2.lexicons"
   ]
  },
  {
   "cell_type": "code",
   "execution_count": 33,
   "id": "65b3163d",
   "metadata": {},
   "outputs": [
    {
     "data": {
      "text/plain": [
       "{'pos_adj': ['charming'], 'neg_adj': ['festival']}"
      ]
     },
     "execution_count": 33,
     "metadata": {},
     "output_type": "execute_result"
    }
   ],
   "source": [
    "tg3.lexicons"
   ]
  },
  {
   "cell_type": "code",
   "execution_count": 34,
   "id": "e6714fcd",
   "metadata": {},
   "outputs": [
    {
     "data": {
      "text/plain": [
       "{'pos_adj': ['snappy'],\n",
       " 'neg_adj': ['pseudo-sophisticated', 'drab', 'inexpressible']}"
      ]
     },
     "execution_count": 34,
     "metadata": {},
     "output_type": "execute_result"
    }
   ],
   "source": [
    "tg4.lexicons"
   ]
  },
  {
   "cell_type": "markdown",
   "id": "2aaf7e38",
   "metadata": {},
   "source": [
    "#### Tempo de execução para 100 instâncias: 4m 17.8s"
   ]
  },
  {
   "cell_type": "markdown",
   "id": "0b128e49",
   "metadata": {},
   "source": [
    "## Checklist"
   ]
  },
  {
   "cell_type": "markdown",
   "id": "7d6ad6cc",
   "metadata": {},
   "source": [
    "#### Model BERT"
   ]
  },
  {
   "cell_type": "code",
   "execution_count": 35,
   "id": "ad2b0738",
   "metadata": {},
   "outputs": [],
   "source": [
    "import checklist\n",
    "from checklist.editor import Editor\n",
    "from checklist.test_suite import TestSuite\n",
    "from checklist.test_types import MFT"
   ]
  },
  {
   "cell_type": "code",
   "execution_count": 37,
   "id": "8d3415da",
   "metadata": {},
   "outputs": [],
   "source": [
    "lexicons = tg0.lexicons\n",
    "templates0 = tg0.template_texts\n",
    "masked = tg0.masked_texts\n",
    "labels = [sent.prediction.label for sent in tg0.sentences]\n",
    "\n",
    "editor = Editor()\n",
    "editor.add_lexicon('pos_adj', lexicons['pos_adj'])\n",
    "editor.add_lexicon('neg_adj', lexicons['neg_adj'])\n",
    "\n",
    "suite = TestSuite()"
   ]
  },
  {
   "cell_type": "code",
   "execution_count": 38,
   "id": "c134553b",
   "metadata": {},
   "outputs": [],
   "source": [
    "for template, label, i in zip(templates0, labels, range(len(templates0))):\n",
    "    t = editor.template(template, remove_duplicates=True, labels=int(label))\n",
    "\n",
    "    suite.add(MFT(\n",
    "        data=t.data,\n",
    "        labels=label,\n",
    "        capability=\"Vocabullary\", \n",
    "        name=f\"Test: MFT with vocabullary - template{i+1}\",\n",
    "        description=\"Checking if the model can handle vocabullary\")) "
   ]
  },
  {
   "cell_type": "code",
   "execution_count": 39,
   "id": "f2a19cf9",
   "metadata": {},
   "outputs": [
    {
     "name": "stdout",
     "output_type": "stream",
     "text": [
      "Running Test: MFT with vocabullary - template1\n",
      "Predicting 5 examples\n"
     ]
    },
    {
     "name": "stderr",
     "output_type": "stream",
     "text": [
      "<ipython-input-3-263ca9d23a33>:23: UserWarning: Implicit dimension choice for softmax has been deprecated. Change the call to include dim=X as an argument.\n",
      "  prob = softmax(tensor_logits[0]).detach().numpy()\n"
     ]
    },
    {
     "name": "stdout",
     "output_type": "stream",
     "text": [
      "Running Test: MFT with vocabullary - template2\n",
      "Predicting 5 examples\n",
      "Running Test: MFT with vocabullary - template3\n",
      "Predicting 5 examples\n"
     ]
    }
   ],
   "source": [
    "suite.run(model_bert.predict, overwrite=True)"
   ]
  },
  {
   "cell_type": "code",
   "execution_count": 40,
   "id": "5a27af66",
   "metadata": {},
   "outputs": [
    {
     "name": "stdout",
     "output_type": "stream",
     "text": [
      "Vocabullary\n",
      "\n",
      "Test: MFT with vocabullary - template1\n",
      "Test cases:      5\n",
      "Fails (rate):    0 (0.0%)\n",
      "\n",
      "\n",
      "Test: MFT with vocabullary - template2\n",
      "Test cases:      5\n",
      "Fails (rate):    0 (0.0%)\n",
      "\n",
      "\n",
      "Test: MFT with vocabullary - template3\n",
      "Test cases:      5\n",
      "Fails (rate):    1 (20.0%)\n",
      "\n",
      "Example fails:\n",
      "0.0 whereas the extremely competent hitman films such as pulp fiction and get shorty resonate a pompous verve to their pompous purpose for existing who is cletis tout ?\n",
      "----\n",
      "\n",
      "\n",
      "\n",
      "\n"
     ]
    }
   ],
   "source": [
    "suite.summary()"
   ]
  },
  {
   "cell_type": "code",
   "execution_count": 41,
   "id": "167fde22",
   "metadata": {},
   "outputs": [],
   "source": [
    "suite.save('./suites/posneg-approach2-bert.suite')"
   ]
  },
  {
   "cell_type": "markdown",
   "id": "9b948d3f",
   "metadata": {},
   "source": [
    "#### Model Albert"
   ]
  },
  {
   "cell_type": "code",
   "execution_count": 44,
   "id": "8d3415da",
   "metadata": {},
   "outputs": [],
   "source": [
    "lexicons = tg1.lexicons\n",
    "templates1 = tg1.template_texts\n",
    "masked = tg1.masked_texts\n",
    "labels = [sent.prediction.label for sent in tg1.sentences]\n",
    "\n",
    "editor = Editor()\n",
    "editor.add_lexicon('pos_adj', lexicons['pos_adj'])\n",
    "editor.add_lexicon('neg_adj', lexicons['neg_adj'])\n",
    "\n",
    "suite = TestSuite()"
   ]
  },
  {
   "cell_type": "code",
   "execution_count": 45,
   "id": "c134553b",
   "metadata": {},
   "outputs": [],
   "source": [
    "for template, label, i in zip(templates1, labels, range(len(templates1))):\n",
    "    t = editor.template(template, remove_duplicates=True, labels=int(label))\n",
    "\n",
    "    suite.add(MFT(\n",
    "        data=t.data,\n",
    "        labels=label,\n",
    "        capability=\"Vocabullary\", \n",
    "        name=f\"Test: MFT with vocabullary - template{i+1}\",\n",
    "        description=\"Checking if the model can handle vocabullary\")) "
   ]
  },
  {
   "cell_type": "code",
   "execution_count": 46,
   "id": "f2a19cf9",
   "metadata": {},
   "outputs": [
    {
     "name": "stdout",
     "output_type": "stream",
     "text": [
      "Running Test: MFT with vocabullary - template1\n",
      "Predicting 2 examples\n"
     ]
    },
    {
     "name": "stderr",
     "output_type": "stream",
     "text": [
      "<ipython-input-3-263ca9d23a33>:23: UserWarning: Implicit dimension choice for softmax has been deprecated. Change the call to include dim=X as an argument.\n",
      "  prob = softmax(tensor_logits[0]).detach().numpy()\n"
     ]
    }
   ],
   "source": [
    "suite.run(model_albert.predict, overwrite=True)"
   ]
  },
  {
   "cell_type": "code",
   "execution_count": 47,
   "id": "5a27af66",
   "metadata": {},
   "outputs": [
    {
     "name": "stdout",
     "output_type": "stream",
     "text": [
      "Vocabullary\n",
      "\n",
      "Test: MFT with vocabullary - template1\n",
      "Test cases:      2\n",
      "Fails (rate):    0 (0.0%)\n",
      "\n",
      "\n",
      "\n",
      "\n"
     ]
    }
   ],
   "source": [
    "suite.summary()"
   ]
  },
  {
   "cell_type": "code",
   "execution_count": 48,
   "id": "167fde22",
   "metadata": {},
   "outputs": [],
   "source": [
    "suite.save('./suites/posneg-approach2-albert.suite')"
   ]
  },
  {
   "cell_type": "markdown",
   "id": "6c41e0de",
   "metadata": {},
   "source": [
    "#### Model Distilbert"
   ]
  },
  {
   "cell_type": "code",
   "execution_count": 49,
   "id": "8d3415da",
   "metadata": {},
   "outputs": [],
   "source": [
    "lexicons = tg2.lexicons\n",
    "templates2 = tg2.template_texts\n",
    "masked = tg2.masked_texts\n",
    "labels = [sent.prediction.label for sent in tg2.sentences]\n",
    "\n",
    "editor = Editor()\n",
    "editor.add_lexicon('pos_adj', lexicons['pos_adj'])\n",
    "editor.add_lexicon('neg_adj', lexicons['neg_adj'])\n",
    "\n",
    "suite = TestSuite()"
   ]
  },
  {
   "cell_type": "code",
   "execution_count": 50,
   "id": "c134553b",
   "metadata": {},
   "outputs": [],
   "source": [
    "for template, label, i in zip(templates2, labels, range(len(templates2))):\n",
    "    t = editor.template(template, remove_duplicates=True, labels=int(label))\n",
    "\n",
    "    suite.add(MFT(\n",
    "        data=t.data,\n",
    "        labels=label,\n",
    "        capability=\"Vocabullary\", \n",
    "        name=f\"Test: MFT with vocabullary - template{i+1}\",\n",
    "        description=\"Checking if the model can handle vocabullary\")) "
   ]
  },
  {
   "cell_type": "code",
   "execution_count": 51,
   "id": "f2a19cf9",
   "metadata": {},
   "outputs": [
    {
     "name": "stdout",
     "output_type": "stream",
     "text": [
      "Running Test: MFT with vocabullary - template1\n",
      "Predicting 4 examples\n"
     ]
    },
    {
     "name": "stderr",
     "output_type": "stream",
     "text": [
      "<ipython-input-3-263ca9d23a33>:23: UserWarning: Implicit dimension choice for softmax has been deprecated. Change the call to include dim=X as an argument.\n",
      "  prob = softmax(tensor_logits[0]).detach().numpy()\n"
     ]
    },
    {
     "name": "stdout",
     "output_type": "stream",
     "text": [
      "Running Test: MFT with vocabullary - template2\n",
      "Predicting 2 examples\n",
      "Running Test: MFT with vocabullary - template3\n",
      "Predicting 4 examples\n"
     ]
    }
   ],
   "source": [
    "suite.run(model_distilbert.predict, overwrite=True)"
   ]
  },
  {
   "cell_type": "code",
   "execution_count": 52,
   "id": "5a27af66",
   "metadata": {},
   "outputs": [
    {
     "name": "stdout",
     "output_type": "stream",
     "text": [
      "Vocabullary\n",
      "\n",
      "Test: MFT with vocabullary - template1\n",
      "Test cases:      4\n",
      "Fails (rate):    0 (0.0%)\n",
      "\n",
      "\n",
      "Test: MFT with vocabullary - template2\n",
      "Test cases:      2\n",
      "Fails (rate):    0 (0.0%)\n",
      "\n",
      "\n",
      "Test: MFT with vocabullary - template3\n",
      "Test cases:      4\n",
      "Fails (rate):    1 (25.0%)\n",
      "\n",
      "Example fails:\n",
      "0.8 is an comedic and comedic wannabe looking for that exact niche .\n",
      "----\n",
      "\n",
      "\n",
      "\n",
      "\n"
     ]
    }
   ],
   "source": [
    "suite.summary()"
   ]
  },
  {
   "cell_type": "code",
   "execution_count": 53,
   "id": "167fde22",
   "metadata": {},
   "outputs": [],
   "source": [
    "suite.save('./suites/posneg-approach2-distilbert.suite')"
   ]
  },
  {
   "cell_type": "markdown",
   "id": "3b00a03d",
   "metadata": {},
   "source": [
    "#### Model Roberta"
   ]
  },
  {
   "cell_type": "code",
   "execution_count": 54,
   "id": "8d3415da",
   "metadata": {},
   "outputs": [],
   "source": [
    "lexicons = tg3.lexicons\n",
    "templates3 = tg3.template_texts\n",
    "masked = tg3.masked_texts\n",
    "labels = [sent.prediction.label for sent in tg3.sentences]\n",
    "\n",
    "editor = Editor()\n",
    "editor.add_lexicon('pos_adj', lexicons['pos_adj'])\n",
    "editor.add_lexicon('neg_adj', lexicons['neg_adj'])\n",
    "\n",
    "suite = TestSuite()"
   ]
  },
  {
   "cell_type": "code",
   "execution_count": 55,
   "id": "c134553b",
   "metadata": {},
   "outputs": [],
   "source": [
    "for template, label, i in zip(templates3, labels, range(len(templates3))):\n",
    "    t = editor.template(template, remove_duplicates=True, labels=int(label))\n",
    "\n",
    "    suite.add(MFT(\n",
    "        data=t.data,\n",
    "        labels=label,\n",
    "        capability=\"Vocabullary\", \n",
    "        name=f\"Test: MFT with vocabullary - template{i+1}\",\n",
    "        description=\"Checking if the model can handle vocabullary\")) "
   ]
  },
  {
   "cell_type": "code",
   "execution_count": 56,
   "id": "f2a19cf9",
   "metadata": {},
   "outputs": [
    {
     "name": "stdout",
     "output_type": "stream",
     "text": [
      "Running Test: MFT with vocabullary - template1\n",
      "Predicting 1 examples\n"
     ]
    },
    {
     "name": "stderr",
     "output_type": "stream",
     "text": [
      "<ipython-input-3-263ca9d23a33>:23: UserWarning: Implicit dimension choice for softmax has been deprecated. Change the call to include dim=X as an argument.\n",
      "  prob = softmax(tensor_logits[0]).detach().numpy()\n"
     ]
    }
   ],
   "source": [
    "suite.run(model_roberta.predict, overwrite=True)"
   ]
  },
  {
   "cell_type": "code",
   "execution_count": 57,
   "id": "5a27af66",
   "metadata": {},
   "outputs": [
    {
     "name": "stdout",
     "output_type": "stream",
     "text": [
      "Vocabullary\n",
      "\n",
      "Test: MFT with vocabullary - template1\n",
      "Test cases:      1\n",
      "Fails (rate):    0 (0.0%)\n",
      "\n",
      "\n",
      "\n",
      "\n"
     ]
    }
   ],
   "source": [
    "suite.summary()"
   ]
  },
  {
   "cell_type": "code",
   "execution_count": 58,
   "id": "167fde22",
   "metadata": {},
   "outputs": [],
   "source": [
    "suite.save('./suites/posneg-approach2-roberta.suite')"
   ]
  },
  {
   "cell_type": "markdown",
   "id": "39b0de6d",
   "metadata": {},
   "source": [
    "#### Model Xlnet"
   ]
  },
  {
   "cell_type": "code",
   "execution_count": 59,
   "id": "8d3415da",
   "metadata": {},
   "outputs": [],
   "source": [
    "lexicons = tg4.lexicons\n",
    "templates4 = tg4.template_texts\n",
    "masked = tg4.masked_texts\n",
    "labels = [sent.prediction.label for sent in tg4.sentences]\n",
    "\n",
    "editor = Editor()\n",
    "editor.add_lexicon('pos_adj', lexicons['pos_adj'])\n",
    "editor.add_lexicon('neg_adj', lexicons['neg_adj'])\n",
    "\n",
    "suite = TestSuite()"
   ]
  },
  {
   "cell_type": "code",
   "execution_count": 60,
   "id": "c134553b",
   "metadata": {},
   "outputs": [],
   "source": [
    "for template, label, i in zip(templates4, labels, range(len(templates4))):\n",
    "    t = editor.template(template, remove_duplicates=True, labels=int(label))\n",
    "\n",
    "    suite.add(MFT(\n",
    "        data=t.data,\n",
    "        labels=label,\n",
    "        capability=\"Vocabullary\", \n",
    "        name=f\"Test: MFT with vocabullary - template{i+1}\",\n",
    "        description=\"Checking if the model can handle vocabullary\")) "
   ]
  },
  {
   "cell_type": "code",
   "execution_count": 61,
   "id": "f2a19cf9",
   "metadata": {},
   "outputs": [
    {
     "name": "stdout",
     "output_type": "stream",
     "text": [
      "Running Test: MFT with vocabullary - template1\n",
      "Predicting 3 examples\n"
     ]
    },
    {
     "name": "stderr",
     "output_type": "stream",
     "text": [
      "<ipython-input-3-263ca9d23a33>:23: UserWarning: Implicit dimension choice for softmax has been deprecated. Change the call to include dim=X as an argument.\n",
      "  prob = softmax(tensor_logits[0]).detach().numpy()\n"
     ]
    },
    {
     "name": "stdout",
     "output_type": "stream",
     "text": [
      "Running Test: MFT with vocabullary - template2\n",
      "Predicting 3 examples\n"
     ]
    }
   ],
   "source": [
    "suite.run(model_xlnet.predict, overwrite=True)"
   ]
  },
  {
   "cell_type": "code",
   "execution_count": 62,
   "id": "5a27af66",
   "metadata": {},
   "outputs": [
    {
     "name": "stdout",
     "output_type": "stream",
     "text": [
      "Vocabullary\n",
      "\n",
      "Test: MFT with vocabullary - template1\n",
      "Test cases:      3\n",
      "Fails (rate):    0 (0.0%)\n",
      "\n",
      "\n",
      "Test: MFT with vocabullary - template2\n",
      "Test cases:      3\n",
      "Fails (rate):    1 (33.3%)\n",
      "\n",
      "Example fails:\n",
      "0.6 is an pseudo-sophisticated and pseudo-sophisticated wannabe looking for that exact niche .\n",
      "----\n",
      "\n",
      "\n",
      "\n",
      "\n"
     ]
    }
   ],
   "source": [
    "suite.summary()"
   ]
  },
  {
   "cell_type": "code",
   "execution_count": 63,
   "id": "167fde22",
   "metadata": {},
   "outputs": [],
   "source": [
    "suite.save('./suites/posneg-approach2-xlnet.suite')"
   ]
  },
  {
   "cell_type": "markdown",
   "id": "33065add",
   "metadata": {},
   "source": [
    "# Carregando suite de teste"
   ]
  },
  {
   "cell_type": "code",
   "execution_count": 64,
   "id": "563d7be6",
   "metadata": {},
   "outputs": [
    {
     "name": "stdout",
     "output_type": "stream",
     "text": [
      "Please wait as we prepare the table data...\n"
     ]
    },
    {
     "data": {
      "application/vnd.jupyter.widget-view+json": {
       "model_id": "f11a23b03185469fb1b3c0ca656aa3a3",
       "version_major": 2,
       "version_minor": 0
      },
      "text/plain": [
       "SuiteSummarizer(stats={'npassed': 0, 'nfailed': 0, 'nfiltered': 0}, test_infos=[{'name': 'Test: MFT with vocab…"
      ]
     },
     "metadata": {},
     "output_type": "display_data"
    }
   ],
   "source": [
    "from checklist.test_suite import TestSuite\n",
    "suite = TestSuite.from_file('./suites/posneg-approach2-bert.suite')\n",
    "\n",
    "suite.visual_summary_table()"
   ]
  }
 ],
 "metadata": {
  "interpreter": {
   "hash": "d158b0884c902cbe5122803144f593e89d3599d27de4904257d93ccf35897e83"
  },
  "kernelspec": {
   "display_name": "Python 3",
   "language": "python",
   "name": "python3"
  },
  "language_info": {
   "codemirror_mode": {
    "name": "ipython",
    "version": 3
   },
   "file_extension": ".py",
   "mimetype": "text/x-python",
   "name": "python",
   "nbconvert_exporter": "python",
   "pygments_lexer": "ipython3",
   "version": "3.8.0"
  }
 },
 "nbformat": 4,
 "nbformat_minor": 5
}
