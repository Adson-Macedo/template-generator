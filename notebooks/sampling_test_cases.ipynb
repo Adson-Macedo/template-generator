{
 "cells": [
  {
   "cell_type": "code",
   "execution_count": null,
   "id": "hundred-lending",
   "metadata": {},
   "outputs": [],
   "source": [
    "%config Completer.use_jedi = False\n",
    "import sys\n",
    "sys.path.append('../')"
   ]
  },
  {
   "cell_type": "code",
   "execution_count": null,
   "id": "dramatic-tobago",
   "metadata": {},
   "outputs": [],
   "source": [
    "from checklist.test_suite import TestSuite\n",
    "import pandas as pd\n",
    "\n",
    "pd.set_option('display.max_colwidth', None)\n",
    "\n",
    "def load_suite(path):\n",
    "    suite = TestSuite.from_file(path)\n",
    "    summary_table = suite.visual_summary_table()\n",
    "    \n",
    "    return suite, summary_table\n",
    "\n",
    "\n",
    "def proccess_summary_do_dataframe(suite, summary_table):\n",
    "    test_templates = summary_table.get_state()['test_infos']\n",
    "\n",
    "    items = []\n",
    "    templates = []\n",
    "    \n",
    "    for test_template in test_templates:\n",
    "        test_template_name = test_template['name']\n",
    "        template_name = test_template_name.split(' - ')[1]\n",
    "        test_cases = suite.visual_summary_by_test(test_template_name).filtered_testcases\n",
    "\n",
    "        templates.append(template_name)\n",
    "\n",
    "        for item in test_cases:\n",
    "            text = item['examples'][0]['new']['text']\n",
    "            pred = item['examples'][0]['new']['pred']\n",
    "            label = item['examples'][0]['label']\n",
    "            succeed = item['examples'][0]['succeed']\n",
    "\n",
    "            items.append([text, label, pred, succeed, template_name])\n",
    "\n",
    "    df = pd.DataFrame(items, columns=['text', 'label', 'pred', 'succeed', 'template'])\n",
    "    \n",
    "    return df, templates\n",
    "    \n",
    "    \n",
    "def sample_df(df_orig, percent):\n",
    "    total = ceil(percent * len(df_orig))\n",
    "    \n",
    "    return df_orig.sample(total)    "
   ]
  },
  {
   "cell_type": "code",
   "execution_count": null,
   "id": "floating-convergence",
   "metadata": {},
   "outputs": [],
   "source": [
    "from math import ceil\n",
    "\n",
    "!rmdir /s /q test_cases\n",
    "!mkdir test_cases\n",
    "\n",
    "percent = 0.1\n",
    "approachs = ['approach1','approach2','approach3','approach4','approach5','random']\n",
    "\n",
    "for appr in approachs:\n",
    "    suite, tb = load_suite(f'./suites/posneg-{appr}.suite')\n",
    "    df, templates = proccess_summary_do_dataframe(suite, tb)\n",
    "\n",
    "    print(f'Proccessing {appr}...')\n",
    "    filename = f'test_cases/{appr}.xlsx'\n",
    "    with pd.ExcelWriter(filename) as writer:  \n",
    "        for template in templates:\n",
    "            df_filtered = df[df['template'] == template]\n",
    "            df_filtered_0 = sample_df(df_filtered[df['succeed'] == 0], percent)\n",
    "            df_filtered_1 = sample_df(df_filtered[df['succeed'] == 1], percent)\n",
    "\n",
    "            df_filtered = pd.concat([df_filtered_0, df_filtered_1], axis=0)\n",
    "\n",
    "            columns = ['text', 'label', 'pred', 'succeed']\n",
    "\n",
    "            df_filtered.to_excel(writer, sheet_name=template, index=False, columns=columns)\n"
   ]
  },
  {
   "cell_type": "code",
   "execution_count": null,
   "id": "patent-spanish",
   "metadata": {},
   "outputs": [],
   "source": []
  }
 ],
 "metadata": {
  "kernelspec": {
   "display_name": "Python 3",
   "language": "python",
   "name": "python3"
  },
  "language_info": {
   "codemirror_mode": {
    "name": "ipython",
    "version": 3
   },
   "file_extension": ".py",
   "mimetype": "text/x-python",
   "name": "python",
   "nbconvert_exporter": "python",
   "pygments_lexer": "ipython3",
   "version": "3.8.0"
  }
 },
 "nbformat": 4,
 "nbformat_minor": 5
}
